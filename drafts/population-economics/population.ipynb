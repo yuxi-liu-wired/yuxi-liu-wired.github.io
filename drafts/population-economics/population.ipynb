{
 "cells": [
  {
   "cell_type": "markdown",
   "id": "4532b9b0-7a5b-420c-86c0-0af1fe016195",
   "metadata": {},
   "source": [
    "---\n",
    "title: World Population and Economic Growth\n",
    "subtitle: Or, when did the singularity got cancelled?\n",
    "---"
   ]
  },
  {
   "cell_type": "code",
   "execution_count": 1,
   "id": "aef5d67d-bd35-435a-b8aa-9d6500f9faf7",
   "metadata": {},
   "outputs": [],
   "source": [
    "import pandas as pd\n",
    "import numpy as np\n",
    "\n",
    "import matplotlib.pyplot as plt\n",
    "\n",
    "from scipy.optimize import curve_fit\n",
    "from IPython.display import display, Math, Latex\n",
    "\n",
    "import plotly.graph_objects as go\n",
    "import plotly.express as px"
   ]
  },
  {
   "cell_type": "markdown",
   "id": "706ef48f-ec8d-4898-b953-25967afa5cb3",
   "metadata": {},
   "source": [
    "This post is based on and inspired by:\n",
    "* [1960: The Year The Singularity Was Cancelled (Slate Star Codex, 2019)](https://slatestarcodex.com/2019/04/22/1960-the-year-the-singularity-was-cancelled/)\n",
    "* Kremer, Michael. “Population Growth and Technological Change: One Million BC to 1990.” The Quarterly Journal of Economics 108, no. 3 (1993): 681–716.\n",
    "* Paul Romer's work on endogeneous growth theory.\n",
    "* etc"
   ]
  },
  {
   "cell_type": "markdown",
   "id": "a0eb02ab-1f12-4e1e-af8c-33f4ef13612d",
   "metadata": {},
   "source": [
    "## World population, 10000 BC -- 2000 AD\n",
    "\n",
    "Let's first import the world population. I got the dataset from [Our World in Data](https://ourworldindata.org/population-growth), and plot them."
   ]
  },
  {
   "cell_type": "code",
   "execution_count": 70,
   "id": "cc748d30-9a85-4afd-97cb-543514cff66e",
   "metadata": {},
   "outputs": [
    {
     "data": {
      "application/vnd.plotly.v1+json": {
       "config": {
        "plotlyServerURL": "https://plot.ly"
       },
       "data": [
        {
         "hovertemplate": "Year=%{x}<br>Population (million)=%{y}<extra></extra>",
         "legendgroup": "",
         "marker": {
          "color": "#636efa",
          "symbol": "circle"
         },
         "mode": "lines+markers",
         "name": "",
         "orientation": "v",
         "showlegend": false,
         "type": "scatter",
         "x": [
          -10000,
          -9000,
          -8000,
          -7000,
          -6000,
          -5000,
          -4000,
          -3000,
          -2000,
          -1000,
          0,
          100,
          200,
          300,
          400,
          500,
          600,
          700,
          800,
          900,
          1000,
          1100,
          1200,
          1300,
          1400,
          1500,
          1600,
          1700,
          1710,
          1720,
          1730,
          1740,
          1750,
          1760,
          1770,
          1780,
          1790,
          1800,
          1801,
          1802,
          1803,
          1804,
          1805,
          1806,
          1807,
          1808,
          1809,
          1810,
          1811,
          1812,
          1813,
          1814,
          1815,
          1816,
          1817,
          1818,
          1819,
          1820,
          1821,
          1822,
          1823,
          1824,
          1825,
          1826,
          1827,
          1828,
          1829,
          1830,
          1831,
          1832,
          1833,
          1834,
          1835,
          1836,
          1837,
          1838,
          1839,
          1840,
          1841,
          1842,
          1843,
          1844,
          1845,
          1846,
          1847,
          1848,
          1849,
          1850,
          1851,
          1852,
          1853,
          1854,
          1855,
          1856,
          1857,
          1858,
          1859,
          1860,
          1861,
          1862,
          1863,
          1864,
          1865,
          1866,
          1867,
          1868,
          1869,
          1870,
          1871,
          1872,
          1873,
          1874,
          1875,
          1876,
          1877,
          1878,
          1879,
          1880,
          1881,
          1882,
          1883,
          1884,
          1885,
          1886,
          1887,
          1888,
          1889,
          1890,
          1891,
          1892,
          1893,
          1894,
          1895,
          1896,
          1897,
          1898,
          1899,
          1900,
          1901,
          1902,
          1903,
          1904,
          1905,
          1906,
          1907,
          1908,
          1909,
          1910,
          1911,
          1912,
          1913,
          1914,
          1915,
          1916,
          1917,
          1918,
          1919,
          1920,
          1921,
          1922,
          1923,
          1924,
          1925,
          1926,
          1927,
          1928,
          1929,
          1930,
          1931,
          1932,
          1933,
          1934,
          1935,
          1936,
          1937,
          1938,
          1939,
          1940,
          1941,
          1942,
          1943,
          1944,
          1945,
          1946,
          1947,
          1948,
          1949,
          1950,
          1951,
          1952,
          1953,
          1954,
          1955,
          1956,
          1957,
          1958,
          1959,
          1960,
          1961,
          1962,
          1963,
          1964,
          1965,
          1966,
          1967,
          1968,
          1969,
          1970,
          1971,
          1972,
          1973,
          1974,
          1975,
          1976,
          1977,
          1978,
          1979,
          1980,
          1981,
          1982,
          1983,
          1984,
          1985,
          1986,
          1987,
          1988,
          1989,
          1990,
          1991,
          1992,
          1993,
          1994,
          1995,
          1996,
          1997,
          1998,
          1999,
          2000,
          2001,
          2002,
          2003,
          2004,
          2005,
          2006,
          2007,
          2008,
          2009,
          2010,
          2011,
          2012,
          2013,
          2014,
          2015,
          2016,
          2017,
          2018,
          2019,
          2020,
          2021
         ],
         "xaxis": "x",
         "y": [
          4.432266,
          5.616996,
          7.242892,
          9.577918,
          13.201832,
          19.075771,
          28.774661,
          44.487162,
          72.586076,
          110.419521,
          232.123764,
          236.904172,
          240.611571,
          227.549847,
          241.539639,
          253.237316,
          271.478693,
          278.185334,
          285.71384,
          310.967715,
          323.407571,
          397.923813,
          444.750686,
          456.388961,
          442.480612,
          503.240399,
          516.610918,
          592.706212,
          613.189457,
          642.718111,
          664.743383,
          695.34669,
          745.664133,
          779.891857,
          818.8279,
          891.048681,
          931.577684,
          985.340629,
          987.628322,
          991.098738,
          994.61026,
          998.16324,
          1001.758044,
          1005.395067,
          1009.074742,
          1012.797513,
          1016.563866,
          1022.629692,
          1027.487469,
          1033.636618,
          1040.443689,
          1047.427292,
          1054.586106,
          1061.924513,
          1069.44707,
          1077.158552,
          1084.757875,
          1093.424863,
          1099.331577,
          1106.263783,
          1113.514792,
          1120.876169,
          1128.34296,
          1135.961188,
          1143.684846,
          1151.515422,
          1158.898384,
          1166.619223,
          1172.266726,
          1178.216298,
          1183.68412,
          1189.202983,
          1194.812021,
          1200.422586,
          1206.132721,
          1211.908617,
          1217.625799,
          1224.117982,
          1228.828189,
          1234.333753,
          1239.880237,
          1245.319917,
          1250.936428,
          1256.637463,
          1262.42472,
          1268.300005,
          1273.394934,
          1278.810377,
          1280.744899,
          1282.983708,
          1284.472373,
          1286.078878,
          1287.785678,
          1289.613085,
          1291.556308,
          1293.616943,
          1296.053087,
          1300.098076,
          1302.046862,
          1305.560612,
          1309.444051,
          1313.410603,
          1317.453657,
          1321.572626,
          1325.775239,
          1330.060419,
          1334.928493,
          1341.697614,
          1346.406314,
          1353.032986,
          1360.261504,
          1367.561973,
          1374.96243,
          1382.44305,
          1389.974777,
          1397.574403,
          1405.702618,
          1415.841209,
          1423.704727,
          1433.553127,
          1444.009167,
          1454.595037,
          1465.369425,
          1476.245076,
          1487.277339,
          1498.437207,
          1509.373834,
          1521.669265,
          1530.611585,
          1540.822549,
          1550.822689,
          1560.960959,
          1571.250732,
          1581.628826,
          1592.152786,
          1602.80187,
          1614.109121,
          1627.883132,
          1638.647517,
          1651.840077,
          1665.70354,
          1679.752718,
          1693.984163,
          1708.411294,
          1723.032738,
          1737.874788,
          1752.122665,
          1767.847653,
          1778.784032,
          1791.197929,
          1803.056235,
          1815.104863,
          1827.290389,
          1839.559287,
          1851.899055,
          1864.869126,
          1878.650358,
          1895.68215,
          1908.748639,
          1924.82612,
          1941.6369,
          1958.716901,
          1976.068839,
          1993.719848,
          2011.689749,
          2029.682397,
          2048.513689,
          2070.596353,
          2088.429965,
          2109.357892,
          2131.029147,
          2152.969392,
          2175.184808,
          2197.830032,
          2220.878589,
          2244.005191,
          2266.483407,
          2290.871362,
          2307.736768,
          2326.734579,
          2344.58144,
          2362.439908,
          2380.167769,
          2397.811266,
          2416.694412,
          2437.259361,
          2463.242071,
          2499.322112,
          2543.130368,
          2590.270976,
          2640.278784,
          2691.979264,
          2746.072064,
          2801.002752,
          2857.866752,
          2916.108032,
          2970.292224,
          3019.233536,
          3068.370688,
          3126.68672,
          3195.779328,
          3267.212288,
          3337.112064,
          3406.416896,
          3475.448064,
          3546.81088,
          3620.65536,
          3695.390208,
          3770.1632,
          3844.800768,
          3920.251392,
          3995.516928,
          4069.437184,
          4142.505728,
          4215.772416,
          4289.6576,
          4365.582848,
          4444.007936,
          4524.627456,
          4607.98464,
          4691.884032,
          4775.83616,
          4861.730816,
          4950.063104,
          5040.984576,
          5132.294144,
          5223.704064,
          5316.175872,
          5406.245888,
          5492.686336,
          5577.4336,
          5660.727808,
          5743.219712,
          5825.145344,
          5906.481152,
          5987.31264,
          6067.758592,
          6148.898816,
          6230.747136,
          6312.407552,
          6393.898496,
          6475.751424,
          6558.176256,
          6641.416192,
          6725.948416,
          6811.597312,
          6898.306048,
          6985.603072,
          7073.125376,
          7161.697792,
          7250.59328,
          7339.013632,
          7426.597376,
          7513.474048,
          7599.822336,
          7683.789824,
          7764.95104,
          7840.952832,
          7909.295104
         ],
         "yaxis": "y"
        }
       ],
       "layout": {
        "autosize": true,
        "legend": {
         "tracegroupgap": 0
        },
        "margin": {
         "t": 60
        },
        "template": {
         "data": {
          "bar": [
           {
            "error_x": {
             "color": "#2a3f5f"
            },
            "error_y": {
             "color": "#2a3f5f"
            },
            "marker": {
             "line": {
              "color": "#E5ECF6",
              "width": 0.5
             },
             "pattern": {
              "fillmode": "overlay",
              "size": 10,
              "solidity": 0.2
             }
            },
            "type": "bar"
           }
          ],
          "barpolar": [
           {
            "marker": {
             "line": {
              "color": "#E5ECF6",
              "width": 0.5
             },
             "pattern": {
              "fillmode": "overlay",
              "size": 10,
              "solidity": 0.2
             }
            },
            "type": "barpolar"
           }
          ],
          "carpet": [
           {
            "aaxis": {
             "endlinecolor": "#2a3f5f",
             "gridcolor": "white",
             "linecolor": "white",
             "minorgridcolor": "white",
             "startlinecolor": "#2a3f5f"
            },
            "baxis": {
             "endlinecolor": "#2a3f5f",
             "gridcolor": "white",
             "linecolor": "white",
             "minorgridcolor": "white",
             "startlinecolor": "#2a3f5f"
            },
            "type": "carpet"
           }
          ],
          "choropleth": [
           {
            "colorbar": {
             "outlinewidth": 0,
             "ticks": ""
            },
            "type": "choropleth"
           }
          ],
          "contour": [
           {
            "colorbar": {
             "outlinewidth": 0,
             "ticks": ""
            },
            "colorscale": [
             [
              0,
              "#0d0887"
             ],
             [
              0.1111111111111111,
              "#46039f"
             ],
             [
              0.2222222222222222,
              "#7201a8"
             ],
             [
              0.3333333333333333,
              "#9c179e"
             ],
             [
              0.4444444444444444,
              "#bd3786"
             ],
             [
              0.5555555555555556,
              "#d8576b"
             ],
             [
              0.6666666666666666,
              "#ed7953"
             ],
             [
              0.7777777777777778,
              "#fb9f3a"
             ],
             [
              0.8888888888888888,
              "#fdca26"
             ],
             [
              1,
              "#f0f921"
             ]
            ],
            "type": "contour"
           }
          ],
          "contourcarpet": [
           {
            "colorbar": {
             "outlinewidth": 0,
             "ticks": ""
            },
            "type": "contourcarpet"
           }
          ],
          "heatmap": [
           {
            "colorbar": {
             "outlinewidth": 0,
             "ticks": ""
            },
            "colorscale": [
             [
              0,
              "#0d0887"
             ],
             [
              0.1111111111111111,
              "#46039f"
             ],
             [
              0.2222222222222222,
              "#7201a8"
             ],
             [
              0.3333333333333333,
              "#9c179e"
             ],
             [
              0.4444444444444444,
              "#bd3786"
             ],
             [
              0.5555555555555556,
              "#d8576b"
             ],
             [
              0.6666666666666666,
              "#ed7953"
             ],
             [
              0.7777777777777778,
              "#fb9f3a"
             ],
             [
              0.8888888888888888,
              "#fdca26"
             ],
             [
              1,
              "#f0f921"
             ]
            ],
            "type": "heatmap"
           }
          ],
          "heatmapgl": [
           {
            "colorbar": {
             "outlinewidth": 0,
             "ticks": ""
            },
            "colorscale": [
             [
              0,
              "#0d0887"
             ],
             [
              0.1111111111111111,
              "#46039f"
             ],
             [
              0.2222222222222222,
              "#7201a8"
             ],
             [
              0.3333333333333333,
              "#9c179e"
             ],
             [
              0.4444444444444444,
              "#bd3786"
             ],
             [
              0.5555555555555556,
              "#d8576b"
             ],
             [
              0.6666666666666666,
              "#ed7953"
             ],
             [
              0.7777777777777778,
              "#fb9f3a"
             ],
             [
              0.8888888888888888,
              "#fdca26"
             ],
             [
              1,
              "#f0f921"
             ]
            ],
            "type": "heatmapgl"
           }
          ],
          "histogram": [
           {
            "marker": {
             "pattern": {
              "fillmode": "overlay",
              "size": 10,
              "solidity": 0.2
             }
            },
            "type": "histogram"
           }
          ],
          "histogram2d": [
           {
            "colorbar": {
             "outlinewidth": 0,
             "ticks": ""
            },
            "colorscale": [
             [
              0,
              "#0d0887"
             ],
             [
              0.1111111111111111,
              "#46039f"
             ],
             [
              0.2222222222222222,
              "#7201a8"
             ],
             [
              0.3333333333333333,
              "#9c179e"
             ],
             [
              0.4444444444444444,
              "#bd3786"
             ],
             [
              0.5555555555555556,
              "#d8576b"
             ],
             [
              0.6666666666666666,
              "#ed7953"
             ],
             [
              0.7777777777777778,
              "#fb9f3a"
             ],
             [
              0.8888888888888888,
              "#fdca26"
             ],
             [
              1,
              "#f0f921"
             ]
            ],
            "type": "histogram2d"
           }
          ],
          "histogram2dcontour": [
           {
            "colorbar": {
             "outlinewidth": 0,
             "ticks": ""
            },
            "colorscale": [
             [
              0,
              "#0d0887"
             ],
             [
              0.1111111111111111,
              "#46039f"
             ],
             [
              0.2222222222222222,
              "#7201a8"
             ],
             [
              0.3333333333333333,
              "#9c179e"
             ],
             [
              0.4444444444444444,
              "#bd3786"
             ],
             [
              0.5555555555555556,
              "#d8576b"
             ],
             [
              0.6666666666666666,
              "#ed7953"
             ],
             [
              0.7777777777777778,
              "#fb9f3a"
             ],
             [
              0.8888888888888888,
              "#fdca26"
             ],
             [
              1,
              "#f0f921"
             ]
            ],
            "type": "histogram2dcontour"
           }
          ],
          "mesh3d": [
           {
            "colorbar": {
             "outlinewidth": 0,
             "ticks": ""
            },
            "type": "mesh3d"
           }
          ],
          "parcoords": [
           {
            "line": {
             "colorbar": {
              "outlinewidth": 0,
              "ticks": ""
             }
            },
            "type": "parcoords"
           }
          ],
          "pie": [
           {
            "automargin": true,
            "type": "pie"
           }
          ],
          "scatter": [
           {
            "fillpattern": {
             "fillmode": "overlay",
             "size": 10,
             "solidity": 0.2
            },
            "type": "scatter"
           }
          ],
          "scatter3d": [
           {
            "line": {
             "colorbar": {
              "outlinewidth": 0,
              "ticks": ""
             }
            },
            "marker": {
             "colorbar": {
              "outlinewidth": 0,
              "ticks": ""
             }
            },
            "type": "scatter3d"
           }
          ],
          "scattercarpet": [
           {
            "marker": {
             "colorbar": {
              "outlinewidth": 0,
              "ticks": ""
             }
            },
            "type": "scattercarpet"
           }
          ],
          "scattergeo": [
           {
            "marker": {
             "colorbar": {
              "outlinewidth": 0,
              "ticks": ""
             }
            },
            "type": "scattergeo"
           }
          ],
          "scattergl": [
           {
            "marker": {
             "colorbar": {
              "outlinewidth": 0,
              "ticks": ""
             }
            },
            "type": "scattergl"
           }
          ],
          "scattermapbox": [
           {
            "marker": {
             "colorbar": {
              "outlinewidth": 0,
              "ticks": ""
             }
            },
            "type": "scattermapbox"
           }
          ],
          "scatterpolar": [
           {
            "marker": {
             "colorbar": {
              "outlinewidth": 0,
              "ticks": ""
             }
            },
            "type": "scatterpolar"
           }
          ],
          "scatterpolargl": [
           {
            "marker": {
             "colorbar": {
              "outlinewidth": 0,
              "ticks": ""
             }
            },
            "type": "scatterpolargl"
           }
          ],
          "scatterternary": [
           {
            "marker": {
             "colorbar": {
              "outlinewidth": 0,
              "ticks": ""
             }
            },
            "type": "scatterternary"
           }
          ],
          "surface": [
           {
            "colorbar": {
             "outlinewidth": 0,
             "ticks": ""
            },
            "colorscale": [
             [
              0,
              "#0d0887"
             ],
             [
              0.1111111111111111,
              "#46039f"
             ],
             [
              0.2222222222222222,
              "#7201a8"
             ],
             [
              0.3333333333333333,
              "#9c179e"
             ],
             [
              0.4444444444444444,
              "#bd3786"
             ],
             [
              0.5555555555555556,
              "#d8576b"
             ],
             [
              0.6666666666666666,
              "#ed7953"
             ],
             [
              0.7777777777777778,
              "#fb9f3a"
             ],
             [
              0.8888888888888888,
              "#fdca26"
             ],
             [
              1,
              "#f0f921"
             ]
            ],
            "type": "surface"
           }
          ],
          "table": [
           {
            "cells": {
             "fill": {
              "color": "#EBF0F8"
             },
             "line": {
              "color": "white"
             }
            },
            "header": {
             "fill": {
              "color": "#C8D4E3"
             },
             "line": {
              "color": "white"
             }
            },
            "type": "table"
           }
          ]
         },
         "layout": {
          "annotationdefaults": {
           "arrowcolor": "#2a3f5f",
           "arrowhead": 0,
           "arrowwidth": 1
          },
          "autotypenumbers": "strict",
          "coloraxis": {
           "colorbar": {
            "outlinewidth": 0,
            "ticks": ""
           }
          },
          "colorscale": {
           "diverging": [
            [
             0,
             "#8e0152"
            ],
            [
             0.1,
             "#c51b7d"
            ],
            [
             0.2,
             "#de77ae"
            ],
            [
             0.3,
             "#f1b6da"
            ],
            [
             0.4,
             "#fde0ef"
            ],
            [
             0.5,
             "#f7f7f7"
            ],
            [
             0.6,
             "#e6f5d0"
            ],
            [
             0.7,
             "#b8e186"
            ],
            [
             0.8,
             "#7fbc41"
            ],
            [
             0.9,
             "#4d9221"
            ],
            [
             1,
             "#276419"
            ]
           ],
           "sequential": [
            [
             0,
             "#0d0887"
            ],
            [
             0.1111111111111111,
             "#46039f"
            ],
            [
             0.2222222222222222,
             "#7201a8"
            ],
            [
             0.3333333333333333,
             "#9c179e"
            ],
            [
             0.4444444444444444,
             "#bd3786"
            ],
            [
             0.5555555555555556,
             "#d8576b"
            ],
            [
             0.6666666666666666,
             "#ed7953"
            ],
            [
             0.7777777777777778,
             "#fb9f3a"
            ],
            [
             0.8888888888888888,
             "#fdca26"
            ],
            [
             1,
             "#f0f921"
            ]
           ],
           "sequentialminus": [
            [
             0,
             "#0d0887"
            ],
            [
             0.1111111111111111,
             "#46039f"
            ],
            [
             0.2222222222222222,
             "#7201a8"
            ],
            [
             0.3333333333333333,
             "#9c179e"
            ],
            [
             0.4444444444444444,
             "#bd3786"
            ],
            [
             0.5555555555555556,
             "#d8576b"
            ],
            [
             0.6666666666666666,
             "#ed7953"
            ],
            [
             0.7777777777777778,
             "#fb9f3a"
            ],
            [
             0.8888888888888888,
             "#fdca26"
            ],
            [
             1,
             "#f0f921"
            ]
           ]
          },
          "colorway": [
           "#636efa",
           "#EF553B",
           "#00cc96",
           "#ab63fa",
           "#FFA15A",
           "#19d3f3",
           "#FF6692",
           "#B6E880",
           "#FF97FF",
           "#FECB52"
          ],
          "font": {
           "color": "#2a3f5f"
          },
          "geo": {
           "bgcolor": "white",
           "lakecolor": "white",
           "landcolor": "#E5ECF6",
           "showlakes": true,
           "showland": true,
           "subunitcolor": "white"
          },
          "hoverlabel": {
           "align": "left"
          },
          "hovermode": "closest",
          "mapbox": {
           "style": "light"
          },
          "paper_bgcolor": "white",
          "plot_bgcolor": "#E5ECF6",
          "polar": {
           "angularaxis": {
            "gridcolor": "white",
            "linecolor": "white",
            "ticks": ""
           },
           "bgcolor": "#E5ECF6",
           "radialaxis": {
            "gridcolor": "white",
            "linecolor": "white",
            "ticks": ""
           }
          },
          "scene": {
           "xaxis": {
            "backgroundcolor": "#E5ECF6",
            "gridcolor": "white",
            "gridwidth": 2,
            "linecolor": "white",
            "showbackground": true,
            "ticks": "",
            "zerolinecolor": "white"
           },
           "yaxis": {
            "backgroundcolor": "#E5ECF6",
            "gridcolor": "white",
            "gridwidth": 2,
            "linecolor": "white",
            "showbackground": true,
            "ticks": "",
            "zerolinecolor": "white"
           },
           "zaxis": {
            "backgroundcolor": "#E5ECF6",
            "gridcolor": "white",
            "gridwidth": 2,
            "linecolor": "white",
            "showbackground": true,
            "ticks": "",
            "zerolinecolor": "white"
           }
          },
          "shapedefaults": {
           "line": {
            "color": "#2a3f5f"
           }
          },
          "ternary": {
           "aaxis": {
            "gridcolor": "white",
            "linecolor": "white",
            "ticks": ""
           },
           "baxis": {
            "gridcolor": "white",
            "linecolor": "white",
            "ticks": ""
           },
           "bgcolor": "#E5ECF6",
           "caxis": {
            "gridcolor": "white",
            "linecolor": "white",
            "ticks": ""
           }
          },
          "title": {
           "x": 0.05
          },
          "xaxis": {
           "automargin": true,
           "gridcolor": "white",
           "linecolor": "white",
           "ticks": "",
           "title": {
            "standoff": 15
           },
           "zerolinecolor": "white",
           "zerolinewidth": 2
          },
          "yaxis": {
           "automargin": true,
           "gridcolor": "white",
           "linecolor": "white",
           "ticks": "",
           "title": {
            "standoff": 15
           },
           "zerolinecolor": "white",
           "zerolinewidth": 2
          }
         }
        },
        "xaxis": {
         "anchor": "y",
         "autorange": true,
         "domain": [
          0,
          1
         ],
         "range": [
          -10721.725629438348,
          2742.7256294383474
         ],
         "showgrid": true,
         "title": {
          "text": "Year"
         },
         "type": "linear"
        },
        "yaxis": {
         "anchor": "x",
         "autorange": true,
         "domain": [
          0,
          1
         ],
         "range": [
          -607.6240429790026,
          8521.351412979002
         ],
         "showgrid": true,
         "title": {
          "text": "Population (million)"
         },
         "type": "linear"
        }
       }
      },
      "image/png": "[encoded data removed]",
      "text/html": [
       "<div>                            <div id=\"6fa2d0cd-9397-4414-b38f-420855bfe104\" class=\"plotly-graph-div\" style=\"height:525px; width:100%;\"></div>            <script type=\"text/javascript\">                require([\"plotly\"], function(Plotly) {                    window.PLOTLYENV=window.PLOTLYENV || {};                                    if (document.getElementById(\"6fa2d0cd-9397-4414-b38f-420855bfe104\")) {                    Plotly.newPlot(                        \"6fa2d0cd-9397-4414-b38f-420855bfe104\",                        [{\"hovertemplate\":\"Year=%{x}\\u003cbr\\u003ePopulation (million)=%{y}\\u003cextra\\u003e\\u003c\\u002fextra\\u003e\",\"legendgroup\":\"\",\"marker\":{\"color\":\"#636efa\",\"symbol\":\"circle\"},\"mode\":\"lines+markers\",\"name\":\"\",\"orientation\":\"v\",\"showlegend\":false,\"x\":[-10000,-9000,-8000,-7000,-6000,-5000,-4000,-3000,-2000,-1000,0,100,200,300,400,500,600,700,800,900,1000,1100,1200,1300,1400,1500,1600,1700,1710,1720,1730,1740,1750,1760,1770,1780,1790,1800,1801,1802,1803,1804,1805,1806,1807,1808,1809,1810,1811,1812,1813,1814,1815,1816,1817,1818,1819,1820,1821,1822,1823,1824,1825,1826,1827,1828,1829,1830,1831,1832,1833,1834,1835,1836,1837,1838,1839,1840,1841,1842,1843,1844,1845,1846,1847,1848,1849,1850,1851,1852,1853,1854,1855,1856,1857,1858,1859,1860,1861,1862,1863,1864,1865,1866,1867,1868,1869,1870,1871,1872,1873,1874,1875,1876,1877,1878,1879,1880,1881,1882,1883,1884,1885,1886,1887,1888,1889,1890,1891,1892,1893,1894,1895,1896,1897,1898,1899,1900,1901,1902,1903,1904,1905,1906,1907,1908,1909,1910,1911,1912,1913,1914,1915,1916,1917,1918,1919,1920,1921,1922,1923,1924,1925,1926,1927,1928,1929,1930,1931,1932,1933,1934,1935,1936,1937,1938,1939,1940,1941,1942,1943,1944,1945,1946,1947,1948,1949,1950,1951,1952,1953,1954,1955,1956,1957,1958,1959,1960,1961,1962,1963,1964,1965,1966,1967,1968,1969,1970,1971,1972,1973,1974,1975,1976,1977,1978,1979,1980,1981,1982,1983,1984,1985,1986,1987,1988,1989,1990,1991,1992,1993,1994,1995,1996,1997,1998,1999,2000,2001,2002,2003,2004,2005,2006,2007,2008,2009,2010,2011,2012,2013,2014,2015,2016,2017,2018,2019,2020,2021],\"xaxis\":\"x\",\"y\":[4.432266,5.616996,7.242892,9.577918,13.201832,19.075771,28.774661,44.487162,72.586076,110.419521,232.123764,236.904172,240.611571,227.549847,241.539639,253.237316,271.478693,278.185334,285.71384,310.967715,323.407571,397.923813,444.750686,456.388961,442.480612,503.240399,516.610918,592.706212,613.189457,642.718111,664.743383,695.34669,745.664133,779.891857,818.8279,891.048681,931.577684,985.340629,987.628322,991.098738,994.61026,998.16324,1001.758044,1005.395067,1009.074742,1012.797513,1016.563866,1022.629692,1027.487469,1033.636618,1040.443689,1047.427292,1054.586106,1061.924513,1069.44707,1077.158552,1084.757875,1093.424863,1099.331577,1106.263783,1113.514792,1120.876169,1128.34296,1135.961188,1143.684846,1151.515422,1158.898384,1166.619223,1172.266726,1178.216298,1183.68412,1189.202983,1194.812021,1200.422586,1206.132721,1211.908617,1217.625799,1224.117982,1228.828189,1234.333753,1239.880237,1245.319917,1250.936428,1256.637463,1262.42472,1268.300005,1273.394934,1278.810377,1280.744899,1282.983708,1284.472373,1286.078878,1287.785678,1289.613085,1291.556308,1293.616943,1296.053087,1300.098076,1302.046862,1305.560612,1309.444051,1313.410603,1317.453657,1321.572626,1325.775239,1330.060419,1334.928493,1341.697614,1346.406314,1353.032986,1360.261504,1367.561973,1374.96243,1382.44305,1389.974777,1397.574403,1405.702618,1415.841209,1423.704727,1433.553127,1444.009167,1454.595037,1465.369425,1476.245076,1487.277339,1498.437207,1509.373834,1521.669265,1530.611585,1540.822549,1550.822689,1560.960959,1571.250732,1581.628826,1592.152786,1602.80187,1614.109121,1627.883132,1638.647517,1651.840077,1665.70354,1679.752718,1693.984163,1708.411294,1723.032738,1737.874788,1752.122665,1767.847653,1778.784032,1791.197929,1803.056235,1815.104863,1827.290389,1839.559287,1851.899055,1864.869126,1878.650358,1895.68215,1908.748639,1924.82612,1941.6369,1958.716901,1976.068839,1993.719848,2011.689749,2029.682397,2048.513689,2070.596353,2088.429965,2109.357892,2131.029147,2152.969392,2175.184808,2197.830032,2220.878589,2244.005191,2266.483407,2290.871362,2307.736768,2326.734579,2344.58144,2362.439908,2380.167769,2397.811266,2416.694412,2437.259361,2463.242071,2499.322112,2543.130368,2590.270976,2640.278784,2691.979264,2746.072064,2801.002752,2857.866752,2916.108032,2970.292224,3019.233536,3068.370688,3126.68672,3195.779328,3267.212288,3337.112064,3406.416896,3475.448064,3546.81088,3620.65536,3695.390208,3770.1632,3844.800768,3920.251392,3995.516928,4069.437184,4142.505728,4215.772416,4289.6576,4365.582848,4444.007936,4524.627456,4607.98464,4691.884032,4775.83616,4861.730816,4950.063104,5040.984576,5132.294144,5223.704064,5316.175872,5406.245888,5492.686336,5577.4336,5660.727808,5743.219712,5825.145344,5906.481152,5987.31264,6067.758592,6148.898816,6230.747136,6312.407552,6393.898496,6475.751424,6558.176256,6641.416192,6725.948416,6811.597312,6898.306048,6985.603072,7073.125376,7161.697792,7250.59328,7339.013632,7426.597376,7513.474048,7599.822336,7683.789824,7764.95104,7840.952832,7909.295104],\"yaxis\":\"y\",\"type\":\"scatter\"}],                        {\"template\":{\"data\":{\"histogram2dcontour\":[{\"type\":\"histogram2dcontour\",\"colorbar\":{\"outlinewidth\":0,\"ticks\":\"\"},\"colorscale\":[[0.0,\"#0d0887\"],[0.1111111111111111,\"#46039f\"],[0.2222222222222222,\"#7201a8\"],[0.3333333333333333,\"#9c179e\"],[0.4444444444444444,\"#bd3786\"],[0.5555555555555556,\"#d8576b\"],[0.6666666666666666,\"#ed7953\"],[0.7777777777777778,\"#fb9f3a\"],[0.8888888888888888,\"#fdca26\"],[1.0,\"#f0f921\"]]}],\"choropleth\":[{\"type\":\"choropleth\",\"colorbar\":{\"outlinewidth\":0,\"ticks\":\"\"}}],\"histogram2d\":[{\"type\":\"histogram2d\",\"colorbar\":{\"outlinewidth\":0,\"ticks\":\"\"},\"colorscale\":[[0.0,\"#0d0887\"],[0.1111111111111111,\"#46039f\"],[0.2222222222222222,\"#7201a8\"],[0.3333333333333333,\"#9c179e\"],[0.4444444444444444,\"#bd3786\"],[0.5555555555555556,\"#d8576b\"],[0.6666666666666666,\"#ed7953\"],[0.7777777777777778,\"#fb9f3a\"],[0.8888888888888888,\"#fdca26\"],[1.0,\"#f0f921\"]]}],\"heatmap\":[{\"type\":\"heatmap\",\"colorbar\":{\"outlinewidth\":0,\"ticks\":\"\"},\"colorscale\":[[0.0,\"#0d0887\"],[0.1111111111111111,\"#46039f\"],[0.2222222222222222,\"#7201a8\"],[0.3333333333333333,\"#9c179e\"],[0.4444444444444444,\"#bd3786\"],[0.5555555555555556,\"#d8576b\"],[0.6666666666666666,\"#ed7953\"],[0.7777777777777778,\"#fb9f3a\"],[0.8888888888888888,\"#fdca26\"],[1.0,\"#f0f921\"]]}],\"heatmapgl\":[{\"type\":\"heatmapgl\",\"colorbar\":{\"outlinewidth\":0,\"ticks\":\"\"},\"colorscale\":[[0.0,\"#0d0887\"],[0.1111111111111111,\"#46039f\"],[0.2222222222222222,\"#7201a8\"],[0.3333333333333333,\"#9c179e\"],[0.4444444444444444,\"#bd3786\"],[0.5555555555555556,\"#d8576b\"],[0.6666666666666666,\"#ed7953\"],[0.7777777777777778,\"#fb9f3a\"],[0.8888888888888888,\"#fdca26\"],[1.0,\"#f0f921\"]]}],\"contourcarpet\":[{\"type\":\"contourcarpet\",\"colorbar\":{\"outlinewidth\":0,\"ticks\":\"\"}}],\"contour\":[{\"type\":\"contour\",\"colorbar\":{\"outlinewidth\":0,\"ticks\":\"\"},\"colorscale\":[[0.0,\"#0d0887\"],[0.1111111111111111,\"#46039f\"],[0.2222222222222222,\"#7201a8\"],[0.3333333333333333,\"#9c179e\"],[0.4444444444444444,\"#bd3786\"],[0.5555555555555556,\"#d8576b\"],[0.6666666666666666,\"#ed7953\"],[0.7777777777777778,\"#fb9f3a\"],[0.8888888888888888,\"#fdca26\"],[1.0,\"#f0f921\"]]}],\"surface\":[{\"type\":\"surface\",\"colorbar\":{\"outlinewidth\":0,\"ticks\":\"\"},\"colorscale\":[[0.0,\"#0d0887\"],[0.1111111111111111,\"#46039f\"],[0.2222222222222222,\"#7201a8\"],[0.3333333333333333,\"#9c179e\"],[0.4444444444444444,\"#bd3786\"],[0.5555555555555556,\"#d8576b\"],[0.6666666666666666,\"#ed7953\"],[0.7777777777777778,\"#fb9f3a\"],[0.8888888888888888,\"#fdca26\"],[1.0,\"#f0f921\"]]}],\"mesh3d\":[{\"type\":\"mesh3d\",\"colorbar\":{\"outlinewidth\":0,\"ticks\":\"\"}}],\"scatter\":[{\"fillpattern\":{\"fillmode\":\"overlay\",\"size\":10,\"solidity\":0.2},\"type\":\"scatter\"}],\"parcoords\":[{\"type\":\"parcoords\",\"line\":{\"colorbar\":{\"outlinewidth\":0,\"ticks\":\"\"}}}],\"scatterpolargl\":[{\"type\":\"scatterpolargl\",\"marker\":{\"colorbar\":{\"outlinewidth\":0,\"ticks\":\"\"}}}],\"bar\":[{\"error_x\":{\"color\":\"#2a3f5f\"},\"error_y\":{\"color\":\"#2a3f5f\"},\"marker\":{\"line\":{\"color\":\"#E5ECF6\",\"width\":0.5},\"pattern\":{\"fillmode\":\"overlay\",\"size\":10,\"solidity\":0.2}},\"type\":\"bar\"}],\"scattergeo\":[{\"type\":\"scattergeo\",\"marker\":{\"colorbar\":{\"outlinewidth\":0,\"ticks\":\"\"}}}],\"scatterpolar\":[{\"type\":\"scatterpolar\",\"marker\":{\"colorbar\":{\"outlinewidth\":0,\"ticks\":\"\"}}}],\"histogram\":[{\"marker\":{\"pattern\":{\"fillmode\":\"overlay\",\"size\":10,\"solidity\":0.2}},\"type\":\"histogram\"}],\"scattergl\":[{\"type\":\"scattergl\",\"marker\":{\"colorbar\":{\"outlinewidth\":0,\"ticks\":\"\"}}}],\"scatter3d\":[{\"type\":\"scatter3d\",\"line\":{\"colorbar\":{\"outlinewidth\":0,\"ticks\":\"\"}},\"marker\":{\"colorbar\":{\"outlinewidth\":0,\"ticks\":\"\"}}}],\"scattermapbox\":[{\"type\":\"scattermapbox\",\"marker\":{\"colorbar\":{\"outlinewidth\":0,\"ticks\":\"\"}}}],\"scatterternary\":[{\"type\":\"scatterternary\",\"marker\":{\"colorbar\":{\"outlinewidth\":0,\"ticks\":\"\"}}}],\"scattercarpet\":[{\"type\":\"scattercarpet\",\"marker\":{\"colorbar\":{\"outlinewidth\":0,\"ticks\":\"\"}}}],\"carpet\":[{\"aaxis\":{\"endlinecolor\":\"#2a3f5f\",\"gridcolor\":\"white\",\"linecolor\":\"white\",\"minorgridcolor\":\"white\",\"startlinecolor\":\"#2a3f5f\"},\"baxis\":{\"endlinecolor\":\"#2a3f5f\",\"gridcolor\":\"white\",\"linecolor\":\"white\",\"minorgridcolor\":\"white\",\"startlinecolor\":\"#2a3f5f\"},\"type\":\"carpet\"}],\"table\":[{\"cells\":{\"fill\":{\"color\":\"#EBF0F8\"},\"line\":{\"color\":\"white\"}},\"header\":{\"fill\":{\"color\":\"#C8D4E3\"},\"line\":{\"color\":\"white\"}},\"type\":\"table\"}],\"barpolar\":[{\"marker\":{\"line\":{\"color\":\"#E5ECF6\",\"width\":0.5},\"pattern\":{\"fillmode\":\"overlay\",\"size\":10,\"solidity\":0.2}},\"type\":\"barpolar\"}],\"pie\":[{\"automargin\":true,\"type\":\"pie\"}]},\"layout\":{\"autotypenumbers\":\"strict\",\"colorway\":[\"#636efa\",\"#EF553B\",\"#00cc96\",\"#ab63fa\",\"#FFA15A\",\"#19d3f3\",\"#FF6692\",\"#B6E880\",\"#FF97FF\",\"#FECB52\"],\"font\":{\"color\":\"#2a3f5f\"},\"hovermode\":\"closest\",\"hoverlabel\":{\"align\":\"left\"},\"paper_bgcolor\":\"white\",\"plot_bgcolor\":\"#E5ECF6\",\"polar\":{\"bgcolor\":\"#E5ECF6\",\"angularaxis\":{\"gridcolor\":\"white\",\"linecolor\":\"white\",\"ticks\":\"\"},\"radialaxis\":{\"gridcolor\":\"white\",\"linecolor\":\"white\",\"ticks\":\"\"}},\"ternary\":{\"bgcolor\":\"#E5ECF6\",\"aaxis\":{\"gridcolor\":\"white\",\"linecolor\":\"white\",\"ticks\":\"\"},\"baxis\":{\"gridcolor\":\"white\",\"linecolor\":\"white\",\"ticks\":\"\"},\"caxis\":{\"gridcolor\":\"white\",\"linecolor\":\"white\",\"ticks\":\"\"}},\"coloraxis\":{\"colorbar\":{\"outlinewidth\":0,\"ticks\":\"\"}},\"colorscale\":{\"sequential\":[[0.0,\"#0d0887\"],[0.1111111111111111,\"#46039f\"],[0.2222222222222222,\"#7201a8\"],[0.3333333333333333,\"#9c179e\"],[0.4444444444444444,\"#bd3786\"],[0.5555555555555556,\"#d8576b\"],[0.6666666666666666,\"#ed7953\"],[0.7777777777777778,\"#fb9f3a\"],[0.8888888888888888,\"#fdca26\"],[1.0,\"#f0f921\"]],\"sequentialminus\":[[0.0,\"#0d0887\"],[0.1111111111111111,\"#46039f\"],[0.2222222222222222,\"#7201a8\"],[0.3333333333333333,\"#9c179e\"],[0.4444444444444444,\"#bd3786\"],[0.5555555555555556,\"#d8576b\"],[0.6666666666666666,\"#ed7953\"],[0.7777777777777778,\"#fb9f3a\"],[0.8888888888888888,\"#fdca26\"],[1.0,\"#f0f921\"]],\"diverging\":[[0,\"#8e0152\"],[0.1,\"#c51b7d\"],[0.2,\"#de77ae\"],[0.3,\"#f1b6da\"],[0.4,\"#fde0ef\"],[0.5,\"#f7f7f7\"],[0.6,\"#e6f5d0\"],[0.7,\"#b8e186\"],[0.8,\"#7fbc41\"],[0.9,\"#4d9221\"],[1,\"#276419\"]]},\"xaxis\":{\"gridcolor\":\"white\",\"linecolor\":\"white\",\"ticks\":\"\",\"title\":{\"standoff\":15},\"zerolinecolor\":\"white\",\"automargin\":true,\"zerolinewidth\":2},\"yaxis\":{\"gridcolor\":\"white\",\"linecolor\":\"white\",\"ticks\":\"\",\"title\":{\"standoff\":15},\"zerolinecolor\":\"white\",\"automargin\":true,\"zerolinewidth\":2},\"scene\":{\"xaxis\":{\"backgroundcolor\":\"#E5ECF6\",\"gridcolor\":\"white\",\"linecolor\":\"white\",\"showbackground\":true,\"ticks\":\"\",\"zerolinecolor\":\"white\",\"gridwidth\":2},\"yaxis\":{\"backgroundcolor\":\"#E5ECF6\",\"gridcolor\":\"white\",\"linecolor\":\"white\",\"showbackground\":true,\"ticks\":\"\",\"zerolinecolor\":\"white\",\"gridwidth\":2},\"zaxis\":{\"backgroundcolor\":\"#E5ECF6\",\"gridcolor\":\"white\",\"linecolor\":\"white\",\"showbackground\":true,\"ticks\":\"\",\"zerolinecolor\":\"white\",\"gridwidth\":2}},\"shapedefaults\":{\"line\":{\"color\":\"#2a3f5f\"}},\"annotationdefaults\":{\"arrowcolor\":\"#2a3f5f\",\"arrowhead\":0,\"arrowwidth\":1},\"geo\":{\"bgcolor\":\"white\",\"landcolor\":\"#E5ECF6\",\"subunitcolor\":\"white\",\"showland\":true,\"showlakes\":true,\"lakecolor\":\"white\"},\"title\":{\"x\":0.05},\"mapbox\":{\"style\":\"light\"}}},\"xaxis\":{\"anchor\":\"y\",\"domain\":[0.0,1.0],\"title\":{\"text\":\"Year\"},\"showgrid\":true},\"yaxis\":{\"anchor\":\"x\",\"domain\":[0.0,1.0],\"title\":{\"text\":\"Population (million)\"},\"showgrid\":true},\"legend\":{\"tracegroupgap\":0},\"margin\":{\"t\":60}},                        {\"responsive\": true}                    ).then(function(){\n",
       "                            \n",
       "var gd = document.getElementById('6fa2d0cd-9397-4414-b38f-420855bfe104');\n",
       "var x = new MutationObserver(function (mutations, observer) {{\n",
       "        var display = window.getComputedStyle(gd).display;\n",
       "        if (!display || display === 'none') {{\n",
       "            console.log([gd, 'removed!']);\n",
       "            Plotly.purge(gd);\n",
       "            observer.disconnect();\n",
       "        }}\n",
       "}});\n",
       "\n",
       "// Listen for the removal of the full notebook cells\n",
       "var notebookContainer = gd.closest('#notebook-container');\n",
       "if (notebookContainer) {{\n",
       "    x.observe(notebookContainer, {childList: true});\n",
       "}}\n",
       "\n",
       "// Listen for the clearing of the current output cell\n",
       "var outputEl = gd.closest('.output');\n",
       "if (outputEl) {{\n",
       "    x.observe(outputEl, {childList: true});\n",
       "}}\n",
       "\n",
       "                        })                };                });            </script>        </div>"
      ]
     },
     "metadata": {},
     "output_type": "display_data"
    }
   ],
   "source": [
    "import plotly.express as px\n",
    "\n",
    "fig = px.scatter(x=years_full, y=populations_full, labels={'x': 'Year', 'y': 'Population (million)'})\n",
    "fig.update_traces(mode='lines+markers')\n",
    "\n",
    "fig.update_layout(xaxis=dict(showgrid=True), yaxis=dict(showgrid=True))\n",
    "\n",
    "# Show the plot\n",
    "fig.show()"
   ]
  },
  {
   "cell_type": "markdown",
   "id": "d62dfd86-2a38-4a16-a887-16217d4396d3",
   "metadata": {},
   "source": [
    "As usual, it looks way too much like a hockey stick. Let's plot it on log-scale."
   ]
  },
  {
   "cell_type": "code",
   "execution_count": 72,
   "id": "78ce0139-824d-4fa2-b826-67a6eac30e86",
   "metadata": {},
   "outputs": [
    {
     "data": {
      "application/vnd.plotly.v1+json": {
       "config": {
        "plotlyServerURL": "https://plot.ly"
       },
       "data": [
        {
         "hovertemplate": "Year=%{x}<br>Population (million)=%{y}<extra></extra>",
         "legendgroup": "",
         "marker": {
          "color": "#636efa",
          "symbol": "circle"
         },
         "mode": "lines+markers",
         "name": "",
         "orientation": "v",
         "showlegend": false,
         "type": "scatter",
         "x": [
          -10000,
          -9000,
          -8000,
          -7000,
          -6000,
          -5000,
          -4000,
          -3000,
          -2000,
          -1000,
          0,
          100,
          200,
          300,
          400,
          500,
          600,
          700,
          800,
          900,
          1000,
          1100,
          1200,
          1300,
          1400,
          1500,
          1600,
          1700,
          1710,
          1720,
          1730,
          1740,
          1750,
          1760,
          1770,
          1780,
          1790,
          1800,
          1801,
          1802,
          1803,
          1804,
          1805,
          1806,
          1807,
          1808,
          1809,
          1810,
          1811,
          1812,
          1813,
          1814,
          1815,
          1816,
          1817,
          1818,
          1819,
          1820,
          1821,
          1822,
          1823,
          1824,
          1825,
          1826,
          1827,
          1828,
          1829,
          1830,
          1831,
          1832,
          1833,
          1834,
          1835,
          1836,
          1837,
          1838,
          1839,
          1840,
          1841,
          1842,
          1843,
          1844,
          1845,
          1846,
          1847,
          1848,
          1849,
          1850,
          1851,
          1852,
          1853,
          1854,
          1855,
          1856,
          1857,
          1858,
          1859,
          1860,
          1861,
          1862,
          1863,
          1864,
          1865,
          1866,
          1867,
          1868,
          1869,
          1870,
          1871,
          1872,
          1873,
          1874,
          1875,
          1876,
          1877,
          1878,
          1879,
          1880,
          1881,
          1882,
          1883,
          1884,
          1885,
          1886,
          1887,
          1888,
          1889,
          1890,
          1891,
          1892,
          1893,
          1894,
          1895,
          1896,
          1897,
          1898,
          1899,
          1900,
          1901,
          1902,
          1903,
          1904,
          1905,
          1906,
          1907,
          1908,
          1909,
          1910,
          1911,
          1912,
          1913,
          1914,
          1915,
          1916,
          1917,
          1918,
          1919,
          1920,
          1921,
          1922,
          1923,
          1924,
          1925,
          1926,
          1927,
          1928,
          1929,
          1930,
          1931,
          1932,
          1933,
          1934,
          1935,
          1936,
          1937,
          1938,
          1939,
          1940,
          1941,
          1942,
          1943,
          1944,
          1945,
          1946,
          1947,
          1948,
          1949,
          1950,
          1951,
          1952,
          1953,
          1954,
          1955,
          1956,
          1957,
          1958,
          1959,
          1960,
          1961,
          1962,
          1963,
          1964,
          1965,
          1966,
          1967,
          1968,
          1969,
          1970,
          1971,
          1972,
          1973,
          1974,
          1975,
          1976,
          1977,
          1978,
          1979,
          1980,
          1981,
          1982,
          1983,
          1984,
          1985,
          1986,
          1987,
          1988,
          1989,
          1990,
          1991,
          1992,
          1993,
          1994,
          1995,
          1996,
          1997,
          1998,
          1999,
          2000,
          2001,
          2002,
          2003,
          2004,
          2005,
          2006,
          2007,
          2008,
          2009,
          2010,
          2011,
          2012,
          2013,
          2014,
          2015,
          2016,
          2017,
          2018,
          2019,
          2020,
          2021
         ],
         "xaxis": "x",
         "y": [
          4.432266,
          5.616996,
          7.242892,
          9.577918,
          13.201832,
          19.075771,
          28.774661,
          44.487162,
          72.586076,
          110.419521,
          232.123764,
          236.904172,
          240.611571,
          227.549847,
          241.539639,
          253.237316,
          271.478693,
          278.185334,
          285.71384,
          310.967715,
          323.407571,
          397.923813,
          444.750686,
          456.388961,
          442.480612,
          503.240399,
          516.610918,
          592.706212,
          613.189457,
          642.718111,
          664.743383,
          695.34669,
          745.664133,
          779.891857,
          818.8279,
          891.048681,
          931.577684,
          985.340629,
          987.628322,
          991.098738,
          994.61026,
          998.16324,
          1001.758044,
          1005.395067,
          1009.074742,
          1012.797513,
          1016.563866,
          1022.629692,
          1027.487469,
          1033.636618,
          1040.443689,
          1047.427292,
          1054.586106,
          1061.924513,
          1069.44707,
          1077.158552,
          1084.757875,
          1093.424863,
          1099.331577,
          1106.263783,
          1113.514792,
          1120.876169,
          1128.34296,
          1135.961188,
          1143.684846,
          1151.515422,
          1158.898384,
          1166.619223,
          1172.266726,
          1178.216298,
          1183.68412,
          1189.202983,
          1194.812021,
          1200.422586,
          1206.132721,
          1211.908617,
          1217.625799,
          1224.117982,
          1228.828189,
          1234.333753,
          1239.880237,
          1245.319917,
          1250.936428,
          1256.637463,
          1262.42472,
          1268.300005,
          1273.394934,
          1278.810377,
          1280.744899,
          1282.983708,
          1284.472373,
          1286.078878,
          1287.785678,
          1289.613085,
          1291.556308,
          1293.616943,
          1296.053087,
          1300.098076,
          1302.046862,
          1305.560612,
          1309.444051,
          1313.410603,
          1317.453657,
          1321.572626,
          1325.775239,
          1330.060419,
          1334.928493,
          1341.697614,
          1346.406314,
          1353.032986,
          1360.261504,
          1367.561973,
          1374.96243,
          1382.44305,
          1389.974777,
          1397.574403,
          1405.702618,
          1415.841209,
          1423.704727,
          1433.553127,
          1444.009167,
          1454.595037,
          1465.369425,
          1476.245076,
          1487.277339,
          1498.437207,
          1509.373834,
          1521.669265,
          1530.611585,
          1540.822549,
          1550.822689,
          1560.960959,
          1571.250732,
          1581.628826,
          1592.152786,
          1602.80187,
          1614.109121,
          1627.883132,
          1638.647517,
          1651.840077,
          1665.70354,
          1679.752718,
          1693.984163,
          1708.411294,
          1723.032738,
          1737.874788,
          1752.122665,
          1767.847653,
          1778.784032,
          1791.197929,
          1803.056235,
          1815.104863,
          1827.290389,
          1839.559287,
          1851.899055,
          1864.869126,
          1878.650358,
          1895.68215,
          1908.748639,
          1924.82612,
          1941.6369,
          1958.716901,
          1976.068839,
          1993.719848,
          2011.689749,
          2029.682397,
          2048.513689,
          2070.596353,
          2088.429965,
          2109.357892,
          2131.029147,
          2152.969392,
          2175.184808,
          2197.830032,
          2220.878589,
          2244.005191,
          2266.483407,
          2290.871362,
          2307.736768,
          2326.734579,
          2344.58144,
          2362.439908,
          2380.167769,
          2397.811266,
          2416.694412,
          2437.259361,
          2463.242071,
          2499.322112,
          2543.130368,
          2590.270976,
          2640.278784,
          2691.979264,
          2746.072064,
          2801.002752,
          2857.866752,
          2916.108032,
          2970.292224,
          3019.233536,
          3068.370688,
          3126.68672,
          3195.779328,
          3267.212288,
          3337.112064,
          3406.416896,
          3475.448064,
          3546.81088,
          3620.65536,
          3695.390208,
          3770.1632,
          3844.800768,
          3920.251392,
          3995.516928,
          4069.437184,
          4142.505728,
          4215.772416,
          4289.6576,
          4365.582848,
          4444.007936,
          4524.627456,
          4607.98464,
          4691.884032,
          4775.83616,
          4861.730816,
          4950.063104,
          5040.984576,
          5132.294144,
          5223.704064,
          5316.175872,
          5406.245888,
          5492.686336,
          5577.4336,
          5660.727808,
          5743.219712,
          5825.145344,
          5906.481152,
          5987.31264,
          6067.758592,
          6148.898816,
          6230.747136,
          6312.407552,
          6393.898496,
          6475.751424,
          6558.176256,
          6641.416192,
          6725.948416,
          6811.597312,
          6898.306048,
          6985.603072,
          7073.125376,
          7161.697792,
          7250.59328,
          7339.013632,
          7426.597376,
          7513.474048,
          7599.822336,
          7683.789824,
          7764.95104,
          7840.952832,
          7909.295104
         ],
         "yaxis": "y"
        }
       ],
       "layout": {
        "autosize": true,
        "legend": {
         "tracegroupgap": 0
        },
        "margin": {
         "t": 60
        },
        "template": {
         "data": {
          "bar": [
           {
            "error_x": {
             "color": "#2a3f5f"
            },
            "error_y": {
             "color": "#2a3f5f"
            },
            "marker": {
             "line": {
              "color": "#E5ECF6",
              "width": 0.5
             },
             "pattern": {
              "fillmode": "overlay",
              "size": 10,
              "solidity": 0.2
             }
            },
            "type": "bar"
           }
          ],
          "barpolar": [
           {
            "marker": {
             "line": {
              "color": "#E5ECF6",
              "width": 0.5
             },
             "pattern": {
              "fillmode": "overlay",
              "size": 10,
              "solidity": 0.2
             }
            },
            "type": "barpolar"
           }
          ],
          "carpet": [
           {
            "aaxis": {
             "endlinecolor": "#2a3f5f",
             "gridcolor": "white",
             "linecolor": "white",
             "minorgridcolor": "white",
             "startlinecolor": "#2a3f5f"
            },
            "baxis": {
             "endlinecolor": "#2a3f5f",
             "gridcolor": "white",
             "linecolor": "white",
             "minorgridcolor": "white",
             "startlinecolor": "#2a3f5f"
            },
            "type": "carpet"
           }
          ],
          "choropleth": [
           {
            "colorbar": {
             "outlinewidth": 0,
             "ticks": ""
            },
            "type": "choropleth"
           }
          ],
          "contour": [
           {
            "colorbar": {
             "outlinewidth": 0,
             "ticks": ""
            },
            "colorscale": [
             [
              0,
              "#0d0887"
             ],
             [
              0.1111111111111111,
              "#46039f"
             ],
             [
              0.2222222222222222,
              "#7201a8"
             ],
             [
              0.3333333333333333,
              "#9c179e"
             ],
             [
              0.4444444444444444,
              "#bd3786"
             ],
             [
              0.5555555555555556,
              "#d8576b"
             ],
             [
              0.6666666666666666,
              "#ed7953"
             ],
             [
              0.7777777777777778,
              "#fb9f3a"
             ],
             [
              0.8888888888888888,
              "#fdca26"
             ],
             [
              1,
              "#f0f921"
             ]
            ],
            "type": "contour"
           }
          ],
          "contourcarpet": [
           {
            "colorbar": {
             "outlinewidth": 0,
             "ticks": ""
            },
            "type": "contourcarpet"
           }
          ],
          "heatmap": [
           {
            "colorbar": {
             "outlinewidth": 0,
             "ticks": ""
            },
            "colorscale": [
             [
              0,
              "#0d0887"
             ],
             [
              0.1111111111111111,
              "#46039f"
             ],
             [
              0.2222222222222222,
              "#7201a8"
             ],
             [
              0.3333333333333333,
              "#9c179e"
             ],
             [
              0.4444444444444444,
              "#bd3786"
             ],
             [
              0.5555555555555556,
              "#d8576b"
             ],
             [
              0.6666666666666666,
              "#ed7953"
             ],
             [
              0.7777777777777778,
              "#fb9f3a"
             ],
             [
              0.8888888888888888,
              "#fdca26"
             ],
             [
              1,
              "#f0f921"
             ]
            ],
            "type": "heatmap"
           }
          ],
          "heatmapgl": [
           {
            "colorbar": {
             "outlinewidth": 0,
             "ticks": ""
            },
            "colorscale": [
             [
              0,
              "#0d0887"
             ],
             [
              0.1111111111111111,
              "#46039f"
             ],
             [
              0.2222222222222222,
              "#7201a8"
             ],
             [
              0.3333333333333333,
              "#9c179e"
             ],
             [
              0.4444444444444444,
              "#bd3786"
             ],
             [
              0.5555555555555556,
              "#d8576b"
             ],
             [
              0.6666666666666666,
              "#ed7953"
             ],
             [
              0.7777777777777778,
              "#fb9f3a"
             ],
             [
              0.8888888888888888,
              "#fdca26"
             ],
             [
              1,
              "#f0f921"
             ]
            ],
            "type": "heatmapgl"
           }
          ],
          "histogram": [
           {
            "marker": {
             "pattern": {
              "fillmode": "overlay",
              "size": 10,
              "solidity": 0.2
             }
            },
            "type": "histogram"
           }
          ],
          "histogram2d": [
           {
            "colorbar": {
             "outlinewidth": 0,
             "ticks": ""
            },
            "colorscale": [
             [
              0,
              "#0d0887"
             ],
             [
              0.1111111111111111,
              "#46039f"
             ],
             [
              0.2222222222222222,
              "#7201a8"
             ],
             [
              0.3333333333333333,
              "#9c179e"
             ],
             [
              0.4444444444444444,
              "#bd3786"
             ],
             [
              0.5555555555555556,
              "#d8576b"
             ],
             [
              0.6666666666666666,
              "#ed7953"
             ],
             [
              0.7777777777777778,
              "#fb9f3a"
             ],
             [
              0.8888888888888888,
              "#fdca26"
             ],
             [
              1,
              "#f0f921"
             ]
            ],
            "type": "histogram2d"
           }
          ],
          "histogram2dcontour": [
           {
            "colorbar": {
             "outlinewidth": 0,
             "ticks": ""
            },
            "colorscale": [
             [
              0,
              "#0d0887"
             ],
             [
              0.1111111111111111,
              "#46039f"
             ],
             [
              0.2222222222222222,
              "#7201a8"
             ],
             [
              0.3333333333333333,
              "#9c179e"
             ],
             [
              0.4444444444444444,
              "#bd3786"
             ],
             [
              0.5555555555555556,
              "#d8576b"
             ],
             [
              0.6666666666666666,
              "#ed7953"
             ],
             [
              0.7777777777777778,
              "#fb9f3a"
             ],
             [
              0.8888888888888888,
              "#fdca26"
             ],
             [
              1,
              "#f0f921"
             ]
            ],
            "type": "histogram2dcontour"
           }
          ],
          "mesh3d": [
           {
            "colorbar": {
             "outlinewidth": 0,
             "ticks": ""
            },
            "type": "mesh3d"
           }
          ],
          "parcoords": [
           {
            "line": {
             "colorbar": {
              "outlinewidth": 0,
              "ticks": ""
             }
            },
            "type": "parcoords"
           }
          ],
          "pie": [
           {
            "automargin": true,
            "type": "pie"
           }
          ],
          "scatter": [
           {
            "fillpattern": {
             "fillmode": "overlay",
             "size": 10,
             "solidity": 0.2
            },
            "type": "scatter"
           }
          ],
          "scatter3d": [
           {
            "line": {
             "colorbar": {
              "outlinewidth": 0,
              "ticks": ""
             }
            },
            "marker": {
             "colorbar": {
              "outlinewidth": 0,
              "ticks": ""
             }
            },
            "type": "scatter3d"
           }
          ],
          "scattercarpet": [
           {
            "marker": {
             "colorbar": {
              "outlinewidth": 0,
              "ticks": ""
             }
            },
            "type": "scattercarpet"
           }
          ],
          "scattergeo": [
           {
            "marker": {
             "colorbar": {
              "outlinewidth": 0,
              "ticks": ""
             }
            },
            "type": "scattergeo"
           }
          ],
          "scattergl": [
           {
            "marker": {
             "colorbar": {
              "outlinewidth": 0,
              "ticks": ""
             }
            },
            "type": "scattergl"
           }
          ],
          "scattermapbox": [
           {
            "marker": {
             "colorbar": {
              "outlinewidth": 0,
              "ticks": ""
             }
            },
            "type": "scattermapbox"
           }
          ],
          "scatterpolar": [
           {
            "marker": {
             "colorbar": {
              "outlinewidth": 0,
              "ticks": ""
             }
            },
            "type": "scatterpolar"
           }
          ],
          "scatterpolargl": [
           {
            "marker": {
             "colorbar": {
              "outlinewidth": 0,
              "ticks": ""
             }
            },
            "type": "scatterpolargl"
           }
          ],
          "scatterternary": [
           {
            "marker": {
             "colorbar": {
              "outlinewidth": 0,
              "ticks": ""
             }
            },
            "type": "scatterternary"
           }
          ],
          "surface": [
           {
            "colorbar": {
             "outlinewidth": 0,
             "ticks": ""
            },
            "colorscale": [
             [
              0,
              "#0d0887"
             ],
             [
              0.1111111111111111,
              "#46039f"
             ],
             [
              0.2222222222222222,
              "#7201a8"
             ],
             [
              0.3333333333333333,
              "#9c179e"
             ],
             [
              0.4444444444444444,
              "#bd3786"
             ],
             [
              0.5555555555555556,
              "#d8576b"
             ],
             [
              0.6666666666666666,
              "#ed7953"
             ],
             [
              0.7777777777777778,
              "#fb9f3a"
             ],
             [
              0.8888888888888888,
              "#fdca26"
             ],
             [
              1,
              "#f0f921"
             ]
            ],
            "type": "surface"
           }
          ],
          "table": [
           {
            "cells": {
             "fill": {
              "color": "#EBF0F8"
             },
             "line": {
              "color": "white"
             }
            },
            "header": {
             "fill": {
              "color": "#C8D4E3"
             },
             "line": {
              "color": "white"
             }
            },
            "type": "table"
           }
          ]
         },
         "layout": {
          "annotationdefaults": {
           "arrowcolor": "#2a3f5f",
           "arrowhead": 0,
           "arrowwidth": 1
          },
          "autotypenumbers": "strict",
          "coloraxis": {
           "colorbar": {
            "outlinewidth": 0,
            "ticks": ""
           }
          },
          "colorscale": {
           "diverging": [
            [
             0,
             "#8e0152"
            ],
            [
             0.1,
             "#c51b7d"
            ],
            [
             0.2,
             "#de77ae"
            ],
            [
             0.3,
             "#f1b6da"
            ],
            [
             0.4,
             "#fde0ef"
            ],
            [
             0.5,
             "#f7f7f7"
            ],
            [
             0.6,
             "#e6f5d0"
            ],
            [
             0.7,
             "#b8e186"
            ],
            [
             0.8,
             "#7fbc41"
            ],
            [
             0.9,
             "#4d9221"
            ],
            [
             1,
             "#276419"
            ]
           ],
           "sequential": [
            [
             0,
             "#0d0887"
            ],
            [
             0.1111111111111111,
             "#46039f"
            ],
            [
             0.2222222222222222,
             "#7201a8"
            ],
            [
             0.3333333333333333,
             "#9c179e"
            ],
            [
             0.4444444444444444,
             "#bd3786"
            ],
            [
             0.5555555555555556,
             "#d8576b"
            ],
            [
             0.6666666666666666,
             "#ed7953"
            ],
            [
             0.7777777777777778,
             "#fb9f3a"
            ],
            [
             0.8888888888888888,
             "#fdca26"
            ],
            [
             1,
             "#f0f921"
            ]
           ],
           "sequentialminus": [
            [
             0,
             "#0d0887"
            ],
            [
             0.1111111111111111,
             "#46039f"
            ],
            [
             0.2222222222222222,
             "#7201a8"
            ],
            [
             0.3333333333333333,
             "#9c179e"
            ],
            [
             0.4444444444444444,
             "#bd3786"
            ],
            [
             0.5555555555555556,
             "#d8576b"
            ],
            [
             0.6666666666666666,
             "#ed7953"
            ],
            [
             0.7777777777777778,
             "#fb9f3a"
            ],
            [
             0.8888888888888888,
             "#fdca26"
            ],
            [
             1,
             "#f0f921"
            ]
           ]
          },
          "colorway": [
           "#636efa",
           "#EF553B",
           "#00cc96",
           "#ab63fa",
           "#FFA15A",
           "#19d3f3",
           "#FF6692",
           "#B6E880",
           "#FF97FF",
           "#FECB52"
          ],
          "font": {
           "color": "#2a3f5f"
          },
          "geo": {
           "bgcolor": "white",
           "lakecolor": "white",
           "landcolor": "#E5ECF6",
           "showlakes": true,
           "showland": true,
           "subunitcolor": "white"
          },
          "hoverlabel": {
           "align": "left"
          },
          "hovermode": "closest",
          "mapbox": {
           "style": "light"
          },
          "paper_bgcolor": "white",
          "plot_bgcolor": "#E5ECF6",
          "polar": {
           "angularaxis": {
            "gridcolor": "white",
            "linecolor": "white",
            "ticks": ""
           },
           "bgcolor": "#E5ECF6",
           "radialaxis": {
            "gridcolor": "white",
            "linecolor": "white",
            "ticks": ""
           }
          },
          "scene": {
           "xaxis": {
            "backgroundcolor": "#E5ECF6",
            "gridcolor": "white",
            "gridwidth": 2,
            "linecolor": "white",
            "showbackground": true,
            "ticks": "",
            "zerolinecolor": "white"
           },
           "yaxis": {
            "backgroundcolor": "#E5ECF6",
            "gridcolor": "white",
            "gridwidth": 2,
            "linecolor": "white",
            "showbackground": true,
            "ticks": "",
            "zerolinecolor": "white"
           },
           "zaxis": {
            "backgroundcolor": "#E5ECF6",
            "gridcolor": "white",
            "gridwidth": 2,
            "linecolor": "white",
            "showbackground": true,
            "ticks": "",
            "zerolinecolor": "white"
           }
          },
          "shapedefaults": {
           "line": {
            "color": "#2a3f5f"
           }
          },
          "ternary": {
           "aaxis": {
            "gridcolor": "white",
            "linecolor": "white",
            "ticks": ""
           },
           "baxis": {
            "gridcolor": "white",
            "linecolor": "white",
            "ticks": ""
           },
           "bgcolor": "#E5ECF6",
           "caxis": {
            "gridcolor": "white",
            "linecolor": "white",
            "ticks": ""
           }
          },
          "title": {
           "x": 0.05
          },
          "xaxis": {
           "automargin": true,
           "gridcolor": "white",
           "linecolor": "white",
           "ticks": "",
           "title": {
            "standoff": 15
           },
           "zerolinecolor": "white",
           "zerolinewidth": 2
          },
          "yaxis": {
           "automargin": true,
           "gridcolor": "white",
           "linecolor": "white",
           "ticks": "",
           "title": {
            "standoff": 15
           },
           "zerolinecolor": "white",
           "zerolinewidth": 2
          }
         }
        },
        "xaxis": {
         "anchor": "y",
         "autorange": true,
         "domain": [
          0,
          1
         ],
         "range": [
          -10721.725629438348,
          2742.7256294383474
         ],
         "showgrid": true,
         "title": {
          "text": "Year"
         },
         "type": "linear"
        },
        "yaxis": {
         "anchor": "x",
         "autorange": true,
         "domain": [
          0,
          1
         ],
         "range": [
          0.3948683284685611,
          4.149895267798575
         ],
         "showgrid": true,
         "title": {
          "text": "Population (million)"
         },
         "type": "log"
        }
       }
      },
      "image/png": "[encoded data removed]",
      "text/html": [
       "<div>                            <div id=\"03a92f1a-dcb4-4f1b-8e3f-416768a50950\" class=\"plotly-graph-div\" style=\"height:525px; width:100%;\"></div>            <script type=\"text/javascript\">                require([\"plotly\"], function(Plotly) {                    window.PLOTLYENV=window.PLOTLYENV || {};                                    if (document.getElementById(\"03a92f1a-dcb4-4f1b-8e3f-416768a50950\")) {                    Plotly.newPlot(                        \"03a92f1a-dcb4-4f1b-8e3f-416768a50950\",                        [{\"hovertemplate\":\"Year=%{x}\\u003cbr\\u003ePopulation (million)=%{y}\\u003cextra\\u003e\\u003c\\u002fextra\\u003e\",\"legendgroup\":\"\",\"marker\":{\"color\":\"#636efa\",\"symbol\":\"circle\"},\"mode\":\"lines+markers\",\"name\":\"\",\"orientation\":\"v\",\"showlegend\":false,\"x\":[-10000,-9000,-8000,-7000,-6000,-5000,-4000,-3000,-2000,-1000,0,100,200,300,400,500,600,700,800,900,1000,1100,1200,1300,1400,1500,1600,1700,1710,1720,1730,1740,1750,1760,1770,1780,1790,1800,1801,1802,1803,1804,1805,1806,1807,1808,1809,1810,1811,1812,1813,1814,1815,1816,1817,1818,1819,1820,1821,1822,1823,1824,1825,1826,1827,1828,1829,1830,1831,1832,1833,1834,1835,1836,1837,1838,1839,1840,1841,1842,1843,1844,1845,1846,1847,1848,1849,1850,1851,1852,1853,1854,1855,1856,1857,1858,1859,1860,1861,1862,1863,1864,1865,1866,1867,1868,1869,1870,1871,1872,1873,1874,1875,1876,1877,1878,1879,1880,1881,1882,1883,1884,1885,1886,1887,1888,1889,1890,1891,1892,1893,1894,1895,1896,1897,1898,1899,1900,1901,1902,1903,1904,1905,1906,1907,1908,1909,1910,1911,1912,1913,1914,1915,1916,1917,1918,1919,1920,1921,1922,1923,1924,1925,1926,1927,1928,1929,1930,1931,1932,1933,1934,1935,1936,1937,1938,1939,1940,1941,1942,1943,1944,1945,1946,1947,1948,1949,1950,1951,1952,1953,1954,1955,1956,1957,1958,1959,1960,1961,1962,1963,1964,1965,1966,1967,1968,1969,1970,1971,1972,1973,1974,1975,1976,1977,1978,1979,1980,1981,1982,1983,1984,1985,1986,1987,1988,1989,1990,1991,1992,1993,1994,1995,1996,1997,1998,1999,2000,2001,2002,2003,2004,2005,2006,2007,2008,2009,2010,2011,2012,2013,2014,2015,2016,2017,2018,2019,2020,2021],\"xaxis\":\"x\",\"y\":[4.432266,5.616996,7.242892,9.577918,13.201832,19.075771,28.774661,44.487162,72.586076,110.419521,232.123764,236.904172,240.611571,227.549847,241.539639,253.237316,271.478693,278.185334,285.71384,310.967715,323.407571,397.923813,444.750686,456.388961,442.480612,503.240399,516.610918,592.706212,613.189457,642.718111,664.743383,695.34669,745.664133,779.891857,818.8279,891.048681,931.577684,985.340629,987.628322,991.098738,994.61026,998.16324,1001.758044,1005.395067,1009.074742,1012.797513,1016.563866,1022.629692,1027.487469,1033.636618,1040.443689,1047.427292,1054.586106,1061.924513,1069.44707,1077.158552,1084.757875,1093.424863,1099.331577,1106.263783,1113.514792,1120.876169,1128.34296,1135.961188,1143.684846,1151.515422,1158.898384,1166.619223,1172.266726,1178.216298,1183.68412,1189.202983,1194.812021,1200.422586,1206.132721,1211.908617,1217.625799,1224.117982,1228.828189,1234.333753,1239.880237,1245.319917,1250.936428,1256.637463,1262.42472,1268.300005,1273.394934,1278.810377,1280.744899,1282.983708,1284.472373,1286.078878,1287.785678,1289.613085,1291.556308,1293.616943,1296.053087,1300.098076,1302.046862,1305.560612,1309.444051,1313.410603,1317.453657,1321.572626,1325.775239,1330.060419,1334.928493,1341.697614,1346.406314,1353.032986,1360.261504,1367.561973,1374.96243,1382.44305,1389.974777,1397.574403,1405.702618,1415.841209,1423.704727,1433.553127,1444.009167,1454.595037,1465.369425,1476.245076,1487.277339,1498.437207,1509.373834,1521.669265,1530.611585,1540.822549,1550.822689,1560.960959,1571.250732,1581.628826,1592.152786,1602.80187,1614.109121,1627.883132,1638.647517,1651.840077,1665.70354,1679.752718,1693.984163,1708.411294,1723.032738,1737.874788,1752.122665,1767.847653,1778.784032,1791.197929,1803.056235,1815.104863,1827.290389,1839.559287,1851.899055,1864.869126,1878.650358,1895.68215,1908.748639,1924.82612,1941.6369,1958.716901,1976.068839,1993.719848,2011.689749,2029.682397,2048.513689,2070.596353,2088.429965,2109.357892,2131.029147,2152.969392,2175.184808,2197.830032,2220.878589,2244.005191,2266.483407,2290.871362,2307.736768,2326.734579,2344.58144,2362.439908,2380.167769,2397.811266,2416.694412,2437.259361,2463.242071,2499.322112,2543.130368,2590.270976,2640.278784,2691.979264,2746.072064,2801.002752,2857.866752,2916.108032,2970.292224,3019.233536,3068.370688,3126.68672,3195.779328,3267.212288,3337.112064,3406.416896,3475.448064,3546.81088,3620.65536,3695.390208,3770.1632,3844.800768,3920.251392,3995.516928,4069.437184,4142.505728,4215.772416,4289.6576,4365.582848,4444.007936,4524.627456,4607.98464,4691.884032,4775.83616,4861.730816,4950.063104,5040.984576,5132.294144,5223.704064,5316.175872,5406.245888,5492.686336,5577.4336,5660.727808,5743.219712,5825.145344,5906.481152,5987.31264,6067.758592,6148.898816,6230.747136,6312.407552,6393.898496,6475.751424,6558.176256,6641.416192,6725.948416,6811.597312,6898.306048,6985.603072,7073.125376,7161.697792,7250.59328,7339.013632,7426.597376,7513.474048,7599.822336,7683.789824,7764.95104,7840.952832,7909.295104],\"yaxis\":\"y\",\"type\":\"scatter\"}],                        {\"template\":{\"data\":{\"histogram2dcontour\":[{\"type\":\"histogram2dcontour\",\"colorbar\":{\"outlinewidth\":0,\"ticks\":\"\"},\"colorscale\":[[0.0,\"#0d0887\"],[0.1111111111111111,\"#46039f\"],[0.2222222222222222,\"#7201a8\"],[0.3333333333333333,\"#9c179e\"],[0.4444444444444444,\"#bd3786\"],[0.5555555555555556,\"#d8576b\"],[0.6666666666666666,\"#ed7953\"],[0.7777777777777778,\"#fb9f3a\"],[0.8888888888888888,\"#fdca26\"],[1.0,\"#f0f921\"]]}],\"choropleth\":[{\"type\":\"choropleth\",\"colorbar\":{\"outlinewidth\":0,\"ticks\":\"\"}}],\"histogram2d\":[{\"type\":\"histogram2d\",\"colorbar\":{\"outlinewidth\":0,\"ticks\":\"\"},\"colorscale\":[[0.0,\"#0d0887\"],[0.1111111111111111,\"#46039f\"],[0.2222222222222222,\"#7201a8\"],[0.3333333333333333,\"#9c179e\"],[0.4444444444444444,\"#bd3786\"],[0.5555555555555556,\"#d8576b\"],[0.6666666666666666,\"#ed7953\"],[0.7777777777777778,\"#fb9f3a\"],[0.8888888888888888,\"#fdca26\"],[1.0,\"#f0f921\"]]}],\"heatmap\":[{\"type\":\"heatmap\",\"colorbar\":{\"outlinewidth\":0,\"ticks\":\"\"},\"colorscale\":[[0.0,\"#0d0887\"],[0.1111111111111111,\"#46039f\"],[0.2222222222222222,\"#7201a8\"],[0.3333333333333333,\"#9c179e\"],[0.4444444444444444,\"#bd3786\"],[0.5555555555555556,\"#d8576b\"],[0.6666666666666666,\"#ed7953\"],[0.7777777777777778,\"#fb9f3a\"],[0.8888888888888888,\"#fdca26\"],[1.0,\"#f0f921\"]]}],\"heatmapgl\":[{\"type\":\"heatmapgl\",\"colorbar\":{\"outlinewidth\":0,\"ticks\":\"\"},\"colorscale\":[[0.0,\"#0d0887\"],[0.1111111111111111,\"#46039f\"],[0.2222222222222222,\"#7201a8\"],[0.3333333333333333,\"#9c179e\"],[0.4444444444444444,\"#bd3786\"],[0.5555555555555556,\"#d8576b\"],[0.6666666666666666,\"#ed7953\"],[0.7777777777777778,\"#fb9f3a\"],[0.8888888888888888,\"#fdca26\"],[1.0,\"#f0f921\"]]}],\"contourcarpet\":[{\"type\":\"contourcarpet\",\"colorbar\":{\"outlinewidth\":0,\"ticks\":\"\"}}],\"contour\":[{\"type\":\"contour\",\"colorbar\":{\"outlinewidth\":0,\"ticks\":\"\"},\"colorscale\":[[0.0,\"#0d0887\"],[0.1111111111111111,\"#46039f\"],[0.2222222222222222,\"#7201a8\"],[0.3333333333333333,\"#9c179e\"],[0.4444444444444444,\"#bd3786\"],[0.5555555555555556,\"#d8576b\"],[0.6666666666666666,\"#ed7953\"],[0.7777777777777778,\"#fb9f3a\"],[0.8888888888888888,\"#fdca26\"],[1.0,\"#f0f921\"]]}],\"surface\":[{\"type\":\"surface\",\"colorbar\":{\"outlinewidth\":0,\"ticks\":\"\"},\"colorscale\":[[0.0,\"#0d0887\"],[0.1111111111111111,\"#46039f\"],[0.2222222222222222,\"#7201a8\"],[0.3333333333333333,\"#9c179e\"],[0.4444444444444444,\"#bd3786\"],[0.5555555555555556,\"#d8576b\"],[0.6666666666666666,\"#ed7953\"],[0.7777777777777778,\"#fb9f3a\"],[0.8888888888888888,\"#fdca26\"],[1.0,\"#f0f921\"]]}],\"mesh3d\":[{\"type\":\"mesh3d\",\"colorbar\":{\"outlinewidth\":0,\"ticks\":\"\"}}],\"scatter\":[{\"fillpattern\":{\"fillmode\":\"overlay\",\"size\":10,\"solidity\":0.2},\"type\":\"scatter\"}],\"parcoords\":[{\"type\":\"parcoords\",\"line\":{\"colorbar\":{\"outlinewidth\":0,\"ticks\":\"\"}}}],\"scatterpolargl\":[{\"type\":\"scatterpolargl\",\"marker\":{\"colorbar\":{\"outlinewidth\":0,\"ticks\":\"\"}}}],\"bar\":[{\"error_x\":{\"color\":\"#2a3f5f\"},\"error_y\":{\"color\":\"#2a3f5f\"},\"marker\":{\"line\":{\"color\":\"#E5ECF6\",\"width\":0.5},\"pattern\":{\"fillmode\":\"overlay\",\"size\":10,\"solidity\":0.2}},\"type\":\"bar\"}],\"scattergeo\":[{\"type\":\"scattergeo\",\"marker\":{\"colorbar\":{\"outlinewidth\":0,\"ticks\":\"\"}}}],\"scatterpolar\":[{\"type\":\"scatterpolar\",\"marker\":{\"colorbar\":{\"outlinewidth\":0,\"ticks\":\"\"}}}],\"histogram\":[{\"marker\":{\"pattern\":{\"fillmode\":\"overlay\",\"size\":10,\"solidity\":0.2}},\"type\":\"histogram\"}],\"scattergl\":[{\"type\":\"scattergl\",\"marker\":{\"colorbar\":{\"outlinewidth\":0,\"ticks\":\"\"}}}],\"scatter3d\":[{\"type\":\"scatter3d\",\"line\":{\"colorbar\":{\"outlinewidth\":0,\"ticks\":\"\"}},\"marker\":{\"colorbar\":{\"outlinewidth\":0,\"ticks\":\"\"}}}],\"scattermapbox\":[{\"type\":\"scattermapbox\",\"marker\":{\"colorbar\":{\"outlinewidth\":0,\"ticks\":\"\"}}}],\"scatterternary\":[{\"type\":\"scatterternary\",\"marker\":{\"colorbar\":{\"outlinewidth\":0,\"ticks\":\"\"}}}],\"scattercarpet\":[{\"type\":\"scattercarpet\",\"marker\":{\"colorbar\":{\"outlinewidth\":0,\"ticks\":\"\"}}}],\"carpet\":[{\"aaxis\":{\"endlinecolor\":\"#2a3f5f\",\"gridcolor\":\"white\",\"linecolor\":\"white\",\"minorgridcolor\":\"white\",\"startlinecolor\":\"#2a3f5f\"},\"baxis\":{\"endlinecolor\":\"#2a3f5f\",\"gridcolor\":\"white\",\"linecolor\":\"white\",\"minorgridcolor\":\"white\",\"startlinecolor\":\"#2a3f5f\"},\"type\":\"carpet\"}],\"table\":[{\"cells\":{\"fill\":{\"color\":\"#EBF0F8\"},\"line\":{\"color\":\"white\"}},\"header\":{\"fill\":{\"color\":\"#C8D4E3\"},\"line\":{\"color\":\"white\"}},\"type\":\"table\"}],\"barpolar\":[{\"marker\":{\"line\":{\"color\":\"#E5ECF6\",\"width\":0.5},\"pattern\":{\"fillmode\":\"overlay\",\"size\":10,\"solidity\":0.2}},\"type\":\"barpolar\"}],\"pie\":[{\"automargin\":true,\"type\":\"pie\"}]},\"layout\":{\"autotypenumbers\":\"strict\",\"colorway\":[\"#636efa\",\"#EF553B\",\"#00cc96\",\"#ab63fa\",\"#FFA15A\",\"#19d3f3\",\"#FF6692\",\"#B6E880\",\"#FF97FF\",\"#FECB52\"],\"font\":{\"color\":\"#2a3f5f\"},\"hovermode\":\"closest\",\"hoverlabel\":{\"align\":\"left\"},\"paper_bgcolor\":\"white\",\"plot_bgcolor\":\"#E5ECF6\",\"polar\":{\"bgcolor\":\"#E5ECF6\",\"angularaxis\":{\"gridcolor\":\"white\",\"linecolor\":\"white\",\"ticks\":\"\"},\"radialaxis\":{\"gridcolor\":\"white\",\"linecolor\":\"white\",\"ticks\":\"\"}},\"ternary\":{\"bgcolor\":\"#E5ECF6\",\"aaxis\":{\"gridcolor\":\"white\",\"linecolor\":\"white\",\"ticks\":\"\"},\"baxis\":{\"gridcolor\":\"white\",\"linecolor\":\"white\",\"ticks\":\"\"},\"caxis\":{\"gridcolor\":\"white\",\"linecolor\":\"white\",\"ticks\":\"\"}},\"coloraxis\":{\"colorbar\":{\"outlinewidth\":0,\"ticks\":\"\"}},\"colorscale\":{\"sequential\":[[0.0,\"#0d0887\"],[0.1111111111111111,\"#46039f\"],[0.2222222222222222,\"#7201a8\"],[0.3333333333333333,\"#9c179e\"],[0.4444444444444444,\"#bd3786\"],[0.5555555555555556,\"#d8576b\"],[0.6666666666666666,\"#ed7953\"],[0.7777777777777778,\"#fb9f3a\"],[0.8888888888888888,\"#fdca26\"],[1.0,\"#f0f921\"]],\"sequentialminus\":[[0.0,\"#0d0887\"],[0.1111111111111111,\"#46039f\"],[0.2222222222222222,\"#7201a8\"],[0.3333333333333333,\"#9c179e\"],[0.4444444444444444,\"#bd3786\"],[0.5555555555555556,\"#d8576b\"],[0.6666666666666666,\"#ed7953\"],[0.7777777777777778,\"#fb9f3a\"],[0.8888888888888888,\"#fdca26\"],[1.0,\"#f0f921\"]],\"diverging\":[[0,\"#8e0152\"],[0.1,\"#c51b7d\"],[0.2,\"#de77ae\"],[0.3,\"#f1b6da\"],[0.4,\"#fde0ef\"],[0.5,\"#f7f7f7\"],[0.6,\"#e6f5d0\"],[0.7,\"#b8e186\"],[0.8,\"#7fbc41\"],[0.9,\"#4d9221\"],[1,\"#276419\"]]},\"xaxis\":{\"gridcolor\":\"white\",\"linecolor\":\"white\",\"ticks\":\"\",\"title\":{\"standoff\":15},\"zerolinecolor\":\"white\",\"automargin\":true,\"zerolinewidth\":2},\"yaxis\":{\"gridcolor\":\"white\",\"linecolor\":\"white\",\"ticks\":\"\",\"title\":{\"standoff\":15},\"zerolinecolor\":\"white\",\"automargin\":true,\"zerolinewidth\":2},\"scene\":{\"xaxis\":{\"backgroundcolor\":\"#E5ECF6\",\"gridcolor\":\"white\",\"linecolor\":\"white\",\"showbackground\":true,\"ticks\":\"\",\"zerolinecolor\":\"white\",\"gridwidth\":2},\"yaxis\":{\"backgroundcolor\":\"#E5ECF6\",\"gridcolor\":\"white\",\"linecolor\":\"white\",\"showbackground\":true,\"ticks\":\"\",\"zerolinecolor\":\"white\",\"gridwidth\":2},\"zaxis\":{\"backgroundcolor\":\"#E5ECF6\",\"gridcolor\":\"white\",\"linecolor\":\"white\",\"showbackground\":true,\"ticks\":\"\",\"zerolinecolor\":\"white\",\"gridwidth\":2}},\"shapedefaults\":{\"line\":{\"color\":\"#2a3f5f\"}},\"annotationdefaults\":{\"arrowcolor\":\"#2a3f5f\",\"arrowhead\":0,\"arrowwidth\":1},\"geo\":{\"bgcolor\":\"white\",\"landcolor\":\"#E5ECF6\",\"subunitcolor\":\"white\",\"showland\":true,\"showlakes\":true,\"lakecolor\":\"white\"},\"title\":{\"x\":0.05},\"mapbox\":{\"style\":\"light\"}}},\"xaxis\":{\"anchor\":\"y\",\"domain\":[0.0,1.0],\"title\":{\"text\":\"Year\"},\"showgrid\":true},\"yaxis\":{\"anchor\":\"x\",\"domain\":[0.0,1.0],\"title\":{\"text\":\"Population (million)\"},\"showgrid\":true,\"type\":\"log\"},\"legend\":{\"tracegroupgap\":0},\"margin\":{\"t\":60}},                        {\"responsive\": true}                    ).then(function(){\n",
       "                            \n",
       "var gd = document.getElementById('03a92f1a-dcb4-4f1b-8e3f-416768a50950');\n",
       "var x = new MutationObserver(function (mutations, observer) {{\n",
       "        var display = window.getComputedStyle(gd).display;\n",
       "        if (!display || display === 'none') {{\n",
       "            console.log([gd, 'removed!']);\n",
       "            Plotly.purge(gd);\n",
       "            observer.disconnect();\n",
       "        }}\n",
       "}});\n",
       "\n",
       "// Listen for the removal of the full notebook cells\n",
       "var notebookContainer = gd.closest('#notebook-container');\n",
       "if (notebookContainer) {{\n",
       "    x.observe(notebookContainer, {childList: true});\n",
       "}}\n",
       "\n",
       "// Listen for the clearing of the current output cell\n",
       "var outputEl = gd.closest('.output');\n",
       "if (outputEl) {{\n",
       "    x.observe(outputEl, {childList: true});\n",
       "}}\n",
       "\n",
       "                        })                };                });            </script>        </div>"
      ]
     },
     "metadata": {},
     "output_type": "display_data"
    }
   ],
   "source": [
    "fig.update_layout(yaxis_type='log')"
   ]
  },
  {
   "cell_type": "code",
   "execution_count": 102,
   "id": "eb6b298d-9bf6-40ba-9261-806dae6e19ae",
   "metadata": {},
   "outputs": [],
   "source": [
    "def make_sparkline(xs, ys):\n",
    "    fig, ax = plt.subplots(1, 1, figsize=(10,2))\n",
    "    ax.plot(xs, ys, linewidth=15)\n",
    "    plt.axis('off')\n",
    "    plt.tight_layout();\n",
    "    plt.close();\n",
    "    return fig\n",
    "\n",
    "population_figure = make_sparkline(years_full, populations_full)\n",
    "population_semilogy_figure = make_sparkline(years_full, np.log(populations_full))"
   ]
  },
  {
   "cell_type": "markdown",
   "id": "4c487c23-2272-4b9f-9724-e4b93de6d2a3",
   "metadata": {
    "user_expressions": [
     {
      "expression": "population_figure",
      "result": {
       "data": {
        "image/png": "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",
        "text/plain": "<Figure size 1000x200 with 1 Axes>"
       },
       "metadata": {},
       "status": "ok"
      }
     },
     {
      "expression": "population_semilogy_figure",
      "result": {
       "data": {
        "image/png": "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",
        "text/plain": "<Figure size 1000x200 with 1 Axes>"
       },
       "metadata": {},
       "status": "ok"
      }
     }
    ]
   },
   "source": [
    "The population graph {eval}`population_figure` is showing that characteristic hockey-stick shape again. Is it exponential? The semilog plot {eval}`population_semilogy_figure` looks closer to what we expected, moving up roughly linearly, but then it still turns sharply upwards."
   ]
  },
  {
   "cell_type": "code",
   "execution_count": 108,
   "id": "edaf6225-2adf-465f-b90d-660e7247e48d",
   "metadata": {},
   "outputs": [],
   "source": [
    "df = pd.read_csv('world_population.csv')\n",
    "\n",
    "filtered_df = df[(df['Entity'] == 'World')]\n",
    "years_full = filtered_df['Year']\n",
    "populations_full = filtered_df['Population (historical estimates)']/(10**6)"
   ]
  },
  {
   "cell_type": "code",
   "execution_count": 109,
   "id": "0194b641-afaf-4727-b0eb-5f5a237fcc72",
   "metadata": {},
   "outputs": [],
   "source": [
    "def growth_rate(year, population):\n",
    "    logpop = np.log(np.array(population))\n",
    "    year = np.array(year)\n",
    "    loggrowth = (logpop[1:] - logpop[:-1]) / (year[1:] - year[:-1])\n",
    "    return (year[:-1] + year[1:])/2, 100 * (np.exp(loggrowth) - 1)"
   ]
  },
  {
   "cell_type": "code",
   "execution_count": 110,
   "id": "e939f252-185b-4416-b4e3-df4df2886905",
   "metadata": {},
   "outputs": [
    {
     "data": {
      "application/vnd.plotly.v1+json": {
       "config": {
        "plotlyServerURL": "https://plot.ly"
       },
       "data": [
        {
         "mode": "lines+markers",
         "name": "Growth Rate (%)",
         "type": "scatter",
         "x": [
          -9500,
          -8500,
          -7500,
          -6500,
          -5500,
          -4500,
          -3500,
          -2500,
          -1500,
          -500,
          50,
          150,
          250,
          350,
          450,
          550,
          650,
          750,
          850,
          950,
          1050,
          1150,
          1250,
          1350,
          1450,
          1550,
          1650,
          1705,
          1715,
          1725,
          1735,
          1745,
          1755,
          1765,
          1775,
          1785,
          1795,
          1800.5,
          1801.5,
          1802.5,
          1803.5,
          1804.5,
          1805.5,
          1806.5,
          1807.5,
          1808.5,
          1809.5,
          1810.5,
          1811.5,
          1812.5,
          1813.5,
          1814.5,
          1815.5,
          1816.5,
          1817.5,
          1818.5,
          1819.5,
          1820.5,
          1821.5,
          1822.5,
          1823.5,
          1824.5,
          1825.5,
          1826.5,
          1827.5,
          1828.5,
          1829.5,
          1830.5,
          1831.5,
          1832.5,
          1833.5,
          1834.5,
          1835.5,
          1836.5,
          1837.5,
          1838.5,
          1839.5,
          1840.5,
          1841.5,
          1842.5,
          1843.5,
          1844.5,
          1845.5,
          1846.5,
          1847.5,
          1848.5,
          1849.5,
          1850.5,
          1851.5,
          1852.5,
          1853.5,
          1854.5,
          1855.5,
          1856.5,
          1857.5,
          1858.5,
          1859.5,
          1860.5,
          1861.5,
          1862.5,
          1863.5,
          1864.5,
          1865.5,
          1866.5,
          1867.5,
          1868.5,
          1869.5,
          1870.5,
          1871.5,
          1872.5,
          1873.5,
          1874.5,
          1875.5,
          1876.5,
          1877.5,
          1878.5,
          1879.5,
          1880.5,
          1881.5,
          1882.5,
          1883.5,
          1884.5,
          1885.5,
          1886.5,
          1887.5,
          1888.5,
          1889.5,
          1890.5,
          1891.5,
          1892.5,
          1893.5,
          1894.5,
          1895.5,
          1896.5,
          1897.5,
          1898.5,
          1899.5,
          1900.5,
          1901.5,
          1902.5,
          1903.5,
          1904.5,
          1905.5,
          1906.5,
          1907.5,
          1908.5,
          1909.5,
          1910.5,
          1911.5,
          1912.5,
          1913.5,
          1914.5,
          1915.5,
          1916.5,
          1917.5,
          1918.5,
          1919.5,
          1920.5,
          1921.5,
          1922.5,
          1923.5,
          1924.5,
          1925.5,
          1926.5,
          1927.5,
          1928.5,
          1929.5,
          1930.5,
          1931.5,
          1932.5,
          1933.5,
          1934.5,
          1935.5,
          1936.5,
          1937.5,
          1938.5,
          1939.5,
          1940.5,
          1941.5,
          1942.5,
          1943.5,
          1944.5,
          1945.5,
          1946.5,
          1947.5,
          1948.5,
          1949.5,
          1950.5,
          1951.5,
          1952.5,
          1953.5,
          1954.5,
          1955.5,
          1956.5,
          1957.5,
          1958.5,
          1959.5,
          1960.5,
          1961.5,
          1962.5,
          1963.5,
          1964.5,
          1965.5,
          1966.5,
          1967.5,
          1968.5,
          1969.5,
          1970.5,
          1971.5,
          1972.5,
          1973.5,
          1974.5,
          1975.5,
          1976.5,
          1977.5,
          1978.5,
          1979.5,
          1980.5,
          1981.5,
          1982.5,
          1983.5,
          1984.5,
          1985.5,
          1986.5,
          1987.5,
          1988.5,
          1989.5,
          1990.5,
          1991.5,
          1992.5,
          1993.5,
          1994.5,
          1995.5,
          1996.5,
          1997.5,
          1998.5,
          1999.5,
          2000.5,
          2001.5,
          2002.5,
          2003.5,
          2004.5,
          2005.5,
          2006.5,
          2007.5,
          2008.5,
          2009.5,
          2010.5,
          2011.5,
          2012.5,
          2013.5,
          2014.5,
          2015.5,
          2016.5,
          2017.5,
          2018.5,
          2019.5,
          2020.5
         ],
         "y": [
          0.023691409544412956,
          0.02542558902784986,
          0.02794787133446608,
          0.03209468596696574,
          0.03681311315495428,
          0.041116068111857196,
          0.04358004131086446,
          0.048969231979123506,
          0.04196018342927932,
          0.0743259836878396,
          0.020387104762309427,
          0.015529378520762194,
          -0.05579899913576991,
          0.05968207685542737,
          0.04730464582884952,
          0.06958079670791317,
          0.024406881151972648,
          0.026706755474381616,
          0.08473422519370555,
          0.039231954723928375,
          0.20756231779930356,
          0.11131521609488715,
          0.025834898229692982,
          -0.030943993138565773,
          0.12875415462838546,
          0.026225466707852085,
          0.13750328400585765,
          0.34032884651531425,
          0.47143053455278583,
          0.3375167535971002,
          0.45110924570681554,
          0.7010934254391366,
          0.44980851746296846,
          0.4883753062302487,
          0.8488336841488309,
          0.44579593570395204,
          0.5626551354106946,
          0.23217280731859802,
          0.3513888699518519,
          0.3543059702695306,
          0.35722334092953556,
          0.3601418942255963,
          0.36306401748247286,
          0.36599294354799916,
          0.3689291630292191,
          0.37187620937613186,
          0.5966989584105686,
          0.4750279634946786,
          0.5984646222483958,
          0.6585555195568249,
          0.6712139324629884,
          0.6834664376875965,
          0.6958565979817699,
          0.7083890528855274,
          0.7210718712802544,
          0.7054971606445193,
          0.7989790348376324,
          0.540203007986606,
          0.6305837242406298,
          0.6554502742860402,
          0.661093777369337,
          0.6661566376829908,
          0.6751695424234816,
          0.6799227017253662,
          0.684679527527754,
          0.6411518125547744,
          0.6662222595695155,
          0.4840913717740092,
          0.5075271581153729,
          0.4640762489266148,
          0.46624457545310083,
          0.47166363355817253,
          0.4695772139373,
          0.47567707127431635,
          0.47887731585722904,
          0.4717502557372244,
          0.5331837585350829,
          0.38478374382706626,
          0.448033667300507,
          0.4493504278336724,
          0.4387262444929263,
          0.4510094894756067,
          0.455741384805175,
          0.46053513208046404,
          0.46539685946580533,
          0.40171323660920244,
          0.42527599689667905,
          0.15127512528780862,
          0.1748052248147225,
          0.11603148120409301,
          0.12507119917639642,
          0.13271347731436123,
          0.14190303799914705,
          0.1506826367228653,
          0.15954666376030158,
          0.18832035350051513,
          0.31210056444233025,
          0.14989530682150143,
          0.269863558873884,
          0.2974537500829655,
          0.3029187842712,
          0.3078286402413033,
          0.3126462155320642,
          0.3180009117411009,
          0.3232206994024267,
          0.3660039747412247,
          0.5070774229103181,
          0.350950911059722,
          0.4921747566909218,
          0.5342455117350431,
          0.5366959940079186,
          0.541142350117152,
          0.5440599566054471,
          0.5448128224884607,
          0.5467456047225872,
          0.5815944383749105,
          0.7212472161733263,
          0.5553954744369483,
          0.6917445600362004,
          0.7293793165433993,
          0.7330888364090793,
          0.7407139255899864,
          0.742178102972213,
          0.7473192073156554,
          0.7503555461622291,
          0.7298688893274674,
          0.8146047535100287,
          0.5876651520591691,
          0.6671166022828023,
          0.6490130876193989,
          0.6537349544800009,
          0.659194769777649,
          0.6604989126586469,
          0.6653874680961458,
          0.6688481214641051,
          0.7054677943444387,
          0.8533506700876936,
          0.6612504785140638,
          0.805088334320514,
          0.8392739220359546,
          0.8434380826253918,
          0.8472345272907411,
          0.8516685878839692,
          0.8558503477091195,
          0.8613910619728715,
          0.8198448529423308,
          0.8974821406125599,
          0.6186267793744094,
          0.697886689821603,
          0.6620321410610641,
          0.6682336227854524,
          0.6713400557949445,
          0.6714257391083667,
          0.6708002339040897,
          0.7003659818812347,
          0.7389919114356491,
          0.9065972243036624,
          0.689276364183744,
          0.8423047787173843,
          0.8733661615107247,
          0.879670189622006,
          0.8858828956415765,
          0.8932385679909727,
          0.901325279879539,
          0.8944047166788316,
          0.9277950100879506,
          1.0779846929302561,
          0.8612790210975385,
          1.0020890022998108,
          1.0273863473899914,
          1.0295610001808786,
          1.0318500617123583,
          1.041071265150162,
          1.0486960622257735,
          1.041326712524815,
          1.0017007130888933,
          1.076026187735546,
          0.736200481605187,
          0.8232226163499501,
          0.767034674306144,
          0.7616910931445453,
          0.750404737913879,
          0.7412711502858604,
          0.7875159428831768,
          0.8509536372445892,
          1.066062578967375,
          1.4647379331806043,
          1.752805522331946,
          1.8536449642207575,
          1.9306014105606728,
          1.9581447350674575,
          2.009406265619762,
          2.000336725322005,
          2.030130101064609,
          2.037928463922989,
          1.8580996110366677,
          1.647693503169534,
          1.6274710589329944,
          1.9005536791257382,
          2.209770731363947,
          2.235228176555726,
          2.1394317184937783,
          2.0767906702218397,
          2.026503804659474,
          2.05334145945677,
          2.081996545584097,
          2.0641248771050336,
          2.023412624683818,
          1.9796906404475179,
          1.9624065992696949,
          1.9199160582810348,
          1.8500799103610799,
          1.7955442164652613,
          1.768656287057846,
          1.752589483236422,
          1.769960567482043,
          1.7964402630895382,
          1.8141173724492088,
          1.842299389521318,
          1.820739402464655,
          1.7893052647384389,
          1.7985260197871167,
          1.816889732136051,
          1.8367739984270548,
          1.8113439274288101,
          1.781073286823709,
          1.7702344326371078,
          1.694263285652453,
          1.5988996762404506,
          1.5429110423537784,
          1.4934146055992858,
          1.4572667472797063,
          1.4264756723274097,
          1.3962880442765835,
          1.3685218985694858,
          1.3436070042935677,
          1.3372355338425512,
          1.3311053320152144,
          1.310603916634312,
          1.2909645539946002,
          1.2801724652215407,
          1.2728226672586773,
          1.2692543285009794,
          1.2728041965178738,
          1.2734099446295888,
          1.2729574581170189,
          1.2654849377885968,
          1.2528954636831457,
          1.2522387387694067,
          1.241262764526363,
          1.2194912689958537,
          1.1933993911403595,
          1.1698045228728526,
          1.1492458408502326,
          1.1048611965867705,
          1.0562654348834188,
          0.9787800542267799,
          0.8716067226050228
         ]
        },
        {
         "hovertext": "Three Kingdoms",
         "marker": {
          "size": 0
         },
         "mode": "text",
         "showlegend": false,
         "type": "scatter",
         "x": [
          250
         ],
         "y": [
          1.117614088277863
         ]
        },
        {
         "hovertext": "Black Death, Mongols",
         "marker": {
          "size": 0
         },
         "mode": "text",
         "showlegend": false,
         "type": "scatter",
         "x": [
          1287.5
         ],
         "y": [
          1.117614088277863
         ]
        },
        {
         "hovertext": "Ming to Qing",
         "marker": {
          "size": 0
         },
         "mode": "text",
         "showlegend": false,
         "type": "scatter",
         "x": [
          1650.5
         ],
         "y": [
          1.117614088277863
         ]
        },
        {
         "hovertext": "Taping Rebellion",
         "marker": {
          "size": 0
         },
         "mode": "text",
         "showlegend": false,
         "type": "scatter",
         "x": [
          1857
         ],
         "y": [
          1.117614088277863
         ]
        },
        {
         "hovertext": "WWI",
         "marker": {
          "size": 0
         },
         "mode": "text",
         "showlegend": false,
         "type": "scatter",
         "x": [
          1916
         ],
         "y": [
          1.117614088277863
         ]
        },
        {
         "hovertext": "WWII",
         "marker": {
          "size": 0
         },
         "mode": "text",
         "showlegend": false,
         "type": "scatter",
         "x": [
          1942
         ],
         "y": [
          1.117614088277863
         ]
        },
        {
         "hovertext": "Great Leap Forward",
         "marker": {
          "size": 0
         },
         "mode": "text",
         "showlegend": false,
         "type": "scatter",
         "x": [
          1960
         ],
         "y": [
          1.117614088277863
         ]
        }
       ],
       "layout": {
        "autosize": true,
        "hovermode": "x",
        "shapes": [
         {
          "fillcolor": "rgba(255, 0, 0, 0.2)",
          "line": {
           "color": "rgba(255, 0, 0, 0)"
          },
          "name": "Three Kingdoms",
          "type": "rect",
          "x0": 220,
          "x1": 280,
          "y0": -0.05579899913576991,
          "y1": 2.235228176555726
         },
         {
          "fillcolor": "rgba(255, 0, 0, 0.2)",
          "line": {
           "color": "rgba(255, 0, 0, 0)"
          },
          "name": "Black Death, Mongols",
          "type": "rect",
          "x0": 1207,
          "x1": 1368,
          "y0": -0.05579899913576991,
          "y1": 2.235228176555726
         },
         {
          "fillcolor": "rgba(255, 0, 0, 0.2)",
          "line": {
           "color": "rgba(255, 0, 0, 0)"
          },
          "name": "Ming to Qing",
          "type": "rect",
          "x0": 1618,
          "x1": 1683,
          "y0": -0.05579899913576991,
          "y1": 2.235228176555726
         },
         {
          "fillcolor": "rgba(255, 0, 0, 0.2)",
          "line": {
           "color": "rgba(255, 0, 0, 0)"
          },
          "name": "Taping Rebellion",
          "type": "rect",
          "x0": 1850,
          "x1": 1864,
          "y0": -0.05579899913576991,
          "y1": 2.235228176555726
         },
         {
          "fillcolor": "rgba(255, 0, 0, 0.2)",
          "line": {
           "color": "rgba(255, 0, 0, 0)"
          },
          "name": "WWI",
          "type": "rect",
          "x0": 1914,
          "x1": 1918,
          "y0": -0.05579899913576991,
          "y1": 2.235228176555726
         },
         {
          "fillcolor": "rgba(255, 0, 0, 0.2)",
          "line": {
           "color": "rgba(255, 0, 0, 0)"
          },
          "name": "WWII",
          "type": "rect",
          "x0": 1939,
          "x1": 1945,
          "y0": -0.05579899913576991,
          "y1": 2.235228176555726
         },
         {
          "fillcolor": "rgba(255, 0, 0, 0.2)",
          "line": {
           "color": "rgba(255, 0, 0, 0)"
          },
          "name": "Great Leap Forward",
          "type": "rect",
          "x0": 1959,
          "x1": 1961,
          "y0": -0.05579899913576991,
          "y1": 2.235228176555726
         }
        ],
        "showlegend": false,
        "template": {
         "data": {
          "bar": [
           {
            "error_x": {
             "color": "#2a3f5f"
            },
            "error_y": {
             "color": "#2a3f5f"
            },
            "marker": {
             "line": {
              "color": "#E5ECF6",
              "width": 0.5
             },
             "pattern": {
              "fillmode": "overlay",
              "size": 10,
              "solidity": 0.2
             }
            },
            "type": "bar"
           }
          ],
          "barpolar": [
           {
            "marker": {
             "line": {
              "color": "#E5ECF6",
              "width": 0.5
             },
             "pattern": {
              "fillmode": "overlay",
              "size": 10,
              "solidity": 0.2
             }
            },
            "type": "barpolar"
           }
          ],
          "carpet": [
           {
            "aaxis": {
             "endlinecolor": "#2a3f5f",
             "gridcolor": "white",
             "linecolor": "white",
             "minorgridcolor": "white",
             "startlinecolor": "#2a3f5f"
            },
            "baxis": {
             "endlinecolor": "#2a3f5f",
             "gridcolor": "white",
             "linecolor": "white",
             "minorgridcolor": "white",
             "startlinecolor": "#2a3f5f"
            },
            "type": "carpet"
           }
          ],
          "choropleth": [
           {
            "colorbar": {
             "outlinewidth": 0,
             "ticks": ""
            },
            "type": "choropleth"
           }
          ],
          "contour": [
           {
            "colorbar": {
             "outlinewidth": 0,
             "ticks": ""
            },
            "colorscale": [
             [
              0,
              "#0d0887"
             ],
             [
              0.1111111111111111,
              "#46039f"
             ],
             [
              0.2222222222222222,
              "#7201a8"
             ],
             [
              0.3333333333333333,
              "#9c179e"
             ],
             [
              0.4444444444444444,
              "#bd3786"
             ],
             [
              0.5555555555555556,
              "#d8576b"
             ],
             [
              0.6666666666666666,
              "#ed7953"
             ],
             [
              0.7777777777777778,
              "#fb9f3a"
             ],
             [
              0.8888888888888888,
              "#fdca26"
             ],
             [
              1,
              "#f0f921"
             ]
            ],
            "type": "contour"
           }
          ],
          "contourcarpet": [
           {
            "colorbar": {
             "outlinewidth": 0,
             "ticks": ""
            },
            "type": "contourcarpet"
           }
          ],
          "heatmap": [
           {
            "colorbar": {
             "outlinewidth": 0,
             "ticks": ""
            },
            "colorscale": [
             [
              0,
              "#0d0887"
             ],
             [
              0.1111111111111111,
              "#46039f"
             ],
             [
              0.2222222222222222,
              "#7201a8"
             ],
             [
              0.3333333333333333,
              "#9c179e"
             ],
             [
              0.4444444444444444,
              "#bd3786"
             ],
             [
              0.5555555555555556,
              "#d8576b"
             ],
             [
              0.6666666666666666,
              "#ed7953"
             ],
             [
              0.7777777777777778,
              "#fb9f3a"
             ],
             [
              0.8888888888888888,
              "#fdca26"
             ],
             [
              1,
              "#f0f921"
             ]
            ],
            "type": "heatmap"
           }
          ],
          "heatmapgl": [
           {
            "colorbar": {
             "outlinewidth": 0,
             "ticks": ""
            },
            "colorscale": [
             [
              0,
              "#0d0887"
             ],
             [
              0.1111111111111111,
              "#46039f"
             ],
             [
              0.2222222222222222,
              "#7201a8"
             ],
             [
              0.3333333333333333,
              "#9c179e"
             ],
             [
              0.4444444444444444,
              "#bd3786"
             ],
             [
              0.5555555555555556,
              "#d8576b"
             ],
             [
              0.6666666666666666,
              "#ed7953"
             ],
             [
              0.7777777777777778,
              "#fb9f3a"
             ],
             [
              0.8888888888888888,
              "#fdca26"
             ],
             [
              1,
              "#f0f921"
             ]
            ],
            "type": "heatmapgl"
           }
          ],
          "histogram": [
           {
            "marker": {
             "pattern": {
              "fillmode": "overlay",
              "size": 10,
              "solidity": 0.2
             }
            },
            "type": "histogram"
           }
          ],
          "histogram2d": [
           {
            "colorbar": {
             "outlinewidth": 0,
             "ticks": ""
            },
            "colorscale": [
             [
              0,
              "#0d0887"
             ],
             [
              0.1111111111111111,
              "#46039f"
             ],
             [
              0.2222222222222222,
              "#7201a8"
             ],
             [
              0.3333333333333333,
              "#9c179e"
             ],
             [
              0.4444444444444444,
              "#bd3786"
             ],
             [
              0.5555555555555556,
              "#d8576b"
             ],
             [
              0.6666666666666666,
              "#ed7953"
             ],
             [
              0.7777777777777778,
              "#fb9f3a"
             ],
             [
              0.8888888888888888,
              "#fdca26"
             ],
             [
              1,
              "#f0f921"
             ]
            ],
            "type": "histogram2d"
           }
          ],
          "histogram2dcontour": [
           {
            "colorbar": {
             "outlinewidth": 0,
             "ticks": ""
            },
            "colorscale": [
             [
              0,
              "#0d0887"
             ],
             [
              0.1111111111111111,
              "#46039f"
             ],
             [
              0.2222222222222222,
              "#7201a8"
             ],
             [
              0.3333333333333333,
              "#9c179e"
             ],
             [
              0.4444444444444444,
              "#bd3786"
             ],
             [
              0.5555555555555556,
              "#d8576b"
             ],
             [
              0.6666666666666666,
              "#ed7953"
             ],
             [
              0.7777777777777778,
              "#fb9f3a"
             ],
             [
              0.8888888888888888,
              "#fdca26"
             ],
             [
              1,
              "#f0f921"
             ]
            ],
            "type": "histogram2dcontour"
           }
          ],
          "mesh3d": [
           {
            "colorbar": {
             "outlinewidth": 0,
             "ticks": ""
            },
            "type": "mesh3d"
           }
          ],
          "parcoords": [
           {
            "line": {
             "colorbar": {
              "outlinewidth": 0,
              "ticks": ""
             }
            },
            "type": "parcoords"
           }
          ],
          "pie": [
           {
            "automargin": true,
            "type": "pie"
           }
          ],
          "scatter": [
           {
            "fillpattern": {
             "fillmode": "overlay",
             "size": 10,
             "solidity": 0.2
            },
            "type": "scatter"
           }
          ],
          "scatter3d": [
           {
            "line": {
             "colorbar": {
              "outlinewidth": 0,
              "ticks": ""
             }
            },
            "marker": {
             "colorbar": {
              "outlinewidth": 0,
              "ticks": ""
             }
            },
            "type": "scatter3d"
           }
          ],
          "scattercarpet": [
           {
            "marker": {
             "colorbar": {
              "outlinewidth": 0,
              "ticks": ""
             }
            },
            "type": "scattercarpet"
           }
          ],
          "scattergeo": [
           {
            "marker": {
             "colorbar": {
              "outlinewidth": 0,
              "ticks": ""
             }
            },
            "type": "scattergeo"
           }
          ],
          "scattergl": [
           {
            "marker": {
             "colorbar": {
              "outlinewidth": 0,
              "ticks": ""
             }
            },
            "type": "scattergl"
           }
          ],
          "scattermapbox": [
           {
            "marker": {
             "colorbar": {
              "outlinewidth": 0,
              "ticks": ""
             }
            },
            "type": "scattermapbox"
           }
          ],
          "scatterpolar": [
           {
            "marker": {
             "colorbar": {
              "outlinewidth": 0,
              "ticks": ""
             }
            },
            "type": "scatterpolar"
           }
          ],
          "scatterpolargl": [
           {
            "marker": {
             "colorbar": {
              "outlinewidth": 0,
              "ticks": ""
             }
            },
            "type": "scatterpolargl"
           }
          ],
          "scatterternary": [
           {
            "marker": {
             "colorbar": {
              "outlinewidth": 0,
              "ticks": ""
             }
            },
            "type": "scatterternary"
           }
          ],
          "surface": [
           {
            "colorbar": {
             "outlinewidth": 0,
             "ticks": ""
            },
            "colorscale": [
             [
              0,
              "#0d0887"
             ],
             [
              0.1111111111111111,
              "#46039f"
             ],
             [
              0.2222222222222222,
              "#7201a8"
             ],
             [
              0.3333333333333333,
              "#9c179e"
             ],
             [
              0.4444444444444444,
              "#bd3786"
             ],
             [
              0.5555555555555556,
              "#d8576b"
             ],
             [
              0.6666666666666666,
              "#ed7953"
             ],
             [
              0.7777777777777778,
              "#fb9f3a"
             ],
             [
              0.8888888888888888,
              "#fdca26"
             ],
             [
              1,
              "#f0f921"
             ]
            ],
            "type": "surface"
           }
          ],
          "table": [
           {
            "cells": {
             "fill": {
              "color": "#EBF0F8"
             },
             "line": {
              "color": "white"
             }
            },
            "header": {
             "fill": {
              "color": "#C8D4E3"
             },
             "line": {
              "color": "white"
             }
            },
            "type": "table"
           }
          ]
         },
         "layout": {
          "annotationdefaults": {
           "arrowcolor": "#2a3f5f",
           "arrowhead": 0,
           "arrowwidth": 1
          },
          "autotypenumbers": "strict",
          "coloraxis": {
           "colorbar": {
            "outlinewidth": 0,
            "ticks": ""
           }
          },
          "colorscale": {
           "diverging": [
            [
             0,
             "#8e0152"
            ],
            [
             0.1,
             "#c51b7d"
            ],
            [
             0.2,
             "#de77ae"
            ],
            [
             0.3,
             "#f1b6da"
            ],
            [
             0.4,
             "#fde0ef"
            ],
            [
             0.5,
             "#f7f7f7"
            ],
            [
             0.6,
             "#e6f5d0"
            ],
            [
             0.7,
             "#b8e186"
            ],
            [
             0.8,
             "#7fbc41"
            ],
            [
             0.9,
             "#4d9221"
            ],
            [
             1,
             "#276419"
            ]
           ],
           "sequential": [
            [
             0,
             "#0d0887"
            ],
            [
             0.1111111111111111,
             "#46039f"
            ],
            [
             0.2222222222222222,
             "#7201a8"
            ],
            [
             0.3333333333333333,
             "#9c179e"
            ],
            [
             0.4444444444444444,
             "#bd3786"
            ],
            [
             0.5555555555555556,
             "#d8576b"
            ],
            [
             0.6666666666666666,
             "#ed7953"
            ],
            [
             0.7777777777777778,
             "#fb9f3a"
            ],
            [
             0.8888888888888888,
             "#fdca26"
            ],
            [
             1,
             "#f0f921"
            ]
           ],
           "sequentialminus": [
            [
             0,
             "#0d0887"
            ],
            [
             0.1111111111111111,
             "#46039f"
            ],
            [
             0.2222222222222222,
             "#7201a8"
            ],
            [
             0.3333333333333333,
             "#9c179e"
            ],
            [
             0.4444444444444444,
             "#bd3786"
            ],
            [
             0.5555555555555556,
             "#d8576b"
            ],
            [
             0.6666666666666666,
             "#ed7953"
            ],
            [
             0.7777777777777778,
             "#fb9f3a"
            ],
            [
             0.8888888888888888,
             "#fdca26"
            ],
            [
             1,
             "#f0f921"
            ]
           ]
          },
          "colorway": [
           "#636efa",
           "#EF553B",
           "#00cc96",
           "#ab63fa",
           "#FFA15A",
           "#19d3f3",
           "#FF6692",
           "#B6E880",
           "#FF97FF",
           "#FECB52"
          ],
          "font": {
           "color": "#2a3f5f"
          },
          "geo": {
           "bgcolor": "white",
           "lakecolor": "white",
           "landcolor": "#E5ECF6",
           "showlakes": true,
           "showland": true,
           "subunitcolor": "white"
          },
          "hoverlabel": {
           "align": "left"
          },
          "hovermode": "closest",
          "mapbox": {
           "style": "light"
          },
          "paper_bgcolor": "white",
          "plot_bgcolor": "#E5ECF6",
          "polar": {
           "angularaxis": {
            "gridcolor": "white",
            "linecolor": "white",
            "ticks": ""
           },
           "bgcolor": "#E5ECF6",
           "radialaxis": {
            "gridcolor": "white",
            "linecolor": "white",
            "ticks": ""
           }
          },
          "scene": {
           "xaxis": {
            "backgroundcolor": "#E5ECF6",
            "gridcolor": "white",
            "gridwidth": 2,
            "linecolor": "white",
            "showbackground": true,
            "ticks": "",
            "zerolinecolor": "white"
           },
           "yaxis": {
            "backgroundcolor": "#E5ECF6",
            "gridcolor": "white",
            "gridwidth": 2,
            "linecolor": "white",
            "showbackground": true,
            "ticks": "",
            "zerolinecolor": "white"
           },
           "zaxis": {
            "backgroundcolor": "#E5ECF6",
            "gridcolor": "white",
            "gridwidth": 2,
            "linecolor": "white",
            "showbackground": true,
            "ticks": "",
            "zerolinecolor": "white"
           }
          },
          "shapedefaults": {
           "line": {
            "color": "#2a3f5f"
           }
          },
          "ternary": {
           "aaxis": {
            "gridcolor": "white",
            "linecolor": "white",
            "ticks": ""
           },
           "baxis": {
            "gridcolor": "white",
            "linecolor": "white",
            "ticks": ""
           },
           "bgcolor": "#E5ECF6",
           "caxis": {
            "gridcolor": "white",
            "linecolor": "white",
            "ticks": ""
           }
          },
          "title": {
           "x": 0.05
          },
          "xaxis": {
           "automargin": true,
           "gridcolor": "white",
           "linecolor": "white",
           "ticks": "",
           "title": {
            "standoff": 15
           },
           "zerolinecolor": "white",
           "zerolinewidth": 2
          },
          "yaxis": {
           "automargin": true,
           "gridcolor": "white",
           "linecolor": "white",
           "ticks": "",
           "title": {
            "standoff": 15
           },
           "zerolinecolor": "white",
           "zerolinewidth": 2
          }
         }
        },
        "title": {
         "text": "Population Growth Rate"
        },
        "xaxis": {
         "autorange": true,
         "range": [
          -10191.67624273725,
          2712.1762427372496
         ],
         "showgrid": true,
         "title": {
          "text": "Year"
         },
         "type": "linear"
        },
        "yaxis": {
         "autorange": true,
         "range": [
          -0.24486434858603898,
          2.424293526005995
         ],
         "showgrid": true,
         "title": {
          "text": "Growth rate (%)"
         },
         "type": "linear"
        }
       }
      },
      "image/png": "[encoded data removed]",
      "text/html": [
       "<div>                            <div id=\"c6e55796-9411-4626-b256-aa744e07fe8b\" class=\"plotly-graph-div\" style=\"height:525px; width:100%;\"></div>            <script type=\"text/javascript\">                require([\"plotly\"], function(Plotly) {                    window.PLOTLYENV=window.PLOTLYENV || {};                                    if (document.getElementById(\"c6e55796-9411-4626-b256-aa744e07fe8b\")) {                    Plotly.newPlot(                        \"c6e55796-9411-4626-b256-aa744e07fe8b\",                        [{\"mode\":\"lines+markers\",\"name\":\"Growth Rate (%)\",\"x\":[-9500.0,-8500.0,-7500.0,-6500.0,-5500.0,-4500.0,-3500.0,-2500.0,-1500.0,-500.0,50.0,150.0,250.0,350.0,450.0,550.0,650.0,750.0,850.0,950.0,1050.0,1150.0,1250.0,1350.0,1450.0,1550.0,1650.0,1705.0,1715.0,1725.0,1735.0,1745.0,1755.0,1765.0,1775.0,1785.0,1795.0,1800.5,1801.5,1802.5,1803.5,1804.5,1805.5,1806.5,1807.5,1808.5,1809.5,1810.5,1811.5,1812.5,1813.5,1814.5,1815.5,1816.5,1817.5,1818.5,1819.5,1820.5,1821.5,1822.5,1823.5,1824.5,1825.5,1826.5,1827.5,1828.5,1829.5,1830.5,1831.5,1832.5,1833.5,1834.5,1835.5,1836.5,1837.5,1838.5,1839.5,1840.5,1841.5,1842.5,1843.5,1844.5,1845.5,1846.5,1847.5,1848.5,1849.5,1850.5,1851.5,1852.5,1853.5,1854.5,1855.5,1856.5,1857.5,1858.5,1859.5,1860.5,1861.5,1862.5,1863.5,1864.5,1865.5,1866.5,1867.5,1868.5,1869.5,1870.5,1871.5,1872.5,1873.5,1874.5,1875.5,1876.5,1877.5,1878.5,1879.5,1880.5,1881.5,1882.5,1883.5,1884.5,1885.5,1886.5,1887.5,1888.5,1889.5,1890.5,1891.5,1892.5,1893.5,1894.5,1895.5,1896.5,1897.5,1898.5,1899.5,1900.5,1901.5,1902.5,1903.5,1904.5,1905.5,1906.5,1907.5,1908.5,1909.5,1910.5,1911.5,1912.5,1913.5,1914.5,1915.5,1916.5,1917.5,1918.5,1919.5,1920.5,1921.5,1922.5,1923.5,1924.5,1925.5,1926.5,1927.5,1928.5,1929.5,1930.5,1931.5,1932.5,1933.5,1934.5,1935.5,1936.5,1937.5,1938.5,1939.5,1940.5,1941.5,1942.5,1943.5,1944.5,1945.5,1946.5,1947.5,1948.5,1949.5,1950.5,1951.5,1952.5,1953.5,1954.5,1955.5,1956.5,1957.5,1958.5,1959.5,1960.5,1961.5,1962.5,1963.5,1964.5,1965.5,1966.5,1967.5,1968.5,1969.5,1970.5,1971.5,1972.5,1973.5,1974.5,1975.5,1976.5,1977.5,1978.5,1979.5,1980.5,1981.5,1982.5,1983.5,1984.5,1985.5,1986.5,1987.5,1988.5,1989.5,1990.5,1991.5,1992.5,1993.5,1994.5,1995.5,1996.5,1997.5,1998.5,1999.5,2000.5,2001.5,2002.5,2003.5,2004.5,2005.5,2006.5,2007.5,2008.5,2009.5,2010.5,2011.5,2012.5,2013.5,2014.5,2015.5,2016.5,2017.5,2018.5,2019.5,2020.5],\"y\":[0.023691409544412956,0.02542558902784986,0.02794787133446608,0.03209468596696574,0.03681311315495428,0.041116068111857196,0.04358004131086446,0.048969231979123506,0.04196018342927932,0.0743259836878396,0.020387104762309427,0.015529378520762194,-0.05579899913576991,0.05968207685542737,0.04730464582884952,0.06958079670791317,0.024406881151972648,0.026706755474381616,0.08473422519370555,0.039231954723928375,0.20756231779930356,0.11131521609488715,0.025834898229692982,-0.030943993138565773,0.12875415462838546,0.026225466707852085,0.13750328400585765,0.34032884651531425,0.47143053455278583,0.3375167535971002,0.45110924570681554,0.7010934254391366,0.44980851746296846,0.4883753062302487,0.8488336841488309,0.44579593570395204,0.5626551354106946,0.23217280731859802,0.3513888699518519,0.3543059702695306,0.35722334092953556,0.3601418942255963,0.36306401748247286,0.36599294354799916,0.3689291630292191,0.37187620937613186,0.5966989584105686,0.4750279634946786,0.5984646222483958,0.6585555195568249,0.6712139324629884,0.6834664376875965,0.6958565979817699,0.7083890528855274,0.7210718712802544,0.7054971606445193,0.7989790348376324,0.540203007986606,0.6305837242406298,0.6554502742860402,0.661093777369337,0.6661566376829908,0.6751695424234816,0.6799227017253662,0.684679527527754,0.6411518125547744,0.6662222595695155,0.4840913717740092,0.5075271581153729,0.4640762489266148,0.46624457545310083,0.47166363355817253,0.4695772139373,0.47567707127431635,0.47887731585722904,0.4717502557372244,0.5331837585350829,0.38478374382706626,0.448033667300507,0.4493504278336724,0.4387262444929263,0.4510094894756067,0.455741384805175,0.46053513208046404,0.46539685946580533,0.40171323660920244,0.42527599689667905,0.15127512528780862,0.1748052248147225,0.11603148120409301,0.12507119917639642,0.13271347731436123,0.14190303799914705,0.1506826367228653,0.15954666376030158,0.18832035350051513,0.31210056444233025,0.14989530682150143,0.269863558873884,0.2974537500829655,0.3029187842712,0.3078286402413033,0.3126462155320642,0.3180009117411009,0.3232206994024267,0.3660039747412247,0.5070774229103181,0.350950911059722,0.4921747566909218,0.5342455117350431,0.5366959940079186,0.541142350117152,0.5440599566054471,0.5448128224884607,0.5467456047225872,0.5815944383749105,0.7212472161733263,0.5553954744369483,0.6917445600362004,0.7293793165433993,0.7330888364090793,0.7407139255899864,0.742178102972213,0.7473192073156554,0.7503555461622291,0.7298688893274674,0.8146047535100287,0.5876651520591691,0.6671166022828023,0.6490130876193989,0.6537349544800009,0.659194769777649,0.6604989126586469,0.6653874680961458,0.6688481214641051,0.7054677943444387,0.8533506700876936,0.6612504785140638,0.805088334320514,0.8392739220359546,0.8434380826253918,0.8472345272907411,0.8516685878839692,0.8558503477091195,0.8613910619728715,0.8198448529423308,0.8974821406125599,0.6186267793744094,0.697886689821603,0.6620321410610641,0.6682336227854524,0.6713400557949445,0.6714257391083667,0.6708002339040897,0.7003659818812347,0.7389919114356491,0.9065972243036624,0.689276364183744,0.8423047787173843,0.8733661615107247,0.879670189622006,0.8858828956415765,0.8932385679909727,0.901325279879539,0.8944047166788316,0.9277950100879506,1.0779846929302561,0.8612790210975385,1.0020890022998108,1.0273863473899914,1.0295610001808786,1.0318500617123583,1.041071265150162,1.0486960622257735,1.041326712524815,1.0017007130888933,1.076026187735546,0.736200481605187,0.8232226163499501,0.767034674306144,0.7616910931445453,0.750404737913879,0.7412711502858604,0.7875159428831768,0.8509536372445892,1.066062578967375,1.4647379331806043,1.752805522331946,1.8536449642207575,1.9306014105606728,1.9581447350674575,2.009406265619762,2.000336725322005,2.030130101064609,2.037928463922989,1.8580996110366677,1.647693503169534,1.6274710589329944,1.9005536791257382,2.209770731363947,2.235228176555726,2.1394317184937783,2.0767906702218397,2.026503804659474,2.05334145945677,2.081996545584097,2.0641248771050336,2.023412624683818,1.9796906404475179,1.9624065992696949,1.9199160582810348,1.8500799103610799,1.7955442164652613,1.768656287057846,1.752589483236422,1.769960567482043,1.7964402630895382,1.8141173724492088,1.842299389521318,1.820739402464655,1.7893052647384389,1.7985260197871167,1.816889732136051,1.8367739984270548,1.8113439274288101,1.781073286823709,1.7702344326371078,1.694263285652453,1.5988996762404506,1.5429110423537784,1.4934146055992858,1.4572667472797063,1.4264756723274097,1.3962880442765835,1.3685218985694858,1.3436070042935677,1.3372355338425512,1.3311053320152144,1.310603916634312,1.2909645539946002,1.2801724652215407,1.2728226672586773,1.2692543285009794,1.2728041965178738,1.2734099446295888,1.2729574581170189,1.2654849377885968,1.2528954636831457,1.2522387387694067,1.241262764526363,1.2194912689958537,1.1933993911403595,1.1698045228728526,1.1492458408502326,1.1048611965867705,1.0562654348834188,0.9787800542267799,0.8716067226050228],\"type\":\"scatter\"},{\"hovertext\":\"Three Kingdoms\",\"marker\":{\"size\":0},\"mode\":\"text\",\"showlegend\":false,\"x\":[250.0],\"y\":[1.117614088277863],\"type\":\"scatter\"},{\"hovertext\":\"Black Death, Mongols\",\"marker\":{\"size\":0},\"mode\":\"text\",\"showlegend\":false,\"x\":[1287.5],\"y\":[1.117614088277863],\"type\":\"scatter\"},{\"hovertext\":\"Ming to Qing\",\"marker\":{\"size\":0},\"mode\":\"text\",\"showlegend\":false,\"x\":[1650.5],\"y\":[1.117614088277863],\"type\":\"scatter\"},{\"hovertext\":\"Taping Rebellion\",\"marker\":{\"size\":0},\"mode\":\"text\",\"showlegend\":false,\"x\":[1857.0],\"y\":[1.117614088277863],\"type\":\"scatter\"},{\"hovertext\":\"WWI\",\"marker\":{\"size\":0},\"mode\":\"text\",\"showlegend\":false,\"x\":[1916.0],\"y\":[1.117614088277863],\"type\":\"scatter\"},{\"hovertext\":\"WWII\",\"marker\":{\"size\":0},\"mode\":\"text\",\"showlegend\":false,\"x\":[1942.0],\"y\":[1.117614088277863],\"type\":\"scatter\"},{\"hovertext\":\"Great Leap Forward\",\"marker\":{\"size\":0},\"mode\":\"text\",\"showlegend\":false,\"x\":[1960.0],\"y\":[1.117614088277863],\"type\":\"scatter\"}],                        {\"template\":{\"data\":{\"histogram2dcontour\":[{\"type\":\"histogram2dcontour\",\"colorbar\":{\"outlinewidth\":0,\"ticks\":\"\"},\"colorscale\":[[0.0,\"#0d0887\"],[0.1111111111111111,\"#46039f\"],[0.2222222222222222,\"#7201a8\"],[0.3333333333333333,\"#9c179e\"],[0.4444444444444444,\"#bd3786\"],[0.5555555555555556,\"#d8576b\"],[0.6666666666666666,\"#ed7953\"],[0.7777777777777778,\"#fb9f3a\"],[0.8888888888888888,\"#fdca26\"],[1.0,\"#f0f921\"]]}],\"choropleth\":[{\"type\":\"choropleth\",\"colorbar\":{\"outlinewidth\":0,\"ticks\":\"\"}}],\"histogram2d\":[{\"type\":\"histogram2d\",\"colorbar\":{\"outlinewidth\":0,\"ticks\":\"\"},\"colorscale\":[[0.0,\"#0d0887\"],[0.1111111111111111,\"#46039f\"],[0.2222222222222222,\"#7201a8\"],[0.3333333333333333,\"#9c179e\"],[0.4444444444444444,\"#bd3786\"],[0.5555555555555556,\"#d8576b\"],[0.6666666666666666,\"#ed7953\"],[0.7777777777777778,\"#fb9f3a\"],[0.8888888888888888,\"#fdca26\"],[1.0,\"#f0f921\"]]}],\"heatmap\":[{\"type\":\"heatmap\",\"colorbar\":{\"outlinewidth\":0,\"ticks\":\"\"},\"colorscale\":[[0.0,\"#0d0887\"],[0.1111111111111111,\"#46039f\"],[0.2222222222222222,\"#7201a8\"],[0.3333333333333333,\"#9c179e\"],[0.4444444444444444,\"#bd3786\"],[0.5555555555555556,\"#d8576b\"],[0.6666666666666666,\"#ed7953\"],[0.7777777777777778,\"#fb9f3a\"],[0.8888888888888888,\"#fdca26\"],[1.0,\"#f0f921\"]]}],\"heatmapgl\":[{\"type\":\"heatmapgl\",\"colorbar\":{\"outlinewidth\":0,\"ticks\":\"\"},\"colorscale\":[[0.0,\"#0d0887\"],[0.1111111111111111,\"#46039f\"],[0.2222222222222222,\"#7201a8\"],[0.3333333333333333,\"#9c179e\"],[0.4444444444444444,\"#bd3786\"],[0.5555555555555556,\"#d8576b\"],[0.6666666666666666,\"#ed7953\"],[0.7777777777777778,\"#fb9f3a\"],[0.8888888888888888,\"#fdca26\"],[1.0,\"#f0f921\"]]}],\"contourcarpet\":[{\"type\":\"contourcarpet\",\"colorbar\":{\"outlinewidth\":0,\"ticks\":\"\"}}],\"contour\":[{\"type\":\"contour\",\"colorbar\":{\"outlinewidth\":0,\"ticks\":\"\"},\"colorscale\":[[0.0,\"#0d0887\"],[0.1111111111111111,\"#46039f\"],[0.2222222222222222,\"#7201a8\"],[0.3333333333333333,\"#9c179e\"],[0.4444444444444444,\"#bd3786\"],[0.5555555555555556,\"#d8576b\"],[0.6666666666666666,\"#ed7953\"],[0.7777777777777778,\"#fb9f3a\"],[0.8888888888888888,\"#fdca26\"],[1.0,\"#f0f921\"]]}],\"surface\":[{\"type\":\"surface\",\"colorbar\":{\"outlinewidth\":0,\"ticks\":\"\"},\"colorscale\":[[0.0,\"#0d0887\"],[0.1111111111111111,\"#46039f\"],[0.2222222222222222,\"#7201a8\"],[0.3333333333333333,\"#9c179e\"],[0.4444444444444444,\"#bd3786\"],[0.5555555555555556,\"#d8576b\"],[0.6666666666666666,\"#ed7953\"],[0.7777777777777778,\"#fb9f3a\"],[0.8888888888888888,\"#fdca26\"],[1.0,\"#f0f921\"]]}],\"mesh3d\":[{\"type\":\"mesh3d\",\"colorbar\":{\"outlinewidth\":0,\"ticks\":\"\"}}],\"scatter\":[{\"fillpattern\":{\"fillmode\":\"overlay\",\"size\":10,\"solidity\":0.2},\"type\":\"scatter\"}],\"parcoords\":[{\"type\":\"parcoords\",\"line\":{\"colorbar\":{\"outlinewidth\":0,\"ticks\":\"\"}}}],\"scatterpolargl\":[{\"type\":\"scatterpolargl\",\"marker\":{\"colorbar\":{\"outlinewidth\":0,\"ticks\":\"\"}}}],\"bar\":[{\"error_x\":{\"color\":\"#2a3f5f\"},\"error_y\":{\"color\":\"#2a3f5f\"},\"marker\":{\"line\":{\"color\":\"#E5ECF6\",\"width\":0.5},\"pattern\":{\"fillmode\":\"overlay\",\"size\":10,\"solidity\":0.2}},\"type\":\"bar\"}],\"scattergeo\":[{\"type\":\"scattergeo\",\"marker\":{\"colorbar\":{\"outlinewidth\":0,\"ticks\":\"\"}}}],\"scatterpolar\":[{\"type\":\"scatterpolar\",\"marker\":{\"colorbar\":{\"outlinewidth\":0,\"ticks\":\"\"}}}],\"histogram\":[{\"marker\":{\"pattern\":{\"fillmode\":\"overlay\",\"size\":10,\"solidity\":0.2}},\"type\":\"histogram\"}],\"scattergl\":[{\"type\":\"scattergl\",\"marker\":{\"colorbar\":{\"outlinewidth\":0,\"ticks\":\"\"}}}],\"scatter3d\":[{\"type\":\"scatter3d\",\"line\":{\"colorbar\":{\"outlinewidth\":0,\"ticks\":\"\"}},\"marker\":{\"colorbar\":{\"outlinewidth\":0,\"ticks\":\"\"}}}],\"scattermapbox\":[{\"type\":\"scattermapbox\",\"marker\":{\"colorbar\":{\"outlinewidth\":0,\"ticks\":\"\"}}}],\"scatterternary\":[{\"type\":\"scatterternary\",\"marker\":{\"colorbar\":{\"outlinewidth\":0,\"ticks\":\"\"}}}],\"scattercarpet\":[{\"type\":\"scattercarpet\",\"marker\":{\"colorbar\":{\"outlinewidth\":0,\"ticks\":\"\"}}}],\"carpet\":[{\"aaxis\":{\"endlinecolor\":\"#2a3f5f\",\"gridcolor\":\"white\",\"linecolor\":\"white\",\"minorgridcolor\":\"white\",\"startlinecolor\":\"#2a3f5f\"},\"baxis\":{\"endlinecolor\":\"#2a3f5f\",\"gridcolor\":\"white\",\"linecolor\":\"white\",\"minorgridcolor\":\"white\",\"startlinecolor\":\"#2a3f5f\"},\"type\":\"carpet\"}],\"table\":[{\"cells\":{\"fill\":{\"color\":\"#EBF0F8\"},\"line\":{\"color\":\"white\"}},\"header\":{\"fill\":{\"color\":\"#C8D4E3\"},\"line\":{\"color\":\"white\"}},\"type\":\"table\"}],\"barpolar\":[{\"marker\":{\"line\":{\"color\":\"#E5ECF6\",\"width\":0.5},\"pattern\":{\"fillmode\":\"overlay\",\"size\":10,\"solidity\":0.2}},\"type\":\"barpolar\"}],\"pie\":[{\"automargin\":true,\"type\":\"pie\"}]},\"layout\":{\"autotypenumbers\":\"strict\",\"colorway\":[\"#636efa\",\"#EF553B\",\"#00cc96\",\"#ab63fa\",\"#FFA15A\",\"#19d3f3\",\"#FF6692\",\"#B6E880\",\"#FF97FF\",\"#FECB52\"],\"font\":{\"color\":\"#2a3f5f\"},\"hovermode\":\"closest\",\"hoverlabel\":{\"align\":\"left\"},\"paper_bgcolor\":\"white\",\"plot_bgcolor\":\"#E5ECF6\",\"polar\":{\"bgcolor\":\"#E5ECF6\",\"angularaxis\":{\"gridcolor\":\"white\",\"linecolor\":\"white\",\"ticks\":\"\"},\"radialaxis\":{\"gridcolor\":\"white\",\"linecolor\":\"white\",\"ticks\":\"\"}},\"ternary\":{\"bgcolor\":\"#E5ECF6\",\"aaxis\":{\"gridcolor\":\"white\",\"linecolor\":\"white\",\"ticks\":\"\"},\"baxis\":{\"gridcolor\":\"white\",\"linecolor\":\"white\",\"ticks\":\"\"},\"caxis\":{\"gridcolor\":\"white\",\"linecolor\":\"white\",\"ticks\":\"\"}},\"coloraxis\":{\"colorbar\":{\"outlinewidth\":0,\"ticks\":\"\"}},\"colorscale\":{\"sequential\":[[0.0,\"#0d0887\"],[0.1111111111111111,\"#46039f\"],[0.2222222222222222,\"#7201a8\"],[0.3333333333333333,\"#9c179e\"],[0.4444444444444444,\"#bd3786\"],[0.5555555555555556,\"#d8576b\"],[0.6666666666666666,\"#ed7953\"],[0.7777777777777778,\"#fb9f3a\"],[0.8888888888888888,\"#fdca26\"],[1.0,\"#f0f921\"]],\"sequentialminus\":[[0.0,\"#0d0887\"],[0.1111111111111111,\"#46039f\"],[0.2222222222222222,\"#7201a8\"],[0.3333333333333333,\"#9c179e\"],[0.4444444444444444,\"#bd3786\"],[0.5555555555555556,\"#d8576b\"],[0.6666666666666666,\"#ed7953\"],[0.7777777777777778,\"#fb9f3a\"],[0.8888888888888888,\"#fdca26\"],[1.0,\"#f0f921\"]],\"diverging\":[[0,\"#8e0152\"],[0.1,\"#c51b7d\"],[0.2,\"#de77ae\"],[0.3,\"#f1b6da\"],[0.4,\"#fde0ef\"],[0.5,\"#f7f7f7\"],[0.6,\"#e6f5d0\"],[0.7,\"#b8e186\"],[0.8,\"#7fbc41\"],[0.9,\"#4d9221\"],[1,\"#276419\"]]},\"xaxis\":{\"gridcolor\":\"white\",\"linecolor\":\"white\",\"ticks\":\"\",\"title\":{\"standoff\":15},\"zerolinecolor\":\"white\",\"automargin\":true,\"zerolinewidth\":2},\"yaxis\":{\"gridcolor\":\"white\",\"linecolor\":\"white\",\"ticks\":\"\",\"title\":{\"standoff\":15},\"zerolinecolor\":\"white\",\"automargin\":true,\"zerolinewidth\":2},\"scene\":{\"xaxis\":{\"backgroundcolor\":\"#E5ECF6\",\"gridcolor\":\"white\",\"linecolor\":\"white\",\"showbackground\":true,\"ticks\":\"\",\"zerolinecolor\":\"white\",\"gridwidth\":2},\"yaxis\":{\"backgroundcolor\":\"#E5ECF6\",\"gridcolor\":\"white\",\"linecolor\":\"white\",\"showbackground\":true,\"ticks\":\"\",\"zerolinecolor\":\"white\",\"gridwidth\":2},\"zaxis\":{\"backgroundcolor\":\"#E5ECF6\",\"gridcolor\":\"white\",\"linecolor\":\"white\",\"showbackground\":true,\"ticks\":\"\",\"zerolinecolor\":\"white\",\"gridwidth\":2}},\"shapedefaults\":{\"line\":{\"color\":\"#2a3f5f\"}},\"annotationdefaults\":{\"arrowcolor\":\"#2a3f5f\",\"arrowhead\":0,\"arrowwidth\":1},\"geo\":{\"bgcolor\":\"white\",\"landcolor\":\"#E5ECF6\",\"subunitcolor\":\"white\",\"showland\":true,\"showlakes\":true,\"lakecolor\":\"white\"},\"title\":{\"x\":0.05},\"mapbox\":{\"style\":\"light\"}}},\"shapes\":[{\"fillcolor\":\"rgba(255, 0, 0, 0.2)\",\"line\":{\"color\":\"rgba(255, 0, 0, 0)\"},\"name\":\"Three Kingdoms\",\"type\":\"rect\",\"x0\":220,\"x1\":280,\"y0\":-0.05579899913576991,\"y1\":2.235228176555726},{\"fillcolor\":\"rgba(255, 0, 0, 0.2)\",\"line\":{\"color\":\"rgba(255, 0, 0, 0)\"},\"name\":\"Black Death, Mongols\",\"type\":\"rect\",\"x0\":1207,\"x1\":1368,\"y0\":-0.05579899913576991,\"y1\":2.235228176555726},{\"fillcolor\":\"rgba(255, 0, 0, 0.2)\",\"line\":{\"color\":\"rgba(255, 0, 0, 0)\"},\"name\":\"Ming to Qing\",\"type\":\"rect\",\"x0\":1618,\"x1\":1683,\"y0\":-0.05579899913576991,\"y1\":2.235228176555726},{\"fillcolor\":\"rgba(255, 0, 0, 0.2)\",\"line\":{\"color\":\"rgba(255, 0, 0, 0)\"},\"name\":\"Taping Rebellion\",\"type\":\"rect\",\"x0\":1850,\"x1\":1864,\"y0\":-0.05579899913576991,\"y1\":2.235228176555726},{\"fillcolor\":\"rgba(255, 0, 0, 0.2)\",\"line\":{\"color\":\"rgba(255, 0, 0, 0)\"},\"name\":\"WWI\",\"type\":\"rect\",\"x0\":1914,\"x1\":1918,\"y0\":-0.05579899913576991,\"y1\":2.235228176555726},{\"fillcolor\":\"rgba(255, 0, 0, 0.2)\",\"line\":{\"color\":\"rgba(255, 0, 0, 0)\"},\"name\":\"WWII\",\"type\":\"rect\",\"x0\":1939,\"x1\":1945,\"y0\":-0.05579899913576991,\"y1\":2.235228176555726},{\"fillcolor\":\"rgba(255, 0, 0, 0.2)\",\"line\":{\"color\":\"rgba(255, 0, 0, 0)\"},\"name\":\"Great Leap Forward\",\"type\":\"rect\",\"x0\":1959,\"x1\":1961,\"y0\":-0.05579899913576991,\"y1\":2.235228176555726}],\"xaxis\":{\"showgrid\":true,\"title\":{\"text\":\"Year\"}},\"yaxis\":{\"showgrid\":true,\"title\":{\"text\":\"Growth rate (%)\"}},\"title\":{\"text\":\"Population Growth Rate\"},\"hovermode\":\"x\",\"showlegend\":false},                        {\"responsive\": true}                    ).then(function(){\n",
       "                            \n",
       "var gd = document.getElementById('c6e55796-9411-4626-b256-aa744e07fe8b');\n",
       "var x = new MutationObserver(function (mutations, observer) {{\n",
       "        var display = window.getComputedStyle(gd).display;\n",
       "        if (!display || display === 'none') {{\n",
       "            console.log([gd, 'removed!']);\n",
       "            Plotly.purge(gd);\n",
       "            observer.disconnect();\n",
       "        }}\n",
       "}});\n",
       "\n",
       "// Listen for the removal of the full notebook cells\n",
       "var notebookContainer = gd.closest('#notebook-container');\n",
       "if (notebookContainer) {{\n",
       "    x.observe(notebookContainer, {childList: true});\n",
       "}}\n",
       "\n",
       "// Listen for the clearing of the current output cell\n",
       "var outputEl = gd.closest('.output');\n",
       "if (outputEl) {{\n",
       "    x.observe(outputEl, {childList: true});\n",
       "}}\n",
       "\n",
       "                        })                };                });            </script>        </div>"
      ]
     },
     "metadata": {},
     "output_type": "display_data"
    }
   ],
   "source": [
    "fig = go.Figure()\n",
    "\n",
    "# Add a scatter trace with lines+markers\n",
    "population_growth_years, population_growth_rates = growth_rate(years_full, populations_full)\n",
    "fig.add_trace(go.Scatter(x=population_growth_years, y=population_growth_rates, mode='lines+markers', name='Growth Rate (%)'))\n",
    "\n",
    "events = [\n",
    "    (220, 280, \"Three Kingdoms\"), \n",
    "    (1207, 1368, \"Black Death, Mongols\"),\n",
    "    (1618, 1683, \"Ming to Qing\"),\n",
    "    (1850, 1864, \"Taping Rebellion\"),\n",
    "    (1914, 1918, \"WWI\"),\n",
    "    (1939, 1945, \"WWII\"),\n",
    "    (1959, 1961, \"Great Leap Forward\")]\n",
    "for year0, year1, event in events:\n",
    "    fig.add_shape(\n",
    "        type='rect',\n",
    "        x0=year0, x1=year1, \n",
    "        y0=min(population_growth_rates), y1=max(population_growth_rates),\n",
    "        fillcolor='rgba(255, 0, 0, 0.2)',\n",
    "        line=dict(color='rgba(255, 0, 0, 0)'),\n",
    "        name=event\n",
    "    )\n",
    "    fig.add_trace(go.Scatter(x=[(year0 + year1)/2], y=[max(ys) / 2], mode='text', \n",
    "                             marker=dict(size=0), showlegend=False, hovertext=event))\n",
    "\n",
    "# Update the layout\n",
    "fig.update_layout(\n",
    "    xaxis=dict(showgrid=True),\n",
    "    yaxis=dict(showgrid=True),\n",
    "    title='Population Growth Rate',\n",
    "    hovermode='x'\n",
    ")\n",
    "\n",
    "fig.update_xaxes(title_text='Year')\n",
    "fig.update_yaxes(title_text='Growth rate (%)')\n",
    "fig.update_layout(showlegend=False)\n",
    "\n",
    "fig.show()"
   ]
  },
  {
   "cell_type": "code",
   "execution_count": 111,
   "id": "68fcd7e1-c836-4068-9660-a1c82b746843",
   "metadata": {},
   "outputs": [
    {
     "data": {
      "application/vnd.plotly.v1+json": {
       "config": {
        "plotlyServerURL": "https://plot.ly"
       },
       "data": [
        {
         "mode": "lines+markers",
         "name": "Growth Rate (%)",
         "type": "scatter",
         "x": [
          -9500,
          -8500,
          -7500,
          -6500,
          -5500,
          -4500,
          -3500,
          -2500,
          -1500,
          -500,
          50,
          150,
          250,
          350,
          450,
          550,
          650,
          750,
          850,
          950,
          1050,
          1150,
          1250,
          1350,
          1450,
          1550,
          1650,
          1705,
          1715,
          1725,
          1735,
          1745,
          1755,
          1765,
          1775,
          1785,
          1795,
          1800.5,
          1801.5,
          1802.5,
          1803.5,
          1804.5,
          1805.5,
          1806.5,
          1807.5,
          1808.5,
          1809.5,
          1810.5,
          1811.5,
          1812.5,
          1813.5,
          1814.5,
          1815.5,
          1816.5,
          1817.5,
          1818.5,
          1819.5,
          1820.5,
          1821.5,
          1822.5,
          1823.5,
          1824.5,
          1825.5,
          1826.5,
          1827.5,
          1828.5,
          1829.5,
          1830.5,
          1831.5,
          1832.5,
          1833.5,
          1834.5,
          1835.5,
          1836.5,
          1837.5,
          1838.5,
          1839.5,
          1840.5,
          1841.5,
          1842.5,
          1843.5,
          1844.5,
          1845.5,
          1846.5,
          1847.5,
          1848.5,
          1849.5,
          1850.5,
          1851.5,
          1852.5,
          1853.5,
          1854.5,
          1855.5,
          1856.5,
          1857.5,
          1858.5,
          1859.5,
          1860.5,
          1861.5,
          1862.5,
          1863.5,
          1864.5,
          1865.5,
          1866.5,
          1867.5,
          1868.5,
          1869.5,
          1870.5,
          1871.5,
          1872.5,
          1873.5,
          1874.5,
          1875.5,
          1876.5,
          1877.5,
          1878.5,
          1879.5,
          1880.5,
          1881.5,
          1882.5,
          1883.5,
          1884.5,
          1885.5,
          1886.5,
          1887.5,
          1888.5,
          1889.5,
          1890.5,
          1891.5,
          1892.5,
          1893.5,
          1894.5,
          1895.5,
          1896.5,
          1897.5,
          1898.5,
          1899.5,
          1900.5,
          1901.5,
          1902.5,
          1903.5,
          1904.5,
          1905.5,
          1906.5,
          1907.5,
          1908.5,
          1909.5,
          1910.5,
          1911.5,
          1912.5,
          1913.5,
          1914.5,
          1915.5,
          1916.5,
          1917.5,
          1918.5,
          1919.5,
          1920.5,
          1921.5,
          1922.5,
          1923.5,
          1924.5,
          1925.5,
          1926.5,
          1927.5,
          1928.5,
          1929.5,
          1930.5,
          1931.5,
          1932.5,
          1933.5,
          1934.5,
          1935.5,
          1936.5,
          1937.5,
          1938.5,
          1939.5,
          1940.5,
          1941.5,
          1942.5,
          1943.5,
          1944.5,
          1945.5,
          1946.5,
          1947.5,
          1948.5,
          1949.5,
          1950.5,
          1951.5,
          1952.5,
          1953.5,
          1954.5,
          1955.5,
          1956.5,
          1957.5,
          1958.5,
          1959.5,
          1960.5,
          1961.5,
          1962.5,
          1963.5,
          1964.5,
          1965.5,
          1966.5,
          1967.5,
          1968.5,
          1969.5,
          1970.5,
          1971.5,
          1972.5,
          1973.5,
          1974.5,
          1975.5,
          1976.5,
          1977.5,
          1978.5,
          1979.5,
          1980.5,
          1981.5,
          1982.5,
          1983.5,
          1984.5,
          1985.5,
          1986.5,
          1987.5,
          1988.5,
          1989.5,
          1990.5,
          1991.5,
          1992.5,
          1993.5,
          1994.5,
          1995.5,
          1996.5,
          1997.5,
          1998.5,
          1999.5,
          2000.5,
          2001.5,
          2002.5,
          2003.5,
          2004.5,
          2005.5,
          2006.5,
          2007.5,
          2008.5,
          2009.5,
          2010.5,
          2011.5,
          2012.5,
          2013.5,
          2014.5,
          2015.5,
          2016.5,
          2017.5,
          2018.5,
          2019.5,
          2020.5
         ],
         "y": [
          0.023691409544412956,
          0.02542558902784986,
          0.02794787133446608,
          0.03209468596696574,
          0.03681311315495428,
          0.041116068111857196,
          0.04358004131086446,
          0.048969231979123506,
          0.04196018342927932,
          0.0743259836878396,
          0.020387104762309427,
          0.015529378520762194,
          -0.05579899913576991,
          0.05968207685542737,
          0.04730464582884952,
          0.06958079670791317,
          0.024406881151972648,
          0.026706755474381616,
          0.08473422519370555,
          0.039231954723928375,
          0.20756231779930356,
          0.11131521609488715,
          0.025834898229692982,
          -0.030943993138565773,
          0.12875415462838546,
          0.026225466707852085,
          0.13750328400585765,
          0.34032884651531425,
          0.47143053455278583,
          0.3375167535971002,
          0.45110924570681554,
          0.7010934254391366,
          0.44980851746296846,
          0.4883753062302487,
          0.8488336841488309,
          0.44579593570395204,
          0.5626551354106946,
          0.23217280731859802,
          0.3513888699518519,
          0.3543059702695306,
          0.35722334092953556,
          0.3601418942255963,
          0.36306401748247286,
          0.36599294354799916,
          0.3689291630292191,
          0.37187620937613186,
          0.5966989584105686,
          0.4750279634946786,
          0.5984646222483958,
          0.6585555195568249,
          0.6712139324629884,
          0.6834664376875965,
          0.6958565979817699,
          0.7083890528855274,
          0.7210718712802544,
          0.7054971606445193,
          0.7989790348376324,
          0.540203007986606,
          0.6305837242406298,
          0.6554502742860402,
          0.661093777369337,
          0.6661566376829908,
          0.6751695424234816,
          0.6799227017253662,
          0.684679527527754,
          0.6411518125547744,
          0.6662222595695155,
          0.4840913717740092,
          0.5075271581153729,
          0.4640762489266148,
          0.46624457545310083,
          0.47166363355817253,
          0.4695772139373,
          0.47567707127431635,
          0.47887731585722904,
          0.4717502557372244,
          0.5331837585350829,
          0.38478374382706626,
          0.448033667300507,
          0.4493504278336724,
          0.4387262444929263,
          0.4510094894756067,
          0.455741384805175,
          0.46053513208046404,
          0.46539685946580533,
          0.40171323660920244,
          0.42527599689667905,
          0.15127512528780862,
          0.1748052248147225,
          0.11603148120409301,
          0.12507119917639642,
          0.13271347731436123,
          0.14190303799914705,
          0.1506826367228653,
          0.15954666376030158,
          0.18832035350051513,
          0.31210056444233025,
          0.14989530682150143,
          0.269863558873884,
          0.2974537500829655,
          0.3029187842712,
          0.3078286402413033,
          0.3126462155320642,
          0.3180009117411009,
          0.3232206994024267,
          0.3660039747412247,
          0.5070774229103181,
          0.350950911059722,
          0.4921747566909218,
          0.5342455117350431,
          0.5366959940079186,
          0.541142350117152,
          0.5440599566054471,
          0.5448128224884607,
          0.5467456047225872,
          0.5815944383749105,
          0.7212472161733263,
          0.5553954744369483,
          0.6917445600362004,
          0.7293793165433993,
          0.7330888364090793,
          0.7407139255899864,
          0.742178102972213,
          0.7473192073156554,
          0.7503555461622291,
          0.7298688893274674,
          0.8146047535100287,
          0.5876651520591691,
          0.6671166022828023,
          0.6490130876193989,
          0.6537349544800009,
          0.659194769777649,
          0.6604989126586469,
          0.6653874680961458,
          0.6688481214641051,
          0.7054677943444387,
          0.8533506700876936,
          0.6612504785140638,
          0.805088334320514,
          0.8392739220359546,
          0.8434380826253918,
          0.8472345272907411,
          0.8516685878839692,
          0.8558503477091195,
          0.8613910619728715,
          0.8198448529423308,
          0.8974821406125599,
          0.6186267793744094,
          0.697886689821603,
          0.6620321410610641,
          0.6682336227854524,
          0.6713400557949445,
          0.6714257391083667,
          0.6708002339040897,
          0.7003659818812347,
          0.7389919114356491,
          0.9065972243036624,
          0.689276364183744,
          0.8423047787173843,
          0.8733661615107247,
          0.879670189622006,
          0.8858828956415765,
          0.8932385679909727,
          0.901325279879539,
          0.8944047166788316,
          0.9277950100879506,
          1.0779846929302561,
          0.8612790210975385,
          1.0020890022998108,
          1.0273863473899914,
          1.0295610001808786,
          1.0318500617123583,
          1.041071265150162,
          1.0486960622257735,
          1.041326712524815,
          1.0017007130888933,
          1.076026187735546,
          0.736200481605187,
          0.8232226163499501,
          0.767034674306144,
          0.7616910931445453,
          0.750404737913879,
          0.7412711502858604,
          0.7875159428831768,
          0.8509536372445892,
          1.066062578967375,
          1.4647379331806043,
          1.752805522331946,
          1.8536449642207575,
          1.9306014105606728,
          1.9581447350674575,
          2.009406265619762,
          2.000336725322005,
          2.030130101064609,
          2.037928463922989,
          1.8580996110366677,
          1.647693503169534,
          1.6274710589329944,
          1.9005536791257382,
          2.209770731363947,
          2.235228176555726,
          2.1394317184937783,
          2.0767906702218397,
          2.026503804659474,
          2.05334145945677,
          2.081996545584097,
          2.0641248771050336,
          2.023412624683818,
          1.9796906404475179,
          1.9624065992696949,
          1.9199160582810348,
          1.8500799103610799,
          1.7955442164652613,
          1.768656287057846,
          1.752589483236422,
          1.769960567482043,
          1.7964402630895382,
          1.8141173724492088,
          1.842299389521318,
          1.820739402464655,
          1.7893052647384389,
          1.7985260197871167,
          1.816889732136051,
          1.8367739984270548,
          1.8113439274288101,
          1.781073286823709,
          1.7702344326371078,
          1.694263285652453,
          1.5988996762404506,
          1.5429110423537784,
          1.4934146055992858,
          1.4572667472797063,
          1.4264756723274097,
          1.3962880442765835,
          1.3685218985694858,
          1.3436070042935677,
          1.3372355338425512,
          1.3311053320152144,
          1.310603916634312,
          1.2909645539946002,
          1.2801724652215407,
          1.2728226672586773,
          1.2692543285009794,
          1.2728041965178738,
          1.2734099446295888,
          1.2729574581170189,
          1.2654849377885968,
          1.2528954636831457,
          1.2522387387694067,
          1.241262764526363,
          1.2194912689958537,
          1.1933993911403595,
          1.1698045228728526,
          1.1492458408502326,
          1.1048611965867705,
          1.0562654348834188,
          0.9787800542267799,
          0.8716067226050228
         ]
        },
        {
         "hovertext": "Three Kingdoms",
         "marker": {
          "size": 0
         },
         "mode": "text",
         "showlegend": false,
         "type": "scatter",
         "x": [
          250
         ],
         "y": [
          1.117614088277863
         ]
        },
        {
         "hovertext": "Black Death, Mongols",
         "marker": {
          "size": 0
         },
         "mode": "text",
         "showlegend": false,
         "type": "scatter",
         "x": [
          1287.5
         ],
         "y": [
          1.117614088277863
         ]
        },
        {
         "hovertext": "Ming to Qing",
         "marker": {
          "size": 0
         },
         "mode": "text",
         "showlegend": false,
         "type": "scatter",
         "x": [
          1650.5
         ],
         "y": [
          1.117614088277863
         ]
        },
        {
         "hovertext": "Taping Rebellion",
         "marker": {
          "size": 0
         },
         "mode": "text",
         "showlegend": false,
         "type": "scatter",
         "x": [
          1857
         ],
         "y": [
          1.117614088277863
         ]
        },
        {
         "hovertext": "WWI",
         "marker": {
          "size": 0
         },
         "mode": "text",
         "showlegend": false,
         "type": "scatter",
         "x": [
          1916
         ],
         "y": [
          1.117614088277863
         ]
        },
        {
         "hovertext": "WWII",
         "marker": {
          "size": 0
         },
         "mode": "text",
         "showlegend": false,
         "type": "scatter",
         "x": [
          1942
         ],
         "y": [
          1.117614088277863
         ]
        },
        {
         "hovertext": "Great Leap Forward",
         "marker": {
          "size": 0
         },
         "mode": "text",
         "showlegend": false,
         "type": "scatter",
         "x": [
          1960
         ],
         "y": [
          1.117614088277863
         ]
        }
       ],
       "layout": {
        "autosize": true,
        "hovermode": "x",
        "shapes": [
         {
          "fillcolor": "rgba(255, 0, 0, 0.2)",
          "line": {
           "color": "rgba(255, 0, 0, 0)"
          },
          "name": "Three Kingdoms",
          "type": "rect",
          "x0": 220,
          "x1": 280,
          "y0": -0.05579899913576991,
          "y1": 2.235228176555726
         },
         {
          "fillcolor": "rgba(255, 0, 0, 0.2)",
          "line": {
           "color": "rgba(255, 0, 0, 0)"
          },
          "name": "Black Death, Mongols",
          "type": "rect",
          "x0": 1207,
          "x1": 1368,
          "y0": -0.05579899913576991,
          "y1": 2.235228176555726
         },
         {
          "fillcolor": "rgba(255, 0, 0, 0.2)",
          "line": {
           "color": "rgba(255, 0, 0, 0)"
          },
          "name": "Ming to Qing",
          "type": "rect",
          "x0": 1618,
          "x1": 1683,
          "y0": -0.05579899913576991,
          "y1": 2.235228176555726
         },
         {
          "fillcolor": "rgba(255, 0, 0, 0.2)",
          "line": {
           "color": "rgba(255, 0, 0, 0)"
          },
          "name": "Taping Rebellion",
          "type": "rect",
          "x0": 1850,
          "x1": 1864,
          "y0": -0.05579899913576991,
          "y1": 2.235228176555726
         },
         {
          "fillcolor": "rgba(255, 0, 0, 0.2)",
          "line": {
           "color": "rgba(255, 0, 0, 0)"
          },
          "name": "WWI",
          "type": "rect",
          "x0": 1914,
          "x1": 1918,
          "y0": -0.05579899913576991,
          "y1": 2.235228176555726
         },
         {
          "fillcolor": "rgba(255, 0, 0, 0.2)",
          "line": {
           "color": "rgba(255, 0, 0, 0)"
          },
          "name": "WWII",
          "type": "rect",
          "x0": 1939,
          "x1": 1945,
          "y0": -0.05579899913576991,
          "y1": 2.235228176555726
         },
         {
          "fillcolor": "rgba(255, 0, 0, 0.2)",
          "line": {
           "color": "rgba(255, 0, 0, 0)"
          },
          "name": "Great Leap Forward",
          "type": "rect",
          "x0": 1959,
          "x1": 1961,
          "y0": -0.05579899913576991,
          "y1": 2.235228176555726
         }
        ],
        "showlegend": false,
        "template": {
         "data": {
          "bar": [
           {
            "error_x": {
             "color": "#2a3f5f"
            },
            "error_y": {
             "color": "#2a3f5f"
            },
            "marker": {
             "line": {
              "color": "#E5ECF6",
              "width": 0.5
             },
             "pattern": {
              "fillmode": "overlay",
              "size": 10,
              "solidity": 0.2
             }
            },
            "type": "bar"
           }
          ],
          "barpolar": [
           {
            "marker": {
             "line": {
              "color": "#E5ECF6",
              "width": 0.5
             },
             "pattern": {
              "fillmode": "overlay",
              "size": 10,
              "solidity": 0.2
             }
            },
            "type": "barpolar"
           }
          ],
          "carpet": [
           {
            "aaxis": {
             "endlinecolor": "#2a3f5f",
             "gridcolor": "white",
             "linecolor": "white",
             "minorgridcolor": "white",
             "startlinecolor": "#2a3f5f"
            },
            "baxis": {
             "endlinecolor": "#2a3f5f",
             "gridcolor": "white",
             "linecolor": "white",
             "minorgridcolor": "white",
             "startlinecolor": "#2a3f5f"
            },
            "type": "carpet"
           }
          ],
          "choropleth": [
           {
            "colorbar": {
             "outlinewidth": 0,
             "ticks": ""
            },
            "type": "choropleth"
           }
          ],
          "contour": [
           {
            "colorbar": {
             "outlinewidth": 0,
             "ticks": ""
            },
            "colorscale": [
             [
              0,
              "#0d0887"
             ],
             [
              0.1111111111111111,
              "#46039f"
             ],
             [
              0.2222222222222222,
              "#7201a8"
             ],
             [
              0.3333333333333333,
              "#9c179e"
             ],
             [
              0.4444444444444444,
              "#bd3786"
             ],
             [
              0.5555555555555556,
              "#d8576b"
             ],
             [
              0.6666666666666666,
              "#ed7953"
             ],
             [
              0.7777777777777778,
              "#fb9f3a"
             ],
             [
              0.8888888888888888,
              "#fdca26"
             ],
             [
              1,
              "#f0f921"
             ]
            ],
            "type": "contour"
           }
          ],
          "contourcarpet": [
           {
            "colorbar": {
             "outlinewidth": 0,
             "ticks": ""
            },
            "type": "contourcarpet"
           }
          ],
          "heatmap": [
           {
            "colorbar": {
             "outlinewidth": 0,
             "ticks": ""
            },
            "colorscale": [
             [
              0,
              "#0d0887"
             ],
             [
              0.1111111111111111,
              "#46039f"
             ],
             [
              0.2222222222222222,
              "#7201a8"
             ],
             [
              0.3333333333333333,
              "#9c179e"
             ],
             [
              0.4444444444444444,
              "#bd3786"
             ],
             [
              0.5555555555555556,
              "#d8576b"
             ],
             [
              0.6666666666666666,
              "#ed7953"
             ],
             [
              0.7777777777777778,
              "#fb9f3a"
             ],
             [
              0.8888888888888888,
              "#fdca26"
             ],
             [
              1,
              "#f0f921"
             ]
            ],
            "type": "heatmap"
           }
          ],
          "heatmapgl": [
           {
            "colorbar": {
             "outlinewidth": 0,
             "ticks": ""
            },
            "colorscale": [
             [
              0,
              "#0d0887"
             ],
             [
              0.1111111111111111,
              "#46039f"
             ],
             [
              0.2222222222222222,
              "#7201a8"
             ],
             [
              0.3333333333333333,
              "#9c179e"
             ],
             [
              0.4444444444444444,
              "#bd3786"
             ],
             [
              0.5555555555555556,
              "#d8576b"
             ],
             [
              0.6666666666666666,
              "#ed7953"
             ],
             [
              0.7777777777777778,
              "#fb9f3a"
             ],
             [
              0.8888888888888888,
              "#fdca26"
             ],
             [
              1,
              "#f0f921"
             ]
            ],
            "type": "heatmapgl"
           }
          ],
          "histogram": [
           {
            "marker": {
             "pattern": {
              "fillmode": "overlay",
              "size": 10,
              "solidity": 0.2
             }
            },
            "type": "histogram"
           }
          ],
          "histogram2d": [
           {
            "colorbar": {
             "outlinewidth": 0,
             "ticks": ""
            },
            "colorscale": [
             [
              0,
              "#0d0887"
             ],
             [
              0.1111111111111111,
              "#46039f"
             ],
             [
              0.2222222222222222,
              "#7201a8"
             ],
             [
              0.3333333333333333,
              "#9c179e"
             ],
             [
              0.4444444444444444,
              "#bd3786"
             ],
             [
              0.5555555555555556,
              "#d8576b"
             ],
             [
              0.6666666666666666,
              "#ed7953"
             ],
             [
              0.7777777777777778,
              "#fb9f3a"
             ],
             [
              0.8888888888888888,
              "#fdca26"
             ],
             [
              1,
              "#f0f921"
             ]
            ],
            "type": "histogram2d"
           }
          ],
          "histogram2dcontour": [
           {
            "colorbar": {
             "outlinewidth": 0,
             "ticks": ""
            },
            "colorscale": [
             [
              0,
              "#0d0887"
             ],
             [
              0.1111111111111111,
              "#46039f"
             ],
             [
              0.2222222222222222,
              "#7201a8"
             ],
             [
              0.3333333333333333,
              "#9c179e"
             ],
             [
              0.4444444444444444,
              "#bd3786"
             ],
             [
              0.5555555555555556,
              "#d8576b"
             ],
             [
              0.6666666666666666,
              "#ed7953"
             ],
             [
              0.7777777777777778,
              "#fb9f3a"
             ],
             [
              0.8888888888888888,
              "#fdca26"
             ],
             [
              1,
              "#f0f921"
             ]
            ],
            "type": "histogram2dcontour"
           }
          ],
          "mesh3d": [
           {
            "colorbar": {
             "outlinewidth": 0,
             "ticks": ""
            },
            "type": "mesh3d"
           }
          ],
          "parcoords": [
           {
            "line": {
             "colorbar": {
              "outlinewidth": 0,
              "ticks": ""
             }
            },
            "type": "parcoords"
           }
          ],
          "pie": [
           {
            "automargin": true,
            "type": "pie"
           }
          ],
          "scatter": [
           {
            "fillpattern": {
             "fillmode": "overlay",
             "size": 10,
             "solidity": 0.2
            },
            "type": "scatter"
           }
          ],
          "scatter3d": [
           {
            "line": {
             "colorbar": {
              "outlinewidth": 0,
              "ticks": ""
             }
            },
            "marker": {
             "colorbar": {
              "outlinewidth": 0,
              "ticks": ""
             }
            },
            "type": "scatter3d"
           }
          ],
          "scattercarpet": [
           {
            "marker": {
             "colorbar": {
              "outlinewidth": 0,
              "ticks": ""
             }
            },
            "type": "scattercarpet"
           }
          ],
          "scattergeo": [
           {
            "marker": {
             "colorbar": {
              "outlinewidth": 0,
              "ticks": ""
             }
            },
            "type": "scattergeo"
           }
          ],
          "scattergl": [
           {
            "marker": {
             "colorbar": {
              "outlinewidth": 0,
              "ticks": ""
             }
            },
            "type": "scattergl"
           }
          ],
          "scattermapbox": [
           {
            "marker": {
             "colorbar": {
              "outlinewidth": 0,
              "ticks": ""
             }
            },
            "type": "scattermapbox"
           }
          ],
          "scatterpolar": [
           {
            "marker": {
             "colorbar": {
              "outlinewidth": 0,
              "ticks": ""
             }
            },
            "type": "scatterpolar"
           }
          ],
          "scatterpolargl": [
           {
            "marker": {
             "colorbar": {
              "outlinewidth": 0,
              "ticks": ""
             }
            },
            "type": "scatterpolargl"
           }
          ],
          "scatterternary": [
           {
            "marker": {
             "colorbar": {
              "outlinewidth": 0,
              "ticks": ""
             }
            },
            "type": "scatterternary"
           }
          ],
          "surface": [
           {
            "colorbar": {
             "outlinewidth": 0,
             "ticks": ""
            },
            "colorscale": [
             [
              0,
              "#0d0887"
             ],
             [
              0.1111111111111111,
              "#46039f"
             ],
             [
              0.2222222222222222,
              "#7201a8"
             ],
             [
              0.3333333333333333,
              "#9c179e"
             ],
             [
              0.4444444444444444,
              "#bd3786"
             ],
             [
              0.5555555555555556,
              "#d8576b"
             ],
             [
              0.6666666666666666,
              "#ed7953"
             ],
             [
              0.7777777777777778,
              "#fb9f3a"
             ],
             [
              0.8888888888888888,
              "#fdca26"
             ],
             [
              1,
              "#f0f921"
             ]
            ],
            "type": "surface"
           }
          ],
          "table": [
           {
            "cells": {
             "fill": {
              "color": "#EBF0F8"
             },
             "line": {
              "color": "white"
             }
            },
            "header": {
             "fill": {
              "color": "#C8D4E3"
             },
             "line": {
              "color": "white"
             }
            },
            "type": "table"
           }
          ]
         },
         "layout": {
          "annotationdefaults": {
           "arrowcolor": "#2a3f5f",
           "arrowhead": 0,
           "arrowwidth": 1
          },
          "autotypenumbers": "strict",
          "coloraxis": {
           "colorbar": {
            "outlinewidth": 0,
            "ticks": ""
           }
          },
          "colorscale": {
           "diverging": [
            [
             0,
             "#8e0152"
            ],
            [
             0.1,
             "#c51b7d"
            ],
            [
             0.2,
             "#de77ae"
            ],
            [
             0.3,
             "#f1b6da"
            ],
            [
             0.4,
             "#fde0ef"
            ],
            [
             0.5,
             "#f7f7f7"
            ],
            [
             0.6,
             "#e6f5d0"
            ],
            [
             0.7,
             "#b8e186"
            ],
            [
             0.8,
             "#7fbc41"
            ],
            [
             0.9,
             "#4d9221"
            ],
            [
             1,
             "#276419"
            ]
           ],
           "sequential": [
            [
             0,
             "#0d0887"
            ],
            [
             0.1111111111111111,
             "#46039f"
            ],
            [
             0.2222222222222222,
             "#7201a8"
            ],
            [
             0.3333333333333333,
             "#9c179e"
            ],
            [
             0.4444444444444444,
             "#bd3786"
            ],
            [
             0.5555555555555556,
             "#d8576b"
            ],
            [
             0.6666666666666666,
             "#ed7953"
            ],
            [
             0.7777777777777778,
             "#fb9f3a"
            ],
            [
             0.8888888888888888,
             "#fdca26"
            ],
            [
             1,
             "#f0f921"
            ]
           ],
           "sequentialminus": [
            [
             0,
             "#0d0887"
            ],
            [
             0.1111111111111111,
             "#46039f"
            ],
            [
             0.2222222222222222,
             "#7201a8"
            ],
            [
             0.3333333333333333,
             "#9c179e"
            ],
            [
             0.4444444444444444,
             "#bd3786"
            ],
            [
             0.5555555555555556,
             "#d8576b"
            ],
            [
             0.6666666666666666,
             "#ed7953"
            ],
            [
             0.7777777777777778,
             "#fb9f3a"
            ],
            [
             0.8888888888888888,
             "#fdca26"
            ],
            [
             1,
             "#f0f921"
            ]
           ]
          },
          "colorway": [
           "#636efa",
           "#EF553B",
           "#00cc96",
           "#ab63fa",
           "#FFA15A",
           "#19d3f3",
           "#FF6692",
           "#B6E880",
           "#FF97FF",
           "#FECB52"
          ],
          "font": {
           "color": "#2a3f5f"
          },
          "geo": {
           "bgcolor": "white",
           "lakecolor": "white",
           "landcolor": "#E5ECF6",
           "showlakes": true,
           "showland": true,
           "subunitcolor": "white"
          },
          "hoverlabel": {
           "align": "left"
          },
          "hovermode": "closest",
          "mapbox": {
           "style": "light"
          },
          "paper_bgcolor": "white",
          "plot_bgcolor": "#E5ECF6",
          "polar": {
           "angularaxis": {
            "gridcolor": "white",
            "linecolor": "white",
            "ticks": ""
           },
           "bgcolor": "#E5ECF6",
           "radialaxis": {
            "gridcolor": "white",
            "linecolor": "white",
            "ticks": ""
           }
          },
          "scene": {
           "xaxis": {
            "backgroundcolor": "#E5ECF6",
            "gridcolor": "white",
            "gridwidth": 2,
            "linecolor": "white",
            "showbackground": true,
            "ticks": "",
            "zerolinecolor": "white"
           },
           "yaxis": {
            "backgroundcolor": "#E5ECF6",
            "gridcolor": "white",
            "gridwidth": 2,
            "linecolor": "white",
            "showbackground": true,
            "ticks": "",
            "zerolinecolor": "white"
           },
           "zaxis": {
            "backgroundcolor": "#E5ECF6",
            "gridcolor": "white",
            "gridwidth": 2,
            "linecolor": "white",
            "showbackground": true,
            "ticks": "",
            "zerolinecolor": "white"
           }
          },
          "shapedefaults": {
           "line": {
            "color": "#2a3f5f"
           }
          },
          "ternary": {
           "aaxis": {
            "gridcolor": "white",
            "linecolor": "white",
            "ticks": ""
           },
           "baxis": {
            "gridcolor": "white",
            "linecolor": "white",
            "ticks": ""
           },
           "bgcolor": "#E5ECF6",
           "caxis": {
            "gridcolor": "white",
            "linecolor": "white",
            "ticks": ""
           }
          },
          "title": {
           "x": 0.05
          },
          "xaxis": {
           "automargin": true,
           "gridcolor": "white",
           "linecolor": "white",
           "ticks": "",
           "title": {
            "standoff": 15
           },
           "zerolinecolor": "white",
           "zerolinewidth": 2
          },
          "yaxis": {
           "automargin": true,
           "gridcolor": "white",
           "linecolor": "white",
           "ticks": "",
           "title": {
            "standoff": 15
           },
           "zerolinecolor": "white",
           "zerolinewidth": 2
          }
         }
        },
        "title": {
         "text": "Population Growth Rate"
        },
        "xaxis": {
         "range": [
          0,
          2000
         ],
         "showgrid": true,
         "title": {
          "text": "Year"
         },
         "type": "linear"
        },
        "yaxis": {
         "autorange": true,
         "range": [
          -0.24486434858603898,
          2.424293526005995
         ],
         "showgrid": true,
         "title": {
          "text": "Growth rate (%)"
         },
         "type": "linear"
        }
       }
      },
      "image/png": "[encoded data removed]",
      "text/html": [
       "<div>                            <div id=\"7bbf4c81-4833-4fde-ab67-611573ddc04e\" class=\"plotly-graph-div\" style=\"height:525px; width:100%;\"></div>            <script type=\"text/javascript\">                require([\"plotly\"], function(Plotly) {                    window.PLOTLYENV=window.PLOTLYENV || {};                                    if (document.getElementById(\"7bbf4c81-4833-4fde-ab67-611573ddc04e\")) {                    Plotly.newPlot(                        \"7bbf4c81-4833-4fde-ab67-611573ddc04e\",                        [{\"mode\":\"lines+markers\",\"name\":\"Growth Rate (%)\",\"x\":[-9500.0,-8500.0,-7500.0,-6500.0,-5500.0,-4500.0,-3500.0,-2500.0,-1500.0,-500.0,50.0,150.0,250.0,350.0,450.0,550.0,650.0,750.0,850.0,950.0,1050.0,1150.0,1250.0,1350.0,1450.0,1550.0,1650.0,1705.0,1715.0,1725.0,1735.0,1745.0,1755.0,1765.0,1775.0,1785.0,1795.0,1800.5,1801.5,1802.5,1803.5,1804.5,1805.5,1806.5,1807.5,1808.5,1809.5,1810.5,1811.5,1812.5,1813.5,1814.5,1815.5,1816.5,1817.5,1818.5,1819.5,1820.5,1821.5,1822.5,1823.5,1824.5,1825.5,1826.5,1827.5,1828.5,1829.5,1830.5,1831.5,1832.5,1833.5,1834.5,1835.5,1836.5,1837.5,1838.5,1839.5,1840.5,1841.5,1842.5,1843.5,1844.5,1845.5,1846.5,1847.5,1848.5,1849.5,1850.5,1851.5,1852.5,1853.5,1854.5,1855.5,1856.5,1857.5,1858.5,1859.5,1860.5,1861.5,1862.5,1863.5,1864.5,1865.5,1866.5,1867.5,1868.5,1869.5,1870.5,1871.5,1872.5,1873.5,1874.5,1875.5,1876.5,1877.5,1878.5,1879.5,1880.5,1881.5,1882.5,1883.5,1884.5,1885.5,1886.5,1887.5,1888.5,1889.5,1890.5,1891.5,1892.5,1893.5,1894.5,1895.5,1896.5,1897.5,1898.5,1899.5,1900.5,1901.5,1902.5,1903.5,1904.5,1905.5,1906.5,1907.5,1908.5,1909.5,1910.5,1911.5,1912.5,1913.5,1914.5,1915.5,1916.5,1917.5,1918.5,1919.5,1920.5,1921.5,1922.5,1923.5,1924.5,1925.5,1926.5,1927.5,1928.5,1929.5,1930.5,1931.5,1932.5,1933.5,1934.5,1935.5,1936.5,1937.5,1938.5,1939.5,1940.5,1941.5,1942.5,1943.5,1944.5,1945.5,1946.5,1947.5,1948.5,1949.5,1950.5,1951.5,1952.5,1953.5,1954.5,1955.5,1956.5,1957.5,1958.5,1959.5,1960.5,1961.5,1962.5,1963.5,1964.5,1965.5,1966.5,1967.5,1968.5,1969.5,1970.5,1971.5,1972.5,1973.5,1974.5,1975.5,1976.5,1977.5,1978.5,1979.5,1980.5,1981.5,1982.5,1983.5,1984.5,1985.5,1986.5,1987.5,1988.5,1989.5,1990.5,1991.5,1992.5,1993.5,1994.5,1995.5,1996.5,1997.5,1998.5,1999.5,2000.5,2001.5,2002.5,2003.5,2004.5,2005.5,2006.5,2007.5,2008.5,2009.5,2010.5,2011.5,2012.5,2013.5,2014.5,2015.5,2016.5,2017.5,2018.5,2019.5,2020.5],\"y\":[0.023691409544412956,0.02542558902784986,0.02794787133446608,0.03209468596696574,0.03681311315495428,0.041116068111857196,0.04358004131086446,0.048969231979123506,0.04196018342927932,0.0743259836878396,0.020387104762309427,0.015529378520762194,-0.05579899913576991,0.05968207685542737,0.04730464582884952,0.06958079670791317,0.024406881151972648,0.026706755474381616,0.08473422519370555,0.039231954723928375,0.20756231779930356,0.11131521609488715,0.025834898229692982,-0.030943993138565773,0.12875415462838546,0.026225466707852085,0.13750328400585765,0.34032884651531425,0.47143053455278583,0.3375167535971002,0.45110924570681554,0.7010934254391366,0.44980851746296846,0.4883753062302487,0.8488336841488309,0.44579593570395204,0.5626551354106946,0.23217280731859802,0.3513888699518519,0.3543059702695306,0.35722334092953556,0.3601418942255963,0.36306401748247286,0.36599294354799916,0.3689291630292191,0.37187620937613186,0.5966989584105686,0.4750279634946786,0.5984646222483958,0.6585555195568249,0.6712139324629884,0.6834664376875965,0.6958565979817699,0.7083890528855274,0.7210718712802544,0.7054971606445193,0.7989790348376324,0.540203007986606,0.6305837242406298,0.6554502742860402,0.661093777369337,0.6661566376829908,0.6751695424234816,0.6799227017253662,0.684679527527754,0.6411518125547744,0.6662222595695155,0.4840913717740092,0.5075271581153729,0.4640762489266148,0.46624457545310083,0.47166363355817253,0.4695772139373,0.47567707127431635,0.47887731585722904,0.4717502557372244,0.5331837585350829,0.38478374382706626,0.448033667300507,0.4493504278336724,0.4387262444929263,0.4510094894756067,0.455741384805175,0.46053513208046404,0.46539685946580533,0.40171323660920244,0.42527599689667905,0.15127512528780862,0.1748052248147225,0.11603148120409301,0.12507119917639642,0.13271347731436123,0.14190303799914705,0.1506826367228653,0.15954666376030158,0.18832035350051513,0.31210056444233025,0.14989530682150143,0.269863558873884,0.2974537500829655,0.3029187842712,0.3078286402413033,0.3126462155320642,0.3180009117411009,0.3232206994024267,0.3660039747412247,0.5070774229103181,0.350950911059722,0.4921747566909218,0.5342455117350431,0.5366959940079186,0.541142350117152,0.5440599566054471,0.5448128224884607,0.5467456047225872,0.5815944383749105,0.7212472161733263,0.5553954744369483,0.6917445600362004,0.7293793165433993,0.7330888364090793,0.7407139255899864,0.742178102972213,0.7473192073156554,0.7503555461622291,0.7298688893274674,0.8146047535100287,0.5876651520591691,0.6671166022828023,0.6490130876193989,0.6537349544800009,0.659194769777649,0.6604989126586469,0.6653874680961458,0.6688481214641051,0.7054677943444387,0.8533506700876936,0.6612504785140638,0.805088334320514,0.8392739220359546,0.8434380826253918,0.8472345272907411,0.8516685878839692,0.8558503477091195,0.8613910619728715,0.8198448529423308,0.8974821406125599,0.6186267793744094,0.697886689821603,0.6620321410610641,0.6682336227854524,0.6713400557949445,0.6714257391083667,0.6708002339040897,0.7003659818812347,0.7389919114356491,0.9065972243036624,0.689276364183744,0.8423047787173843,0.8733661615107247,0.879670189622006,0.8858828956415765,0.8932385679909727,0.901325279879539,0.8944047166788316,0.9277950100879506,1.0779846929302561,0.8612790210975385,1.0020890022998108,1.0273863473899914,1.0295610001808786,1.0318500617123583,1.041071265150162,1.0486960622257735,1.041326712524815,1.0017007130888933,1.076026187735546,0.736200481605187,0.8232226163499501,0.767034674306144,0.7616910931445453,0.750404737913879,0.7412711502858604,0.7875159428831768,0.8509536372445892,1.066062578967375,1.4647379331806043,1.752805522331946,1.8536449642207575,1.9306014105606728,1.9581447350674575,2.009406265619762,2.000336725322005,2.030130101064609,2.037928463922989,1.8580996110366677,1.647693503169534,1.6274710589329944,1.9005536791257382,2.209770731363947,2.235228176555726,2.1394317184937783,2.0767906702218397,2.026503804659474,2.05334145945677,2.081996545584097,2.0641248771050336,2.023412624683818,1.9796906404475179,1.9624065992696949,1.9199160582810348,1.8500799103610799,1.7955442164652613,1.768656287057846,1.752589483236422,1.769960567482043,1.7964402630895382,1.8141173724492088,1.842299389521318,1.820739402464655,1.7893052647384389,1.7985260197871167,1.816889732136051,1.8367739984270548,1.8113439274288101,1.781073286823709,1.7702344326371078,1.694263285652453,1.5988996762404506,1.5429110423537784,1.4934146055992858,1.4572667472797063,1.4264756723274097,1.3962880442765835,1.3685218985694858,1.3436070042935677,1.3372355338425512,1.3311053320152144,1.310603916634312,1.2909645539946002,1.2801724652215407,1.2728226672586773,1.2692543285009794,1.2728041965178738,1.2734099446295888,1.2729574581170189,1.2654849377885968,1.2528954636831457,1.2522387387694067,1.241262764526363,1.2194912689958537,1.1933993911403595,1.1698045228728526,1.1492458408502326,1.1048611965867705,1.0562654348834188,0.9787800542267799,0.8716067226050228],\"type\":\"scatter\"},{\"hovertext\":\"Three Kingdoms\",\"marker\":{\"size\":0},\"mode\":\"text\",\"showlegend\":false,\"x\":[250.0],\"y\":[1.117614088277863],\"type\":\"scatter\"},{\"hovertext\":\"Black Death, Mongols\",\"marker\":{\"size\":0},\"mode\":\"text\",\"showlegend\":false,\"x\":[1287.5],\"y\":[1.117614088277863],\"type\":\"scatter\"},{\"hovertext\":\"Ming to Qing\",\"marker\":{\"size\":0},\"mode\":\"text\",\"showlegend\":false,\"x\":[1650.5],\"y\":[1.117614088277863],\"type\":\"scatter\"},{\"hovertext\":\"Taping Rebellion\",\"marker\":{\"size\":0},\"mode\":\"text\",\"showlegend\":false,\"x\":[1857.0],\"y\":[1.117614088277863],\"type\":\"scatter\"},{\"hovertext\":\"WWI\",\"marker\":{\"size\":0},\"mode\":\"text\",\"showlegend\":false,\"x\":[1916.0],\"y\":[1.117614088277863],\"type\":\"scatter\"},{\"hovertext\":\"WWII\",\"marker\":{\"size\":0},\"mode\":\"text\",\"showlegend\":false,\"x\":[1942.0],\"y\":[1.117614088277863],\"type\":\"scatter\"},{\"hovertext\":\"Great Leap Forward\",\"marker\":{\"size\":0},\"mode\":\"text\",\"showlegend\":false,\"x\":[1960.0],\"y\":[1.117614088277863],\"type\":\"scatter\"}],                        {\"template\":{\"data\":{\"histogram2dcontour\":[{\"type\":\"histogram2dcontour\",\"colorbar\":{\"outlinewidth\":0,\"ticks\":\"\"},\"colorscale\":[[0.0,\"#0d0887\"],[0.1111111111111111,\"#46039f\"],[0.2222222222222222,\"#7201a8\"],[0.3333333333333333,\"#9c179e\"],[0.4444444444444444,\"#bd3786\"],[0.5555555555555556,\"#d8576b\"],[0.6666666666666666,\"#ed7953\"],[0.7777777777777778,\"#fb9f3a\"],[0.8888888888888888,\"#fdca26\"],[1.0,\"#f0f921\"]]}],\"choropleth\":[{\"type\":\"choropleth\",\"colorbar\":{\"outlinewidth\":0,\"ticks\":\"\"}}],\"histogram2d\":[{\"type\":\"histogram2d\",\"colorbar\":{\"outlinewidth\":0,\"ticks\":\"\"},\"colorscale\":[[0.0,\"#0d0887\"],[0.1111111111111111,\"#46039f\"],[0.2222222222222222,\"#7201a8\"],[0.3333333333333333,\"#9c179e\"],[0.4444444444444444,\"#bd3786\"],[0.5555555555555556,\"#d8576b\"],[0.6666666666666666,\"#ed7953\"],[0.7777777777777778,\"#fb9f3a\"],[0.8888888888888888,\"#fdca26\"],[1.0,\"#f0f921\"]]}],\"heatmap\":[{\"type\":\"heatmap\",\"colorbar\":{\"outlinewidth\":0,\"ticks\":\"\"},\"colorscale\":[[0.0,\"#0d0887\"],[0.1111111111111111,\"#46039f\"],[0.2222222222222222,\"#7201a8\"],[0.3333333333333333,\"#9c179e\"],[0.4444444444444444,\"#bd3786\"],[0.5555555555555556,\"#d8576b\"],[0.6666666666666666,\"#ed7953\"],[0.7777777777777778,\"#fb9f3a\"],[0.8888888888888888,\"#fdca26\"],[1.0,\"#f0f921\"]]}],\"heatmapgl\":[{\"type\":\"heatmapgl\",\"colorbar\":{\"outlinewidth\":0,\"ticks\":\"\"},\"colorscale\":[[0.0,\"#0d0887\"],[0.1111111111111111,\"#46039f\"],[0.2222222222222222,\"#7201a8\"],[0.3333333333333333,\"#9c179e\"],[0.4444444444444444,\"#bd3786\"],[0.5555555555555556,\"#d8576b\"],[0.6666666666666666,\"#ed7953\"],[0.7777777777777778,\"#fb9f3a\"],[0.8888888888888888,\"#fdca26\"],[1.0,\"#f0f921\"]]}],\"contourcarpet\":[{\"type\":\"contourcarpet\",\"colorbar\":{\"outlinewidth\":0,\"ticks\":\"\"}}],\"contour\":[{\"type\":\"contour\",\"colorbar\":{\"outlinewidth\":0,\"ticks\":\"\"},\"colorscale\":[[0.0,\"#0d0887\"],[0.1111111111111111,\"#46039f\"],[0.2222222222222222,\"#7201a8\"],[0.3333333333333333,\"#9c179e\"],[0.4444444444444444,\"#bd3786\"],[0.5555555555555556,\"#d8576b\"],[0.6666666666666666,\"#ed7953\"],[0.7777777777777778,\"#fb9f3a\"],[0.8888888888888888,\"#fdca26\"],[1.0,\"#f0f921\"]]}],\"surface\":[{\"type\":\"surface\",\"colorbar\":{\"outlinewidth\":0,\"ticks\":\"\"},\"colorscale\":[[0.0,\"#0d0887\"],[0.1111111111111111,\"#46039f\"],[0.2222222222222222,\"#7201a8\"],[0.3333333333333333,\"#9c179e\"],[0.4444444444444444,\"#bd3786\"],[0.5555555555555556,\"#d8576b\"],[0.6666666666666666,\"#ed7953\"],[0.7777777777777778,\"#fb9f3a\"],[0.8888888888888888,\"#fdca26\"],[1.0,\"#f0f921\"]]}],\"mesh3d\":[{\"type\":\"mesh3d\",\"colorbar\":{\"outlinewidth\":0,\"ticks\":\"\"}}],\"scatter\":[{\"fillpattern\":{\"fillmode\":\"overlay\",\"size\":10,\"solidity\":0.2},\"type\":\"scatter\"}],\"parcoords\":[{\"type\":\"parcoords\",\"line\":{\"colorbar\":{\"outlinewidth\":0,\"ticks\":\"\"}}}],\"scatterpolargl\":[{\"type\":\"scatterpolargl\",\"marker\":{\"colorbar\":{\"outlinewidth\":0,\"ticks\":\"\"}}}],\"bar\":[{\"error_x\":{\"color\":\"#2a3f5f\"},\"error_y\":{\"color\":\"#2a3f5f\"},\"marker\":{\"line\":{\"color\":\"#E5ECF6\",\"width\":0.5},\"pattern\":{\"fillmode\":\"overlay\",\"size\":10,\"solidity\":0.2}},\"type\":\"bar\"}],\"scattergeo\":[{\"type\":\"scattergeo\",\"marker\":{\"colorbar\":{\"outlinewidth\":0,\"ticks\":\"\"}}}],\"scatterpolar\":[{\"type\":\"scatterpolar\",\"marker\":{\"colorbar\":{\"outlinewidth\":0,\"ticks\":\"\"}}}],\"histogram\":[{\"marker\":{\"pattern\":{\"fillmode\":\"overlay\",\"size\":10,\"solidity\":0.2}},\"type\":\"histogram\"}],\"scattergl\":[{\"type\":\"scattergl\",\"marker\":{\"colorbar\":{\"outlinewidth\":0,\"ticks\":\"\"}}}],\"scatter3d\":[{\"type\":\"scatter3d\",\"line\":{\"colorbar\":{\"outlinewidth\":0,\"ticks\":\"\"}},\"marker\":{\"colorbar\":{\"outlinewidth\":0,\"ticks\":\"\"}}}],\"scattermapbox\":[{\"type\":\"scattermapbox\",\"marker\":{\"colorbar\":{\"outlinewidth\":0,\"ticks\":\"\"}}}],\"scatterternary\":[{\"type\":\"scatterternary\",\"marker\":{\"colorbar\":{\"outlinewidth\":0,\"ticks\":\"\"}}}],\"scattercarpet\":[{\"type\":\"scattercarpet\",\"marker\":{\"colorbar\":{\"outlinewidth\":0,\"ticks\":\"\"}}}],\"carpet\":[{\"aaxis\":{\"endlinecolor\":\"#2a3f5f\",\"gridcolor\":\"white\",\"linecolor\":\"white\",\"minorgridcolor\":\"white\",\"startlinecolor\":\"#2a3f5f\"},\"baxis\":{\"endlinecolor\":\"#2a3f5f\",\"gridcolor\":\"white\",\"linecolor\":\"white\",\"minorgridcolor\":\"white\",\"startlinecolor\":\"#2a3f5f\"},\"type\":\"carpet\"}],\"table\":[{\"cells\":{\"fill\":{\"color\":\"#EBF0F8\"},\"line\":{\"color\":\"white\"}},\"header\":{\"fill\":{\"color\":\"#C8D4E3\"},\"line\":{\"color\":\"white\"}},\"type\":\"table\"}],\"barpolar\":[{\"marker\":{\"line\":{\"color\":\"#E5ECF6\",\"width\":0.5},\"pattern\":{\"fillmode\":\"overlay\",\"size\":10,\"solidity\":0.2}},\"type\":\"barpolar\"}],\"pie\":[{\"automargin\":true,\"type\":\"pie\"}]},\"layout\":{\"autotypenumbers\":\"strict\",\"colorway\":[\"#636efa\",\"#EF553B\",\"#00cc96\",\"#ab63fa\",\"#FFA15A\",\"#19d3f3\",\"#FF6692\",\"#B6E880\",\"#FF97FF\",\"#FECB52\"],\"font\":{\"color\":\"#2a3f5f\"},\"hovermode\":\"closest\",\"hoverlabel\":{\"align\":\"left\"},\"paper_bgcolor\":\"white\",\"plot_bgcolor\":\"#E5ECF6\",\"polar\":{\"bgcolor\":\"#E5ECF6\",\"angularaxis\":{\"gridcolor\":\"white\",\"linecolor\":\"white\",\"ticks\":\"\"},\"radialaxis\":{\"gridcolor\":\"white\",\"linecolor\":\"white\",\"ticks\":\"\"}},\"ternary\":{\"bgcolor\":\"#E5ECF6\",\"aaxis\":{\"gridcolor\":\"white\",\"linecolor\":\"white\",\"ticks\":\"\"},\"baxis\":{\"gridcolor\":\"white\",\"linecolor\":\"white\",\"ticks\":\"\"},\"caxis\":{\"gridcolor\":\"white\",\"linecolor\":\"white\",\"ticks\":\"\"}},\"coloraxis\":{\"colorbar\":{\"outlinewidth\":0,\"ticks\":\"\"}},\"colorscale\":{\"sequential\":[[0.0,\"#0d0887\"],[0.1111111111111111,\"#46039f\"],[0.2222222222222222,\"#7201a8\"],[0.3333333333333333,\"#9c179e\"],[0.4444444444444444,\"#bd3786\"],[0.5555555555555556,\"#d8576b\"],[0.6666666666666666,\"#ed7953\"],[0.7777777777777778,\"#fb9f3a\"],[0.8888888888888888,\"#fdca26\"],[1.0,\"#f0f921\"]],\"sequentialminus\":[[0.0,\"#0d0887\"],[0.1111111111111111,\"#46039f\"],[0.2222222222222222,\"#7201a8\"],[0.3333333333333333,\"#9c179e\"],[0.4444444444444444,\"#bd3786\"],[0.5555555555555556,\"#d8576b\"],[0.6666666666666666,\"#ed7953\"],[0.7777777777777778,\"#fb9f3a\"],[0.8888888888888888,\"#fdca26\"],[1.0,\"#f0f921\"]],\"diverging\":[[0,\"#8e0152\"],[0.1,\"#c51b7d\"],[0.2,\"#de77ae\"],[0.3,\"#f1b6da\"],[0.4,\"#fde0ef\"],[0.5,\"#f7f7f7\"],[0.6,\"#e6f5d0\"],[0.7,\"#b8e186\"],[0.8,\"#7fbc41\"],[0.9,\"#4d9221\"],[1,\"#276419\"]]},\"xaxis\":{\"gridcolor\":\"white\",\"linecolor\":\"white\",\"ticks\":\"\",\"title\":{\"standoff\":15},\"zerolinecolor\":\"white\",\"automargin\":true,\"zerolinewidth\":2},\"yaxis\":{\"gridcolor\":\"white\",\"linecolor\":\"white\",\"ticks\":\"\",\"title\":{\"standoff\":15},\"zerolinecolor\":\"white\",\"automargin\":true,\"zerolinewidth\":2},\"scene\":{\"xaxis\":{\"backgroundcolor\":\"#E5ECF6\",\"gridcolor\":\"white\",\"linecolor\":\"white\",\"showbackground\":true,\"ticks\":\"\",\"zerolinecolor\":\"white\",\"gridwidth\":2},\"yaxis\":{\"backgroundcolor\":\"#E5ECF6\",\"gridcolor\":\"white\",\"linecolor\":\"white\",\"showbackground\":true,\"ticks\":\"\",\"zerolinecolor\":\"white\",\"gridwidth\":2},\"zaxis\":{\"backgroundcolor\":\"#E5ECF6\",\"gridcolor\":\"white\",\"linecolor\":\"white\",\"showbackground\":true,\"ticks\":\"\",\"zerolinecolor\":\"white\",\"gridwidth\":2}},\"shapedefaults\":{\"line\":{\"color\":\"#2a3f5f\"}},\"annotationdefaults\":{\"arrowcolor\":\"#2a3f5f\",\"arrowhead\":0,\"arrowwidth\":1},\"geo\":{\"bgcolor\":\"white\",\"landcolor\":\"#E5ECF6\",\"subunitcolor\":\"white\",\"showland\":true,\"showlakes\":true,\"lakecolor\":\"white\"},\"title\":{\"x\":0.05},\"mapbox\":{\"style\":\"light\"}}},\"shapes\":[{\"fillcolor\":\"rgba(255, 0, 0, 0.2)\",\"line\":{\"color\":\"rgba(255, 0, 0, 0)\"},\"name\":\"Three Kingdoms\",\"type\":\"rect\",\"x0\":220,\"x1\":280,\"y0\":-0.05579899913576991,\"y1\":2.235228176555726},{\"fillcolor\":\"rgba(255, 0, 0, 0.2)\",\"line\":{\"color\":\"rgba(255, 0, 0, 0)\"},\"name\":\"Black Death, Mongols\",\"type\":\"rect\",\"x0\":1207,\"x1\":1368,\"y0\":-0.05579899913576991,\"y1\":2.235228176555726},{\"fillcolor\":\"rgba(255, 0, 0, 0.2)\",\"line\":{\"color\":\"rgba(255, 0, 0, 0)\"},\"name\":\"Ming to Qing\",\"type\":\"rect\",\"x0\":1618,\"x1\":1683,\"y0\":-0.05579899913576991,\"y1\":2.235228176555726},{\"fillcolor\":\"rgba(255, 0, 0, 0.2)\",\"line\":{\"color\":\"rgba(255, 0, 0, 0)\"},\"name\":\"Taping Rebellion\",\"type\":\"rect\",\"x0\":1850,\"x1\":1864,\"y0\":-0.05579899913576991,\"y1\":2.235228176555726},{\"fillcolor\":\"rgba(255, 0, 0, 0.2)\",\"line\":{\"color\":\"rgba(255, 0, 0, 0)\"},\"name\":\"WWI\",\"type\":\"rect\",\"x0\":1914,\"x1\":1918,\"y0\":-0.05579899913576991,\"y1\":2.235228176555726},{\"fillcolor\":\"rgba(255, 0, 0, 0.2)\",\"line\":{\"color\":\"rgba(255, 0, 0, 0)\"},\"name\":\"WWII\",\"type\":\"rect\",\"x0\":1939,\"x1\":1945,\"y0\":-0.05579899913576991,\"y1\":2.235228176555726},{\"fillcolor\":\"rgba(255, 0, 0, 0.2)\",\"line\":{\"color\":\"rgba(255, 0, 0, 0)\"},\"name\":\"Great Leap Forward\",\"type\":\"rect\",\"x0\":1959,\"x1\":1961,\"y0\":-0.05579899913576991,\"y1\":2.235228176555726}],\"xaxis\":{\"showgrid\":true,\"title\":{\"text\":\"Year\"},\"range\":[0,2000]},\"yaxis\":{\"showgrid\":true,\"title\":{\"text\":\"Growth rate (%)\"}},\"title\":{\"text\":\"Population Growth Rate\"},\"hovermode\":\"x\",\"showlegend\":false},                        {\"responsive\": true}                    ).then(function(){\n",
       "                            \n",
       "var gd = document.getElementById('7bbf4c81-4833-4fde-ab67-611573ddc04e');\n",
       "var x = new MutationObserver(function (mutations, observer) {{\n",
       "        var display = window.getComputedStyle(gd).display;\n",
       "        if (!display || display === 'none') {{\n",
       "            console.log([gd, 'removed!']);\n",
       "            Plotly.purge(gd);\n",
       "            observer.disconnect();\n",
       "        }}\n",
       "}});\n",
       "\n",
       "// Listen for the removal of the full notebook cells\n",
       "var notebookContainer = gd.closest('#notebook-container');\n",
       "if (notebookContainer) {{\n",
       "    x.observe(notebookContainer, {childList: true});\n",
       "}}\n",
       "\n",
       "// Listen for the clearing of the current output cell\n",
       "var outputEl = gd.closest('.output');\n",
       "if (outputEl) {{\n",
       "    x.observe(outputEl, {childList: true});\n",
       "}}\n",
       "\n",
       "                        })                };                });            </script>        </div>"
      ]
     },
     "metadata": {},
     "output_type": "display_data"
    }
   ],
   "source": [
    "fig.update_xaxes(range=[0, 2000])"
   ]
  },
  {
   "cell_type": "code",
   "execution_count": 103,
   "id": "f4ab8235-8ad2-454c-a6ab-bf27a37de6e8",
   "metadata": {},
   "outputs": [
    {
     "data": {
      "text/latex": [
       "$\\displaystyle \\frac{69784}{(2016 - t)^{0.79}}$"
      ],
      "text/plain": [
       "<IPython.core.display.Math object>"
      ]
     },
     "metadata": {},
     "output_type": "display_data"
    }
   ],
   "source": [
    "def power_law(t, C, a, t_infty):\n",
    "    return C / ((t_infty - t) ** a)\n",
    "\n",
    "filtered_df = df[(df['Entity'] == 'World') & (df['Year'] >= -10000) & (df['Year'] <= 1900)]\n",
    "years = filtered_df['Year']\n",
    "populations = filtered_df['Population (historical estimates)']/(10**6)\n",
    "\n",
    "popt, _ = curve_fit(power_law, years, populations, p0=[10000, 1, 2000])\n",
    "C_fit, a_fit, t_infty_fit = popt\n",
    "\n",
    "params_latex = fr'$\\frac{{{C_fit:.0f}}}{{({t_infty_fit:.0f} - t)^{{{a_fit:.2f}}}}}$'\n",
    "display(Math(params_latex))"
   ]
  },
  {
   "cell_type": "code",
   "execution_count": 23,
   "id": "ba23bf76-03b9-407b-9faa-c0af1bab4ffb",
   "metadata": {},
   "outputs": [
    {
     "data": {
      "application/vnd.plotly.v1+json": {
       "config": {
        "plotlyServerURL": "https://plot.ly"
       },
       "data": [
        {
         "marker": {
          "size": 2
         },
         "mode": "markers",
         "name": "Data",
         "type": "scatter",
         "x": [
          -10000,
          -9000,
          -8000,
          -7000,
          -6000,
          -5000,
          -4000,
          -3000,
          -2000,
          -1000,
          0,
          100,
          200,
          300,
          400,
          500,
          600,
          700,
          800,
          900,
          1000,
          1100,
          1200,
          1300,
          1400,
          1500,
          1600,
          1700,
          1710,
          1720,
          1730,
          1740,
          1750,
          1760,
          1770,
          1780,
          1790,
          1800,
          1801,
          1802,
          1803,
          1804,
          1805,
          1806,
          1807,
          1808,
          1809,
          1810,
          1811,
          1812,
          1813,
          1814,
          1815,
          1816,
          1817,
          1818,
          1819,
          1820,
          1821,
          1822,
          1823,
          1824,
          1825,
          1826,
          1827,
          1828,
          1829,
          1830,
          1831,
          1832,
          1833,
          1834,
          1835,
          1836,
          1837,
          1838,
          1839,
          1840,
          1841,
          1842,
          1843,
          1844,
          1845,
          1846,
          1847,
          1848,
          1849,
          1850,
          1851,
          1852,
          1853,
          1854,
          1855,
          1856,
          1857,
          1858,
          1859,
          1860,
          1861,
          1862,
          1863,
          1864,
          1865,
          1866,
          1867,
          1868,
          1869,
          1870,
          1871,
          1872,
          1873,
          1874,
          1875,
          1876,
          1877,
          1878,
          1879,
          1880,
          1881,
          1882,
          1883,
          1884,
          1885,
          1886,
          1887,
          1888,
          1889,
          1890,
          1891,
          1892,
          1893,
          1894,
          1895,
          1896,
          1897,
          1898,
          1899,
          1900,
          1901,
          1902,
          1903,
          1904,
          1905,
          1906,
          1907,
          1908,
          1909,
          1910,
          1911,
          1912,
          1913,
          1914,
          1915,
          1916,
          1917,
          1918,
          1919,
          1920,
          1921,
          1922,
          1923,
          1924,
          1925,
          1926,
          1927,
          1928,
          1929,
          1930,
          1931,
          1932,
          1933,
          1934,
          1935,
          1936,
          1937,
          1938,
          1939,
          1940,
          1941,
          1942,
          1943,
          1944,
          1945,
          1946,
          1947,
          1948,
          1949,
          1950,
          1951,
          1952,
          1953,
          1954,
          1955,
          1956,
          1957,
          1958,
          1959,
          1960,
          1961,
          1962,
          1963,
          1964,
          1965,
          1966,
          1967,
          1968,
          1969,
          1970,
          1971,
          1972,
          1973,
          1974,
          1975,
          1976,
          1977,
          1978,
          1979,
          1980,
          1981,
          1982,
          1983,
          1984,
          1985,
          1986,
          1987,
          1988,
          1989,
          1990,
          1991,
          1992,
          1993,
          1994,
          1995,
          1996,
          1997,
          1998,
          1999,
          2000,
          2001,
          2002,
          2003,
          2004,
          2005,
          2006,
          2007,
          2008,
          2009,
          2010,
          2011,
          2012,
          2013,
          2014,
          2015,
          2016,
          2017,
          2018,
          2019,
          2020,
          2021
         ],
         "y": [
          4.432266,
          5.616996,
          7.242892,
          9.577918,
          13.201832,
          19.075771,
          28.774661,
          44.487162,
          72.586076,
          110.419521,
          232.123764,
          236.904172,
          240.611571,
          227.549847,
          241.539639,
          253.237316,
          271.478693,
          278.185334,
          285.71384,
          310.967715,
          323.407571,
          397.923813,
          444.750686,
          456.388961,
          442.480612,
          503.240399,
          516.610918,
          592.706212,
          613.189457,
          642.718111,
          664.743383,
          695.34669,
          745.664133,
          779.891857,
          818.8279,
          891.048681,
          931.577684,
          985.340629,
          987.628322,
          991.098738,
          994.61026,
          998.16324,
          1001.758044,
          1005.395067,
          1009.074742,
          1012.797513,
          1016.563866,
          1022.629692,
          1027.487469,
          1033.636618,
          1040.443689,
          1047.427292,
          1054.586106,
          1061.924513,
          1069.44707,
          1077.158552,
          1084.757875,
          1093.424863,
          1099.331577,
          1106.263783,
          1113.514792,
          1120.876169,
          1128.34296,
          1135.961188,
          1143.684846,
          1151.515422,
          1158.898384,
          1166.619223,
          1172.266726,
          1178.216298,
          1183.68412,
          1189.202983,
          1194.812021,
          1200.422586,
          1206.132721,
          1211.908617,
          1217.625799,
          1224.117982,
          1228.828189,
          1234.333753,
          1239.880237,
          1245.319917,
          1250.936428,
          1256.637463,
          1262.42472,
          1268.300005,
          1273.394934,
          1278.810377,
          1280.744899,
          1282.983708,
          1284.472373,
          1286.078878,
          1287.785678,
          1289.613085,
          1291.556308,
          1293.616943,
          1296.053087,
          1300.098076,
          1302.046862,
          1305.560612,
          1309.444051,
          1313.410603,
          1317.453657,
          1321.572626,
          1325.775239,
          1330.060419,
          1334.928493,
          1341.697614,
          1346.406314,
          1353.032986,
          1360.261504,
          1367.561973,
          1374.96243,
          1382.44305,
          1389.974777,
          1397.574403,
          1405.702618,
          1415.841209,
          1423.704727,
          1433.553127,
          1444.009167,
          1454.595037,
          1465.369425,
          1476.245076,
          1487.277339,
          1498.437207,
          1509.373834,
          1521.669265,
          1530.611585,
          1540.822549,
          1550.822689,
          1560.960959,
          1571.250732,
          1581.628826,
          1592.152786,
          1602.80187,
          1614.109121,
          1627.883132,
          1638.647517,
          1651.840077,
          1665.70354,
          1679.752718,
          1693.984163,
          1708.411294,
          1723.032738,
          1737.874788,
          1752.122665,
          1767.847653,
          1778.784032,
          1791.197929,
          1803.056235,
          1815.104863,
          1827.290389,
          1839.559287,
          1851.899055,
          1864.869126,
          1878.650358,
          1895.68215,
          1908.748639,
          1924.82612,
          1941.6369,
          1958.716901,
          1976.068839,
          1993.719848,
          2011.689749,
          2029.682397,
          2048.513689,
          2070.596353,
          2088.429965,
          2109.357892,
          2131.029147,
          2152.969392,
          2175.184808,
          2197.830032,
          2220.878589,
          2244.005191,
          2266.483407,
          2290.871362,
          2307.736768,
          2326.734579,
          2344.58144,
          2362.439908,
          2380.167769,
          2397.811266,
          2416.694412,
          2437.259361,
          2463.242071,
          2499.322112,
          2543.130368,
          2590.270976,
          2640.278784,
          2691.979264,
          2746.072064,
          2801.002752,
          2857.866752,
          2916.108032,
          2970.292224,
          3019.233536,
          3068.370688,
          3126.68672,
          3195.779328,
          3267.212288,
          3337.112064,
          3406.416896,
          3475.448064,
          3546.81088,
          3620.65536,
          3695.390208,
          3770.1632,
          3844.800768,
          3920.251392,
          3995.516928,
          4069.437184,
          4142.505728,
          4215.772416,
          4289.6576,
          4365.582848,
          4444.007936,
          4524.627456,
          4607.98464,
          4691.884032,
          4775.83616,
          4861.730816,
          4950.063104,
          5040.984576,
          5132.294144,
          5223.704064,
          5316.175872,
          5406.245888,
          5492.686336,
          5577.4336,
          5660.727808,
          5743.219712,
          5825.145344,
          5906.481152,
          5987.31264,
          6067.758592,
          6148.898816,
          6230.747136,
          6312.407552,
          6393.898496,
          6475.751424,
          6558.176256,
          6641.416192,
          6725.948416,
          6811.597312,
          6898.306048,
          6985.603072,
          7073.125376,
          7161.697792,
          7250.59328,
          7339.013632,
          7426.597376,
          7513.474048,
          7599.822336,
          7683.789824,
          7764.95104,
          7840.952832,
          7909.295104
         ]
        },
        {
         "line": {
          "color": "red"
         },
         "mode": "lines",
         "name": "Fitted Power Law Curve",
         "type": "scatter",
         "x": [
          -10000,
          -9987.977977977978,
          -9975.955955955957,
          -9963.933933933933,
          -9951.911911911911,
          -9939.88988988989,
          -9927.867867867868,
          -9915.845845845846,
          -9903.823823823825,
          -9891.801801801801,
          -9879.77977977978,
          -9867.757757757758,
          -9855.735735735736,
          -9843.713713713714,
          -9831.691691691693,
          -9819.669669669669,
          -9807.647647647647,
          -9795.625625625626,
          -9783.603603603604,
          -9771.581581581582,
          -9759.559559559559,
          -9747.537537537537,
          -9735.515515515515,
          -9723.493493493494,
          -9711.471471471472,
          -9699.44944944945,
          -9687.427427427427,
          -9675.405405405405,
          -9663.383383383383,
          -9651.361361361362,
          -9639.33933933934,
          -9627.317317317318,
          -9615.295295295295,
          -9603.273273273273,
          -9591.251251251251,
          -9579.22922922923,
          -9567.207207207208,
          -9555.185185185186,
          -9543.163163163163,
          -9531.14114114114,
          -9519.11911911912,
          -9507.097097097098,
          -9495.075075075076,
          -9483.053053053052,
          -9471.03103103103,
          -9459.009009009009,
          -9446.986986986987,
          -9434.964964964965,
          -9422.942942942944,
          -9410.92092092092,
          -9398.898898898899,
          -9386.876876876877,
          -9374.854854854855,
          -9362.832832832833,
          -9350.81081081081,
          -9338.788788788788,
          -9326.766766766767,
          -9314.744744744745,
          -9302.722722722723,
          -9290.700700700701,
          -9278.678678678678,
          -9266.656656656656,
          -9254.634634634634,
          -9242.612612612613,
          -9230.590590590591,
          -9218.56856856857,
          -9206.546546546546,
          -9194.524524524524,
          -9182.502502502502,
          -9170.48048048048,
          -9158.458458458459,
          -9146.436436436437,
          -9134.414414414414,
          -9122.392392392392,
          -9110.37037037037,
          -9098.348348348349,
          -9086.326326326327,
          -9074.304304304304,
          -9062.282282282282,
          -9050.26026026026,
          -9038.238238238238,
          -9026.216216216217,
          -9014.194194194195,
          -9002.172172172171,
          -8990.15015015015,
          -8978.128128128128,
          -8966.106106106106,
          -8954.084084084085,
          -8942.062062062061,
          -8930.04004004004,
          -8918.018018018018,
          -8905.995995995996,
          -8893.973973973974,
          -8881.951951951953,
          -8869.929929929931,
          -8857.907907907907,
          -8845.885885885886,
          -8833.863863863864,
          -8821.841841841842,
          -8809.81981981982,
          -8797.797797797797,
          -8785.775775775775,
          -8773.753753753754,
          -8761.731731731732,
          -8749.70970970971,
          -8737.687687687689,
          -8725.665665665665,
          -8713.643643643643,
          -8701.621621621622,
          -8689.5995995996,
          -8677.577577577578,
          -8665.555555555555,
          -8653.533533533533,
          -8641.511511511511,
          -8629.48948948949,
          -8617.467467467468,
          -8605.445445445446,
          -8593.423423423423,
          -8581.401401401401,
          -8569.37937937938,
          -8557.357357357358,
          -8545.335335335336,
          -8533.313313313312,
          -8521.29129129129,
          -8509.269269269269,
          -8497.247247247247,
          -8485.225225225226,
          -8473.203203203204,
          -8461.181181181182,
          -8449.159159159159,
          -8437.137137137137,
          -8425.115115115115,
          -8413.093093093094,
          -8401.071071071072,
          -8389.049049049048,
          -8377.027027027027,
          -8365.005005005005,
          -8352.982982982983,
          -8340.960960960962,
          -8328.93893893894,
          -8316.916916916916,
          -8304.894894894895,
          -8292.872872872873,
          -8280.850850850851,
          -8268.82882882883,
          -8256.806806806806,
          -8244.784784784784,
          -8232.762762762763,
          -8220.74074074074,
          -8208.71871871872,
          -8196.696696696697,
          -8184.674674674675,
          -8172.652652652652,
          -8160.630630630631,
          -8148.608608608609,
          -8136.586586586587,
          -8124.5645645645645,
          -8112.542542542543,
          -8100.52052052052,
          -8088.4984984984985,
          -8076.476476476477,
          -8064.454454454455,
          -8052.4324324324325,
          -8040.410410410411,
          -8028.388388388388,
          -8016.3663663663665,
          -8004.344344344345,
          -7992.322322322322,
          -7980.3003003003005,
          -7968.278278278278,
          -7956.256256256256,
          -7944.2342342342345,
          -7932.212212212213,
          -7920.19019019019,
          -7908.168168168168,
          -7896.146146146146,
          -7884.124124124124,
          -7872.102102102102,
          -7860.080080080081,
          -7848.058058058058,
          -7836.0360360360355,
          -7824.014014014014,
          -7811.991991991992,
          -7799.96996996997,
          -7787.947947947949,
          -7775.925925925926,
          -7763.9039039039035,
          -7751.881881881882,
          -7739.85985985986,
          -7727.837837837838,
          -7715.815815815816,
          -7703.793793793794,
          -7691.7717717717715,
          -7679.74974974975,
          -7667.727727727728,
          -7655.705705705706,
          -7643.683683683684,
          -7631.661661661661,
          -7619.639639639639,
          -7607.617617617618,
          -7595.595595595596,
          -7583.573573573574,
          -7571.551551551552,
          -7559.529529529529,
          -7547.507507507507,
          -7535.485485485486,
          -7523.463463463464,
          -7511.441441441441,
          -7499.41941941942,
          -7487.397397397397,
          -7475.375375375375,
          -7463.353353353354,
          -7451.331331331332,
          -7439.309309309309,
          -7427.287287287288,
          -7415.265265265265,
          -7403.243243243243,
          -7391.221221221222,
          -7379.1991991992,
          -7367.177177177177,
          -7355.155155155155,
          -7343.133133133133,
          -7331.111111111111,
          -7319.08908908909,
          -7307.067067067067,
          -7295.045045045045,
          -7283.023023023023,
          -7271.001001001001,
          -7258.978978978979,
          -7246.956956956958,
          -7234.934934934935,
          -7222.912912912913,
          -7210.890890890891,
          -7198.868868868869,
          -7186.846846846847,
          -7174.824824824826,
          -7162.802802802803,
          -7150.78078078078,
          -7138.758758758759,
          -7126.736736736737,
          -7114.714714714715,
          -7102.6926926926935,
          -7090.670670670671,
          -7078.648648648648,
          -7066.626626626627,
          -7054.604604604605,
          -7042.582582582583,
          -7030.560560560561,
          -7018.538538538539,
          -7006.516516516516,
          -6994.494494494495,
          -6982.472472472473,
          -6970.450450450451,
          -6958.428428428429,
          -6946.406406406406,
          -6934.384384384384,
          -6922.362362362363,
          -6910.340340340341,
          -6898.318318318319,
          -6886.2962962962965,
          -6874.274274274274,
          -6862.252252252252,
          -6850.2302302302305,
          -6838.208208208209,
          -6826.186186186186,
          -6814.1641641641645,
          -6802.142142142142,
          -6790.12012012012,
          -6778.0980980980985,
          -6766.076076076077,
          -6754.054054054054,
          -6742.032032032032,
          -6730.01001001001,
          -6717.987987987988,
          -6705.9659659659665,
          -6693.943943943945,
          -6681.921921921922,
          -6669.8998998998995,
          -6657.877877877878,
          -6645.855855855856,
          -6633.833833833834,
          -6621.811811811812,
          -6609.78978978979,
          -6597.7677677677675,
          -6585.745745745746,
          -6573.723723723724,
          -6561.701701701702,
          -6549.67967967968,
          -6537.657657657658,
          -6525.6356356356355,
          -6513.613613613614,
          -6501.591591591592,
          -6489.56956956957,
          -6477.547547547548,
          -6465.525525525525,
          -6453.503503503503,
          -6441.481481481482,
          -6429.45945945946,
          -6417.437437437437,
          -6405.415415415416,
          -6393.393393393393,
          -6381.371371371371,
          -6369.34934934935,
          -6357.327327327328,
          -6345.305305305305,
          -6333.283283283284,
          -6321.261261261261,
          -6309.239239239239,
          -6297.217217217218,
          -6285.195195195196,
          -6273.173173173173,
          -6261.151151151151,
          -6249.129129129129,
          -6237.107107107107,
          -6225.085085085086,
          -6213.063063063064,
          -6201.041041041041,
          -6189.019019019019,
          -6176.996996996997,
          -6164.974974974975,
          -6152.952952952954,
          -6140.930930930931,
          -6128.908908908909,
          -6116.886886886887,
          -6104.864864864865,
          -6092.842842842843,
          -6080.820820820822,
          -6068.798798798799,
          -6056.776776776776,
          -6044.754754754755,
          -6032.732732732733,
          -6020.710710710711,
          -6008.68868868869,
          -5996.666666666667,
          -5984.644644644644,
          -5972.622622622623,
          -5960.600600600601,
          -5948.578578578579,
          -5936.556556556557,
          -5924.534534534535,
          -5912.512512512512,
          -5900.490490490491,
          -5888.468468468469,
          -5876.446446446446,
          -5864.424424424425,
          -5852.402402402403,
          -5840.38038038038,
          -5828.358358358359,
          -5816.336336336337,
          -5804.314314314314,
          -5792.292292292293,
          -5780.270270270271,
          -5768.248248248248,
          -5756.226226226227,
          -5744.204204204205,
          -5732.182182182182,
          -5720.160160160161,
          -5708.138138138138,
          -5696.116116116116,
          -5684.0940940940945,
          -5672.072072072072,
          -5660.05005005005,
          -5648.0280280280285,
          -5636.006006006006,
          -5623.983983983984,
          -5611.9619619619625,
          -5599.93993993994,
          -5587.917917917918,
          -5575.8958958958965,
          -5563.873873873874,
          -5551.851851851852,
          -5539.8298298298305,
          -5527.807807807808,
          -5515.785785785786,
          -5503.7637637637645,
          -5491.741741741742,
          -5479.71971971972,
          -5467.697697697698,
          -5455.675675675676,
          -5443.653653653654,
          -5431.6316316316315,
          -5419.60960960961,
          -5407.587587587588,
          -5395.5655655655655,
          -5383.543543543544,
          -5371.521521521522,
          -5359.4994994994995,
          -5347.477477477478,
          -5335.455455455456,
          -5323.4334334334335,
          -5311.411411411412,
          -5299.38938938939,
          -5287.3673673673675,
          -5275.345345345346,
          -5263.323323323323,
          -5251.3013013013015,
          -5239.27927927928,
          -5227.257257257257,
          -5215.235235235235,
          -5203.213213213214,
          -5191.191191191191,
          -5179.169169169169,
          -5167.147147147148,
          -5155.125125125125,
          -5143.103103103103,
          -5131.081081081082,
          -5119.059059059059,
          -5107.037037037037,
          -5095.015015015016,
          -5082.992992992993,
          -5070.970970970971,
          -5058.94894894895,
          -5046.926926926927,
          -5034.904904904905,
          -5022.882882882883,
          -5010.860860860861,
          -4998.838838838839,
          -4986.816816816817,
          -4974.794794794795,
          -4962.772772772773,
          -4950.750750750751,
          -4938.728728728729,
          -4926.706706706707,
          -4914.684684684685,
          -4902.662662662663,
          -4890.640640640641,
          -4878.618618618619,
          -4866.596596596597,
          -4854.574574574575,
          -4842.552552552553,
          -4830.530530530531,
          -4818.508508508508,
          -4806.486486486487,
          -4794.464464464465,
          -4782.442442442442,
          -4770.420420420421,
          -4758.398398398399,
          -4746.376376376376,
          -4734.354354354355,
          -4722.332332332333,
          -4710.31031031031,
          -4698.288288288289,
          -4686.266266266267,
          -4674.244244244244,
          -4662.222222222223,
          -4650.200200200201,
          -4638.178178178178,
          -4626.156156156157,
          -4614.134134134134,
          -4602.112112112112,
          -4590.090090090091,
          -4578.068068068068,
          -4566.046046046046,
          -4554.024024024025,
          -4542.002002002002,
          -4529.97997997998,
          -4517.957957957959,
          -4505.935935935936,
          -4493.913913913914,
          -4481.891891891893,
          -4469.86986986987,
          -4457.847847847848,
          -4445.8258258258265,
          -4433.803803803804,
          -4421.781781781782,
          -4409.7597597597605,
          -4397.737737737738,
          -4385.715715715716,
          -4373.693693693694,
          -4361.671671671672,
          -4349.64964964965,
          -4337.627627627628,
          -4325.605605605606,
          -4313.583583583584,
          -4301.561561561562,
          -4289.53953953954,
          -4277.517517517518,
          -4265.495495495496,
          -4253.473473473474,
          -4241.451451451452,
          -4229.42942942943,
          -4217.407407407408,
          -4205.385385385386,
          -4193.3633633633635,
          -4181.341341341342,
          -4169.319319319319,
          -4157.2972972972975,
          -4145.275275275276,
          -4133.253253253253,
          -4121.2312312312315,
          -4109.20920920921,
          -4097.187187187187,
          -4085.1651651651655,
          -4073.143143143144,
          -4061.121121121121,
          -4049.0990990990995,
          -4037.077077077078,
          -4025.055055055055,
          -4013.0330330330335,
          -4001.0110110110118,
          -3988.988988988989,
          -3976.9669669669674,
          -3964.9449449449457,
          -3952.922922922923,
          -3940.9009009009014,
          -3928.878878878879,
          -3916.856856856857,
          -3904.8348348348354,
          -3892.812812812813,
          -3880.790790790791,
          -3868.7687687687694,
          -3856.746746746747,
          -3844.724724724725,
          -3832.7027027027034,
          -3820.680680680681,
          -3808.658658658659,
          -3796.6366366366374,
          -3784.6146146146148,
          -3772.592592592593,
          -3760.5705705705714,
          -3748.5485485485488,
          -3736.526526526527,
          -3724.5045045045044,
          -3712.4824824824827,
          -3700.460460460461,
          -3688.4384384384384,
          -3676.4164164164167,
          -3664.394394394395,
          -3652.3723723723724,
          -3640.3503503503507,
          -3628.328328328329,
          -3616.3063063063064,
          -3604.2842842842847,
          -3592.262262262263,
          -3580.2402402402404,
          -3568.2182182182187,
          -3556.196196196197,
          -3544.1741741741744,
          -3532.1521521521527,
          -3520.130130130131,
          -3508.1081081081084,
          -3496.0860860860867,
          -3484.064064064064,
          -3472.0420420420423,
          -3460.0200200200206,
          -3447.997997997998,
          -3435.9759759759763,
          -3423.9539539539546,
          -3411.931931931932,
          -3399.9099099099103,
          -3387.8878878878886,
          -3375.865865865866,
          -3363.8438438438443,
          -3351.8218218218226,
          -3339.7997997998,
          -3327.7777777777783,
          -3315.7557557557566,
          -3303.733733733734,
          -3291.7117117117123,
          -3279.6896896896897,
          -3267.667667667668,
          -3255.6456456456463,
          -3243.6236236236236,
          -3231.601601601602,
          -3219.5795795795802,
          -3207.5575575575576,
          -3195.535535535536,
          -3183.513513513514,
          -3171.4914914914916,
          -3159.46946946947,
          -3147.447447447448,
          -3135.4254254254256,
          -3123.403403403404,
          -3111.381381381382,
          -3099.3593593593596,
          -3087.337337337338,
          -3075.315315315316,
          -3063.2932932932936,
          -3051.271271271272,
          -3039.2492492492493,
          -3027.2272272272276,
          -3015.205205205206,
          -3003.1831831831832,
          -2991.1611611611615,
          -2979.13913913914,
          -2967.1171171171172,
          -2955.0950950950955,
          -2943.073073073074,
          -2931.051051051051,
          -2919.0290290290295,
          -2907.007007007008,
          -2894.984984984985,
          -2882.9629629629635,
          -2870.940940940942,
          -2858.918918918919,
          -2846.8968968968975,
          -2834.874874874875,
          -2822.852852852853,
          -2810.8308308308315,
          -2798.808808808809,
          -2786.786786786787,
          -2774.7647647647655,
          -2762.742742742743,
          -2750.720720720721,
          -2738.6986986986994,
          -2726.676676676677,
          -2714.654654654655,
          -2702.6326326326334,
          -2690.610610610611,
          -2678.588588588589,
          -2666.5665665665674,
          -2654.544544544545,
          -2642.522522522523,
          -2630.5005005005005,
          -2618.478478478479,
          -2606.456456456457,
          -2594.4344344344345,
          -2582.412412412413,
          -2570.390390390391,
          -2558.3683683683685,
          -2546.3463463463468,
          -2534.324324324325,
          -2522.3023023023025,
          -2510.2802802802807,
          -2498.258258258259,
          -2486.2362362362364,
          -2474.2142142142147,
          -2462.192192192193,
          -2450.1701701701704,
          -2438.1481481481487,
          -2426.126126126127,
          -2414.1041041041044,
          -2402.0820820820827,
          -2390.06006006006,
          -2378.0380380380384,
          -2366.0160160160167,
          -2353.993993993994,
          -2341.9719719719724,
          -2329.9499499499507,
          -2317.927927927928,
          -2305.9059059059064,
          -2293.8838838838847,
          -2281.861861861862,
          -2269.8398398398404,
          -2257.8178178178186,
          -2245.795795795796,
          -2233.7737737737743,
          -2221.7517517517526,
          -2209.72972972973,
          -2197.7077077077083,
          -2185.6856856856857,
          -2173.663663663664,
          -2161.6416416416423,
          -2149.6196196196197,
          -2137.597597597598,
          -2125.5755755755763,
          -2113.5535535535537,
          -2101.531531531532,
          -2089.5095095095103,
          -2077.4874874874877,
          -2065.465465465466,
          -2053.4434434434443,
          -2041.4214214214217,
          -2029.3993993994,
          -2017.3773773773783,
          -2005.3553553553556,
          -1993.333333333334,
          -1981.3113113113122,
          -1969.2892892892896,
          -1957.267267267268,
          -1945.2452452452453,
          -1933.2232232232236,
          -1921.201201201202,
          -1909.1791791791793,
          -1897.1571571571576,
          -1885.135135135136,
          -1873.1131131131133,
          -1861.0910910910916,
          -1849.0690690690699,
          -1837.0470470470473,
          -1825.0250250250256,
          -1813.0030030030039,
          -1800.9809809809813,
          -1788.9589589589596,
          -1776.9369369369379,
          -1764.9149149149162,
          -1752.8928928928926,
          -1740.870870870871,
          -1728.8488488488492,
          -1716.8268268268275,
          -1704.8048048048058,
          -1692.7827827827841,
          -1680.7607607607606,
          -1668.738738738739,
          -1656.7167167167172,
          -1644.6946946946955,
          -1632.6726726726738,
          -1620.6506506506503,
          -1608.6286286286286,
          -1596.6066066066069,
          -1584.5845845845852,
          -1572.5625625625635,
          -1560.5405405405418,
          -1548.5185185185182,
          -1536.4964964964965,
          -1524.4744744744748,
          -1512.4524524524531,
          -1500.4304304304314,
          -1488.4084084084097,
          -1476.3863863863862,
          -1464.3643643643645,
          -1452.3423423423428,
          -1440.3203203203211,
          -1428.2982982982994,
          -1416.276276276276,
          -1404.2542542542542,
          -1392.2322322322325,
          -1380.2102102102108,
          -1368.188188188189,
          -1356.1661661661674,
          -1344.1441441441439,
          -1332.1221221221222,
          -1320.1001001001005,
          -1308.0780780780788,
          -1296.056056056057,
          -1284.0340340340354,
          -1272.0120120120118,
          -1259.9899899899901,
          -1247.9679679679684,
          -1235.9459459459467,
          -1223.923923923925,
          -1211.9019019019033,
          -1199.8798798798798,
          -1187.857857857858,
          -1175.8358358358364,
          -1163.8138138138147,
          -1151.791791791793,
          -1139.7697697697695,
          -1127.7477477477478,
          -1115.725725725726,
          -1103.7037037037044,
          -1091.6816816816827,
          -1079.659659659661,
          -1067.6376376376375,
          -1055.6156156156158,
          -1043.593593593594,
          -1031.5715715715723,
          -1019.5495495495506,
          -1007.527527527529,
          -995.5055055055054,
          -983.4834834834837,
          -971.461461461462,
          -959.4394394394403,
          -947.4174174174186,
          -935.3953953953951,
          -923.3733733733734,
          -911.3513513513517,
          -899.32932932933,
          -887.3073073073083,
          -875.2852852852866,
          -863.2632632632631,
          -851.2412412412414,
          -839.2192192192197,
          -827.197197197198,
          -815.1751751751763,
          -803.1531531531546,
          -791.131131131131,
          -779.1091091091093,
          -767.0870870870876,
          -755.0650650650659,
          -743.0430430430442,
          -731.0210210210207,
          -718.998998998999,
          -706.9769769769773,
          -694.9549549549556,
          -682.9329329329339,
          -670.9109109109122,
          -658.8888888888887,
          -646.866866866867,
          -634.8448448448453,
          -622.8228228228236,
          -610.8008008008019,
          -598.7787787787802,
          -586.7567567567567,
          -574.734734734735,
          -562.7127127127133,
          -550.6906906906916,
          -538.6686686686699,
          -526.6466466466463,
          -514.6246246246246,
          -502.60260260260293,
          -490.5805805805812,
          -478.5585585585595,
          -466.5365365365378,
          -454.5145145145143,
          -442.4924924924926,
          -430.4704704704709,
          -418.4484484484492,
          -406.4264264264275,
          -394.4044044044058,
          -382.3823823823823,
          -370.3603603603606,
          -358.3383383383389,
          -346.31631631631717,
          -334.29429429429547,
          -322.27227227227195,
          -310.25025025025025,
          -298.22822822822855,
          -286.20620620620684,
          -274.18418418418514,
          -262.16216216216344,
          -250.14014014013992,
          -238.11811811811822,
          -226.09609609609652,
          -214.07407407407482,
          -202.0520520520531,
          -190.0300300300314,
          -178.0080080080079,
          -165.9859859859862,
          -153.9639639639645,
          -141.9419419419428,
          -129.91991991992109,
          -117.89789789789938,
          -105.87587587587586,
          -93.85385385385416,
          -81.83183183183246,
          -69.80980980981076,
          -57.78778778778906,
          -45.765765765765536,
          -33.743743743743835,
          -21.721721721722133,
          -9.699699699700432,
          2.32232232232127,
          14.344344344342971,
          26.366366366366492,
          38.388388388388194,
          50.410410410409895,
          62.4324324324316,
          74.4544544544533,
          86.476476476475,
          98.49849849849852,
          110.52052052052022,
          122.54254254254192,
          134.56456456456363,
          146.58658658658533,
          158.60860860860885,
          170.63063063063055,
          182.65265265265225,
          194.67467467467395,
          206.69669669669565,
          218.71871871871735,
          230.74074074074088,
          242.76276276276258,
          254.78478478478428,
          266.806806806806,
          278.8288288288277,
          290.8508508508494,
          302.8728728728729,
          314.8948948948946,
          326.9169169169163,
          338.938938938938,
          350.9609609609597,
          362.98298298298323,
          375.00500500500493,
          387.02702702702663,
          399.04904904904834,
          411.07107107107004,
          423.09309309309174,
          435.11511511511526,
          447.13713713713696,
          459.15915915915866,
          471.18118118118036,
          483.20320320320207,
          495.22522522522377,
          507.2472472472473,
          519.269269269269,
          531.2912912912907,
          543.3133133133124,
          555.3353353353341,
          567.3573573573576,
          579.3793793793793,
          591.401401401401,
          603.4234234234227,
          615.4454454454444,
          627.4674674674661,
          639.4894894894896,
          651.5115115115113,
          663.533533533533,
          675.5555555555547,
          687.5775775775764,
          699.5995995995982,
          711.6216216216217,
          723.6436436436434,
          735.6656656656651,
          747.6876876876868,
          759.7097097097085,
          771.731731731732,
          783.7537537537537,
          795.7757757757754,
          807.7977977977971,
          819.8198198198188,
          831.8418418418405,
          843.863863863864,
          855.8858858858857,
          867.9079079079074,
          879.9299299299291,
          891.9519519519508,
          903.9739739739725,
          915.995995995996,
          928.0180180180178,
          940.0400400400395,
          952.0620620620612,
          964.0840840840829,
          976.1061061061046,
          988.1281281281281,
          1000.1501501501498,
          1012.1721721721715,
          1024.1941941941932,
          1036.216216216215,
          1048.2382382382384,
          1060.26026026026,
          1072.2822822822818,
          1084.3043043043035,
          1096.3263263263252,
          1108.348348348347,
          1120.3703703703704,
          1132.3923923923921,
          1144.4144144144138,
          1156.4364364364355,
          1168.4584584584572,
          1180.480480480479,
          1192.5025025025025,
          1204.5245245245242,
          1216.5465465465459,
          1228.5685685685676,
          1240.5905905905893,
          1252.6126126126128,
          1264.6346346346345,
          1276.6566566566562,
          1288.678678678678,
          1300.7007007006996,
          1312.7227227227213,
          1324.7447447447448,
          1336.7667667667665,
          1348.7887887887882,
          1360.81081081081,
          1372.8328328328316,
          1384.8548548548533,
          1396.8768768768768,
          1408.8988988988986,
          1420.9209209209203,
          1432.942942942942,
          1444.9649649649637,
          1456.9869869869872,
          1469.0090090090089,
          1481.0310310310306,
          1493.0530530530523,
          1505.075075075074,
          1517.0970970970957,
          1529.1191191191192,
          1541.141141141141,
          1553.1631631631626,
          1565.1851851851843,
          1577.207207207206,
          1589.2292292292277,
          1601.2512512512512,
          1613.273273273273,
          1625.2952952952946,
          1637.3173173173163,
          1649.339339339338,
          1661.3613613613616,
          1673.3833833833833,
          1685.405405405405,
          1697.4274274274267,
          1709.4494494494484,
          1721.47147147147,
          1733.4934934934936,
          1745.5155155155153,
          1757.537537537537,
          1769.5595595595587,
          1781.5815815815804,
          1793.603603603602,
          1805.6256256256256,
          1817.6476476476473,
          1829.669669669669,
          1841.6916916916907,
          1853.7137137137124,
          1865.7357357357341,
          1877.7577577577576,
          1889.7797797797793,
          1901.801801801801,
          1913.8238238238227,
          1925.8458458458445,
          1937.867867867868,
          1949.8898898898897,
          1961.9119119119114,
          1973.933933933933,
          1985.9559559559548,
          1997.9779779779765,
          2010
         ],
         "y": [
          41.81466124137728,
          41.847734731168885,
          41.88086755947481,
          41.91405989240381,
          41.94731189669696,
          41.980623739730675,
          42.01399558951977,
          42.047427614720576,
          42.080919984633994,
          42.11447286920864,
          42.14808643904397,
          42.181760865393436,
          42.21549632016766,
          42.249292975937614,
          42.283151005937846,
          42.3170705840697,
          42.351051884904535,
          42.38509508368707,
          42.41920035633856,
          42.4533678794602,
          42.487597830336405,
          42.521890386938125,
          42.55624572792627,
          42.590664032655056,
          42.625145481175416,
          42.659690254238434,
          42.69429853329877,
          42.728970500518145,
          42.763706338768806,
          42.79850623163706,
          42.833370363426766,
          42.86829891916293,
          42.90329208459523,
          42.938350046201606,
          42.97347299119193,
          43.00866110751158,
          43.04391458384512,
          43.07923360961998,
          43.11461837501015,
          43.1500690709399,
          43.18558588908753,
          43.221169021889146,
          43.25681866254243,
          43.29253500501048,
          43.32831824402562,
          43.36416857509326,
          43.40008619449582,
          43.43607129929658,
          43.472124087343666,
          43.50824475727394,
          43.544433508517045,
          43.58069054129936,
          43.61701605664805,
          43.65341025639512,
          43.68987334318146,
          43.726405520461014,
          43.763006992504835,
          43.79967796440525,
          43.8364186420801,
          43.87322923227685,
          43.910109942576916,
          43.947060981399815,
          43.98408255800756,
          44.02117488250886,
          44.05833816586354,
          44.09557261988685,
          44.132878457253895,
          44.170255891503984,
          44.20770513704517,
          44.245226409158626,
          44.28281992400321,
          44.320485898619985,
          44.358224550936725,
          44.39603609977253,
          44.433920764842476,
          44.471878766762195,
          44.50991032705257,
          44.54801566814446,
          44.58619501338337,
          44.624448587034266,
          44.66277661428636,
          44.70117932125786,
          44.73965693500094,
          44.778209683506496,
          44.81683779570915,
          44.85554150149213,
          44.89432103169227,
          44.933176618105044,
          44.97210849348954,
          45.01111689157357,
          45.050202047058775,
          45.08936419562573,
          45.12860357393913,
          45.167920419653,
          45.20731497141589,
          45.246787468876185,
          45.28633815268737,
          45.32596726451339,
          45.365675047033996,
          45.40546174395016,
          45.44532759998952,
          45.48527286091182,
          45.525297773514474,
          45.56540258563803,
          45.60558754617185,
          45.645852905059606,
          45.68619891330506,
          45.72662582297764,
          45.76713388721822,
          45.8077233602449,
          45.848394497358754,
          45.889147554949716,
          45.9299827905024,
          45.97090046260209,
          46.01190083094062,
          46.05298415632241,
          46.09415070067048,
          46.13540072703254,
          46.17673449958706,
          46.21815228364946,
          46.25965434567828,
          46.30124095328141,
          46.342912375222404,
          46.384668881426734,
          46.42651074298817,
          46.468438232175195,
          46.510451622437444,
          46.552551188412146,
          46.594737205930706,
          46.637009952025245,
          46.679369704935205,
          46.72181674411403,
          46.76435135023586,
          46.806973805202276,
          46.8496843921491,
          46.89248339545319,
          46.93537110073939,
          46.97834779488743,
          47.02141376603888,
          47.06456930360421,
          47.107814698269834,
          47.15115024200523,
          47.194576228070126,
          47.23809295102169,
          47.28170070672182,
          47.32539979234444,
          47.36919050638286,
          47.41307314865716,
          47.457048020321736,
          47.50111542387274,
          47.54527566315566,
          47.58952904337296,
          47.63387587109171,
          47.67831645425133,
          47.72285110217138,
          47.76748012555936,
          47.81220383651857,
          47.85702254855612,
          47.901936576590835,
          47.946946236961345,
          47.99205184743419,
          48.03725372721195,
          48.082552196941464,
          48.127947578722114,
          48.173440196114136,
          48.219030374147,
          48.264718439327886,
          48.31050471965013,
          48.356389544601825,
          48.40237324517443,
          48.44845615387146,
          48.49463860471719,
          48.5409209332655,
          48.58730347660872,
          48.63378657338655,
          48.680370563795066,
          48.72705578959573,
          48.77384259412457,
          48.820731322301306,
          48.86772232063861,
          48.91481593725143,
          48.96201252186633,
          49.00931242583096,
          49.056716002123586,
          49.1042236053626,
          49.151835591816216,
          49.19955231941219,
          49.24737414774754,
          49.29530143809846,
          49.34333455343024,
          49.391473858407196,
          49.43971971940282,
          49.48807250450985,
          49.536532583550496,
          49.58510032808676,
          49.63377611143075,
          49.6825603086551,
          49.73145329660356,
          49.78045545390145,
          49.82956716096644,
          49.87878880001924,
          49.92812075509435,
          49.977563412051076,
          50.02711715858442,
          50.07678238423612,
          50.12655948040586,
          50.17644884036239,
          50.22645085925491,
          50.27656593412437,
          50.32679446391499,
          50.37713684948576,
          50.42759349362209,
          50.478164801047555,
          50.52885117843565,
          50.57965303442169,
          50.6305707796148,
          50.681604826609984,
          50.73275559000025,
          50.78402348638889,
          50.83540893440178,
          50.886912354699845,
          50.93853416999154,
          50.9902748050455,
          51.0421346867032,
          51.094114243891795,
          51.14621390763702,
          51.198434111076146,
          51.2507752894711,
          51.30323788022165,
          51.35582232287868,
          51.408529059157594,
          51.4613585329518,
          51.514311190346305,
          51.567387479631385,
          51.6205878513164,
          51.67391275814372,
          51.727362655102674,
          51.78093799944373,
          51.83463925069263,
          51.88846687066483,
          51.94242132347983,
          51.996503075575774,
          52.05071259572413,
          52.10505035504443,
          52.15951682701914,
          52.21411248750868,
          52.26883781476655,
          52.323693289454546,
          52.37867939465809,
          52.43379661590175,
          52.489045441164755,
          52.54442636089675,
          52.5999398680336,
          52.65558645801337,
          52.711366628792355,
          52.76728088086131,
          52.82332971726178,
          52.87951364360252,
          52.93583316807612,
          52.992288801475674,
          53.048881057211645,
          53.105610451328836,
          53.16247750252348,
          53.21948273216052,
          53.27662666429094,
          53.3339098256693,
          53.391332745771415,
          53.448895956812066,
          53.50659999376304,
          53.56444539437113,
          53.62243269917634,
          53.680562451530356,
          53.738835197614904,
          53.79725148646051,
          53.85581186996529,
          53.91451690291387,
          53.97336714299652,
          54.032363150828445,
          54.0915054899691,
          54.15079472694186,
          54.210231431253725,
          54.26981617541517,
          54.329549534960215,
          54.38943208846668,
          54.44946441757644,
          54.509647107016114,
          54.569980744617645,
          54.630465921339244,
          54.691103231286384,
          54.75189327173308,
          54.8128366431432,
          54.873933949192086,
          54.935185796788254,
          54.99659279609534,
          55.0581555605542,
          55.1198747069051,
          55.18175085521034,
          55.24378462887673,
          55.30597665467858,
          55.368327562780586,
          55.430837986761105,
          55.49350856363559,
          55.5563399338801,
          55.6193327414552,
          55.68248763382989,
          55.74580526200582,
          55.80928628054165,
          55.87293134757768,
          55.93674112486069,
          56.00071627776889,
          56.06485747533715,
          56.1291653902825,
          56.193640699029686,
          56.25828408173711,
          56.323096222322874,
          56.388077808491104,
          56.45322953175848,
          56.51855208748097,
          56.584046174880804,
          56.64971249707371,
          56.71555176109635,
          56.781564677934014,
          56.84775196254842,
          56.914114333906056,
          56.98065251500639,
          57.04736723291061,
          57.11425921877047,
          57.18132920785746,
          57.2485779395921,
          57.31600615757367,
          57.38361460961003,
          57.451404047747836,
          57.51937522830289,
          57.58752891189085,
          57.65586586345816,
          57.72438685231327,
          57.793092652158116,
          57.86198404111987,
          57.931061801783024,
          58.00032672122162,
          58.06977959103193,
          58.13942120736531,
          58.20925237096141,
          58.27927388718159,
          58.34948656604271,
          58.41989122225124,
          58.490488675237565,
          58.56127974919067,
          58.63226527309314,
          58.70344608075644,
          58.77482301085652,
          58.84639690696973,
          58.91816861760908,
          58.990138996260804,
          59.06230890142125,
          59.134679196634096,
          59.20725075052795,
          59.28002443685424,
          59.35300113452542,
          59.42618172765359,
          59.499567105589485,
          59.57315816296162,
          59.64695579971612,
          59.720960921156596,
          59.79517443798456,
          59.86959726634021,
          59.944230327843464,
          60.01907454963549,
          60.09413086442061,
          60.16940021050853,
          60.244883531856885,
          60.32058177811449,
          60.39649590466457,
          60.47262687266869,
          60.548975649111,
          60.625543206842856,
          60.702330524627875,
          60.77933858718747,
          60.8565683852467,
          60.93402091558067,
          61.01169718106123,
          61.089598190704194,
          61.167724959717084,
          61.246078509547104,
          61.32465986792971,
          61.40347006893772,
          61.482510153030645,
          61.561781167104705,
          61.64128416454324,
          61.72102020526757,
          61.80099035578835,
          61.8811956892575,
          61.96163728552045,
          62.04231623116911,
          62.12323361959514,
          62.20439055104387,
          62.28578813266866,
          62.36742747858581,
          62.44930970993001,
          62.53143595491033,
          62.613807348866665,
          62.69642503432683,
          62.77929016106424,
          62.862403886155946,
          62.94576737404148,
          63.02938179658212,
          63.11324833312078,
          63.197368170542454,
          63.281742503335344,
          63.36637253365248,
          63.45125947137395,
          63.536404534169876,
          63.62180894756384,
          63.70747394499701,
          63.79340076789294,
          63.87959066572293,
          63.9660448960721,
          64.05276472470612,
          64.13975142563851,
          64.22700628119875,
          64.314530582101,
          64.40232562751343,
          64.49039272512842,
          64.57873319123334,
          64.66734835078206,
          64.75623953746717,
          64.84540809379298,
          64.93485537114927,
          65.02458272988565,
          65.1145915393869,
          65.20488317814876,
          65.2954590338549,
          65.38632050345427,
          65.47746899323953,
          65.56890591892613,
          65.6606327057323,
          65.75265078845969,
          65.84496161157514,
          65.93756662929296,
          66.03046730565823,
          66.12366511463108,
          66.21716154017152,
          66.31095807632543,
          66.40505622731143,
          66.49945750760838,
          66.5941634420442,
          66.6891755658853,
          66.784495424927,
          66.88012457558514,
          66.97606458498831,
          67.07231703107125,
          67.16888350266925,
          67.26576559961339,
          67.36296493282704,
          67.46048312442313,
          67.55832180780254,
          67.65648262775368,
          67.75496724055289,
          67.8537773140661,
          67.95291452785153,
          68.05238057326345,
          68.152177153557,
          68.25230598399443,
          68.35276879195203,
          68.45356731702866,
          68.55470331115514,
          68.656178538705,
          68.75799477660638,
          68.8601538144551,
          68.96265745462905,
          69.06550751240383,
          69.1687058160695,
          69.27225420704889,
          69.37615454001688,
          69.48040868302134,
          69.58501851760506,
          69.68998593892934,
          69.7953128558987,
          69.90100119128714,
          70.00705288186576,
          70.11346987853172,
          70.22025414643876,
          70.32740766512912,
          70.43493242866694,
          70.54283044577313,
          70.6511037399619,
          70.75975434967853,
          70.8687843284391,
          70.97819574497146,
          71.08799068335792,
          71.19817124317963,
          71.3087395396625,
          71.41969770382484,
          71.53104788262667,
          71.64279223912072,
          71.75493295260524,
          71.86747221877845,
          71.98041224989487,
          72.09375527492337,
          72.20750353970716,
          72.32165930712556,
          72.43622485725753,
          72.5512024875474,
          72.6665945129723,
          72.78240326621152,
          72.89863109781808,
          73.01528037639208,
          73.13235348875618,
          73.2498528401332,
          73.36778085432572,
          73.48613997389782,
          73.6049326603591,
          73.72416139435065,
          73.84382867583346,
          73.96393702427898,
          74.0844889788619,
          74.20548709865533,
          74.32693396282833,
          74.44883217084573,
          74.57118434267038,
          74.69399311896788,
          74.81726116131384,
          74.94099115240348,
          75.0651857962639,
          75.18984781846899,
          75.31497996635677,
          75.44058500924959,
          75.56666573867689,
          75.69322496860077,
          75.82026553564427,
          75.94779029932256,
          76.0758021422769,
          76.20430397051148,
          76.33329871363333,
          76.46278932509507,
          76.5927787824408,
          76.7232700875549,
          76.85426626691415,
          76.98577037184286,
          77.11778547877128,
          77.25031468949726,
          77.38336113145108,
          77.51692795796393,
          77.65101834853948,
          77.78563550912902,
          77.92078267241027,
          78.05646309806939,
          78.19268007308692,
          78.32943691202729,
          78.46673695733196,
          78.60458357961642,
          78.74298017797103,
          78.88193018026573,
          79.02143704345862,
          79.16150425390876,
          79.30213532769278,
          79.44333381092586,
          79.58510328008674,
          79.72744734234703,
          79.87036963590494,
          80.01387383032328,
          80.15796362687202,
          80.30264275887532,
          80.44791499206313,
          80.59378412492762,
          80.74025398908418,
          80.8873284496373,
          81.0350114055514,
          81.18330679002662,
          81.33221857087955,
          81.48175075092925,
          81.6319073683884,
          81.78269249725973,
          81.9341102477379,
          82.08616476661678,
          82.23886023770226,
          82.39220088223091,
          82.54619095929402,
          82.7008347662678,
          82.85613663924934,
          83.01210095349852,
          83.16873212388623,
          83.32603460534865,
          83.48401289334787,
          83.64267152433897,
          83.80201507624362,
          83.96204816893021,
          84.12277546470084,
          84.28420166878517,
          84.44633152984105,
          84.60916984046251,
          84.77272143769464,
          84.936991203556,
          85.1019840655685,
          85.26770499729457,
          85.43415901888228,
          85.60135119761827,
          85.7692866484884,
          85.93797053474681,
          86.10740806849289,
          86.27760451125675,
          86.44856517459341,
          86.62029542068517,
          86.79280066295313,
          86.96608636667762,
          87.14015804962762,
          87.31502128269942,
          87.49068169056498,
          87.66714495232948,
          87.84441680219882,
          88.02250303015714,
          88.20140948265423,
          88.3811420633033,
          88.56170673358923,
          88.74310951358738,
          88.92535648269332,
          89.10845378036345,
          89.2924076068669,
          89.47722422404892,
          89.66290995610568,
          89.84947119037102,
          90.0369143781153,
          90.22524603535634,
          90.41447274368282,
          90.60460115109065,
          90.7956379728319,
          90.98758999227707,
          91.18046406179081,
          91.37426710362125,
          91.56900611080296,
          91.76468814807455,
          91.96132035281033,
          92.15890993596658,
          92.35746418304318,
          92.55699045505996,
          92.75749618954895,
          92.95898890156222,
          93.16147618469586,
          93.36496571213034,
          93.56946523768774,
          93.77498259690562,
          93.98152570812866,
          94.18910257361777,
          94.39772128067708,
          94.60739000279952,
          94.81811700083107,
          95.02991062415377,
          95.24277931188868,
          95.45673159411817,
          95.67177609312856,
          95.88792152467353,
          96.10517669925817,
          96.32355052344474,
          96.54305200117997,
          96.76369023514474,
          96.98547442812651,
          97.2084138844147,
          97.43251801121967,
          97.65779632011599,
          97.88425842850994,
          98.11191406113213,
          98.34077305155569,
          98.57084534374063,
          98.80214099360428,
          99.03467017061948,
          99.26844315943988,
          99.50347036155372,
          99.73976229696639,
          99.97732960591222,
          100.21618305059637,
          100.45633351696739,
          100.69779201652072,
          100.94056968813443,
          101.18467779993725,
          101.43012775120987,
          101.6769310743202,
          101.92509943669324,
          102.1746446428163,
          102.42557863628026,
          102.67791350185783,
          102.93166146761921,
          103.18683490708656,
          103.44344634142742,
          103.70150844168838,
          103.96103403106969,
          104.22203608724188,
          104.48452774470486,
          104.74852229719085,
          105.01403320011217,
          105.28107407305434,
          105.54965870231592,
          105.81980104349604,
          106.09151522413067,
          106.36481554637834,
          106.63971648975736,
          106.9162327139345,
          107.1943790615671,
          107.47417056119956,
          107.7556224302152,
          108.03875007784553,
          108.32356910823697,
          108.61009532357754,
          108.89834472728415,
          109.18833352725227,
          109.48007813916884,
          109.77359518989098,
          110.06890152089073,
          110.36601419176814,
          110.66495048383416,
          110.96572790376496,
          111.26836418732903,
          111.57287730318943,
          111.87928545678238,
          112.18760709427413,
          112.49786090659818,
          112.81006583357453,
          113.12424106811316,
          113.44040606050356,
          113.75858052279227,
          114.0787844332511,
          114.4010380409376,
          114.72536187035021,
          115.05177672618099,
          115.3803036981673,
          115.71096416604564,
          116.04377980460993,
          116.37877258887683,
          116.71596479936053,
          117.05537902746057,
          117.39703818096422,
          117.74096548966749,
          118.08718451111716,
          118.43571913647706,
          118.7865935965216,
          119.13983246776029,
          119.49546067869588,
          119.85350351622023,
          120.21398663215115,
          120.5769360499135,
          120.94237817136957,
          121.31033978380093,
          121.68084806704714,
          122.0539306008046,
          122.4296153720903,
          122.80793078287434,
          123.18890565788648,
          123.57256925260049,
          123.95895126140155,
          124.3480818259419,
          124.73999154368923,
          125.13471147667316,
          125.53227316043628,
          125.93270861319344,
          126.33605034520662,
          126.742331368381,
          127.15158520608738,
          127.56384590321908,
          127.979148036488,
          128.3975267249679,
          128.81901764089105,
          129.24365702070608,
          129.67148167640386,
          130.10252900711959,
          130.53683701101875,
          130.9744442974749,
          131.4153900995484,
          131.859714286774,
          132.30745737826695,
          132.75866055615683,
          133.21336567935847,
          133.6716152976901,
          134.13345266634929,
          134.59892176075664,
          135.06806729177953,
          135.54093472134576,
          136.01757027846003,
          136.49802097563511,
          136.9823346257504,
          137.47055985935066,
          137.96274614239917,
          138.45894379449877,
          138.95920400759516,
          139.46357886517836,
          139.97212136199707,
          140.4848854243022,
          141.00192593063753,
          141.5232987331925,
          142.04906067973758,
          142.57926963615944,
          143.11398450961516,
          143.65326527232708,
          144.19717298603697,
          144.74576982714288,
          145.29911911253993,
          145.8572853261893,
          146.42033414643822,
          146.9883324741179,
          147.56134846144354,
          148.13945154174448,
          148.7227124600527,
          149.31120330457819,
          149.90499753910194,
          150.5041700363185,
          151.10879711215964,
          151.71895656113455,
          152.3347276927213,
          152.95619136884605,
          153.58343004248997,
          154.2165277974618,
          154.85557038937876,
          155.50064528789895,
          156.15184172025025,
          156.8092507161019,
          157.47296515382953,
          158.14307980822218,
          158.81969139968598,
          159.5028986449995,
          160.19280230967837,
          160.88950526200844,
          161.5931125288129,
          162.30373135301514,
          163.02147125306885,
          163.7464440843248,
          164.47876410240988,
          165.21854802869493,
          165.96591511793474,
          166.72098722816247,
          167.48388889292923,
          168.25474739598093,
          169.03369284846858,
          169.82085826879566,
          170.61637966520595,
          171.42039612122505,
          172.23304988407065,
          173.0544864561541,
          173.88485468979945,
          174.72430688531583,
          175.57299889256052,
          176.4310902161411,
          177.29874412440998,
          178.17612776241296,
          179.0634122689597,
          179.9607728979967,
          180.86838914446562,
          181.7864448748453,
          182.71512846258238,
          183.6546329286255,
          184.605156087293,
          185.56690069770963,
          186.54007462106526,
          187.52489098395964,
          188.52156834811103,
          189.53033088672072,
          190.55140856780392,
          191.58503734480882,
          192.6314593548684,
          193.69092312504466,
          194.76368378694653,
          195.85000330012167,
          196.95015068464852,
          198.0644022633722,
          199.19304191426016,
          200.33636133337507,
          201.49466030899237,
          202.6682470074227,
          203.85743827112668,
          205.06255992974857,
          206.28394712473008,
          207.52194464820445,
          208.77690729691275,
          210.04920024193171,
          211.33919941504445,
          212.64729191264175,
          213.97387641809422,
          215.31936364359245,
          216.68417679251615,
          218.0687520434622,
          219.47353905712734,
          220.8990015073241,
          222.34561763748832,
          223.81388084412347,
          225.30430028872757,
          226.8174015398421,
          228.35372724698107,
          229.9138378483101,
          231.49831231407626,
          233.10774892792364,
          234.74276610838209,
          236.40400327296933,
          238.09212174752466,
          239.8078057235756,
          241.55176326674004,
          243.32472737938372,
          245.12745712099056,
          246.96073878995298,
          248.82538717077114,
          250.7222468509473,
          252.6521936121847,
          254.61613590086174,
          256.6150163831243,
          258.64981359036926,
          260.72154366134174,
          262.83126218756604,
          264.98006616937204,
          267.16909609037475,
          269.3995381189028,
          271.6726264455872,
          273.9896457670927,
          276.3519339268234,
          278.7608847243623,
          281.217950906438,
          283.7246473533175,
          286.28255447577953,
          288.89332183917264,
          291.5586720325697,
          294.28040480268595,
          297.06040147406634,
          299.90062967906437,
          302.80314842339135,
          305.77011351550084,
          308.80378339083575,
          311.9065253650527,
          315.08082235374144,
          318.3292800999941,
          321.65463495542514,
          325.05976226501025,
          328.54768541143784,
          332.12158558065266,
          335.7848123169634,
          339.5408949436454,
          343.39355493345846,
          347.34671932308714,
          351.40453527633707,
          355.57138591319716,
          359.8519075357549,
          364.2510083977726,
          368.77388918269406,
          373.42606537535386,
          378.21339173610016,
          383.1420891128424,
          388.2187738573366,
          393.45049014740334,
          398.8447455575729,
          404.4095502677755,
          410.153460354292,
          416.08562567051587,
          422.21584289885845,
          428.5546144411922,
          435.1132139159658,
          441.9037591483554,
          448.939293679016,
          456.2338779813155,
          463.8026917716604,
          471.6621490289189,
          479.83002761495175,
          488.3256157186864,
          497.1698777431218,
          506.3856427335839,
          515.997819025589,
          526.0336394962999,
          536.522942665757,
          547.4984959526155,
          558.996368694971,
          571.0563641663917,
          583.7225218364941,
          597.0437036575253,
          611.0742813527921,
          625.8749457383092,
          641.5136642922927,
          658.0668198591018,
          675.620572026902,
          694.2724940297326,
          714.1335529376884,
          735.3305207385894,
          758.0089305648377,
          782.3367284895382,
          808.5088209549888,
          836.7527868372672,
          867.336120139386,
          900.5755076686704,
          936.8488464539822,
          976.6110007404678,
          1020.4147408207167,
          1068.9389826001104,
          1123.0275046135705,
          1183.743013774306,
          1252.4442207561488,
          1330.8983213749157,
          1421.4496038512693,
          1527.2801275032846,
          1652.8275862062796,
          1804.484456300105,
          1991.8297651048856,
          2229.9416270774977,
          2544.101933576183,
          2980.4290982224466,
          3633.649135376702,
          4737.002773721697,
          7081.537107327891,
          16748.540967414792
         ]
        }
       ],
       "layout": {
        "autosize": true,
        "legend": {
         "x": 0,
         "y": 1
        },
        "template": {
         "data": {
          "bar": [
           {
            "error_x": {
             "color": "#2a3f5f"
            },
            "error_y": {
             "color": "#2a3f5f"
            },
            "marker": {
             "line": {
              "color": "#E5ECF6",
              "width": 0.5
             },
             "pattern": {
              "fillmode": "overlay",
              "size": 10,
              "solidity": 0.2
             }
            },
            "type": "bar"
           }
          ],
          "barpolar": [
           {
            "marker": {
             "line": {
              "color": "#E5ECF6",
              "width": 0.5
             },
             "pattern": {
              "fillmode": "overlay",
              "size": 10,
              "solidity": 0.2
             }
            },
            "type": "barpolar"
           }
          ],
          "carpet": [
           {
            "aaxis": {
             "endlinecolor": "#2a3f5f",
             "gridcolor": "white",
             "linecolor": "white",
             "minorgridcolor": "white",
             "startlinecolor": "#2a3f5f"
            },
            "baxis": {
             "endlinecolor": "#2a3f5f",
             "gridcolor": "white",
             "linecolor": "white",
             "minorgridcolor": "white",
             "startlinecolor": "#2a3f5f"
            },
            "type": "carpet"
           }
          ],
          "choropleth": [
           {
            "colorbar": {
             "outlinewidth": 0,
             "ticks": ""
            },
            "type": "choropleth"
           }
          ],
          "contour": [
           {
            "colorbar": {
             "outlinewidth": 0,
             "ticks": ""
            },
            "colorscale": [
             [
              0,
              "#0d0887"
             ],
             [
              0.1111111111111111,
              "#46039f"
             ],
             [
              0.2222222222222222,
              "#7201a8"
             ],
             [
              0.3333333333333333,
              "#9c179e"
             ],
             [
              0.4444444444444444,
              "#bd3786"
             ],
             [
              0.5555555555555556,
              "#d8576b"
             ],
             [
              0.6666666666666666,
              "#ed7953"
             ],
             [
              0.7777777777777778,
              "#fb9f3a"
             ],
             [
              0.8888888888888888,
              "#fdca26"
             ],
             [
              1,
              "#f0f921"
             ]
            ],
            "type": "contour"
           }
          ],
          "contourcarpet": [
           {
            "colorbar": {
             "outlinewidth": 0,
             "ticks": ""
            },
            "type": "contourcarpet"
           }
          ],
          "heatmap": [
           {
            "colorbar": {
             "outlinewidth": 0,
             "ticks": ""
            },
            "colorscale": [
             [
              0,
              "#0d0887"
             ],
             [
              0.1111111111111111,
              "#46039f"
             ],
             [
              0.2222222222222222,
              "#7201a8"
             ],
             [
              0.3333333333333333,
              "#9c179e"
             ],
             [
              0.4444444444444444,
              "#bd3786"
             ],
             [
              0.5555555555555556,
              "#d8576b"
             ],
             [
              0.6666666666666666,
              "#ed7953"
             ],
             [
              0.7777777777777778,
              "#fb9f3a"
             ],
             [
              0.8888888888888888,
              "#fdca26"
             ],
             [
              1,
              "#f0f921"
             ]
            ],
            "type": "heatmap"
           }
          ],
          "heatmapgl": [
           {
            "colorbar": {
             "outlinewidth": 0,
             "ticks": ""
            },
            "colorscale": [
             [
              0,
              "#0d0887"
             ],
             [
              0.1111111111111111,
              "#46039f"
             ],
             [
              0.2222222222222222,
              "#7201a8"
             ],
             [
              0.3333333333333333,
              "#9c179e"
             ],
             [
              0.4444444444444444,
              "#bd3786"
             ],
             [
              0.5555555555555556,
              "#d8576b"
             ],
             [
              0.6666666666666666,
              "#ed7953"
             ],
             [
              0.7777777777777778,
              "#fb9f3a"
             ],
             [
              0.8888888888888888,
              "#fdca26"
             ],
             [
              1,
              "#f0f921"
             ]
            ],
            "type": "heatmapgl"
           }
          ],
          "histogram": [
           {
            "marker": {
             "pattern": {
              "fillmode": "overlay",
              "size": 10,
              "solidity": 0.2
             }
            },
            "type": "histogram"
           }
          ],
          "histogram2d": [
           {
            "colorbar": {
             "outlinewidth": 0,
             "ticks": ""
            },
            "colorscale": [
             [
              0,
              "#0d0887"
             ],
             [
              0.1111111111111111,
              "#46039f"
             ],
             [
              0.2222222222222222,
              "#7201a8"
             ],
             [
              0.3333333333333333,
              "#9c179e"
             ],
             [
              0.4444444444444444,
              "#bd3786"
             ],
             [
              0.5555555555555556,
              "#d8576b"
             ],
             [
              0.6666666666666666,
              "#ed7953"
             ],
             [
              0.7777777777777778,
              "#fb9f3a"
             ],
             [
              0.8888888888888888,
              "#fdca26"
             ],
             [
              1,
              "#f0f921"
             ]
            ],
            "type": "histogram2d"
           }
          ],
          "histogram2dcontour": [
           {
            "colorbar": {
             "outlinewidth": 0,
             "ticks": ""
            },
            "colorscale": [
             [
              0,
              "#0d0887"
             ],
             [
              0.1111111111111111,
              "#46039f"
             ],
             [
              0.2222222222222222,
              "#7201a8"
             ],
             [
              0.3333333333333333,
              "#9c179e"
             ],
             [
              0.4444444444444444,
              "#bd3786"
             ],
             [
              0.5555555555555556,
              "#d8576b"
             ],
             [
              0.6666666666666666,
              "#ed7953"
             ],
             [
              0.7777777777777778,
              "#fb9f3a"
             ],
             [
              0.8888888888888888,
              "#fdca26"
             ],
             [
              1,
              "#f0f921"
             ]
            ],
            "type": "histogram2dcontour"
           }
          ],
          "mesh3d": [
           {
            "colorbar": {
             "outlinewidth": 0,
             "ticks": ""
            },
            "type": "mesh3d"
           }
          ],
          "parcoords": [
           {
            "line": {
             "colorbar": {
              "outlinewidth": 0,
              "ticks": ""
             }
            },
            "type": "parcoords"
           }
          ],
          "pie": [
           {
            "automargin": true,
            "type": "pie"
           }
          ],
          "scatter": [
           {
            "fillpattern": {
             "fillmode": "overlay",
             "size": 10,
             "solidity": 0.2
            },
            "type": "scatter"
           }
          ],
          "scatter3d": [
           {
            "line": {
             "colorbar": {
              "outlinewidth": 0,
              "ticks": ""
             }
            },
            "marker": {
             "colorbar": {
              "outlinewidth": 0,
              "ticks": ""
             }
            },
            "type": "scatter3d"
           }
          ],
          "scattercarpet": [
           {
            "marker": {
             "colorbar": {
              "outlinewidth": 0,
              "ticks": ""
             }
            },
            "type": "scattercarpet"
           }
          ],
          "scattergeo": [
           {
            "marker": {
             "colorbar": {
              "outlinewidth": 0,
              "ticks": ""
             }
            },
            "type": "scattergeo"
           }
          ],
          "scattergl": [
           {
            "marker": {
             "colorbar": {
              "outlinewidth": 0,
              "ticks": ""
             }
            },
            "type": "scattergl"
           }
          ],
          "scattermapbox": [
           {
            "marker": {
             "colorbar": {
              "outlinewidth": 0,
              "ticks": ""
             }
            },
            "type": "scattermapbox"
           }
          ],
          "scatterpolar": [
           {
            "marker": {
             "colorbar": {
              "outlinewidth": 0,
              "ticks": ""
             }
            },
            "type": "scatterpolar"
           }
          ],
          "scatterpolargl": [
           {
            "marker": {
             "colorbar": {
              "outlinewidth": 0,
              "ticks": ""
             }
            },
            "type": "scatterpolargl"
           }
          ],
          "scatterternary": [
           {
            "marker": {
             "colorbar": {
              "outlinewidth": 0,
              "ticks": ""
             }
            },
            "type": "scatterternary"
           }
          ],
          "surface": [
           {
            "colorbar": {
             "outlinewidth": 0,
             "ticks": ""
            },
            "colorscale": [
             [
              0,
              "#0d0887"
             ],
             [
              0.1111111111111111,
              "#46039f"
             ],
             [
              0.2222222222222222,
              "#7201a8"
             ],
             [
              0.3333333333333333,
              "#9c179e"
             ],
             [
              0.4444444444444444,
              "#bd3786"
             ],
             [
              0.5555555555555556,
              "#d8576b"
             ],
             [
              0.6666666666666666,
              "#ed7953"
             ],
             [
              0.7777777777777778,
              "#fb9f3a"
             ],
             [
              0.8888888888888888,
              "#fdca26"
             ],
             [
              1,
              "#f0f921"
             ]
            ],
            "type": "surface"
           }
          ],
          "table": [
           {
            "cells": {
             "fill": {
              "color": "#EBF0F8"
             },
             "line": {
              "color": "white"
             }
            },
            "header": {
             "fill": {
              "color": "#C8D4E3"
             },
             "line": {
              "color": "white"
             }
            },
            "type": "table"
           }
          ]
         },
         "layout": {
          "annotationdefaults": {
           "arrowcolor": "#2a3f5f",
           "arrowhead": 0,
           "arrowwidth": 1
          },
          "autotypenumbers": "strict",
          "coloraxis": {
           "colorbar": {
            "outlinewidth": 0,
            "ticks": ""
           }
          },
          "colorscale": {
           "diverging": [
            [
             0,
             "#8e0152"
            ],
            [
             0.1,
             "#c51b7d"
            ],
            [
             0.2,
             "#de77ae"
            ],
            [
             0.3,
             "#f1b6da"
            ],
            [
             0.4,
             "#fde0ef"
            ],
            [
             0.5,
             "#f7f7f7"
            ],
            [
             0.6,
             "#e6f5d0"
            ],
            [
             0.7,
             "#b8e186"
            ],
            [
             0.8,
             "#7fbc41"
            ],
            [
             0.9,
             "#4d9221"
            ],
            [
             1,
             "#276419"
            ]
           ],
           "sequential": [
            [
             0,
             "#0d0887"
            ],
            [
             0.1111111111111111,
             "#46039f"
            ],
            [
             0.2222222222222222,
             "#7201a8"
            ],
            [
             0.3333333333333333,
             "#9c179e"
            ],
            [
             0.4444444444444444,
             "#bd3786"
            ],
            [
             0.5555555555555556,
             "#d8576b"
            ],
            [
             0.6666666666666666,
             "#ed7953"
            ],
            [
             0.7777777777777778,
             "#fb9f3a"
            ],
            [
             0.8888888888888888,
             "#fdca26"
            ],
            [
             1,
             "#f0f921"
            ]
           ],
           "sequentialminus": [
            [
             0,
             "#0d0887"
            ],
            [
             0.1111111111111111,
             "#46039f"
            ],
            [
             0.2222222222222222,
             "#7201a8"
            ],
            [
             0.3333333333333333,
             "#9c179e"
            ],
            [
             0.4444444444444444,
             "#bd3786"
            ],
            [
             0.5555555555555556,
             "#d8576b"
            ],
            [
             0.6666666666666666,
             "#ed7953"
            ],
            [
             0.7777777777777778,
             "#fb9f3a"
            ],
            [
             0.8888888888888888,
             "#fdca26"
            ],
            [
             1,
             "#f0f921"
            ]
           ]
          },
          "colorway": [
           "#636efa",
           "#EF553B",
           "#00cc96",
           "#ab63fa",
           "#FFA15A",
           "#19d3f3",
           "#FF6692",
           "#B6E880",
           "#FF97FF",
           "#FECB52"
          ],
          "font": {
           "color": "#2a3f5f"
          },
          "geo": {
           "bgcolor": "white",
           "lakecolor": "white",
           "landcolor": "#E5ECF6",
           "showlakes": true,
           "showland": true,
           "subunitcolor": "white"
          },
          "hoverlabel": {
           "align": "left"
          },
          "hovermode": "closest",
          "mapbox": {
           "style": "light"
          },
          "paper_bgcolor": "white",
          "plot_bgcolor": "#E5ECF6",
          "polar": {
           "angularaxis": {
            "gridcolor": "white",
            "linecolor": "white",
            "ticks": ""
           },
           "bgcolor": "#E5ECF6",
           "radialaxis": {
            "gridcolor": "white",
            "linecolor": "white",
            "ticks": ""
           }
          },
          "scene": {
           "xaxis": {
            "backgroundcolor": "#E5ECF6",
            "gridcolor": "white",
            "gridwidth": 2,
            "linecolor": "white",
            "showbackground": true,
            "ticks": "",
            "zerolinecolor": "white"
           },
           "yaxis": {
            "backgroundcolor": "#E5ECF6",
            "gridcolor": "white",
            "gridwidth": 2,
            "linecolor": "white",
            "showbackground": true,
            "ticks": "",
            "zerolinecolor": "white"
           },
           "zaxis": {
            "backgroundcolor": "#E5ECF6",
            "gridcolor": "white",
            "gridwidth": 2,
            "linecolor": "white",
            "showbackground": true,
            "ticks": "",
            "zerolinecolor": "white"
           }
          },
          "shapedefaults": {
           "line": {
            "color": "#2a3f5f"
           }
          },
          "ternary": {
           "aaxis": {
            "gridcolor": "white",
            "linecolor": "white",
            "ticks": ""
           },
           "baxis": {
            "gridcolor": "white",
            "linecolor": "white",
            "ticks": ""
           },
           "bgcolor": "#E5ECF6",
           "caxis": {
            "gridcolor": "white",
            "linecolor": "white",
            "ticks": ""
           }
          },
          "title": {
           "x": 0.05
          },
          "xaxis": {
           "automargin": true,
           "gridcolor": "white",
           "linecolor": "white",
           "ticks": "",
           "title": {
            "standoff": 15
           },
           "zerolinecolor": "white",
           "zerolinewidth": 2
          },
          "yaxis": {
           "automargin": true,
           "gridcolor": "white",
           "linecolor": "white",
           "ticks": "",
           "title": {
            "standoff": 15
           },
           "zerolinecolor": "white",
           "zerolinewidth": 2
          }
         }
        },
        "title": {
         "text": "World Population Over Time (Power Law Fit)"
        },
        "xaxis": {
         "autorange": true,
         "gridcolor": "lightgray",
         "gridwidth": 1,
         "range": [
          -10710.877699000966,
          2731.877699000967
         ],
         "showgrid": true,
         "title": {
          "text": "Year"
         },
         "type": "linear"
        },
        "yaxis": {
         "gridcolor": "lightgray",
         "gridwidth": 1,
         "range": [
          4.432266,
          7909.295104
         ],
         "showgrid": true,
         "title": {
          "text": "Population (millions)"
         },
         "type": "linear"
        }
       }
      },
      "image/png": "[encoded data removed]",
      "text/html": [
       "<div>                            <div id=\"5a18ee06-3587-49f2-95dd-9c505135918d\" class=\"plotly-graph-div\" style=\"height:525px; width:100%;\"></div>            <script type=\"text/javascript\">                require([\"plotly\"], function(Plotly) {                    window.PLOTLYENV=window.PLOTLYENV || {};                                    if (document.getElementById(\"5a18ee06-3587-49f2-95dd-9c505135918d\")) {                    Plotly.newPlot(                        \"5a18ee06-3587-49f2-95dd-9c505135918d\",                        [{\"marker\":{\"size\":2},\"mode\":\"markers\",\"name\":\"Data\",\"x\":[-10000,-9000,-8000,-7000,-6000,-5000,-4000,-3000,-2000,-1000,0,100,200,300,400,500,600,700,800,900,1000,1100,1200,1300,1400,1500,1600,1700,1710,1720,1730,1740,1750,1760,1770,1780,1790,1800,1801,1802,1803,1804,1805,1806,1807,1808,1809,1810,1811,1812,1813,1814,1815,1816,1817,1818,1819,1820,1821,1822,1823,1824,1825,1826,1827,1828,1829,1830,1831,1832,1833,1834,1835,1836,1837,1838,1839,1840,1841,1842,1843,1844,1845,1846,1847,1848,1849,1850,1851,1852,1853,1854,1855,1856,1857,1858,1859,1860,1861,1862,1863,1864,1865,1866,1867,1868,1869,1870,1871,1872,1873,1874,1875,1876,1877,1878,1879,1880,1881,1882,1883,1884,1885,1886,1887,1888,1889,1890,1891,1892,1893,1894,1895,1896,1897,1898,1899,1900,1901,1902,1903,1904,1905,1906,1907,1908,1909,1910,1911,1912,1913,1914,1915,1916,1917,1918,1919,1920,1921,1922,1923,1924,1925,1926,1927,1928,1929,1930,1931,1932,1933,1934,1935,1936,1937,1938,1939,1940,1941,1942,1943,1944,1945,1946,1947,1948,1949,1950,1951,1952,1953,1954,1955,1956,1957,1958,1959,1960,1961,1962,1963,1964,1965,1966,1967,1968,1969,1970,1971,1972,1973,1974,1975,1976,1977,1978,1979,1980,1981,1982,1983,1984,1985,1986,1987,1988,1989,1990,1991,1992,1993,1994,1995,1996,1997,1998,1999,2000,2001,2002,2003,2004,2005,2006,2007,2008,2009,2010,2011,2012,2013,2014,2015,2016,2017,2018,2019,2020,2021],\"y\":[4.432266,5.616996,7.242892,9.577918,13.201832,19.075771,28.774661,44.487162,72.586076,110.419521,232.123764,236.904172,240.611571,227.549847,241.539639,253.237316,271.478693,278.185334,285.71384,310.967715,323.407571,397.923813,444.750686,456.388961,442.480612,503.240399,516.610918,592.706212,613.189457,642.718111,664.743383,695.34669,745.664133,779.891857,818.8279,891.048681,931.577684,985.340629,987.628322,991.098738,994.61026,998.16324,1001.758044,1005.395067,1009.074742,1012.797513,1016.563866,1022.629692,1027.487469,1033.636618,1040.443689,1047.427292,1054.586106,1061.924513,1069.44707,1077.158552,1084.757875,1093.424863,1099.331577,1106.263783,1113.514792,1120.876169,1128.34296,1135.961188,1143.684846,1151.515422,1158.898384,1166.619223,1172.266726,1178.216298,1183.68412,1189.202983,1194.812021,1200.422586,1206.132721,1211.908617,1217.625799,1224.117982,1228.828189,1234.333753,1239.880237,1245.319917,1250.936428,1256.637463,1262.42472,1268.300005,1273.394934,1278.810377,1280.744899,1282.983708,1284.472373,1286.078878,1287.785678,1289.613085,1291.556308,1293.616943,1296.053087,1300.098076,1302.046862,1305.560612,1309.444051,1313.410603,1317.453657,1321.572626,1325.775239,1330.060419,1334.928493,1341.697614,1346.406314,1353.032986,1360.261504,1367.561973,1374.96243,1382.44305,1389.974777,1397.574403,1405.702618,1415.841209,1423.704727,1433.553127,1444.009167,1454.595037,1465.369425,1476.245076,1487.277339,1498.437207,1509.373834,1521.669265,1530.611585,1540.822549,1550.822689,1560.960959,1571.250732,1581.628826,1592.152786,1602.80187,1614.109121,1627.883132,1638.647517,1651.840077,1665.70354,1679.752718,1693.984163,1708.411294,1723.032738,1737.874788,1752.122665,1767.847653,1778.784032,1791.197929,1803.056235,1815.104863,1827.290389,1839.559287,1851.899055,1864.869126,1878.650358,1895.68215,1908.748639,1924.82612,1941.6369,1958.716901,1976.068839,1993.719848,2011.689749,2029.682397,2048.513689,2070.596353,2088.429965,2109.357892,2131.029147,2152.969392,2175.184808,2197.830032,2220.878589,2244.005191,2266.483407,2290.871362,2307.736768,2326.734579,2344.58144,2362.439908,2380.167769,2397.811266,2416.694412,2437.259361,2463.242071,2499.322112,2543.130368,2590.270976,2640.278784,2691.979264,2746.072064,2801.002752,2857.866752,2916.108032,2970.292224,3019.233536,3068.370688,3126.68672,3195.779328,3267.212288,3337.112064,3406.416896,3475.448064,3546.81088,3620.65536,3695.390208,3770.1632,3844.800768,3920.251392,3995.516928,4069.437184,4142.505728,4215.772416,4289.6576,4365.582848,4444.007936,4524.627456,4607.98464,4691.884032,4775.83616,4861.730816,4950.063104,5040.984576,5132.294144,5223.704064,5316.175872,5406.245888,5492.686336,5577.4336,5660.727808,5743.219712,5825.145344,5906.481152,5987.31264,6067.758592,6148.898816,6230.747136,6312.407552,6393.898496,6475.751424,6558.176256,6641.416192,6725.948416,6811.597312,6898.306048,6985.603072,7073.125376,7161.697792,7250.59328,7339.013632,7426.597376,7513.474048,7599.822336,7683.789824,7764.95104,7840.952832,7909.295104],\"type\":\"scatter\"},{\"line\":{\"color\":\"red\"},\"mode\":\"lines\",\"name\":\"Fitted Power Law Curve\",\"x\":[-10000.0,-9987.977977977978,-9975.955955955957,-9963.933933933933,-9951.911911911911,-9939.88988988989,-9927.867867867868,-9915.845845845846,-9903.823823823825,-9891.801801801801,-9879.77977977978,-9867.757757757758,-9855.735735735736,-9843.713713713714,-9831.691691691693,-9819.669669669669,-9807.647647647647,-9795.625625625626,-9783.603603603604,-9771.581581581582,-9759.559559559559,-9747.537537537537,-9735.515515515515,-9723.493493493494,-9711.471471471472,-9699.44944944945,-9687.427427427427,-9675.405405405405,-9663.383383383383,-9651.361361361362,-9639.33933933934,-9627.317317317318,-9615.295295295295,-9603.273273273273,-9591.251251251251,-9579.22922922923,-9567.207207207208,-9555.185185185186,-9543.163163163163,-9531.14114114114,-9519.11911911912,-9507.097097097098,-9495.075075075076,-9483.053053053052,-9471.03103103103,-9459.009009009009,-9446.986986986987,-9434.964964964965,-9422.942942942944,-9410.92092092092,-9398.898898898899,-9386.876876876877,-9374.854854854855,-9362.832832832833,-9350.81081081081,-9338.788788788788,-9326.766766766767,-9314.744744744745,-9302.722722722723,-9290.700700700701,-9278.678678678678,-9266.656656656656,-9254.634634634634,-9242.612612612613,-9230.590590590591,-9218.56856856857,-9206.546546546546,-9194.524524524524,-9182.502502502502,-9170.48048048048,-9158.458458458459,-9146.436436436437,-9134.414414414414,-9122.392392392392,-9110.37037037037,-9098.348348348349,-9086.326326326327,-9074.304304304304,-9062.282282282282,-9050.26026026026,-9038.238238238238,-9026.216216216217,-9014.194194194195,-9002.172172172171,-8990.15015015015,-8978.128128128128,-8966.106106106106,-8954.084084084085,-8942.062062062061,-8930.04004004004,-8918.018018018018,-8905.995995995996,-8893.973973973974,-8881.951951951953,-8869.929929929931,-8857.907907907907,-8845.885885885886,-8833.863863863864,-8821.841841841842,-8809.81981981982,-8797.797797797797,-8785.775775775775,-8773.753753753754,-8761.731731731732,-8749.70970970971,-8737.687687687689,-8725.665665665665,-8713.643643643643,-8701.621621621622,-8689.5995995996,-8677.577577577578,-8665.555555555555,-8653.533533533533,-8641.511511511511,-8629.48948948949,-8617.467467467468,-8605.445445445446,-8593.423423423423,-8581.401401401401,-8569.37937937938,-8557.357357357358,-8545.335335335336,-8533.313313313312,-8521.29129129129,-8509.269269269269,-8497.247247247247,-8485.225225225226,-8473.203203203204,-8461.181181181182,-8449.159159159159,-8437.137137137137,-8425.115115115115,-8413.093093093094,-8401.071071071072,-8389.049049049048,-8377.027027027027,-8365.005005005005,-8352.982982982983,-8340.960960960962,-8328.93893893894,-8316.916916916916,-8304.894894894895,-8292.872872872873,-8280.850850850851,-8268.82882882883,-8256.806806806806,-8244.784784784784,-8232.762762762763,-8220.74074074074,-8208.71871871872,-8196.696696696697,-8184.674674674675,-8172.652652652652,-8160.630630630631,-8148.608608608609,-8136.586586586587,-8124.5645645645645,-8112.542542542543,-8100.52052052052,-8088.4984984984985,-8076.476476476477,-8064.454454454455,-8052.4324324324325,-8040.410410410411,-8028.388388388388,-8016.3663663663665,-8004.344344344345,-7992.322322322322,-7980.3003003003005,-7968.278278278278,-7956.256256256256,-7944.2342342342345,-7932.212212212213,-7920.19019019019,-7908.168168168168,-7896.146146146146,-7884.124124124124,-7872.102102102102,-7860.080080080081,-7848.058058058058,-7836.0360360360355,-7824.014014014014,-7811.991991991992,-7799.96996996997,-7787.947947947949,-7775.925925925926,-7763.9039039039035,-7751.881881881882,-7739.85985985986,-7727.837837837838,-7715.815815815816,-7703.793793793794,-7691.7717717717715,-7679.74974974975,-7667.727727727728,-7655.705705705706,-7643.683683683684,-7631.661661661661,-7619.639639639639,-7607.617617617618,-7595.595595595596,-7583.573573573574,-7571.551551551552,-7559.529529529529,-7547.507507507507,-7535.485485485486,-7523.463463463464,-7511.441441441441,-7499.41941941942,-7487.397397397397,-7475.375375375375,-7463.353353353354,-7451.331331331332,-7439.309309309309,-7427.287287287288,-7415.265265265265,-7403.243243243243,-7391.221221221222,-7379.1991991992,-7367.177177177177,-7355.155155155155,-7343.133133133133,-7331.111111111111,-7319.08908908909,-7307.067067067067,-7295.045045045045,-7283.023023023023,-7271.001001001001,-7258.978978978979,-7246.956956956958,-7234.934934934935,-7222.912912912913,-7210.890890890891,-7198.868868868869,-7186.846846846847,-7174.824824824826,-7162.802802802803,-7150.78078078078,-7138.758758758759,-7126.736736736737,-7114.714714714715,-7102.6926926926935,-7090.670670670671,-7078.648648648648,-7066.626626626627,-7054.604604604605,-7042.582582582583,-7030.560560560561,-7018.538538538539,-7006.516516516516,-6994.494494494495,-6982.472472472473,-6970.450450450451,-6958.428428428429,-6946.406406406406,-6934.384384384384,-6922.362362362363,-6910.340340340341,-6898.318318318319,-6886.2962962962965,-6874.274274274274,-6862.252252252252,-6850.2302302302305,-6838.208208208209,-6826.186186186186,-6814.1641641641645,-6802.142142142142,-6790.12012012012,-6778.0980980980985,-6766.076076076077,-6754.054054054054,-6742.032032032032,-6730.01001001001,-6717.987987987988,-6705.9659659659665,-6693.943943943945,-6681.921921921922,-6669.8998998998995,-6657.877877877878,-6645.855855855856,-6633.833833833834,-6621.811811811812,-6609.78978978979,-6597.7677677677675,-6585.745745745746,-6573.723723723724,-6561.701701701702,-6549.67967967968,-6537.657657657658,-6525.6356356356355,-6513.613613613614,-6501.591591591592,-6489.56956956957,-6477.547547547548,-6465.525525525525,-6453.503503503503,-6441.481481481482,-6429.45945945946,-6417.437437437437,-6405.415415415416,-6393.393393393393,-6381.371371371371,-6369.34934934935,-6357.327327327328,-6345.305305305305,-6333.283283283284,-6321.261261261261,-6309.239239239239,-6297.217217217218,-6285.195195195196,-6273.173173173173,-6261.151151151151,-6249.129129129129,-6237.107107107107,-6225.085085085086,-6213.063063063064,-6201.041041041041,-6189.019019019019,-6176.996996996997,-6164.974974974975,-6152.952952952954,-6140.930930930931,-6128.908908908909,-6116.886886886887,-6104.864864864865,-6092.842842842843,-6080.820820820822,-6068.798798798799,-6056.776776776776,-6044.754754754755,-6032.732732732733,-6020.710710710711,-6008.68868868869,-5996.666666666667,-5984.644644644644,-5972.622622622623,-5960.600600600601,-5948.578578578579,-5936.556556556557,-5924.534534534535,-5912.512512512512,-5900.490490490491,-5888.468468468469,-5876.446446446446,-5864.424424424425,-5852.402402402403,-5840.38038038038,-5828.358358358359,-5816.336336336337,-5804.314314314314,-5792.292292292293,-5780.270270270271,-5768.248248248248,-5756.226226226227,-5744.204204204205,-5732.182182182182,-5720.160160160161,-5708.138138138138,-5696.116116116116,-5684.0940940940945,-5672.072072072072,-5660.05005005005,-5648.0280280280285,-5636.006006006006,-5623.983983983984,-5611.9619619619625,-5599.93993993994,-5587.917917917918,-5575.8958958958965,-5563.873873873874,-5551.851851851852,-5539.8298298298305,-5527.807807807808,-5515.785785785786,-5503.7637637637645,-5491.741741741742,-5479.71971971972,-5467.697697697698,-5455.675675675676,-5443.653653653654,-5431.6316316316315,-5419.60960960961,-5407.587587587588,-5395.5655655655655,-5383.543543543544,-5371.521521521522,-5359.4994994994995,-5347.477477477478,-5335.455455455456,-5323.4334334334335,-5311.411411411412,-5299.38938938939,-5287.3673673673675,-5275.345345345346,-5263.323323323323,-5251.3013013013015,-5239.27927927928,-5227.257257257257,-5215.235235235235,-5203.213213213214,-5191.191191191191,-5179.169169169169,-5167.147147147148,-5155.125125125125,-5143.103103103103,-5131.081081081082,-5119.059059059059,-5107.037037037037,-5095.015015015016,-5082.992992992993,-5070.970970970971,-5058.94894894895,-5046.926926926927,-5034.904904904905,-5022.882882882883,-5010.860860860861,-4998.838838838839,-4986.816816816817,-4974.794794794795,-4962.772772772773,-4950.750750750751,-4938.728728728729,-4926.706706706707,-4914.684684684685,-4902.662662662663,-4890.640640640641,-4878.618618618619,-4866.596596596597,-4854.574574574575,-4842.552552552553,-4830.530530530531,-4818.508508508508,-4806.486486486487,-4794.464464464465,-4782.442442442442,-4770.420420420421,-4758.398398398399,-4746.376376376376,-4734.354354354355,-4722.332332332333,-4710.31031031031,-4698.288288288289,-4686.266266266267,-4674.244244244244,-4662.222222222223,-4650.200200200201,-4638.178178178178,-4626.156156156157,-4614.134134134134,-4602.112112112112,-4590.090090090091,-4578.068068068068,-4566.046046046046,-4554.024024024025,-4542.002002002002,-4529.97997997998,-4517.957957957959,-4505.935935935936,-4493.913913913914,-4481.891891891893,-4469.86986986987,-4457.847847847848,-4445.8258258258265,-4433.803803803804,-4421.781781781782,-4409.7597597597605,-4397.737737737738,-4385.715715715716,-4373.693693693694,-4361.671671671672,-4349.64964964965,-4337.627627627628,-4325.605605605606,-4313.583583583584,-4301.561561561562,-4289.53953953954,-4277.517517517518,-4265.495495495496,-4253.473473473474,-4241.451451451452,-4229.42942942943,-4217.407407407408,-4205.385385385386,-4193.3633633633635,-4181.341341341342,-4169.319319319319,-4157.2972972972975,-4145.275275275276,-4133.253253253253,-4121.2312312312315,-4109.20920920921,-4097.187187187187,-4085.1651651651655,-4073.143143143144,-4061.121121121121,-4049.0990990990995,-4037.077077077078,-4025.055055055055,-4013.0330330330335,-4001.0110110110118,-3988.988988988989,-3976.9669669669674,-3964.9449449449457,-3952.922922922923,-3940.9009009009014,-3928.878878878879,-3916.856856856857,-3904.8348348348354,-3892.812812812813,-3880.790790790791,-3868.7687687687694,-3856.746746746747,-3844.724724724725,-3832.7027027027034,-3820.680680680681,-3808.658658658659,-3796.6366366366374,-3784.6146146146148,-3772.592592592593,-3760.5705705705714,-3748.5485485485488,-3736.526526526527,-3724.5045045045044,-3712.4824824824827,-3700.460460460461,-3688.4384384384384,-3676.4164164164167,-3664.394394394395,-3652.3723723723724,-3640.3503503503507,-3628.328328328329,-3616.3063063063064,-3604.2842842842847,-3592.262262262263,-3580.2402402402404,-3568.2182182182187,-3556.196196196197,-3544.1741741741744,-3532.1521521521527,-3520.130130130131,-3508.1081081081084,-3496.0860860860867,-3484.064064064064,-3472.0420420420423,-3460.0200200200206,-3447.997997997998,-3435.9759759759763,-3423.9539539539546,-3411.931931931932,-3399.9099099099103,-3387.8878878878886,-3375.865865865866,-3363.8438438438443,-3351.8218218218226,-3339.7997997998,-3327.7777777777783,-3315.7557557557566,-3303.733733733734,-3291.7117117117123,-3279.6896896896897,-3267.667667667668,-3255.6456456456463,-3243.6236236236236,-3231.601601601602,-3219.5795795795802,-3207.5575575575576,-3195.535535535536,-3183.513513513514,-3171.4914914914916,-3159.46946946947,-3147.447447447448,-3135.4254254254256,-3123.403403403404,-3111.381381381382,-3099.3593593593596,-3087.337337337338,-3075.315315315316,-3063.2932932932936,-3051.271271271272,-3039.2492492492493,-3027.2272272272276,-3015.205205205206,-3003.1831831831832,-2991.1611611611615,-2979.13913913914,-2967.1171171171172,-2955.0950950950955,-2943.073073073074,-2931.051051051051,-2919.0290290290295,-2907.007007007008,-2894.984984984985,-2882.9629629629635,-2870.940940940942,-2858.918918918919,-2846.8968968968975,-2834.874874874875,-2822.852852852853,-2810.8308308308315,-2798.808808808809,-2786.786786786787,-2774.7647647647655,-2762.742742742743,-2750.720720720721,-2738.6986986986994,-2726.676676676677,-2714.654654654655,-2702.6326326326334,-2690.610610610611,-2678.588588588589,-2666.5665665665674,-2654.544544544545,-2642.522522522523,-2630.5005005005005,-2618.478478478479,-2606.456456456457,-2594.4344344344345,-2582.412412412413,-2570.390390390391,-2558.3683683683685,-2546.3463463463468,-2534.324324324325,-2522.3023023023025,-2510.2802802802807,-2498.258258258259,-2486.2362362362364,-2474.2142142142147,-2462.192192192193,-2450.1701701701704,-2438.1481481481487,-2426.126126126127,-2414.1041041041044,-2402.0820820820827,-2390.06006006006,-2378.0380380380384,-2366.0160160160167,-2353.993993993994,-2341.9719719719724,-2329.9499499499507,-2317.927927927928,-2305.9059059059064,-2293.8838838838847,-2281.861861861862,-2269.8398398398404,-2257.8178178178186,-2245.795795795796,-2233.7737737737743,-2221.7517517517526,-2209.72972972973,-2197.7077077077083,-2185.6856856856857,-2173.663663663664,-2161.6416416416423,-2149.6196196196197,-2137.597597597598,-2125.5755755755763,-2113.5535535535537,-2101.531531531532,-2089.5095095095103,-2077.4874874874877,-2065.465465465466,-2053.4434434434443,-2041.4214214214217,-2029.3993993994,-2017.3773773773783,-2005.3553553553556,-1993.333333333334,-1981.3113113113122,-1969.2892892892896,-1957.267267267268,-1945.2452452452453,-1933.2232232232236,-1921.201201201202,-1909.1791791791793,-1897.1571571571576,-1885.135135135136,-1873.1131131131133,-1861.0910910910916,-1849.0690690690699,-1837.0470470470473,-1825.0250250250256,-1813.0030030030039,-1800.9809809809813,-1788.9589589589596,-1776.9369369369379,-1764.9149149149162,-1752.8928928928926,-1740.870870870871,-1728.8488488488492,-1716.8268268268275,-1704.8048048048058,-1692.7827827827841,-1680.7607607607606,-1668.738738738739,-1656.7167167167172,-1644.6946946946955,-1632.6726726726738,-1620.6506506506503,-1608.6286286286286,-1596.6066066066069,-1584.5845845845852,-1572.5625625625635,-1560.5405405405418,-1548.5185185185182,-1536.4964964964965,-1524.4744744744748,-1512.4524524524531,-1500.4304304304314,-1488.4084084084097,-1476.3863863863862,-1464.3643643643645,-1452.3423423423428,-1440.3203203203211,-1428.2982982982994,-1416.276276276276,-1404.2542542542542,-1392.2322322322325,-1380.2102102102108,-1368.188188188189,-1356.1661661661674,-1344.1441441441439,-1332.1221221221222,-1320.1001001001005,-1308.0780780780788,-1296.056056056057,-1284.0340340340354,-1272.0120120120118,-1259.9899899899901,-1247.9679679679684,-1235.9459459459467,-1223.923923923925,-1211.9019019019033,-1199.8798798798798,-1187.857857857858,-1175.8358358358364,-1163.8138138138147,-1151.791791791793,-1139.7697697697695,-1127.7477477477478,-1115.725725725726,-1103.7037037037044,-1091.6816816816827,-1079.659659659661,-1067.6376376376375,-1055.6156156156158,-1043.593593593594,-1031.5715715715723,-1019.5495495495506,-1007.527527527529,-995.5055055055054,-983.4834834834837,-971.461461461462,-959.4394394394403,-947.4174174174186,-935.3953953953951,-923.3733733733734,-911.3513513513517,-899.32932932933,-887.3073073073083,-875.2852852852866,-863.2632632632631,-851.2412412412414,-839.2192192192197,-827.197197197198,-815.1751751751763,-803.1531531531546,-791.131131131131,-779.1091091091093,-767.0870870870876,-755.0650650650659,-743.0430430430442,-731.0210210210207,-718.998998998999,-706.9769769769773,-694.9549549549556,-682.9329329329339,-670.9109109109122,-658.8888888888887,-646.866866866867,-634.8448448448453,-622.8228228228236,-610.8008008008019,-598.7787787787802,-586.7567567567567,-574.734734734735,-562.7127127127133,-550.6906906906916,-538.6686686686699,-526.6466466466463,-514.6246246246246,-502.60260260260293,-490.5805805805812,-478.5585585585595,-466.5365365365378,-454.5145145145143,-442.4924924924926,-430.4704704704709,-418.4484484484492,-406.4264264264275,-394.4044044044058,-382.3823823823823,-370.3603603603606,-358.3383383383389,-346.31631631631717,-334.29429429429547,-322.27227227227195,-310.25025025025025,-298.22822822822855,-286.20620620620684,-274.18418418418514,-262.16216216216344,-250.14014014013992,-238.11811811811822,-226.09609609609652,-214.07407407407482,-202.0520520520531,-190.0300300300314,-178.0080080080079,-165.9859859859862,-153.9639639639645,-141.9419419419428,-129.91991991992109,-117.89789789789938,-105.87587587587586,-93.85385385385416,-81.83183183183246,-69.80980980981076,-57.78778778778906,-45.765765765765536,-33.743743743743835,-21.721721721722133,-9.699699699700432,2.32232232232127,14.344344344342971,26.366366366366492,38.388388388388194,50.410410410409895,62.4324324324316,74.4544544544533,86.476476476475,98.49849849849852,110.52052052052022,122.54254254254192,134.56456456456363,146.58658658658533,158.60860860860885,170.63063063063055,182.65265265265225,194.67467467467395,206.69669669669565,218.71871871871735,230.74074074074088,242.76276276276258,254.78478478478428,266.806806806806,278.8288288288277,290.8508508508494,302.8728728728729,314.8948948948946,326.9169169169163,338.938938938938,350.9609609609597,362.98298298298323,375.00500500500493,387.02702702702663,399.04904904904834,411.07107107107004,423.09309309309174,435.11511511511526,447.13713713713696,459.15915915915866,471.18118118118036,483.20320320320207,495.22522522522377,507.2472472472473,519.269269269269,531.2912912912907,543.3133133133124,555.3353353353341,567.3573573573576,579.3793793793793,591.401401401401,603.4234234234227,615.4454454454444,627.4674674674661,639.4894894894896,651.5115115115113,663.533533533533,675.5555555555547,687.5775775775764,699.5995995995982,711.6216216216217,723.6436436436434,735.6656656656651,747.6876876876868,759.7097097097085,771.731731731732,783.7537537537537,795.7757757757754,807.7977977977971,819.8198198198188,831.8418418418405,843.863863863864,855.8858858858857,867.9079079079074,879.9299299299291,891.9519519519508,903.9739739739725,915.995995995996,928.0180180180178,940.0400400400395,952.0620620620612,964.0840840840829,976.1061061061046,988.1281281281281,1000.1501501501498,1012.1721721721715,1024.1941941941932,1036.216216216215,1048.2382382382384,1060.26026026026,1072.2822822822818,1084.3043043043035,1096.3263263263252,1108.348348348347,1120.3703703703704,1132.3923923923921,1144.4144144144138,1156.4364364364355,1168.4584584584572,1180.480480480479,1192.5025025025025,1204.5245245245242,1216.5465465465459,1228.5685685685676,1240.5905905905893,1252.6126126126128,1264.6346346346345,1276.6566566566562,1288.678678678678,1300.7007007006996,1312.7227227227213,1324.7447447447448,1336.7667667667665,1348.7887887887882,1360.81081081081,1372.8328328328316,1384.8548548548533,1396.8768768768768,1408.8988988988986,1420.9209209209203,1432.942942942942,1444.9649649649637,1456.9869869869872,1469.0090090090089,1481.0310310310306,1493.0530530530523,1505.075075075074,1517.0970970970957,1529.1191191191192,1541.141141141141,1553.1631631631626,1565.1851851851843,1577.207207207206,1589.2292292292277,1601.2512512512512,1613.273273273273,1625.2952952952946,1637.3173173173163,1649.339339339338,1661.3613613613616,1673.3833833833833,1685.405405405405,1697.4274274274267,1709.4494494494484,1721.47147147147,1733.4934934934936,1745.5155155155153,1757.537537537537,1769.5595595595587,1781.5815815815804,1793.603603603602,1805.6256256256256,1817.6476476476473,1829.669669669669,1841.6916916916907,1853.7137137137124,1865.7357357357341,1877.7577577577576,1889.7797797797793,1901.801801801801,1913.8238238238227,1925.8458458458445,1937.867867867868,1949.8898898898897,1961.9119119119114,1973.933933933933,1985.9559559559548,1997.9779779779765,2010.0],\"y\":[41.81466124137728,41.847734731168885,41.88086755947481,41.91405989240381,41.94731189669696,41.980623739730675,42.01399558951977,42.047427614720576,42.080919984633994,42.11447286920864,42.14808643904397,42.181760865393436,42.21549632016766,42.249292975937614,42.283151005937846,42.3170705840697,42.351051884904535,42.38509508368707,42.41920035633856,42.4533678794602,42.487597830336405,42.521890386938125,42.55624572792627,42.590664032655056,42.625145481175416,42.659690254238434,42.69429853329877,42.728970500518145,42.763706338768806,42.79850623163706,42.833370363426766,42.86829891916293,42.90329208459523,42.938350046201606,42.97347299119193,43.00866110751158,43.04391458384512,43.07923360961998,43.11461837501015,43.1500690709399,43.18558588908753,43.221169021889146,43.25681866254243,43.29253500501048,43.32831824402562,43.36416857509326,43.40008619449582,43.43607129929658,43.472124087343666,43.50824475727394,43.544433508517045,43.58069054129936,43.61701605664805,43.65341025639512,43.68987334318146,43.726405520461014,43.763006992504835,43.79967796440525,43.8364186420801,43.87322923227685,43.910109942576916,43.947060981399815,43.98408255800756,44.02117488250886,44.05833816586354,44.09557261988685,44.132878457253895,44.170255891503984,44.20770513704517,44.245226409158626,44.28281992400321,44.320485898619985,44.358224550936725,44.39603609977253,44.433920764842476,44.471878766762195,44.50991032705257,44.54801566814446,44.58619501338337,44.624448587034266,44.66277661428636,44.70117932125786,44.73965693500094,44.778209683506496,44.81683779570915,44.85554150149213,44.89432103169227,44.933176618105044,44.97210849348954,45.01111689157357,45.050202047058775,45.08936419562573,45.12860357393913,45.167920419653,45.20731497141589,45.246787468876185,45.28633815268737,45.32596726451339,45.365675047033996,45.40546174395016,45.44532759998952,45.48527286091182,45.525297773514474,45.56540258563803,45.60558754617185,45.645852905059606,45.68619891330506,45.72662582297764,45.76713388721822,45.8077233602449,45.848394497358754,45.889147554949716,45.9299827905024,45.97090046260209,46.01190083094062,46.05298415632241,46.09415070067048,46.13540072703254,46.17673449958706,46.21815228364946,46.25965434567828,46.30124095328141,46.342912375222404,46.384668881426734,46.42651074298817,46.468438232175195,46.510451622437444,46.552551188412146,46.594737205930706,46.637009952025245,46.679369704935205,46.72181674411403,46.76435135023586,46.806973805202276,46.8496843921491,46.89248339545319,46.93537110073939,46.97834779488743,47.02141376603888,47.06456930360421,47.107814698269834,47.15115024200523,47.194576228070126,47.23809295102169,47.28170070672182,47.32539979234444,47.36919050638286,47.41307314865716,47.457048020321736,47.50111542387274,47.54527566315566,47.58952904337296,47.63387587109171,47.67831645425133,47.72285110217138,47.76748012555936,47.81220383651857,47.85702254855612,47.901936576590835,47.946946236961345,47.99205184743419,48.03725372721195,48.082552196941464,48.127947578722114,48.173440196114136,48.219030374147,48.264718439327886,48.31050471965013,48.356389544601825,48.40237324517443,48.44845615387146,48.49463860471719,48.5409209332655,48.58730347660872,48.63378657338655,48.680370563795066,48.72705578959573,48.77384259412457,48.820731322301306,48.86772232063861,48.91481593725143,48.96201252186633,49.00931242583096,49.056716002123586,49.1042236053626,49.151835591816216,49.19955231941219,49.24737414774754,49.29530143809846,49.34333455343024,49.391473858407196,49.43971971940282,49.48807250450985,49.536532583550496,49.58510032808676,49.63377611143075,49.6825603086551,49.73145329660356,49.78045545390145,49.82956716096644,49.87878880001924,49.92812075509435,49.977563412051076,50.02711715858442,50.07678238423612,50.12655948040586,50.17644884036239,50.22645085925491,50.27656593412437,50.32679446391499,50.37713684948576,50.42759349362209,50.478164801047555,50.52885117843565,50.57965303442169,50.6305707796148,50.681604826609984,50.73275559000025,50.78402348638889,50.83540893440178,50.886912354699845,50.93853416999154,50.9902748050455,51.0421346867032,51.094114243891795,51.14621390763702,51.198434111076146,51.2507752894711,51.30323788022165,51.35582232287868,51.408529059157594,51.4613585329518,51.514311190346305,51.567387479631385,51.6205878513164,51.67391275814372,51.727362655102674,51.78093799944373,51.83463925069263,51.88846687066483,51.94242132347983,51.996503075575774,52.05071259572413,52.10505035504443,52.15951682701914,52.21411248750868,52.26883781476655,52.323693289454546,52.37867939465809,52.43379661590175,52.489045441164755,52.54442636089675,52.5999398680336,52.65558645801337,52.711366628792355,52.76728088086131,52.82332971726178,52.87951364360252,52.93583316807612,52.992288801475674,53.048881057211645,53.105610451328836,53.16247750252348,53.21948273216052,53.27662666429094,53.3339098256693,53.391332745771415,53.448895956812066,53.50659999376304,53.56444539437113,53.62243269917634,53.680562451530356,53.738835197614904,53.79725148646051,53.85581186996529,53.91451690291387,53.97336714299652,54.032363150828445,54.0915054899691,54.15079472694186,54.210231431253725,54.26981617541517,54.329549534960215,54.38943208846668,54.44946441757644,54.509647107016114,54.569980744617645,54.630465921339244,54.691103231286384,54.75189327173308,54.8128366431432,54.873933949192086,54.935185796788254,54.99659279609534,55.0581555605542,55.1198747069051,55.18175085521034,55.24378462887673,55.30597665467858,55.368327562780586,55.430837986761105,55.49350856363559,55.5563399338801,55.6193327414552,55.68248763382989,55.74580526200582,55.80928628054165,55.87293134757768,55.93674112486069,56.00071627776889,56.06485747533715,56.1291653902825,56.193640699029686,56.25828408173711,56.323096222322874,56.388077808491104,56.45322953175848,56.51855208748097,56.584046174880804,56.64971249707371,56.71555176109635,56.781564677934014,56.84775196254842,56.914114333906056,56.98065251500639,57.04736723291061,57.11425921877047,57.18132920785746,57.2485779395921,57.31600615757367,57.38361460961003,57.451404047747836,57.51937522830289,57.58752891189085,57.65586586345816,57.72438685231327,57.793092652158116,57.86198404111987,57.931061801783024,58.00032672122162,58.06977959103193,58.13942120736531,58.20925237096141,58.27927388718159,58.34948656604271,58.41989122225124,58.490488675237565,58.56127974919067,58.63226527309314,58.70344608075644,58.77482301085652,58.84639690696973,58.91816861760908,58.990138996260804,59.06230890142125,59.134679196634096,59.20725075052795,59.28002443685424,59.35300113452542,59.42618172765359,59.499567105589485,59.57315816296162,59.64695579971612,59.720960921156596,59.79517443798456,59.86959726634021,59.944230327843464,60.01907454963549,60.09413086442061,60.16940021050853,60.244883531856885,60.32058177811449,60.39649590466457,60.47262687266869,60.548975649111,60.625543206842856,60.702330524627875,60.77933858718747,60.8565683852467,60.93402091558067,61.01169718106123,61.089598190704194,61.167724959717084,61.246078509547104,61.32465986792971,61.40347006893772,61.482510153030645,61.561781167104705,61.64128416454324,61.72102020526757,61.80099035578835,61.8811956892575,61.96163728552045,62.04231623116911,62.12323361959514,62.20439055104387,62.28578813266866,62.36742747858581,62.44930970993001,62.53143595491033,62.613807348866665,62.69642503432683,62.77929016106424,62.862403886155946,62.94576737404148,63.02938179658212,63.11324833312078,63.197368170542454,63.281742503335344,63.36637253365248,63.45125947137395,63.536404534169876,63.62180894756384,63.70747394499701,63.79340076789294,63.87959066572293,63.9660448960721,64.05276472470612,64.13975142563851,64.22700628119875,64.314530582101,64.40232562751343,64.49039272512842,64.57873319123334,64.66734835078206,64.75623953746717,64.84540809379298,64.93485537114927,65.02458272988565,65.1145915393869,65.20488317814876,65.2954590338549,65.38632050345427,65.47746899323953,65.56890591892613,65.6606327057323,65.75265078845969,65.84496161157514,65.93756662929296,66.03046730565823,66.12366511463108,66.21716154017152,66.31095807632543,66.40505622731143,66.49945750760838,66.5941634420442,66.6891755658853,66.784495424927,66.88012457558514,66.97606458498831,67.07231703107125,67.16888350266925,67.26576559961339,67.36296493282704,67.46048312442313,67.55832180780254,67.65648262775368,67.75496724055289,67.8537773140661,67.95291452785153,68.05238057326345,68.152177153557,68.25230598399443,68.35276879195203,68.45356731702866,68.55470331115514,68.656178538705,68.75799477660638,68.8601538144551,68.96265745462905,69.06550751240383,69.1687058160695,69.27225420704889,69.37615454001688,69.48040868302134,69.58501851760506,69.68998593892934,69.7953128558987,69.90100119128714,70.00705288186576,70.11346987853172,70.22025414643876,70.32740766512912,70.43493242866694,70.54283044577313,70.6511037399619,70.75975434967853,70.8687843284391,70.97819574497146,71.08799068335792,71.19817124317963,71.3087395396625,71.41969770382484,71.53104788262667,71.64279223912072,71.75493295260524,71.86747221877845,71.98041224989487,72.09375527492337,72.20750353970716,72.32165930712556,72.43622485725753,72.5512024875474,72.6665945129723,72.78240326621152,72.89863109781808,73.01528037639208,73.13235348875618,73.2498528401332,73.36778085432572,73.48613997389782,73.6049326603591,73.72416139435065,73.84382867583346,73.96393702427898,74.0844889788619,74.20548709865533,74.32693396282833,74.44883217084573,74.57118434267038,74.69399311896788,74.81726116131384,74.94099115240348,75.0651857962639,75.18984781846899,75.31497996635677,75.44058500924959,75.56666573867689,75.69322496860077,75.82026553564427,75.94779029932256,76.0758021422769,76.20430397051148,76.33329871363333,76.46278932509507,76.5927787824408,76.7232700875549,76.85426626691415,76.98577037184286,77.11778547877128,77.25031468949726,77.38336113145108,77.51692795796393,77.65101834853948,77.78563550912902,77.92078267241027,78.05646309806939,78.19268007308692,78.32943691202729,78.46673695733196,78.60458357961642,78.74298017797103,78.88193018026573,79.02143704345862,79.16150425390876,79.30213532769278,79.44333381092586,79.58510328008674,79.72744734234703,79.87036963590494,80.01387383032328,80.15796362687202,80.30264275887532,80.44791499206313,80.59378412492762,80.74025398908418,80.8873284496373,81.0350114055514,81.18330679002662,81.33221857087955,81.48175075092925,81.6319073683884,81.78269249725973,81.9341102477379,82.08616476661678,82.23886023770226,82.39220088223091,82.54619095929402,82.7008347662678,82.85613663924934,83.01210095349852,83.16873212388623,83.32603460534865,83.48401289334787,83.64267152433897,83.80201507624362,83.96204816893021,84.12277546470084,84.28420166878517,84.44633152984105,84.60916984046251,84.77272143769464,84.936991203556,85.1019840655685,85.26770499729457,85.43415901888228,85.60135119761827,85.7692866484884,85.93797053474681,86.10740806849289,86.27760451125675,86.44856517459341,86.62029542068517,86.79280066295313,86.96608636667762,87.14015804962762,87.31502128269942,87.49068169056498,87.66714495232948,87.84441680219882,88.02250303015714,88.20140948265423,88.3811420633033,88.56170673358923,88.74310951358738,88.92535648269332,89.10845378036345,89.2924076068669,89.47722422404892,89.66290995610568,89.84947119037102,90.0369143781153,90.22524603535634,90.41447274368282,90.60460115109065,90.7956379728319,90.98758999227707,91.18046406179081,91.37426710362125,91.56900611080296,91.76468814807455,91.96132035281033,92.15890993596658,92.35746418304318,92.55699045505996,92.75749618954895,92.95898890156222,93.16147618469586,93.36496571213034,93.56946523768774,93.77498259690562,93.98152570812866,94.18910257361777,94.39772128067708,94.60739000279952,94.81811700083107,95.02991062415377,95.24277931188868,95.45673159411817,95.67177609312856,95.88792152467353,96.10517669925817,96.32355052344474,96.54305200117997,96.76369023514474,96.98547442812651,97.2084138844147,97.43251801121967,97.65779632011599,97.88425842850994,98.11191406113213,98.34077305155569,98.57084534374063,98.80214099360428,99.03467017061948,99.26844315943988,99.50347036155372,99.73976229696639,99.97732960591222,100.21618305059637,100.45633351696739,100.69779201652072,100.94056968813443,101.18467779993725,101.43012775120987,101.6769310743202,101.92509943669324,102.1746446428163,102.42557863628026,102.67791350185783,102.93166146761921,103.18683490708656,103.44344634142742,103.70150844168838,103.96103403106969,104.22203608724188,104.48452774470486,104.74852229719085,105.01403320011217,105.28107407305434,105.54965870231592,105.81980104349604,106.09151522413067,106.36481554637834,106.63971648975736,106.9162327139345,107.1943790615671,107.47417056119956,107.7556224302152,108.03875007784553,108.32356910823697,108.61009532357754,108.89834472728415,109.18833352725227,109.48007813916884,109.77359518989098,110.06890152089073,110.36601419176814,110.66495048383416,110.96572790376496,111.26836418732903,111.57287730318943,111.87928545678238,112.18760709427413,112.49786090659818,112.81006583357453,113.12424106811316,113.44040606050356,113.75858052279227,114.0787844332511,114.4010380409376,114.72536187035021,115.05177672618099,115.3803036981673,115.71096416604564,116.04377980460993,116.37877258887683,116.71596479936053,117.05537902746057,117.39703818096422,117.74096548966749,118.08718451111716,118.43571913647706,118.7865935965216,119.13983246776029,119.49546067869588,119.85350351622023,120.21398663215115,120.5769360499135,120.94237817136957,121.31033978380093,121.68084806704714,122.0539306008046,122.4296153720903,122.80793078287434,123.18890565788648,123.57256925260049,123.95895126140155,124.3480818259419,124.73999154368923,125.13471147667316,125.53227316043628,125.93270861319344,126.33605034520662,126.742331368381,127.15158520608738,127.56384590321908,127.979148036488,128.3975267249679,128.81901764089105,129.24365702070608,129.67148167640386,130.10252900711959,130.53683701101875,130.9744442974749,131.4153900995484,131.859714286774,132.30745737826695,132.75866055615683,133.21336567935847,133.6716152976901,134.13345266634929,134.59892176075664,135.06806729177953,135.54093472134576,136.01757027846003,136.49802097563511,136.9823346257504,137.47055985935066,137.96274614239917,138.45894379449877,138.95920400759516,139.46357886517836,139.97212136199707,140.4848854243022,141.00192593063753,141.5232987331925,142.04906067973758,142.57926963615944,143.11398450961516,143.65326527232708,144.19717298603697,144.74576982714288,145.29911911253993,145.8572853261893,146.42033414643822,146.9883324741179,147.56134846144354,148.13945154174448,148.7227124600527,149.31120330457819,149.90499753910194,150.5041700363185,151.10879711215964,151.71895656113455,152.3347276927213,152.95619136884605,153.58343004248997,154.2165277974618,154.85557038937876,155.50064528789895,156.15184172025025,156.8092507161019,157.47296515382953,158.14307980822218,158.81969139968598,159.5028986449995,160.19280230967837,160.88950526200844,161.5931125288129,162.30373135301514,163.02147125306885,163.7464440843248,164.47876410240988,165.21854802869493,165.96591511793474,166.72098722816247,167.48388889292923,168.25474739598093,169.03369284846858,169.82085826879566,170.61637966520595,171.42039612122505,172.23304988407065,173.0544864561541,173.88485468979945,174.72430688531583,175.57299889256052,176.4310902161411,177.29874412440998,178.17612776241296,179.0634122689597,179.9607728979967,180.86838914446562,181.7864448748453,182.71512846258238,183.6546329286255,184.605156087293,185.56690069770963,186.54007462106526,187.52489098395964,188.52156834811103,189.53033088672072,190.55140856780392,191.58503734480882,192.6314593548684,193.69092312504466,194.76368378694653,195.85000330012167,196.95015068464852,198.0644022633722,199.19304191426016,200.33636133337507,201.49466030899237,202.6682470074227,203.85743827112668,205.06255992974857,206.28394712473008,207.52194464820445,208.77690729691275,210.04920024193171,211.33919941504445,212.64729191264175,213.97387641809422,215.31936364359245,216.68417679251615,218.0687520434622,219.47353905712734,220.8990015073241,222.34561763748832,223.81388084412347,225.30430028872757,226.8174015398421,228.35372724698107,229.9138378483101,231.49831231407626,233.10774892792364,234.74276610838209,236.40400327296933,238.09212174752466,239.8078057235756,241.55176326674004,243.32472737938372,245.12745712099056,246.96073878995298,248.82538717077114,250.7222468509473,252.6521936121847,254.61613590086174,256.6150163831243,258.64981359036926,260.72154366134174,262.83126218756604,264.98006616937204,267.16909609037475,269.3995381189028,271.6726264455872,273.9896457670927,276.3519339268234,278.7608847243623,281.217950906438,283.7246473533175,286.28255447577953,288.89332183917264,291.5586720325697,294.28040480268595,297.06040147406634,299.90062967906437,302.80314842339135,305.77011351550084,308.80378339083575,311.9065253650527,315.08082235374144,318.3292800999941,321.65463495542514,325.05976226501025,328.54768541143784,332.12158558065266,335.7848123169634,339.5408949436454,343.39355493345846,347.34671932308714,351.40453527633707,355.57138591319716,359.8519075357549,364.2510083977726,368.77388918269406,373.42606537535386,378.21339173610016,383.1420891128424,388.2187738573366,393.45049014740334,398.8447455575729,404.4095502677755,410.153460354292,416.08562567051587,422.21584289885845,428.5546144411922,435.1132139159658,441.9037591483554,448.939293679016,456.2338779813155,463.8026917716604,471.6621490289189,479.83002761495175,488.3256157186864,497.1698777431218,506.3856427335839,515.997819025589,526.0336394962999,536.522942665757,547.4984959526155,558.996368694971,571.0563641663917,583.7225218364941,597.0437036575253,611.0742813527921,625.8749457383092,641.5136642922927,658.0668198591018,675.620572026902,694.2724940297326,714.1335529376884,735.3305207385894,758.0089305648377,782.3367284895382,808.5088209549888,836.7527868372672,867.336120139386,900.5755076686704,936.8488464539822,976.6110007404678,1020.4147408207167,1068.9389826001104,1123.0275046135705,1183.743013774306,1252.4442207561488,1330.8983213749157,1421.4496038512693,1527.2801275032846,1652.8275862062796,1804.484456300105,1991.8297651048856,2229.9416270774977,2544.101933576183,2980.4290982224466,3633.649135376702,4737.002773721697,7081.537107327891,16748.540967414792],\"type\":\"scatter\"}],                        {\"template\":{\"data\":{\"histogram2dcontour\":[{\"type\":\"histogram2dcontour\",\"colorbar\":{\"outlinewidth\":0,\"ticks\":\"\"},\"colorscale\":[[0.0,\"#0d0887\"],[0.1111111111111111,\"#46039f\"],[0.2222222222222222,\"#7201a8\"],[0.3333333333333333,\"#9c179e\"],[0.4444444444444444,\"#bd3786\"],[0.5555555555555556,\"#d8576b\"],[0.6666666666666666,\"#ed7953\"],[0.7777777777777778,\"#fb9f3a\"],[0.8888888888888888,\"#fdca26\"],[1.0,\"#f0f921\"]]}],\"choropleth\":[{\"type\":\"choropleth\",\"colorbar\":{\"outlinewidth\":0,\"ticks\":\"\"}}],\"histogram2d\":[{\"type\":\"histogram2d\",\"colorbar\":{\"outlinewidth\":0,\"ticks\":\"\"},\"colorscale\":[[0.0,\"#0d0887\"],[0.1111111111111111,\"#46039f\"],[0.2222222222222222,\"#7201a8\"],[0.3333333333333333,\"#9c179e\"],[0.4444444444444444,\"#bd3786\"],[0.5555555555555556,\"#d8576b\"],[0.6666666666666666,\"#ed7953\"],[0.7777777777777778,\"#fb9f3a\"],[0.8888888888888888,\"#fdca26\"],[1.0,\"#f0f921\"]]}],\"heatmap\":[{\"type\":\"heatmap\",\"colorbar\":{\"outlinewidth\":0,\"ticks\":\"\"},\"colorscale\":[[0.0,\"#0d0887\"],[0.1111111111111111,\"#46039f\"],[0.2222222222222222,\"#7201a8\"],[0.3333333333333333,\"#9c179e\"],[0.4444444444444444,\"#bd3786\"],[0.5555555555555556,\"#d8576b\"],[0.6666666666666666,\"#ed7953\"],[0.7777777777777778,\"#fb9f3a\"],[0.8888888888888888,\"#fdca26\"],[1.0,\"#f0f921\"]]}],\"heatmapgl\":[{\"type\":\"heatmapgl\",\"colorbar\":{\"outlinewidth\":0,\"ticks\":\"\"},\"colorscale\":[[0.0,\"#0d0887\"],[0.1111111111111111,\"#46039f\"],[0.2222222222222222,\"#7201a8\"],[0.3333333333333333,\"#9c179e\"],[0.4444444444444444,\"#bd3786\"],[0.5555555555555556,\"#d8576b\"],[0.6666666666666666,\"#ed7953\"],[0.7777777777777778,\"#fb9f3a\"],[0.8888888888888888,\"#fdca26\"],[1.0,\"#f0f921\"]]}],\"contourcarpet\":[{\"type\":\"contourcarpet\",\"colorbar\":{\"outlinewidth\":0,\"ticks\":\"\"}}],\"contour\":[{\"type\":\"contour\",\"colorbar\":{\"outlinewidth\":0,\"ticks\":\"\"},\"colorscale\":[[0.0,\"#0d0887\"],[0.1111111111111111,\"#46039f\"],[0.2222222222222222,\"#7201a8\"],[0.3333333333333333,\"#9c179e\"],[0.4444444444444444,\"#bd3786\"],[0.5555555555555556,\"#d8576b\"],[0.6666666666666666,\"#ed7953\"],[0.7777777777777778,\"#fb9f3a\"],[0.8888888888888888,\"#fdca26\"],[1.0,\"#f0f921\"]]}],\"surface\":[{\"type\":\"surface\",\"colorbar\":{\"outlinewidth\":0,\"ticks\":\"\"},\"colorscale\":[[0.0,\"#0d0887\"],[0.1111111111111111,\"#46039f\"],[0.2222222222222222,\"#7201a8\"],[0.3333333333333333,\"#9c179e\"],[0.4444444444444444,\"#bd3786\"],[0.5555555555555556,\"#d8576b\"],[0.6666666666666666,\"#ed7953\"],[0.7777777777777778,\"#fb9f3a\"],[0.8888888888888888,\"#fdca26\"],[1.0,\"#f0f921\"]]}],\"mesh3d\":[{\"type\":\"mesh3d\",\"colorbar\":{\"outlinewidth\":0,\"ticks\":\"\"}}],\"scatter\":[{\"fillpattern\":{\"fillmode\":\"overlay\",\"size\":10,\"solidity\":0.2},\"type\":\"scatter\"}],\"parcoords\":[{\"type\":\"parcoords\",\"line\":{\"colorbar\":{\"outlinewidth\":0,\"ticks\":\"\"}}}],\"scatterpolargl\":[{\"type\":\"scatterpolargl\",\"marker\":{\"colorbar\":{\"outlinewidth\":0,\"ticks\":\"\"}}}],\"bar\":[{\"error_x\":{\"color\":\"#2a3f5f\"},\"error_y\":{\"color\":\"#2a3f5f\"},\"marker\":{\"line\":{\"color\":\"#E5ECF6\",\"width\":0.5},\"pattern\":{\"fillmode\":\"overlay\",\"size\":10,\"solidity\":0.2}},\"type\":\"bar\"}],\"scattergeo\":[{\"type\":\"scattergeo\",\"marker\":{\"colorbar\":{\"outlinewidth\":0,\"ticks\":\"\"}}}],\"scatterpolar\":[{\"type\":\"scatterpolar\",\"marker\":{\"colorbar\":{\"outlinewidth\":0,\"ticks\":\"\"}}}],\"histogram\":[{\"marker\":{\"pattern\":{\"fillmode\":\"overlay\",\"size\":10,\"solidity\":0.2}},\"type\":\"histogram\"}],\"scattergl\":[{\"type\":\"scattergl\",\"marker\":{\"colorbar\":{\"outlinewidth\":0,\"ticks\":\"\"}}}],\"scatter3d\":[{\"type\":\"scatter3d\",\"line\":{\"colorbar\":{\"outlinewidth\":0,\"ticks\":\"\"}},\"marker\":{\"colorbar\":{\"outlinewidth\":0,\"ticks\":\"\"}}}],\"scattermapbox\":[{\"type\":\"scattermapbox\",\"marker\":{\"colorbar\":{\"outlinewidth\":0,\"ticks\":\"\"}}}],\"scatterternary\":[{\"type\":\"scatterternary\",\"marker\":{\"colorbar\":{\"outlinewidth\":0,\"ticks\":\"\"}}}],\"scattercarpet\":[{\"type\":\"scattercarpet\",\"marker\":{\"colorbar\":{\"outlinewidth\":0,\"ticks\":\"\"}}}],\"carpet\":[{\"aaxis\":{\"endlinecolor\":\"#2a3f5f\",\"gridcolor\":\"white\",\"linecolor\":\"white\",\"minorgridcolor\":\"white\",\"startlinecolor\":\"#2a3f5f\"},\"baxis\":{\"endlinecolor\":\"#2a3f5f\",\"gridcolor\":\"white\",\"linecolor\":\"white\",\"minorgridcolor\":\"white\",\"startlinecolor\":\"#2a3f5f\"},\"type\":\"carpet\"}],\"table\":[{\"cells\":{\"fill\":{\"color\":\"#EBF0F8\"},\"line\":{\"color\":\"white\"}},\"header\":{\"fill\":{\"color\":\"#C8D4E3\"},\"line\":{\"color\":\"white\"}},\"type\":\"table\"}],\"barpolar\":[{\"marker\":{\"line\":{\"color\":\"#E5ECF6\",\"width\":0.5},\"pattern\":{\"fillmode\":\"overlay\",\"size\":10,\"solidity\":0.2}},\"type\":\"barpolar\"}],\"pie\":[{\"automargin\":true,\"type\":\"pie\"}]},\"layout\":{\"autotypenumbers\":\"strict\",\"colorway\":[\"#636efa\",\"#EF553B\",\"#00cc96\",\"#ab63fa\",\"#FFA15A\",\"#19d3f3\",\"#FF6692\",\"#B6E880\",\"#FF97FF\",\"#FECB52\"],\"font\":{\"color\":\"#2a3f5f\"},\"hovermode\":\"closest\",\"hoverlabel\":{\"align\":\"left\"},\"paper_bgcolor\":\"white\",\"plot_bgcolor\":\"#E5ECF6\",\"polar\":{\"bgcolor\":\"#E5ECF6\",\"angularaxis\":{\"gridcolor\":\"white\",\"linecolor\":\"white\",\"ticks\":\"\"},\"radialaxis\":{\"gridcolor\":\"white\",\"linecolor\":\"white\",\"ticks\":\"\"}},\"ternary\":{\"bgcolor\":\"#E5ECF6\",\"aaxis\":{\"gridcolor\":\"white\",\"linecolor\":\"white\",\"ticks\":\"\"},\"baxis\":{\"gridcolor\":\"white\",\"linecolor\":\"white\",\"ticks\":\"\"},\"caxis\":{\"gridcolor\":\"white\",\"linecolor\":\"white\",\"ticks\":\"\"}},\"coloraxis\":{\"colorbar\":{\"outlinewidth\":0,\"ticks\":\"\"}},\"colorscale\":{\"sequential\":[[0.0,\"#0d0887\"],[0.1111111111111111,\"#46039f\"],[0.2222222222222222,\"#7201a8\"],[0.3333333333333333,\"#9c179e\"],[0.4444444444444444,\"#bd3786\"],[0.5555555555555556,\"#d8576b\"],[0.6666666666666666,\"#ed7953\"],[0.7777777777777778,\"#fb9f3a\"],[0.8888888888888888,\"#fdca26\"],[1.0,\"#f0f921\"]],\"sequentialminus\":[[0.0,\"#0d0887\"],[0.1111111111111111,\"#46039f\"],[0.2222222222222222,\"#7201a8\"],[0.3333333333333333,\"#9c179e\"],[0.4444444444444444,\"#bd3786\"],[0.5555555555555556,\"#d8576b\"],[0.6666666666666666,\"#ed7953\"],[0.7777777777777778,\"#fb9f3a\"],[0.8888888888888888,\"#fdca26\"],[1.0,\"#f0f921\"]],\"diverging\":[[0,\"#8e0152\"],[0.1,\"#c51b7d\"],[0.2,\"#de77ae\"],[0.3,\"#f1b6da\"],[0.4,\"#fde0ef\"],[0.5,\"#f7f7f7\"],[0.6,\"#e6f5d0\"],[0.7,\"#b8e186\"],[0.8,\"#7fbc41\"],[0.9,\"#4d9221\"],[1,\"#276419\"]]},\"xaxis\":{\"gridcolor\":\"white\",\"linecolor\":\"white\",\"ticks\":\"\",\"title\":{\"standoff\":15},\"zerolinecolor\":\"white\",\"automargin\":true,\"zerolinewidth\":2},\"yaxis\":{\"gridcolor\":\"white\",\"linecolor\":\"white\",\"ticks\":\"\",\"title\":{\"standoff\":15},\"zerolinecolor\":\"white\",\"automargin\":true,\"zerolinewidth\":2},\"scene\":{\"xaxis\":{\"backgroundcolor\":\"#E5ECF6\",\"gridcolor\":\"white\",\"linecolor\":\"white\",\"showbackground\":true,\"ticks\":\"\",\"zerolinecolor\":\"white\",\"gridwidth\":2},\"yaxis\":{\"backgroundcolor\":\"#E5ECF6\",\"gridcolor\":\"white\",\"linecolor\":\"white\",\"showbackground\":true,\"ticks\":\"\",\"zerolinecolor\":\"white\",\"gridwidth\":2},\"zaxis\":{\"backgroundcolor\":\"#E5ECF6\",\"gridcolor\":\"white\",\"linecolor\":\"white\",\"showbackground\":true,\"ticks\":\"\",\"zerolinecolor\":\"white\",\"gridwidth\":2}},\"shapedefaults\":{\"line\":{\"color\":\"#2a3f5f\"}},\"annotationdefaults\":{\"arrowcolor\":\"#2a3f5f\",\"arrowhead\":0,\"arrowwidth\":1},\"geo\":{\"bgcolor\":\"white\",\"landcolor\":\"#E5ECF6\",\"subunitcolor\":\"white\",\"showland\":true,\"showlakes\":true,\"lakecolor\":\"white\"},\"title\":{\"x\":0.05},\"mapbox\":{\"style\":\"light\"}}},\"xaxis\":{\"title\":{\"text\":\"Year\"},\"showgrid\":true,\"gridwidth\":1,\"gridcolor\":\"lightgray\"},\"yaxis\":{\"title\":{\"text\":\"Population (millions)\"},\"showgrid\":true,\"gridwidth\":1,\"gridcolor\":\"lightgray\",\"range\":[4.432266,7909.295104]},\"title\":{\"text\":\"World Population Over Time (Power Law Fit)\"},\"legend\":{\"x\":0,\"y\":1}},                        {\"responsive\": true}                    ).then(function(){\n",
       "                            \n",
       "var gd = document.getElementById('5a18ee06-3587-49f2-95dd-9c505135918d');\n",
       "var x = new MutationObserver(function (mutations, observer) {{\n",
       "        var display = window.getComputedStyle(gd).display;\n",
       "        if (!display || display === 'none') {{\n",
       "            console.log([gd, 'removed!']);\n",
       "            Plotly.purge(gd);\n",
       "            observer.disconnect();\n",
       "        }}\n",
       "}});\n",
       "\n",
       "// Listen for the removal of the full notebook cells\n",
       "var notebookContainer = gd.closest('#notebook-container');\n",
       "if (notebookContainer) {{\n",
       "    x.observe(notebookContainer, {childList: true});\n",
       "}}\n",
       "\n",
       "// Listen for the clearing of the current output cell\n",
       "var outputEl = gd.closest('.output');\n",
       "if (outputEl) {{\n",
       "    x.observe(outputEl, {childList: true});\n",
       "}}\n",
       "\n",
       "                        })                };                });            </script>        </div>"
      ]
     },
     "metadata": {},
     "output_type": "display_data"
    }
   ],
   "source": [
    "import plotly.graph_objects as go\n",
    "\n",
    "fig = go.Figure()\n",
    "\n",
    "fig.add_trace(go.Scatter(x=years_full, y=populations_full, mode='markers', name='Data', marker=dict(size=2)))\n",
    "\n",
    "t_values = np.linspace(min(years_full), 2010, 1000)\n",
    "p_values = power_law(t_values, C_fit, a_fit, t_infty_fit)\n",
    "fig.add_trace(go.Scatter(x=t_values, y=p_values, mode='lines', name='Fitted Power Law Curve', line=dict(color='red')))\n",
    "\n",
    "fig.update_xaxes(title_text='Year')\n",
    "fig.update_yaxes(title_text='Population (millions)')\n",
    "fig.update_layout(title_text='World Population Over Time (Power Law Fit)')\n",
    "\n",
    "fig.update_layout(legend=dict(x=0, y=1))\n",
    "\n",
    "# fig.add_annotation(text=params_latex, x=0.15, y=0.2, showarrow=False, font=dict(size=12), bgcolor='white', opacity=0.5)\n",
    "# The above line ruins things for some reason. LaTeX doesn't work with Plotly+Jupyter Book. Whatever.\n",
    "\n",
    "fig.update_xaxes(showgrid=True, gridwidth=1, gridcolor='lightgray')\n",
    "fig.update_yaxes(showgrid=True, gridwidth=1, gridcolor='lightgray')\n",
    "\n",
    "fig.update_yaxes(range=[min(populations_full), max(populations_full)])\n",
    "\n",
    "fig.show()"
   ]
  },
  {
   "cell_type": "code",
   "execution_count": 161,
   "id": "2b349a70-b1d2-4255-a676-ba7ccba51ec4",
   "metadata": {},
   "outputs": [
    {
     "data": {
      "application/vnd.plotly.v1+json": {
       "config": {
        "plotlyServerURL": "https://plot.ly"
       },
       "data": [
        {
         "hoverinfo": "text",
         "mode": "markers",
         "name": "Data",
         "text": [
          "Year: -10000, Population: 4",
          "Year: -9000, Population: 6",
          "Year: -8000, Population: 7",
          "Year: -7000, Population: 10",
          "Year: -6000, Population: 13",
          "Year: -5000, Population: 19",
          "Year: -4000, Population: 29",
          "Year: -3000, Population: 44",
          "Year: -2000, Population: 73",
          "Year: -1000, Population: 110",
          "Year: 0, Population: 232",
          "Year: 100, Population: 237",
          "Year: 200, Population: 241",
          "Year: 300, Population: 228",
          "Year: 400, Population: 242",
          "Year: 500, Population: 253",
          "Year: 600, Population: 271",
          "Year: 700, Population: 278",
          "Year: 800, Population: 286",
          "Year: 900, Population: 311",
          "Year: 1000, Population: 323",
          "Year: 1100, Population: 398",
          "Year: 1200, Population: 445",
          "Year: 1300, Population: 456",
          "Year: 1400, Population: 442",
          "Year: 1500, Population: 503",
          "Year: 1600, Population: 517",
          "Year: 1700, Population: 593",
          "Year: 1710, Population: 613",
          "Year: 1720, Population: 643",
          "Year: 1730, Population: 665",
          "Year: 1740, Population: 695",
          "Year: 1750, Population: 746",
          "Year: 1760, Population: 780",
          "Year: 1770, Population: 819",
          "Year: 1780, Population: 891",
          "Year: 1790, Population: 932",
          "Year: 1800, Population: 985",
          "Year: 1801, Population: 988",
          "Year: 1802, Population: 991",
          "Year: 1803, Population: 995",
          "Year: 1804, Population: 998",
          "Year: 1805, Population: 1002",
          "Year: 1806, Population: 1005",
          "Year: 1807, Population: 1009",
          "Year: 1808, Population: 1013",
          "Year: 1809, Population: 1017",
          "Year: 1810, Population: 1023",
          "Year: 1811, Population: 1027",
          "Year: 1812, Population: 1034",
          "Year: 1813, Population: 1040",
          "Year: 1814, Population: 1047",
          "Year: 1815, Population: 1055",
          "Year: 1816, Population: 1062",
          "Year: 1817, Population: 1069",
          "Year: 1818, Population: 1077",
          "Year: 1819, Population: 1085",
          "Year: 1820, Population: 1093",
          "Year: 1821, Population: 1099",
          "Year: 1822, Population: 1106",
          "Year: 1823, Population: 1114",
          "Year: 1824, Population: 1121",
          "Year: 1825, Population: 1128",
          "Year: 1826, Population: 1136",
          "Year: 1827, Population: 1144",
          "Year: 1828, Population: 1152",
          "Year: 1829, Population: 1159",
          "Year: 1830, Population: 1167",
          "Year: 1831, Population: 1172",
          "Year: 1832, Population: 1178",
          "Year: 1833, Population: 1184",
          "Year: 1834, Population: 1189",
          "Year: 1835, Population: 1195",
          "Year: 1836, Population: 1200",
          "Year: 1837, Population: 1206",
          "Year: 1838, Population: 1212",
          "Year: 1839, Population: 1218",
          "Year: 1840, Population: 1224",
          "Year: 1841, Population: 1229",
          "Year: 1842, Population: 1234",
          "Year: 1843, Population: 1240",
          "Year: 1844, Population: 1245",
          "Year: 1845, Population: 1251",
          "Year: 1846, Population: 1257",
          "Year: 1847, Population: 1262",
          "Year: 1848, Population: 1268",
          "Year: 1849, Population: 1273",
          "Year: 1850, Population: 1279",
          "Year: 1851, Population: 1281",
          "Year: 1852, Population: 1283",
          "Year: 1853, Population: 1284",
          "Year: 1854, Population: 1286",
          "Year: 1855, Population: 1288",
          "Year: 1856, Population: 1290",
          "Year: 1857, Population: 1292",
          "Year: 1858, Population: 1294",
          "Year: 1859, Population: 1296",
          "Year: 1860, Population: 1300",
          "Year: 1861, Population: 1302",
          "Year: 1862, Population: 1306",
          "Year: 1863, Population: 1309",
          "Year: 1864, Population: 1313",
          "Year: 1865, Population: 1317",
          "Year: 1866, Population: 1322",
          "Year: 1867, Population: 1326",
          "Year: 1868, Population: 1330",
          "Year: 1869, Population: 1335",
          "Year: 1870, Population: 1342",
          "Year: 1871, Population: 1346",
          "Year: 1872, Population: 1353",
          "Year: 1873, Population: 1360",
          "Year: 1874, Population: 1368",
          "Year: 1875, Population: 1375",
          "Year: 1876, Population: 1382",
          "Year: 1877, Population: 1390",
          "Year: 1878, Population: 1398",
          "Year: 1879, Population: 1406",
          "Year: 1880, Population: 1416",
          "Year: 1881, Population: 1424",
          "Year: 1882, Population: 1434",
          "Year: 1883, Population: 1444",
          "Year: 1884, Population: 1455",
          "Year: 1885, Population: 1465",
          "Year: 1886, Population: 1476",
          "Year: 1887, Population: 1487",
          "Year: 1888, Population: 1498",
          "Year: 1889, Population: 1509",
          "Year: 1890, Population: 1522",
          "Year: 1891, Population: 1531",
          "Year: 1892, Population: 1541",
          "Year: 1893, Population: 1551",
          "Year: 1894, Population: 1561",
          "Year: 1895, Population: 1571",
          "Year: 1896, Population: 1582",
          "Year: 1897, Population: 1592",
          "Year: 1898, Population: 1603",
          "Year: 1899, Population: 1614",
          "Year: 1900, Population: 1628",
          "Year: 1901, Population: 1639",
          "Year: 1902, Population: 1652",
          "Year: 1903, Population: 1666",
          "Year: 1904, Population: 1680",
          "Year: 1905, Population: 1694",
          "Year: 1906, Population: 1708",
          "Year: 1907, Population: 1723",
          "Year: 1908, Population: 1738",
          "Year: 1909, Population: 1752",
          "Year: 1910, Population: 1768",
          "Year: 1911, Population: 1779",
          "Year: 1912, Population: 1791",
          "Year: 1913, Population: 1803",
          "Year: 1914, Population: 1815",
          "Year: 1915, Population: 1827",
          "Year: 1916, Population: 1840",
          "Year: 1917, Population: 1852",
          "Year: 1918, Population: 1865",
          "Year: 1919, Population: 1879",
          "Year: 1920, Population: 1896",
          "Year: 1921, Population: 1909",
          "Year: 1922, Population: 1925",
          "Year: 1923, Population: 1942",
          "Year: 1924, Population: 1959",
          "Year: 1925, Population: 1976",
          "Year: 1926, Population: 1994",
          "Year: 1927, Population: 2012",
          "Year: 1928, Population: 2030",
          "Year: 1929, Population: 2049",
          "Year: 1930, Population: 2071",
          "Year: 1931, Population: 2088",
          "Year: 1932, Population: 2109",
          "Year: 1933, Population: 2131",
          "Year: 1934, Population: 2153",
          "Year: 1935, Population: 2175",
          "Year: 1936, Population: 2198",
          "Year: 1937, Population: 2221",
          "Year: 1938, Population: 2244",
          "Year: 1939, Population: 2266",
          "Year: 1940, Population: 2291",
          "Year: 1941, Population: 2308",
          "Year: 1942, Population: 2327",
          "Year: 1943, Population: 2345",
          "Year: 1944, Population: 2362",
          "Year: 1945, Population: 2380",
          "Year: 1946, Population: 2398",
          "Year: 1947, Population: 2417",
          "Year: 1948, Population: 2437",
          "Year: 1949, Population: 2463",
          "Year: 1950, Population: 2499",
          "Year: 1951, Population: 2543",
          "Year: 1952, Population: 2590",
          "Year: 1953, Population: 2640",
          "Year: 1954, Population: 2692",
          "Year: 1955, Population: 2746",
          "Year: 1956, Population: 2801",
          "Year: 1957, Population: 2858",
          "Year: 1958, Population: 2916",
          "Year: 1959, Population: 2970",
          "Year: 1960, Population: 3019",
          "Year: 1961, Population: 3068",
          "Year: 1962, Population: 3127",
          "Year: 1963, Population: 3196",
          "Year: 1964, Population: 3267",
          "Year: 1965, Population: 3337",
          "Year: 1966, Population: 3406",
          "Year: 1967, Population: 3475",
          "Year: 1968, Population: 3547",
          "Year: 1969, Population: 3621",
          "Year: 1970, Population: 3695",
          "Year: 1971, Population: 3770",
          "Year: 1972, Population: 3845",
          "Year: 1973, Population: 3920",
          "Year: 1974, Population: 3996",
          "Year: 1975, Population: 4069",
          "Year: 1976, Population: 4143",
          "Year: 1977, Population: 4216",
          "Year: 1978, Population: 4290",
          "Year: 1979, Population: 4366",
          "Year: 1980, Population: 4444",
          "Year: 1981, Population: 4525",
          "Year: 1982, Population: 4608",
          "Year: 1983, Population: 4692",
          "Year: 1984, Population: 4776",
          "Year: 1985, Population: 4862",
          "Year: 1986, Population: 4950",
          "Year: 1987, Population: 5041",
          "Year: 1988, Population: 5132",
          "Year: 1989, Population: 5224",
          "Year: 1990, Population: 5316",
          "Year: 1991, Population: 5406",
          "Year: 1992, Population: 5493",
          "Year: 1993, Population: 5577",
          "Year: 1994, Population: 5661",
          "Year: 1995, Population: 5743",
          "Year: 1996, Population: 5825",
          "Year: 1997, Population: 5906",
          "Year: 1998, Population: 5987",
          "Year: 1999, Population: 6068",
          "Year: 2000, Population: 6149",
          "Year: 2001, Population: 6231",
          "Year: 2002, Population: 6312",
          "Year: 2003, Population: 6394",
          "Year: 2004, Population: 6476",
          "Year: 2005, Population: 6558",
          "Year: 2006, Population: 6641",
          "Year: 2007, Population: 6726",
          "Year: 2008, Population: 6812",
          "Year: 2009, Population: 6898",
          "Year: 2010, Population: 6986",
          "Year: 2011, Population: 7073",
          "Year: 2012, Population: 7162",
          "Year: 2013, Population: 7251",
          "Year: 2014, Population: 7339",
          "Year: 2015, Population: 7427",
          "Year: 2016, Population: 7513",
          "Year: 2017, Population: 7600",
          "Year: 2018, Population: 7684",
          "Year: 2019, Population: 7765",
          "Year: 2020, Population: 7841",
          "Year: 2021, Population: 7909"
         ],
         "type": "scatter",
         "x": [
          12016.090768983046,
          11016.090768983046,
          10016.090768983046,
          9016.090768983046,
          8016.0907689830465,
          7016.0907689830465,
          6016.0907689830465,
          5016.0907689830465,
          4016.0907689830465,
          3016.0907689830465,
          2016.0907689830462,
          1916.0907689830462,
          1816.0907689830462,
          1716.0907689830462,
          1616.0907689830462,
          1516.0907689830462,
          1416.0907689830462,
          1316.0907689830462,
          1216.0907689830462,
          1116.0907689830462,
          1016.0907689830462,
          916.0907689830462,
          816.0907689830462,
          716.0907689830462,
          616.0907689830462,
          516.0907689830462,
          416.09076898304625,
          316.09076898304625,
          306.09076898304625,
          296.09076898304625,
          286.09076898304625,
          276.09076898304625,
          266.09076898304625,
          256.09076898304625,
          246.09076898304625,
          236.09076898304625,
          226.09076898304625,
          216.09076898304625,
          215.09076898304625,
          214.09076898304625,
          213.09076898304625,
          212.09076898304625,
          211.09076898304625,
          210.09076898304625,
          209.09076898304625,
          208.09076898304625,
          207.09076898304625,
          206.09076898304625,
          205.09076898304625,
          204.09076898304625,
          203.09076898304625,
          202.09076898304625,
          201.09076898304625,
          200.09076898304625,
          199.09076898304625,
          198.09076898304625,
          197.09076898304625,
          196.09076898304625,
          195.09076898304625,
          194.09076898304625,
          193.09076898304625,
          192.09076898304625,
          191.09076898304625,
          190.09076898304625,
          189.09076898304625,
          188.09076898304625,
          187.09076898304625,
          186.09076898304625,
          185.09076898304625,
          184.09076898304625,
          183.09076898304625,
          182.09076898304625,
          181.09076898304625,
          180.09076898304625,
          179.09076898304625,
          178.09076898304625,
          177.09076898304625,
          176.09076898304625,
          175.09076898304625,
          174.09076898304625,
          173.09076898304625,
          172.09076898304625,
          171.09076898304625,
          170.09076898304625,
          169.09076898304625,
          168.09076898304625,
          167.09076898304625,
          166.09076898304625,
          165.09076898304625,
          164.09076898304625,
          163.09076898304625,
          162.09076898304625,
          161.09076898304625,
          160.09076898304625,
          159.09076898304625,
          158.09076898304625,
          157.09076898304625,
          156.09076898304625,
          155.09076898304625,
          154.09076898304625,
          153.09076898304625,
          152.09076898304625,
          151.09076898304625,
          150.09076898304625,
          149.09076898304625,
          148.09076898304625,
          147.09076898304625,
          146.09076898304625,
          145.09076898304625,
          144.09076898304625,
          143.09076898304625,
          142.09076898304625,
          141.09076898304625,
          140.09076898304625,
          139.09076898304625,
          138.09076898304625,
          137.09076898304625,
          136.09076898304625,
          135.09076898304625,
          134.09076898304625,
          133.09076898304625,
          132.09076898304625,
          131.09076898304625,
          130.09076898304625,
          129.09076898304625,
          128.09076898304625,
          127.09076898304625,
          126.09076898304625,
          125.09076898304625,
          124.09076898304625,
          123.09076898304625,
          122.09076898304625,
          121.09076898304625,
          120.09076898304625,
          119.09076898304625,
          118.09076898304625,
          117.09076898304625,
          116.09076898304625,
          115.09076898304625,
          114.09076898304625,
          113.09076898304625,
          112.09076898304625,
          111.09076898304625,
          110.09076898304625,
          109.09076898304625,
          108.09076898304625,
          107.09076898304625,
          106.09076898304625,
          105.09076898304625,
          104.09076898304625,
          103.09076898304625,
          102.09076898304625,
          101.09076898304625,
          100.09076898304625,
          99.09076898304625,
          98.09076898304625,
          97.09076898304625,
          96.09076898304625,
          95.09076898304625,
          94.09076898304625,
          93.09076898304625,
          92.09076898304625,
          91.09076898304625,
          90.09076898304625,
          89.09076898304625,
          88.09076898304625,
          87.09076898304625,
          86.09076898304625,
          85.09076898304625,
          84.09076898304625,
          83.09076898304625,
          82.09076898304625,
          81.09076898304625,
          80.09076898304625,
          79.09076898304625,
          78.09076898304625,
          77.09076898304625,
          76.09076898304625,
          75.09076898304625,
          74.09076898304625,
          73.09076898304625,
          72.09076898304625,
          71.09076898304625,
          70.09076898304625,
          69.09076898304625,
          68.09076898304625,
          67.09076898304625,
          66.09076898304625,
          65.09076898304625,
          64.09076898304625,
          63.090768983046246,
          62.090768983046246,
          61.090768983046246,
          60.090768983046246,
          59.090768983046246,
          58.090768983046246,
          57.090768983046246,
          56.090768983046246,
          55.090768983046246,
          54.090768983046246,
          53.090768983046246,
          52.090768983046246,
          51.090768983046246,
          50.090768983046246,
          49.090768983046246,
          48.090768983046246,
          47.090768983046246,
          46.090768983046246,
          45.090768983046246,
          44.090768983046246,
          43.090768983046246,
          42.090768983046246,
          41.090768983046246,
          40.090768983046246,
          39.090768983046246,
          38.090768983046246,
          37.090768983046246,
          36.090768983046246,
          35.090768983046246,
          34.090768983046246,
          33.090768983046246,
          32.090768983046246,
          31.090768983046246,
          30.090768983046246,
          29.090768983046246,
          28.090768983046246,
          27.090768983046246,
          26.090768983046246,
          25.090768983046246,
          24.090768983046246,
          23.090768983046246,
          22.090768983046246,
          21.090768983046246,
          20.090768983046246,
          19.090768983046246,
          18.090768983046246,
          17.090768983046246,
          16.090768983046246,
          15.090768983046246,
          14.090768983046246,
          13.090768983046246,
          12.090768983046246,
          11.090768983046246,
          10.090768983046246,
          9.090768983046246,
          8.090768983046246,
          7.090768983046246,
          6.090768983046246,
          5.090768983046246,
          4.090768983046246,
          3.090768983046246,
          2.090768983046246,
          1.090768983046246,
          0.09076898304624592,
          -0.9092310169537541,
          -1.909231016953754,
          -2.909231016953754,
          -3.909231016953754,
          -4.909231016953754
         ],
         "y": [
          4.432266,
          5.616996,
          7.242892,
          9.577918,
          13.201832,
          19.075771,
          28.774661,
          44.487162,
          72.586076,
          110.419521,
          232.123764,
          236.904172,
          240.611571,
          227.549847,
          241.539639,
          253.237316,
          271.478693,
          278.185334,
          285.71384,
          310.967715,
          323.407571,
          397.923813,
          444.750686,
          456.388961,
          442.480612,
          503.240399,
          516.610918,
          592.706212,
          613.189457,
          642.718111,
          664.743383,
          695.34669,
          745.664133,
          779.891857,
          818.8279,
          891.048681,
          931.577684,
          985.340629,
          987.628322,
          991.098738,
          994.61026,
          998.16324,
          1001.758044,
          1005.395067,
          1009.074742,
          1012.797513,
          1016.563866,
          1022.629692,
          1027.487469,
          1033.636618,
          1040.443689,
          1047.427292,
          1054.586106,
          1061.924513,
          1069.44707,
          1077.158552,
          1084.757875,
          1093.424863,
          1099.331577,
          1106.263783,
          1113.514792,
          1120.876169,
          1128.34296,
          1135.961188,
          1143.684846,
          1151.515422,
          1158.898384,
          1166.619223,
          1172.266726,
          1178.216298,
          1183.68412,
          1189.202983,
          1194.812021,
          1200.422586,
          1206.132721,
          1211.908617,
          1217.625799,
          1224.117982,
          1228.828189,
          1234.333753,
          1239.880237,
          1245.319917,
          1250.936428,
          1256.637463,
          1262.42472,
          1268.300005,
          1273.394934,
          1278.810377,
          1280.744899,
          1282.983708,
          1284.472373,
          1286.078878,
          1287.785678,
          1289.613085,
          1291.556308,
          1293.616943,
          1296.053087,
          1300.098076,
          1302.046862,
          1305.560612,
          1309.444051,
          1313.410603,
          1317.453657,
          1321.572626,
          1325.775239,
          1330.060419,
          1334.928493,
          1341.697614,
          1346.406314,
          1353.032986,
          1360.261504,
          1367.561973,
          1374.96243,
          1382.44305,
          1389.974777,
          1397.574403,
          1405.702618,
          1415.841209,
          1423.704727,
          1433.553127,
          1444.009167,
          1454.595037,
          1465.369425,
          1476.245076,
          1487.277339,
          1498.437207,
          1509.373834,
          1521.669265,
          1530.611585,
          1540.822549,
          1550.822689,
          1560.960959,
          1571.250732,
          1581.628826,
          1592.152786,
          1602.80187,
          1614.109121,
          1627.883132,
          1638.647517,
          1651.840077,
          1665.70354,
          1679.752718,
          1693.984163,
          1708.411294,
          1723.032738,
          1737.874788,
          1752.122665,
          1767.847653,
          1778.784032,
          1791.197929,
          1803.056235,
          1815.104863,
          1827.290389,
          1839.559287,
          1851.899055,
          1864.869126,
          1878.650358,
          1895.68215,
          1908.748639,
          1924.82612,
          1941.6369,
          1958.716901,
          1976.068839,
          1993.719848,
          2011.689749,
          2029.682397,
          2048.513689,
          2070.596353,
          2088.429965,
          2109.357892,
          2131.029147,
          2152.969392,
          2175.184808,
          2197.830032,
          2220.878589,
          2244.005191,
          2266.483407,
          2290.871362,
          2307.736768,
          2326.734579,
          2344.58144,
          2362.439908,
          2380.167769,
          2397.811266,
          2416.694412,
          2437.259361,
          2463.242071,
          2499.322112,
          2543.130368,
          2590.270976,
          2640.278784,
          2691.979264,
          2746.072064,
          2801.002752,
          2857.866752,
          2916.108032,
          2970.292224,
          3019.233536,
          3068.370688,
          3126.68672,
          3195.779328,
          3267.212288,
          3337.112064,
          3406.416896,
          3475.448064,
          3546.81088,
          3620.65536,
          3695.390208,
          3770.1632,
          3844.800768,
          3920.251392,
          3995.516928,
          4069.437184,
          4142.505728,
          4215.772416,
          4289.6576,
          4365.582848,
          4444.007936,
          4524.627456,
          4607.98464,
          4691.884032,
          4775.83616,
          4861.730816,
          4950.063104,
          5040.984576,
          5132.294144,
          5223.704064,
          5316.175872,
          5406.245888,
          5492.686336,
          5577.4336,
          5660.727808,
          5743.219712,
          5825.145344,
          5906.481152,
          5987.31264,
          6067.758592,
          6148.898816,
          6230.747136,
          6312.407552,
          6393.898496,
          6475.751424,
          6558.176256,
          6641.416192,
          6725.948416,
          6811.597312,
          6898.306048,
          6985.603072,
          7073.125376,
          7161.697792,
          7250.59328,
          7339.013632,
          7426.597376,
          7513.474048,
          7599.822336,
          7683.789824,
          7764.95104,
          7840.952832,
          7909.295104
         ]
        },
        {
         "line": {
          "color": "red"
         },
         "mode": "lines",
         "name": "Fitted Power Law Curve",
         "type": "scatter",
         "x": [
          12016.090768983046,
          12004.068746961024,
          11992.046724939002,
          11980.024702916979,
          11968.002680894957,
          11955.980658872935,
          11943.958636850914,
          11931.936614828892,
          11919.91459280687,
          11907.892570784847,
          11895.870548762825,
          11883.848526740803,
          11871.826504718782,
          11859.80448269676,
          11847.782460674738,
          11835.760438652715,
          11823.738416630693,
          11811.716394608671,
          11799.69437258665,
          11787.672350564628,
          11775.650328542604,
          11763.628306520583,
          11751.60628449856,
          11739.58426247654,
          11727.562240454517,
          11715.540218432496,
          11703.518196410472,
          11691.49617438845,
          11679.474152366429,
          11667.452130344407,
          11655.430108322385,
          11643.408086300364,
          11631.38606427834,
          11619.364042256318,
          11607.342020234297,
          11595.319998212275,
          11583.297976190253,
          11571.275954168232,
          11559.253932146208,
          11547.231910124186,
          11535.209888102165,
          11523.187866080143,
          11511.165844058121,
          11499.143822036098,
          11487.121800014076,
          11475.099777992054,
          11463.077755970033,
          11451.055733948011,
          11439.03371192599,
          11427.011689903966,
          11414.989667881944,
          11402.967645859922,
          11390.9456238379,
          11378.923601815879,
          11366.901579793855,
          11354.879557771834,
          11342.857535749812,
          11330.83551372779,
          11318.813491705769,
          11306.791469683747,
          11294.769447661723,
          11282.747425639702,
          11270.72540361768,
          11258.703381595658,
          11246.681359573637,
          11234.659337551615,
          11222.637315529591,
          11210.61529350757,
          11198.593271485548,
          11186.571249463526,
          11174.549227441505,
          11162.527205419483,
          11150.50518339746,
          11138.483161375438,
          11126.461139353416,
          11114.439117331394,
          11102.417095309373,
          11090.395073287349,
          11078.373051265327,
          11066.351029243306,
          11054.329007221284,
          11042.306985199262,
          11030.28496317724,
          11018.262941155217,
          11006.240919133195,
          10994.218897111174,
          10982.196875089152,
          10970.17485306713,
          10958.152831045107,
          10946.130809023085,
          10934.108787001063,
          10922.086764979042,
          10910.06474295702,
          10898.042720934998,
          10886.020698912977,
          10873.998676890953,
          10861.976654868931,
          10849.95463284691,
          10837.932610824888,
          10825.910588802866,
          10813.888566780843,
          10801.866544758821,
          10789.8445227368,
          10777.822500714778,
          10765.800478692756,
          10753.778456670734,
          10741.75643464871,
          10729.734412626689,
          10717.712390604667,
          10705.690368582646,
          10693.668346560624,
          10681.6463245386,
          10669.624302516579,
          10657.602280494557,
          10645.580258472535,
          10633.558236450514,
          10621.536214428492,
          10609.514192406468,
          10597.492170384447,
          10585.470148362425,
          10573.448126340403,
          10561.426104318381,
          10549.404082296358,
          10537.382060274336,
          10525.360038252315,
          10513.338016230293,
          10501.315994208271,
          10489.29397218625,
          10477.271950164228,
          10465.249928142204,
          10453.227906120183,
          10441.20588409816,
          10429.18386207614,
          10417.161840054117,
          10405.139818032094,
          10393.117796010072,
          10381.09577398805,
          10369.073751966029,
          10357.051729944007,
          10345.029707921985,
          10333.007685899962,
          10320.98566387794,
          10308.963641855918,
          10296.941619833897,
          10284.919597811875,
          10272.897575789852,
          10260.87555376783,
          10248.853531745808,
          10236.831509723786,
          10224.809487701765,
          10212.787465679743,
          10200.765443657721,
          10188.743421635698,
          10176.721399613676,
          10164.699377591654,
          10152.677355569633,
          10140.655333547611,
          10128.63331152559,
          10116.611289503566,
          10104.589267481544,
          10092.567245459522,
          10080.5452234375,
          10068.523201415479,
          10056.501179393457,
          10044.479157371434,
          10032.457135349412,
          10020.43511332739,
          10008.413091305369,
          9996.391069283347,
          9984.369047261323,
          9972.347025239302,
          9960.32500321728,
          9948.302981195258,
          9936.280959173237,
          9924.258937151215,
          9912.236915129191,
          9900.21489310717,
          9888.192871085148,
          9876.170849063126,
          9864.148827041105,
          9852.126805019081,
          9840.10478299706,
          9828.082760975038,
          9816.060738953016,
          9804.038716930994,
          9792.016694908973,
          9779.994672886949,
          9767.972650864927,
          9755.950628842906,
          9743.928606820884,
          9731.906584798862,
          9719.88456277684,
          9707.862540754817,
          9695.840518732795,
          9683.818496710774,
          9671.796474688752,
          9659.77445266673,
          9647.752430644707,
          9635.730408622685,
          9623.708386600663,
          9611.686364578642,
          9599.66434255662,
          9587.642320534598,
          9575.620298512575,
          9563.598276490553,
          9551.576254468531,
          9539.55423244651,
          9527.532210424488,
          9515.510188402466,
          9503.488166380443,
          9491.466144358421,
          9479.4441223364,
          9467.422100314378,
          9455.400078292356,
          9443.378056270334,
          9431.35603424831,
          9419.334012226289,
          9407.311990204267,
          9395.289968182246,
          9383.267946160224,
          9371.2459241382,
          9359.223902116179,
          9347.201880094157,
          9335.179858072135,
          9323.157836050113,
          9311.135814028092,
          9299.113792006068,
          9287.091769984047,
          9275.069747962025,
          9263.047725940003,
          9251.025703917981,
          9239.00368189596,
          9226.981659873936,
          9214.959637851915,
          9202.937615829893,
          9190.915593807871,
          9178.89357178585,
          9166.871549763826,
          9154.849527741804,
          9142.827505719782,
          9130.80548369776,
          9118.783461675739,
          9106.761439653717,
          9094.739417631694,
          9082.717395609672,
          9070.69537358765,
          9058.673351565629,
          9046.651329543607,
          9034.629307521585,
          9022.607285499562,
          9010.58526347754,
          8998.563241455518,
          8986.541219433497,
          8974.519197411475,
          8962.497175389452,
          8950.47515336743,
          8938.453131345408,
          8926.431109323386,
          8914.409087301365,
          8902.387065279343,
          8890.36504325732,
          8878.343021235298,
          8866.320999213276,
          8854.298977191254,
          8842.276955169233,
          8830.254933147211,
          8818.232911125187,
          8806.210889103166,
          8794.188867081144,
          8782.166845059122,
          8770.1448230371,
          8758.122801015077,
          8746.100778993055,
          8734.078756971034,
          8722.056734949012,
          8710.03471292699,
          8698.012690904969,
          8685.990668882945,
          8673.968646860923,
          8661.946624838902,
          8649.92460281688,
          8637.902580794858,
          8625.880558772837,
          8613.858536750813,
          8601.836514728791,
          8589.81449270677,
          8577.792470684748,
          8565.770448662726,
          8553.748426640705,
          8541.726404618681,
          8529.70438259666,
          8517.682360574638,
          8505.660338552616,
          8493.638316530594,
          8481.61629450857,
          8469.594272486549,
          8457.572250464527,
          8445.550228442506,
          8433.528206420484,
          8421.506184398462,
          8409.484162376439,
          8397.462140354417,
          8385.440118332395,
          8373.418096310374,
          8361.396074288352,
          8349.37405226633,
          8337.352030244307,
          8325.330008222285,
          8313.307986200263,
          8301.285964178242,
          8289.26394215622,
          8277.241920134196,
          8265.219898112175,
          8253.197876090153,
          8241.175854068131,
          8229.15383204611,
          8217.131810024088,
          8205.109788002064,
          8193.087765980043,
          8181.065743958022,
          8169.043721936,
          8157.0216999139775,
          8144.999677891956,
          8132.977655869933,
          8120.9556338479115,
          8108.93361182589,
          8096.911589803868,
          8084.8895677818455,
          8072.867545759823,
          8060.845523737801,
          8048.8235017157795,
          8036.801479693758,
          8024.779457671736,
          8012.757435649713,
          8000.735413627691,
          7988.713391605669,
          7976.691369583647,
          7964.669347561626,
          7952.647325539603,
          7940.625303517581,
          7928.603281495559,
          7916.581259473537,
          7904.559237451515,
          7892.537215429493,
          7880.515193407471,
          7868.493171385449,
          7856.471149363427,
          7844.449127341405,
          7832.427105319383,
          7820.405083297361,
          7808.383061275339,
          7796.361039253317,
          7784.339017231295,
          7772.316995209273,
          7760.294973187251,
          7748.272951165229,
          7736.250929143207,
          7724.228907121184,
          7712.206885099163,
          7700.184863077141,
          7688.162841055118,
          7676.140819033097,
          7664.118797011075,
          7652.096774989052,
          7640.074752967031,
          7628.052730945009,
          7616.030708922986,
          7604.008686900965,
          7591.986664878943,
          7579.96464285692,
          7567.942620834899,
          7555.920598812877,
          7543.898576790854,
          7531.876554768833,
          7519.854532746811,
          7507.832510724788,
          7495.810488702767,
          7483.788466680744,
          7471.766444658722,
          7459.744422636701,
          7447.722400614678,
          7435.700378592656,
          7423.678356570635,
          7411.656334548612,
          7399.63431252659,
          7387.612290504569,
          7375.590268482546,
          7363.568246460524,
          7351.546224438503,
          7339.52420241648,
          7327.502180394458,
          7315.480158372437,
          7303.458136350414,
          7291.436114328392,
          7279.41409230637,
          7267.392070284348,
          7255.370048262326,
          7243.348026240304,
          7231.326004218282,
          7219.30398219626,
          7207.281960174238,
          7195.259938152216,
          7183.237916130194,
          7171.215894108172,
          7159.19387208615,
          7147.171850064128,
          7135.149828042106,
          7123.127806020084,
          7111.105783998062,
          7099.08376197604,
          7087.061739954018,
          7075.039717931996,
          7063.017695909974,
          7050.995673887952,
          7038.973651865929,
          7026.9516298439075,
          7014.929607821886,
          7002.907585799863,
          6990.8855637778415,
          6978.86354175582,
          6966.841519733797,
          6954.8194977117755,
          6942.797475689754,
          6930.775453667731,
          6918.7534316457095,
          6906.731409623688,
          6894.709387601665,
          6882.6873655796435,
          6870.665343557622,
          6858.643321535599,
          6846.6212995135775,
          6834.599277491555,
          6822.577255469533,
          6810.5552334475115,
          6798.533211425489,
          6786.511189403467,
          6774.489167381445,
          6762.467145359423,
          6750.445123337401,
          6738.423101315379,
          6726.401079293357,
          6714.379057271335,
          6702.357035249313,
          6690.335013227291,
          6678.312991205269,
          6666.290969183247,
          6654.268947161225,
          6642.246925139203,
          6630.2249031171805,
          6618.202881095159,
          6606.180859073137,
          6594.1588370511145,
          6582.136815029093,
          6570.114793007071,
          6558.092770985048,
          6546.070748963027,
          6534.048726941005,
          6522.026704918982,
          6510.004682896961,
          6497.982660874939,
          6485.960638852916,
          6473.938616830895,
          6461.916594808873,
          6449.89457278685,
          6437.872550764829,
          6425.850528742807,
          6413.828506720784,
          6401.806484698763,
          6389.78446267674,
          6377.762440654718,
          6365.740418632697,
          6353.718396610674,
          6341.696374588652,
          6329.674352566631,
          6317.652330544608,
          6305.630308522586,
          6293.608286500565,
          6281.586264478542,
          6269.56424245652,
          6257.542220434499,
          6245.520198412476,
          6233.498176390454,
          6221.476154368433,
          6209.45413234641,
          6197.432110324388,
          6185.410088302366,
          6173.388066280344,
          6161.366044258322,
          6149.3440222363,
          6137.322000214278,
          6125.299978192256,
          6113.277956170234,
          6101.255934148212,
          6089.23391212619,
          6077.211890104168,
          6065.189868082146,
          6053.167846060124,
          6041.145824038102,
          6029.12380201608,
          6017.101779994058,
          6005.079757972036,
          5993.057735950014,
          5981.035713927992,
          5969.01369190597,
          5956.991669883948,
          5944.969647861925,
          5932.947625839904,
          5920.925603817882,
          5908.903581795859,
          5896.881559773838,
          5884.859537751816,
          5872.837515729793,
          5860.815493707772,
          5848.79347168575,
          5836.771449663727,
          5824.749427641706,
          5812.727405619684,
          5800.705383597661,
          5788.6833615756395,
          5776.661339553618,
          5764.639317531595,
          5752.6172955095735,
          5740.595273487551,
          5728.573251465529,
          5716.5512294435075,
          5704.529207421485,
          5692.507185399463,
          5680.4851633774415,
          5668.463141355419,
          5656.441119333397,
          5644.4190973113755,
          5632.397075289353,
          5620.375053267331,
          5608.3530312453095,
          5596.331009223287,
          5584.308987201265,
          5572.286965179243,
          5560.264943157221,
          5548.242921135199,
          5536.220899113177,
          5524.198877091155,
          5512.176855069133,
          5500.1548330471105,
          5488.132811025089,
          5476.110789003067,
          5464.0887669810445,
          5452.066744959023,
          5440.044722937001,
          5428.0227009149785,
          5416.000678892957,
          5403.978656870935,
          5391.9566348489125,
          5379.934612826891,
          5367.912590804869,
          5355.8905687828465,
          5343.868546760825,
          5331.846524738803,
          5319.82450271678,
          5307.802480694759,
          5295.780458672736,
          5283.758436650714,
          5271.736414628693,
          5259.71439260667,
          5247.692370584648,
          5235.670348562627,
          5223.648326540604,
          5211.626304518582,
          5199.604282496561,
          5187.582260474538,
          5175.560238452516,
          5163.538216430495,
          5151.516194408472,
          5139.49417238645,
          5127.472150364429,
          5115.450128342406,
          5103.428106320384,
          5091.406084298363,
          5079.38406227634,
          5067.362040254318,
          5055.340018232296,
          5043.317996210274,
          5031.295974188252,
          5019.27395216623,
          5007.251930144208,
          4995.229908122186,
          4983.207886100164,
          4971.185864078142,
          4959.16384205612,
          4947.141820034098,
          4935.119798012076,
          4923.097775990054,
          4911.075753968032,
          4899.05373194601,
          4887.031709923988,
          4875.009687901966,
          4862.987665879944,
          4850.965643857921,
          4838.9436218359,
          4826.921599813878,
          4814.899577791855,
          4802.877555769834,
          4790.855533747812,
          4778.833511725789,
          4766.811489703768,
          4754.789467681746,
          4742.767445659723,
          4730.745423637702,
          4718.72340161568,
          4706.701379593657,
          4694.679357571636,
          4682.657335549614,
          4670.635313527591,
          4658.61329150557,
          4646.591269483547,
          4634.569247461525,
          4622.547225439504,
          4610.525203417481,
          4598.503181395459,
          4586.481159373438,
          4574.459137351415,
          4562.437115329393,
          4550.4150933073715,
          4538.393071285349,
          4526.371049263327,
          4514.3490272413055,
          4502.327005219283,
          4490.304983197261,
          4478.2829611752395,
          4466.260939153217,
          4454.238917131195,
          4442.2168951091735,
          4430.194873087151,
          4418.172851065129,
          4406.150829043107,
          4394.128807021085,
          4382.106784999063,
          4370.084762977041,
          4358.062740955019,
          4346.040718932997,
          4334.0186969109745,
          4321.996674888953,
          4309.974652866931,
          4297.9526308449085,
          4285.930608822887,
          4273.908586800865,
          4261.8865647788425,
          4249.864542756821,
          4237.842520734799,
          4225.8204987127765,
          4213.798476690755,
          4201.776454668732,
          4189.7544326467105,
          4177.732410624689,
          4165.710388602666,
          4153.6883665806445,
          4141.666344558623,
          4129.6443225366,
          4117.6223005145785,
          4105.600278492557,
          4093.578256470534,
          4081.5562344485124,
          4069.5342124264907,
          4057.512190404468,
          4045.4901683824464,
          4033.4681463604247,
          4021.446124338402,
          4009.4241023163804,
          3997.4020802943587,
          3985.380058272336,
          3973.3580362503144,
          3961.336014228292,
          3949.31399220627,
          3937.2919701842484,
          3925.269948162226,
          3913.247926140204,
          3901.2259041181824,
          3889.2038820961598,
          3877.181860074138,
          3865.1598380521164,
          3853.1378160300937,
          3841.115794008072,
          3829.0937719860503,
          3817.0717499640277,
          3805.049727942006,
          3793.0277059199843,
          3781.0056838979626,
          3768.983661875939,
          3756.9616398539174,
          3744.9396178318957,
          3732.917595809874,
          3720.8955737878523,
          3708.8735517658306,
          3696.851529743807,
          3684.8295077217854,
          3672.8074856997637,
          3660.785463677742,
          3648.7634416557203,
          3636.7414196336968,
          3624.719397611675,
          3612.6973755896533,
          3600.6753535676316,
          3588.65333154561,
          3576.6313095235882,
          3564.6092875015647,
          3552.587265479543,
          3540.5652434575213,
          3528.5432214354996,
          3516.521199413478,
          3504.499177391456,
          3492.4771553694327,
          3480.455133347411,
          3468.4331113253893,
          3456.4110893033676,
          3444.389067281346,
          3432.3670452593224,
          3420.3450232373007,
          3408.323001215279,
          3396.3009791932573,
          3384.2789571712356,
          3372.256935149214,
          3360.2349131271903,
          3348.2128911051686,
          3336.190869083147,
          3324.1688470611252,
          3312.1468250391035,
          3300.124803017082,
          3288.1027809950583,
          3276.0807589730366,
          3264.058736951015,
          3252.036714928993,
          3240.0146929069715,
          3227.99267088495,
          3215.9706488629263,
          3203.9486268409046,
          3191.926604818883,
          3179.904582796861,
          3167.8825607748395,
          3155.860538752816,
          3143.8385167307943,
          3131.8164947087726,
          3119.794472686751,
          3107.772450664729,
          3095.7504286427074,
          3083.728406620684,
          3071.706384598662,
          3059.6843625766405,
          3047.662340554619,
          3035.640318532597,
          3023.6182965105754,
          3011.596274488552,
          2999.57425246653,
          2987.5522304445085,
          2975.530208422487,
          2963.508186400465,
          2951.4861643784416,
          2939.46414235642,
          2927.442120334398,
          2915.4200983123765,
          2903.3980762903548,
          2891.376054268333,
          2879.3540322463095,
          2867.332010224288,
          2855.309988202266,
          2843.2879661802444,
          2831.2659441582227,
          2819.243922136201,
          2807.2219001141775,
          2795.199878092156,
          2783.177856070134,
          2771.1558340481124,
          2759.1338120260907,
          2747.111790004067,
          2735.0897679820455,
          2723.067745960024,
          2711.045723938002,
          2699.0237019159804,
          2687.0016798939587,
          2674.979657871935,
          2662.9576358499135,
          2650.9356138278918,
          2638.91359180587,
          2626.8915697838484,
          2614.8695477618267,
          2602.847525739803,
          2590.8255037177814,
          2578.8034816957597,
          2566.781459673738,
          2554.7594376517163,
          2542.737415629693,
          2530.715393607671,
          2518.6933715856494,
          2506.6713495636277,
          2494.649327541606,
          2482.6273055195843,
          2470.605283497561,
          2458.583261475539,
          2446.5612394535174,
          2434.5392174314957,
          2422.517195409474,
          2410.4951733874523,
          2398.4731513654287,
          2386.451129343407,
          2374.4291073213853,
          2362.4070852993636,
          2350.385063277342,
          2338.3630412553184,
          2326.3410192332967,
          2314.318997211275,
          2302.2969751892533,
          2290.2749531672316,
          2278.25293114521,
          2266.2309091231864,
          2254.2088871011647,
          2242.186865079143,
          2230.1648430571213,
          2218.1428210350996,
          2206.120799013078,
          2194.0987769910544,
          2182.0767549690327,
          2170.054732947011,
          2158.0327109249893,
          2146.0106889029676,
          2133.988666880946,
          2121.9666448589223,
          2109.9446228369006,
          2097.922600814879,
          2085.9005787928572,
          2073.8785567708355,
          2061.856534748812,
          2049.8345127267903,
          2037.8124907047684,
          2025.7904686827467,
          2013.768446660725,
          2001.7464246387033,
          1989.7244026166798,
          1977.702380594658,
          1965.6803585726364,
          1953.6583365506146,
          1941.636314528593,
          1929.6142925065712,
          1917.5922704845477,
          1905.570248462526,
          1893.5482264405043,
          1881.5262044184826,
          1869.504182396461,
          1857.4821603744374,
          1845.4601383524157,
          1833.438116330394,
          1821.4160943083723,
          1809.3940722863506,
          1797.372050264329,
          1785.3500282423054,
          1773.3280062202837,
          1761.305984198262,
          1749.2839621762403,
          1737.2619401542186,
          1725.2399181321969,
          1713.2178961101733,
          1701.1958740881516,
          1689.17385206613,
          1677.1518300441082,
          1665.1298080220865,
          1653.107786000063,
          1641.0857639780413,
          1629.0637419560196,
          1617.041719933998,
          1605.0196979119762,
          1592.9976758899545,
          1580.975653867931,
          1568.9536318459093,
          1556.9316098238876,
          1544.9095878018659,
          1532.8875657798442,
          1520.8655437578225,
          1508.843521735799,
          1496.8214997137773,
          1484.7994776917556,
          1472.7774556697339,
          1460.7554336477122,
          1448.7334116256886,
          1436.711389603667,
          1424.6893675816452,
          1412.6673455596235,
          1400.6453235376018,
          1388.6233015155801,
          1376.6012794935566,
          1364.579257471535,
          1352.5572354495132,
          1340.5352134274915,
          1328.5131914054698,
          1316.491169383448,
          1304.4691473614246,
          1292.4471253394029,
          1280.4251033173812,
          1268.4030812953595,
          1256.3810592733378,
          1244.3590372513142,
          1232.3370152292925,
          1220.3149932072708,
          1208.2929711852491,
          1196.2709491632274,
          1184.2489271412057,
          1172.2269051191822,
          1160.2048830971605,
          1148.1828610751388,
          1136.1608390531171,
          1124.1388170310954,
          1112.1167950090737,
          1100.0947729870502,
          1088.0727509650285,
          1076.0507289430068,
          1064.028706920985,
          1052.0066848989634,
          1039.9846628769417,
          1027.9626408549182,
          1015.9406188328965,
          1003.9185968108748,
          991.8965747888531,
          979.8745527668314,
          967.8525307448078,
          955.8305087227861,
          943.8084867007644,
          931.7864646787427,
          919.764442656721,
          907.7424206346993,
          895.7203986126758,
          883.6983765906541,
          871.6763545686324,
          859.6543325466107,
          847.632310524589,
          835.6102885025673,
          823.5882664805438,
          811.5662444585221,
          799.5442224365004,
          787.5222004144787,
          775.500178392457,
          763.4781563704335,
          751.4561343484118,
          739.43411232639,
          727.4120903043683,
          715.3900682823466,
          703.368046260325,
          691.3460242383014,
          679.3240022162797,
          667.301980194258,
          655.2799581722363,
          643.2579361502146,
          631.2359141281929,
          619.2138921061694,
          607.1918700841477,
          595.169848062126,
          583.1478260401043,
          571.1258040180826,
          559.1037819960591,
          547.0817599740374,
          535.0597379520157,
          523.037715929994,
          511.01569390797226,
          498.99367188595056,
          486.97164986392704,
          474.94962784190534,
          462.92760581988364,
          450.90558379786194,
          438.88356177584023,
          426.86153975381853,
          414.839517731795,
          402.8174957097733,
          390.7954736877516,
          378.7734516657299,
          366.7514296437082,
          354.7294076216847,
          342.707385599663,
          330.6853635776413,
          318.6633415556196,
          306.6413195335979,
          294.6192975115762,
          282.59727548955266,
          270.57525346753096,
          258.55323144550925,
          246.53120942348755,
          234.50918740146585,
          222.48716537944415,
          210.46514335742063,
          198.44312133539893,
          186.42109931337723,
          174.39907729135552,
          162.37705526933382,
          150.35503324731212,
          138.3330112252886,
          126.3109892032669,
          114.2889671812452,
          102.2669451592235,
          90.2449231372018,
          78.22290111517827,
          66.20087909315657,
          54.17885707113487,
          42.15683504911317,
          30.134813027091468,
          18.112791005069766,
          6.090768983046246
         ],
         "y": [
          41.81466124137728,
          41.847734731168885,
          41.88086755947481,
          41.91405989240381,
          41.94731189669696,
          41.980623739730675,
          42.01399558951977,
          42.047427614720576,
          42.080919984633994,
          42.11447286920864,
          42.14808643904397,
          42.181760865393436,
          42.21549632016766,
          42.249292975937614,
          42.283151005937846,
          42.3170705840697,
          42.351051884904535,
          42.38509508368707,
          42.41920035633856,
          42.4533678794602,
          42.487597830336405,
          42.521890386938125,
          42.55624572792627,
          42.590664032655056,
          42.625145481175416,
          42.659690254238434,
          42.69429853329877,
          42.728970500518145,
          42.763706338768806,
          42.79850623163706,
          42.833370363426766,
          42.86829891916293,
          42.90329208459523,
          42.938350046201606,
          42.97347299119193,
          43.00866110751158,
          43.04391458384512,
          43.07923360961998,
          43.11461837501015,
          43.1500690709399,
          43.18558588908753,
          43.221169021889146,
          43.25681866254243,
          43.29253500501048,
          43.32831824402562,
          43.36416857509326,
          43.40008619449582,
          43.43607129929658,
          43.472124087343666,
          43.50824475727394,
          43.544433508517045,
          43.58069054129936,
          43.61701605664805,
          43.65341025639512,
          43.68987334318146,
          43.726405520461014,
          43.763006992504835,
          43.79967796440525,
          43.8364186420801,
          43.87322923227685,
          43.910109942576916,
          43.947060981399815,
          43.98408255800756,
          44.02117488250886,
          44.05833816586354,
          44.09557261988685,
          44.132878457253895,
          44.170255891503984,
          44.20770513704517,
          44.245226409158626,
          44.28281992400321,
          44.320485898619985,
          44.358224550936725,
          44.39603609977253,
          44.433920764842476,
          44.471878766762195,
          44.50991032705257,
          44.54801566814446,
          44.58619501338337,
          44.624448587034266,
          44.66277661428636,
          44.70117932125786,
          44.73965693500094,
          44.778209683506496,
          44.81683779570915,
          44.85554150149213,
          44.89432103169227,
          44.933176618105044,
          44.97210849348954,
          45.01111689157357,
          45.050202047058775,
          45.08936419562573,
          45.12860357393913,
          45.167920419653,
          45.20731497141589,
          45.246787468876185,
          45.28633815268737,
          45.32596726451339,
          45.365675047033996,
          45.40546174395016,
          45.44532759998952,
          45.48527286091182,
          45.525297773514474,
          45.56540258563803,
          45.60558754617185,
          45.645852905059606,
          45.68619891330506,
          45.72662582297764,
          45.76713388721822,
          45.8077233602449,
          45.848394497358754,
          45.889147554949716,
          45.9299827905024,
          45.97090046260209,
          46.01190083094062,
          46.05298415632241,
          46.09415070067048,
          46.13540072703254,
          46.17673449958706,
          46.21815228364946,
          46.25965434567828,
          46.30124095328141,
          46.342912375222404,
          46.384668881426734,
          46.42651074298817,
          46.468438232175195,
          46.510451622437444,
          46.552551188412146,
          46.594737205930706,
          46.637009952025245,
          46.679369704935205,
          46.72181674411403,
          46.76435135023586,
          46.806973805202276,
          46.8496843921491,
          46.89248339545319,
          46.93537110073939,
          46.97834779488743,
          47.02141376603888,
          47.06456930360421,
          47.107814698269834,
          47.15115024200523,
          47.194576228070126,
          47.23809295102169,
          47.28170070672182,
          47.32539979234444,
          47.36919050638286,
          47.41307314865716,
          47.457048020321736,
          47.50111542387274,
          47.54527566315566,
          47.58952904337296,
          47.63387587109171,
          47.67831645425133,
          47.72285110217138,
          47.76748012555936,
          47.81220383651857,
          47.85702254855612,
          47.901936576590835,
          47.946946236961345,
          47.99205184743419,
          48.03725372721195,
          48.082552196941464,
          48.127947578722114,
          48.173440196114136,
          48.219030374147,
          48.264718439327886,
          48.31050471965013,
          48.356389544601825,
          48.40237324517443,
          48.44845615387146,
          48.49463860471719,
          48.5409209332655,
          48.58730347660872,
          48.63378657338655,
          48.680370563795066,
          48.72705578959573,
          48.77384259412457,
          48.820731322301306,
          48.86772232063861,
          48.91481593725143,
          48.96201252186633,
          49.00931242583096,
          49.056716002123586,
          49.1042236053626,
          49.151835591816216,
          49.19955231941219,
          49.24737414774754,
          49.29530143809846,
          49.34333455343024,
          49.391473858407196,
          49.43971971940282,
          49.48807250450985,
          49.536532583550496,
          49.58510032808676,
          49.63377611143075,
          49.6825603086551,
          49.73145329660356,
          49.78045545390145,
          49.82956716096644,
          49.87878880001924,
          49.92812075509435,
          49.977563412051076,
          50.02711715858442,
          50.07678238423612,
          50.12655948040586,
          50.17644884036239,
          50.22645085925491,
          50.27656593412437,
          50.32679446391499,
          50.37713684948576,
          50.42759349362209,
          50.478164801047555,
          50.52885117843565,
          50.57965303442169,
          50.6305707796148,
          50.681604826609984,
          50.73275559000025,
          50.78402348638889,
          50.83540893440178,
          50.886912354699845,
          50.93853416999154,
          50.9902748050455,
          51.0421346867032,
          51.094114243891795,
          51.14621390763702,
          51.198434111076146,
          51.2507752894711,
          51.30323788022165,
          51.35582232287868,
          51.408529059157594,
          51.4613585329518,
          51.514311190346305,
          51.567387479631385,
          51.6205878513164,
          51.67391275814372,
          51.727362655102674,
          51.78093799944373,
          51.83463925069263,
          51.88846687066483,
          51.94242132347983,
          51.996503075575774,
          52.05071259572413,
          52.10505035504443,
          52.15951682701914,
          52.21411248750868,
          52.26883781476655,
          52.323693289454546,
          52.37867939465809,
          52.43379661590175,
          52.489045441164755,
          52.54442636089675,
          52.5999398680336,
          52.65558645801337,
          52.711366628792355,
          52.76728088086131,
          52.82332971726178,
          52.87951364360252,
          52.93583316807612,
          52.992288801475674,
          53.048881057211645,
          53.105610451328836,
          53.16247750252348,
          53.21948273216052,
          53.27662666429094,
          53.3339098256693,
          53.391332745771415,
          53.448895956812066,
          53.50659999376304,
          53.56444539437113,
          53.62243269917634,
          53.680562451530356,
          53.738835197614904,
          53.79725148646051,
          53.85581186996529,
          53.91451690291387,
          53.97336714299652,
          54.032363150828445,
          54.0915054899691,
          54.15079472694186,
          54.210231431253725,
          54.26981617541517,
          54.329549534960215,
          54.38943208846668,
          54.44946441757644,
          54.509647107016114,
          54.569980744617645,
          54.630465921339244,
          54.691103231286384,
          54.75189327173308,
          54.8128366431432,
          54.873933949192086,
          54.935185796788254,
          54.99659279609534,
          55.0581555605542,
          55.1198747069051,
          55.18175085521034,
          55.24378462887673,
          55.30597665467858,
          55.368327562780586,
          55.430837986761105,
          55.49350856363559,
          55.5563399338801,
          55.6193327414552,
          55.68248763382989,
          55.74580526200582,
          55.80928628054165,
          55.87293134757768,
          55.93674112486069,
          56.00071627776889,
          56.06485747533715,
          56.1291653902825,
          56.193640699029686,
          56.25828408173711,
          56.323096222322874,
          56.388077808491104,
          56.45322953175848,
          56.51855208748097,
          56.584046174880804,
          56.64971249707371,
          56.71555176109635,
          56.781564677934014,
          56.84775196254842,
          56.914114333906056,
          56.98065251500639,
          57.04736723291061,
          57.11425921877047,
          57.18132920785746,
          57.2485779395921,
          57.31600615757367,
          57.38361460961003,
          57.451404047747836,
          57.51937522830289,
          57.58752891189085,
          57.65586586345816,
          57.72438685231327,
          57.793092652158116,
          57.86198404111987,
          57.931061801783024,
          58.00032672122162,
          58.06977959103193,
          58.13942120736531,
          58.20925237096141,
          58.27927388718159,
          58.34948656604271,
          58.41989122225124,
          58.490488675237565,
          58.56127974919067,
          58.63226527309314,
          58.70344608075644,
          58.77482301085652,
          58.84639690696973,
          58.91816861760908,
          58.990138996260804,
          59.06230890142125,
          59.134679196634096,
          59.20725075052795,
          59.28002443685424,
          59.35300113452542,
          59.42618172765359,
          59.499567105589485,
          59.57315816296162,
          59.64695579971612,
          59.720960921156596,
          59.79517443798456,
          59.86959726634021,
          59.944230327843464,
          60.01907454963549,
          60.09413086442061,
          60.16940021050853,
          60.244883531856885,
          60.32058177811449,
          60.39649590466457,
          60.47262687266869,
          60.548975649111,
          60.625543206842856,
          60.702330524627875,
          60.77933858718747,
          60.8565683852467,
          60.93402091558067,
          61.01169718106123,
          61.089598190704194,
          61.167724959717084,
          61.246078509547104,
          61.32465986792971,
          61.40347006893772,
          61.482510153030645,
          61.561781167104705,
          61.64128416454324,
          61.72102020526757,
          61.80099035578835,
          61.8811956892575,
          61.96163728552045,
          62.04231623116911,
          62.12323361959514,
          62.20439055104387,
          62.28578813266866,
          62.36742747858581,
          62.44930970993001,
          62.53143595491033,
          62.613807348866665,
          62.69642503432683,
          62.77929016106424,
          62.862403886155946,
          62.94576737404148,
          63.02938179658212,
          63.11324833312078,
          63.197368170542454,
          63.281742503335344,
          63.36637253365248,
          63.45125947137395,
          63.536404534169876,
          63.62180894756384,
          63.70747394499701,
          63.79340076789294,
          63.87959066572293,
          63.9660448960721,
          64.05276472470612,
          64.13975142563851,
          64.22700628119875,
          64.314530582101,
          64.40232562751343,
          64.49039272512842,
          64.57873319123334,
          64.66734835078206,
          64.75623953746717,
          64.84540809379298,
          64.93485537114927,
          65.02458272988565,
          65.1145915393869,
          65.20488317814876,
          65.2954590338549,
          65.38632050345427,
          65.47746899323953,
          65.56890591892613,
          65.6606327057323,
          65.75265078845969,
          65.84496161157514,
          65.93756662929296,
          66.03046730565823,
          66.12366511463108,
          66.21716154017152,
          66.31095807632543,
          66.40505622731143,
          66.49945750760838,
          66.5941634420442,
          66.6891755658853,
          66.784495424927,
          66.88012457558514,
          66.97606458498831,
          67.07231703107125,
          67.16888350266925,
          67.26576559961339,
          67.36296493282704,
          67.46048312442313,
          67.55832180780254,
          67.65648262775368,
          67.75496724055289,
          67.8537773140661,
          67.95291452785153,
          68.05238057326345,
          68.152177153557,
          68.25230598399443,
          68.35276879195203,
          68.45356731702866,
          68.55470331115514,
          68.656178538705,
          68.75799477660638,
          68.8601538144551,
          68.96265745462905,
          69.06550751240383,
          69.1687058160695,
          69.27225420704889,
          69.37615454001688,
          69.48040868302134,
          69.58501851760506,
          69.68998593892934,
          69.7953128558987,
          69.90100119128714,
          70.00705288186576,
          70.11346987853172,
          70.22025414643876,
          70.32740766512912,
          70.43493242866694,
          70.54283044577313,
          70.6511037399619,
          70.75975434967853,
          70.8687843284391,
          70.97819574497146,
          71.08799068335792,
          71.19817124317963,
          71.3087395396625,
          71.41969770382484,
          71.53104788262667,
          71.64279223912072,
          71.75493295260524,
          71.86747221877845,
          71.98041224989487,
          72.09375527492337,
          72.20750353970716,
          72.32165930712556,
          72.43622485725753,
          72.5512024875474,
          72.6665945129723,
          72.78240326621152,
          72.89863109781808,
          73.01528037639208,
          73.13235348875618,
          73.2498528401332,
          73.36778085432572,
          73.48613997389782,
          73.6049326603591,
          73.72416139435065,
          73.84382867583346,
          73.96393702427898,
          74.0844889788619,
          74.20548709865533,
          74.32693396282833,
          74.44883217084573,
          74.57118434267038,
          74.69399311896788,
          74.81726116131384,
          74.94099115240348,
          75.0651857962639,
          75.18984781846899,
          75.31497996635677,
          75.44058500924959,
          75.56666573867689,
          75.69322496860077,
          75.82026553564427,
          75.94779029932256,
          76.0758021422769,
          76.20430397051148,
          76.33329871363333,
          76.46278932509507,
          76.5927787824408,
          76.7232700875549,
          76.85426626691415,
          76.98577037184286,
          77.11778547877128,
          77.25031468949726,
          77.38336113145108,
          77.51692795796393,
          77.65101834853948,
          77.78563550912902,
          77.92078267241027,
          78.05646309806939,
          78.19268007308692,
          78.32943691202729,
          78.46673695733196,
          78.60458357961642,
          78.74298017797103,
          78.88193018026573,
          79.02143704345862,
          79.16150425390876,
          79.30213532769278,
          79.44333381092586,
          79.58510328008674,
          79.72744734234703,
          79.87036963590494,
          80.01387383032328,
          80.15796362687202,
          80.30264275887532,
          80.44791499206313,
          80.59378412492762,
          80.74025398908418,
          80.8873284496373,
          81.0350114055514,
          81.18330679002662,
          81.33221857087955,
          81.48175075092925,
          81.6319073683884,
          81.78269249725973,
          81.9341102477379,
          82.08616476661678,
          82.23886023770226,
          82.39220088223091,
          82.54619095929402,
          82.7008347662678,
          82.85613663924934,
          83.01210095349852,
          83.16873212388623,
          83.32603460534865,
          83.48401289334787,
          83.64267152433897,
          83.80201507624362,
          83.96204816893021,
          84.12277546470084,
          84.28420166878517,
          84.44633152984105,
          84.60916984046251,
          84.77272143769464,
          84.936991203556,
          85.1019840655685,
          85.26770499729457,
          85.43415901888228,
          85.60135119761827,
          85.7692866484884,
          85.93797053474681,
          86.10740806849289,
          86.27760451125675,
          86.44856517459341,
          86.62029542068517,
          86.79280066295313,
          86.96608636667762,
          87.14015804962762,
          87.31502128269942,
          87.49068169056498,
          87.66714495232948,
          87.84441680219882,
          88.02250303015714,
          88.20140948265423,
          88.3811420633033,
          88.56170673358923,
          88.74310951358738,
          88.92535648269332,
          89.10845378036345,
          89.2924076068669,
          89.47722422404892,
          89.66290995610568,
          89.84947119037102,
          90.0369143781153,
          90.22524603535634,
          90.41447274368282,
          90.60460115109065,
          90.7956379728319,
          90.98758999227707,
          91.18046406179081,
          91.37426710362125,
          91.56900611080296,
          91.76468814807455,
          91.96132035281033,
          92.15890993596658,
          92.35746418304318,
          92.55699045505996,
          92.75749618954895,
          92.95898890156222,
          93.16147618469586,
          93.36496571213034,
          93.56946523768774,
          93.77498259690562,
          93.98152570812866,
          94.18910257361777,
          94.39772128067708,
          94.60739000279952,
          94.81811700083107,
          95.02991062415377,
          95.24277931188868,
          95.45673159411817,
          95.67177609312856,
          95.88792152467353,
          96.10517669925817,
          96.32355052344474,
          96.54305200117997,
          96.76369023514474,
          96.98547442812651,
          97.2084138844147,
          97.43251801121967,
          97.65779632011599,
          97.88425842850994,
          98.11191406113213,
          98.34077305155569,
          98.57084534374063,
          98.80214099360428,
          99.03467017061948,
          99.26844315943988,
          99.50347036155372,
          99.73976229696639,
          99.97732960591222,
          100.21618305059637,
          100.45633351696739,
          100.69779201652072,
          100.94056968813443,
          101.18467779993725,
          101.43012775120987,
          101.6769310743202,
          101.92509943669324,
          102.1746446428163,
          102.42557863628026,
          102.67791350185783,
          102.93166146761921,
          103.18683490708656,
          103.44344634142742,
          103.70150844168838,
          103.96103403106969,
          104.22203608724188,
          104.48452774470486,
          104.74852229719085,
          105.01403320011217,
          105.28107407305434,
          105.54965870231592,
          105.81980104349604,
          106.09151522413067,
          106.36481554637834,
          106.63971648975736,
          106.9162327139345,
          107.1943790615671,
          107.47417056119956,
          107.7556224302152,
          108.03875007784553,
          108.32356910823697,
          108.61009532357754,
          108.89834472728415,
          109.18833352725227,
          109.48007813916884,
          109.77359518989098,
          110.06890152089073,
          110.36601419176814,
          110.66495048383416,
          110.96572790376496,
          111.26836418732903,
          111.57287730318943,
          111.87928545678238,
          112.18760709427413,
          112.49786090659818,
          112.81006583357453,
          113.12424106811316,
          113.44040606050356,
          113.75858052279227,
          114.0787844332511,
          114.4010380409376,
          114.72536187035021,
          115.05177672618099,
          115.3803036981673,
          115.71096416604564,
          116.04377980460993,
          116.37877258887683,
          116.71596479936053,
          117.05537902746057,
          117.39703818096422,
          117.74096548966749,
          118.08718451111716,
          118.43571913647706,
          118.7865935965216,
          119.13983246776029,
          119.49546067869588,
          119.85350351622023,
          120.21398663215115,
          120.5769360499135,
          120.94237817136957,
          121.31033978380093,
          121.68084806704714,
          122.0539306008046,
          122.4296153720903,
          122.80793078287434,
          123.18890565788648,
          123.57256925260049,
          123.95895126140155,
          124.3480818259419,
          124.73999154368923,
          125.13471147667316,
          125.53227316043628,
          125.93270861319344,
          126.33605034520662,
          126.742331368381,
          127.15158520608738,
          127.56384590321908,
          127.979148036488,
          128.3975267249679,
          128.81901764089105,
          129.24365702070608,
          129.67148167640386,
          130.10252900711959,
          130.53683701101875,
          130.9744442974749,
          131.4153900995484,
          131.859714286774,
          132.30745737826695,
          132.75866055615683,
          133.21336567935847,
          133.6716152976901,
          134.13345266634929,
          134.59892176075664,
          135.06806729177953,
          135.54093472134576,
          136.01757027846003,
          136.49802097563511,
          136.9823346257504,
          137.47055985935066,
          137.96274614239917,
          138.45894379449877,
          138.95920400759516,
          139.46357886517836,
          139.97212136199707,
          140.4848854243022,
          141.00192593063753,
          141.5232987331925,
          142.04906067973758,
          142.57926963615944,
          143.11398450961516,
          143.65326527232708,
          144.19717298603697,
          144.74576982714288,
          145.29911911253993,
          145.8572853261893,
          146.42033414643822,
          146.9883324741179,
          147.56134846144354,
          148.13945154174448,
          148.7227124600527,
          149.31120330457819,
          149.90499753910194,
          150.5041700363185,
          151.10879711215964,
          151.71895656113455,
          152.3347276927213,
          152.95619136884605,
          153.58343004248997,
          154.2165277974618,
          154.85557038937876,
          155.50064528789895,
          156.15184172025025,
          156.8092507161019,
          157.47296515382953,
          158.14307980822218,
          158.81969139968598,
          159.5028986449995,
          160.19280230967837,
          160.88950526200844,
          161.5931125288129,
          162.30373135301514,
          163.02147125306885,
          163.7464440843248,
          164.47876410240988,
          165.21854802869493,
          165.96591511793474,
          166.72098722816247,
          167.48388889292923,
          168.25474739598093,
          169.03369284846858,
          169.82085826879566,
          170.61637966520595,
          171.42039612122505,
          172.23304988407065,
          173.0544864561541,
          173.88485468979945,
          174.72430688531583,
          175.57299889256052,
          176.4310902161411,
          177.29874412440998,
          178.17612776241296,
          179.0634122689597,
          179.9607728979967,
          180.86838914446562,
          181.7864448748453,
          182.71512846258238,
          183.6546329286255,
          184.605156087293,
          185.56690069770963,
          186.54007462106526,
          187.52489098395964,
          188.52156834811103,
          189.53033088672072,
          190.55140856780392,
          191.58503734480882,
          192.6314593548684,
          193.69092312504466,
          194.76368378694653,
          195.85000330012167,
          196.95015068464852,
          198.0644022633722,
          199.19304191426016,
          200.33636133337507,
          201.49466030899237,
          202.6682470074227,
          203.85743827112668,
          205.06255992974857,
          206.28394712473008,
          207.52194464820445,
          208.77690729691275,
          210.04920024193171,
          211.33919941504445,
          212.64729191264175,
          213.97387641809422,
          215.31936364359245,
          216.68417679251615,
          218.0687520434622,
          219.47353905712734,
          220.8990015073241,
          222.34561763748832,
          223.81388084412347,
          225.30430028872757,
          226.8174015398421,
          228.35372724698107,
          229.9138378483101,
          231.49831231407626,
          233.10774892792364,
          234.74276610838209,
          236.40400327296933,
          238.09212174752466,
          239.8078057235756,
          241.55176326674004,
          243.32472737938372,
          245.12745712099056,
          246.96073878995298,
          248.82538717077114,
          250.7222468509473,
          252.6521936121847,
          254.61613590086174,
          256.6150163831243,
          258.64981359036926,
          260.72154366134174,
          262.83126218756604,
          264.98006616937204,
          267.16909609037475,
          269.3995381189028,
          271.6726264455872,
          273.9896457670927,
          276.3519339268234,
          278.7608847243623,
          281.217950906438,
          283.7246473533175,
          286.28255447577953,
          288.89332183917264,
          291.5586720325697,
          294.28040480268595,
          297.06040147406634,
          299.90062967906437,
          302.80314842339135,
          305.77011351550084,
          308.80378339083575,
          311.9065253650527,
          315.08082235374144,
          318.3292800999941,
          321.65463495542514,
          325.05976226501025,
          328.54768541143784,
          332.12158558065266,
          335.7848123169634,
          339.5408949436454,
          343.39355493345846,
          347.34671932308714,
          351.40453527633707,
          355.57138591319716,
          359.8519075357549,
          364.2510083977726,
          368.77388918269406,
          373.42606537535386,
          378.21339173610016,
          383.1420891128424,
          388.2187738573366,
          393.45049014740334,
          398.8447455575729,
          404.4095502677755,
          410.153460354292,
          416.08562567051587,
          422.21584289885845,
          428.5546144411922,
          435.1132139159658,
          441.9037591483554,
          448.939293679016,
          456.2338779813155,
          463.8026917716604,
          471.6621490289189,
          479.83002761495175,
          488.3256157186864,
          497.1698777431218,
          506.3856427335839,
          515.997819025589,
          526.0336394962999,
          536.522942665757,
          547.4984959526155,
          558.996368694971,
          571.0563641663917,
          583.7225218364941,
          597.0437036575253,
          611.0742813527921,
          625.8749457383092,
          641.5136642922927,
          658.0668198591018,
          675.620572026902,
          694.2724940297326,
          714.1335529376884,
          735.3305207385894,
          758.0089305648377,
          782.3367284895382,
          808.5088209549888,
          836.7527868372672,
          867.336120139386,
          900.5755076686704,
          936.8488464539822,
          976.6110007404678,
          1020.4147408207167,
          1068.9389826001104,
          1123.0275046135705,
          1183.743013774306,
          1252.4442207561488,
          1330.8983213749157,
          1421.4496038512693,
          1527.2801275032846,
          1652.8275862062796,
          1804.484456300105,
          1991.8297651048856,
          2229.9416270774977,
          2544.101933576183,
          2980.4290982224466,
          3633.649135376702,
          4737.002773721697,
          7081.537107327891,
          16748.540967414792
         ]
        }
       ],
       "layout": {
        "autosize": true,
        "hovermode": "closest",
        "legend": {
         "x": 0.7,
         "y": 0.9
        },
        "template": {
         "data": {
          "bar": [
           {
            "error_x": {
             "color": "#2a3f5f"
            },
            "error_y": {
             "color": "#2a3f5f"
            },
            "marker": {
             "line": {
              "color": "#E5ECF6",
              "width": 0.5
             },
             "pattern": {
              "fillmode": "overlay",
              "size": 10,
              "solidity": 0.2
             }
            },
            "type": "bar"
           }
          ],
          "barpolar": [
           {
            "marker": {
             "line": {
              "color": "#E5ECF6",
              "width": 0.5
             },
             "pattern": {
              "fillmode": "overlay",
              "size": 10,
              "solidity": 0.2
             }
            },
            "type": "barpolar"
           }
          ],
          "carpet": [
           {
            "aaxis": {
             "endlinecolor": "#2a3f5f",
             "gridcolor": "white",
             "linecolor": "white",
             "minorgridcolor": "white",
             "startlinecolor": "#2a3f5f"
            },
            "baxis": {
             "endlinecolor": "#2a3f5f",
             "gridcolor": "white",
             "linecolor": "white",
             "minorgridcolor": "white",
             "startlinecolor": "#2a3f5f"
            },
            "type": "carpet"
           }
          ],
          "choropleth": [
           {
            "colorbar": {
             "outlinewidth": 0,
             "ticks": ""
            },
            "type": "choropleth"
           }
          ],
          "contour": [
           {
            "colorbar": {
             "outlinewidth": 0,
             "ticks": ""
            },
            "colorscale": [
             [
              0,
              "#0d0887"
             ],
             [
              0.1111111111111111,
              "#46039f"
             ],
             [
              0.2222222222222222,
              "#7201a8"
             ],
             [
              0.3333333333333333,
              "#9c179e"
             ],
             [
              0.4444444444444444,
              "#bd3786"
             ],
             [
              0.5555555555555556,
              "#d8576b"
             ],
             [
              0.6666666666666666,
              "#ed7953"
             ],
             [
              0.7777777777777778,
              "#fb9f3a"
             ],
             [
              0.8888888888888888,
              "#fdca26"
             ],
             [
              1,
              "#f0f921"
             ]
            ],
            "type": "contour"
           }
          ],
          "contourcarpet": [
           {
            "colorbar": {
             "outlinewidth": 0,
             "ticks": ""
            },
            "type": "contourcarpet"
           }
          ],
          "heatmap": [
           {
            "colorbar": {
             "outlinewidth": 0,
             "ticks": ""
            },
            "colorscale": [
             [
              0,
              "#0d0887"
             ],
             [
              0.1111111111111111,
              "#46039f"
             ],
             [
              0.2222222222222222,
              "#7201a8"
             ],
             [
              0.3333333333333333,
              "#9c179e"
             ],
             [
              0.4444444444444444,
              "#bd3786"
             ],
             [
              0.5555555555555556,
              "#d8576b"
             ],
             [
              0.6666666666666666,
              "#ed7953"
             ],
             [
              0.7777777777777778,
              "#fb9f3a"
             ],
             [
              0.8888888888888888,
              "#fdca26"
             ],
             [
              1,
              "#f0f921"
             ]
            ],
            "type": "heatmap"
           }
          ],
          "heatmapgl": [
           {
            "colorbar": {
             "outlinewidth": 0,
             "ticks": ""
            },
            "colorscale": [
             [
              0,
              "#0d0887"
             ],
             [
              0.1111111111111111,
              "#46039f"
             ],
             [
              0.2222222222222222,
              "#7201a8"
             ],
             [
              0.3333333333333333,
              "#9c179e"
             ],
             [
              0.4444444444444444,
              "#bd3786"
             ],
             [
              0.5555555555555556,
              "#d8576b"
             ],
             [
              0.6666666666666666,
              "#ed7953"
             ],
             [
              0.7777777777777778,
              "#fb9f3a"
             ],
             [
              0.8888888888888888,
              "#fdca26"
             ],
             [
              1,
              "#f0f921"
             ]
            ],
            "type": "heatmapgl"
           }
          ],
          "histogram": [
           {
            "marker": {
             "pattern": {
              "fillmode": "overlay",
              "size": 10,
              "solidity": 0.2
             }
            },
            "type": "histogram"
           }
          ],
          "histogram2d": [
           {
            "colorbar": {
             "outlinewidth": 0,
             "ticks": ""
            },
            "colorscale": [
             [
              0,
              "#0d0887"
             ],
             [
              0.1111111111111111,
              "#46039f"
             ],
             [
              0.2222222222222222,
              "#7201a8"
             ],
             [
              0.3333333333333333,
              "#9c179e"
             ],
             [
              0.4444444444444444,
              "#bd3786"
             ],
             [
              0.5555555555555556,
              "#d8576b"
             ],
             [
              0.6666666666666666,
              "#ed7953"
             ],
             [
              0.7777777777777778,
              "#fb9f3a"
             ],
             [
              0.8888888888888888,
              "#fdca26"
             ],
             [
              1,
              "#f0f921"
             ]
            ],
            "type": "histogram2d"
           }
          ],
          "histogram2dcontour": [
           {
            "colorbar": {
             "outlinewidth": 0,
             "ticks": ""
            },
            "colorscale": [
             [
              0,
              "#0d0887"
             ],
             [
              0.1111111111111111,
              "#46039f"
             ],
             [
              0.2222222222222222,
              "#7201a8"
             ],
             [
              0.3333333333333333,
              "#9c179e"
             ],
             [
              0.4444444444444444,
              "#bd3786"
             ],
             [
              0.5555555555555556,
              "#d8576b"
             ],
             [
              0.6666666666666666,
              "#ed7953"
             ],
             [
              0.7777777777777778,
              "#fb9f3a"
             ],
             [
              0.8888888888888888,
              "#fdca26"
             ],
             [
              1,
              "#f0f921"
             ]
            ],
            "type": "histogram2dcontour"
           }
          ],
          "mesh3d": [
           {
            "colorbar": {
             "outlinewidth": 0,
             "ticks": ""
            },
            "type": "mesh3d"
           }
          ],
          "parcoords": [
           {
            "line": {
             "colorbar": {
              "outlinewidth": 0,
              "ticks": ""
             }
            },
            "type": "parcoords"
           }
          ],
          "pie": [
           {
            "automargin": true,
            "type": "pie"
           }
          ],
          "scatter": [
           {
            "fillpattern": {
             "fillmode": "overlay",
             "size": 10,
             "solidity": 0.2
            },
            "type": "scatter"
           }
          ],
          "scatter3d": [
           {
            "line": {
             "colorbar": {
              "outlinewidth": 0,
              "ticks": ""
             }
            },
            "marker": {
             "colorbar": {
              "outlinewidth": 0,
              "ticks": ""
             }
            },
            "type": "scatter3d"
           }
          ],
          "scattercarpet": [
           {
            "marker": {
             "colorbar": {
              "outlinewidth": 0,
              "ticks": ""
             }
            },
            "type": "scattercarpet"
           }
          ],
          "scattergeo": [
           {
            "marker": {
             "colorbar": {
              "outlinewidth": 0,
              "ticks": ""
             }
            },
            "type": "scattergeo"
           }
          ],
          "scattergl": [
           {
            "marker": {
             "colorbar": {
              "outlinewidth": 0,
              "ticks": ""
             }
            },
            "type": "scattergl"
           }
          ],
          "scattermapbox": [
           {
            "marker": {
             "colorbar": {
              "outlinewidth": 0,
              "ticks": ""
             }
            },
            "type": "scattermapbox"
           }
          ],
          "scatterpolar": [
           {
            "marker": {
             "colorbar": {
              "outlinewidth": 0,
              "ticks": ""
             }
            },
            "type": "scatterpolar"
           }
          ],
          "scatterpolargl": [
           {
            "marker": {
             "colorbar": {
              "outlinewidth": 0,
              "ticks": ""
             }
            },
            "type": "scatterpolargl"
           }
          ],
          "scatterternary": [
           {
            "marker": {
             "colorbar": {
              "outlinewidth": 0,
              "ticks": ""
             }
            },
            "type": "scatterternary"
           }
          ],
          "surface": [
           {
            "colorbar": {
             "outlinewidth": 0,
             "ticks": ""
            },
            "colorscale": [
             [
              0,
              "#0d0887"
             ],
             [
              0.1111111111111111,
              "#46039f"
             ],
             [
              0.2222222222222222,
              "#7201a8"
             ],
             [
              0.3333333333333333,
              "#9c179e"
             ],
             [
              0.4444444444444444,
              "#bd3786"
             ],
             [
              0.5555555555555556,
              "#d8576b"
             ],
             [
              0.6666666666666666,
              "#ed7953"
             ],
             [
              0.7777777777777778,
              "#fb9f3a"
             ],
             [
              0.8888888888888888,
              "#fdca26"
             ],
             [
              1,
              "#f0f921"
             ]
            ],
            "type": "surface"
           }
          ],
          "table": [
           {
            "cells": {
             "fill": {
              "color": "#EBF0F8"
             },
             "line": {
              "color": "white"
             }
            },
            "header": {
             "fill": {
              "color": "#C8D4E3"
             },
             "line": {
              "color": "white"
             }
            },
            "type": "table"
           }
          ]
         },
         "layout": {
          "annotationdefaults": {
           "arrowcolor": "#2a3f5f",
           "arrowhead": 0,
           "arrowwidth": 1
          },
          "autotypenumbers": "strict",
          "coloraxis": {
           "colorbar": {
            "outlinewidth": 0,
            "ticks": ""
           }
          },
          "colorscale": {
           "diverging": [
            [
             0,
             "#8e0152"
            ],
            [
             0.1,
             "#c51b7d"
            ],
            [
             0.2,
             "#de77ae"
            ],
            [
             0.3,
             "#f1b6da"
            ],
            [
             0.4,
             "#fde0ef"
            ],
            [
             0.5,
             "#f7f7f7"
            ],
            [
             0.6,
             "#e6f5d0"
            ],
            [
             0.7,
             "#b8e186"
            ],
            [
             0.8,
             "#7fbc41"
            ],
            [
             0.9,
             "#4d9221"
            ],
            [
             1,
             "#276419"
            ]
           ],
           "sequential": [
            [
             0,
             "#0d0887"
            ],
            [
             0.1111111111111111,
             "#46039f"
            ],
            [
             0.2222222222222222,
             "#7201a8"
            ],
            [
             0.3333333333333333,
             "#9c179e"
            ],
            [
             0.4444444444444444,
             "#bd3786"
            ],
            [
             0.5555555555555556,
             "#d8576b"
            ],
            [
             0.6666666666666666,
             "#ed7953"
            ],
            [
             0.7777777777777778,
             "#fb9f3a"
            ],
            [
             0.8888888888888888,
             "#fdca26"
            ],
            [
             1,
             "#f0f921"
            ]
           ],
           "sequentialminus": [
            [
             0,
             "#0d0887"
            ],
            [
             0.1111111111111111,
             "#46039f"
            ],
            [
             0.2222222222222222,
             "#7201a8"
            ],
            [
             0.3333333333333333,
             "#9c179e"
            ],
            [
             0.4444444444444444,
             "#bd3786"
            ],
            [
             0.5555555555555556,
             "#d8576b"
            ],
            [
             0.6666666666666666,
             "#ed7953"
            ],
            [
             0.7777777777777778,
             "#fb9f3a"
            ],
            [
             0.8888888888888888,
             "#fdca26"
            ],
            [
             1,
             "#f0f921"
            ]
           ]
          },
          "colorway": [
           "#636efa",
           "#EF553B",
           "#00cc96",
           "#ab63fa",
           "#FFA15A",
           "#19d3f3",
           "#FF6692",
           "#B6E880",
           "#FF97FF",
           "#FECB52"
          ],
          "font": {
           "color": "#2a3f5f"
          },
          "geo": {
           "bgcolor": "white",
           "lakecolor": "white",
           "landcolor": "#E5ECF6",
           "showlakes": true,
           "showland": true,
           "subunitcolor": "white"
          },
          "hoverlabel": {
           "align": "left"
          },
          "hovermode": "closest",
          "mapbox": {
           "style": "light"
          },
          "paper_bgcolor": "white",
          "plot_bgcolor": "#E5ECF6",
          "polar": {
           "angularaxis": {
            "gridcolor": "white",
            "linecolor": "white",
            "ticks": ""
           },
           "bgcolor": "#E5ECF6",
           "radialaxis": {
            "gridcolor": "white",
            "linecolor": "white",
            "ticks": ""
           }
          },
          "scene": {
           "xaxis": {
            "backgroundcolor": "#E5ECF6",
            "gridcolor": "white",
            "gridwidth": 2,
            "linecolor": "white",
            "showbackground": true,
            "ticks": "",
            "zerolinecolor": "white"
           },
           "yaxis": {
            "backgroundcolor": "#E5ECF6",
            "gridcolor": "white",
            "gridwidth": 2,
            "linecolor": "white",
            "showbackground": true,
            "ticks": "",
            "zerolinecolor": "white"
           },
           "zaxis": {
            "backgroundcolor": "#E5ECF6",
            "gridcolor": "white",
            "gridwidth": 2,
            "linecolor": "white",
            "showbackground": true,
            "ticks": "",
            "zerolinecolor": "white"
           }
          },
          "shapedefaults": {
           "line": {
            "color": "#2a3f5f"
           }
          },
          "ternary": {
           "aaxis": {
            "gridcolor": "white",
            "linecolor": "white",
            "ticks": ""
           },
           "baxis": {
            "gridcolor": "white",
            "linecolor": "white",
            "ticks": ""
           },
           "bgcolor": "#E5ECF6",
           "caxis": {
            "gridcolor": "white",
            "linecolor": "white",
            "ticks": ""
           }
          },
          "title": {
           "x": 0.05
          },
          "xaxis": {
           "automargin": true,
           "gridcolor": "white",
           "linecolor": "white",
           "ticks": "",
           "title": {
            "standoff": 15
           },
           "zerolinecolor": "white",
           "zerolinewidth": 2
          },
          "yaxis": {
           "automargin": true,
           "gridcolor": "white",
           "linecolor": "white",
           "ticks": "",
           "title": {
            "standoff": 15
           },
           "zerolinecolor": "white",
           "zerolinewidth": 2
          }
         }
        },
        "title": {
         "text": "World Population Over Time (Power Law Fit)"
        },
        "xaxis": {
         "autorange": true,
         "range": [
          -1.3495704663088026,
          4.3872711363635455
         ],
         "ticktext": [
          "2015",
          "2006",
          "1916",
          "1016",
          "-7984"
         ],
         "tickvals": [
          1,
          10,
          100,
          1000,
          10000
         ],
         "title": {
          "text": "Year"
         },
         "type": "log"
        },
        "yaxis": {
         "autorange": true,
         "range": [
          0.3584032108611603,
          4.427428230887634
         ],
         "title": {
          "text": "Population (millions)"
         },
         "type": "log"
        }
       }
      },
      "image/png": "[encoded data removed]",
      "text/html": [
       "<div>                            <div id=\"0d39c7f3-f04d-4af2-8960-24486089c2f6\" class=\"plotly-graph-div\" style=\"height:525px; width:100%;\"></div>            <script type=\"text/javascript\">                require([\"plotly\"], function(Plotly) {                    window.PLOTLYENV=window.PLOTLYENV || {};                                    if (document.getElementById(\"0d39c7f3-f04d-4af2-8960-24486089c2f6\")) {                    Plotly.newPlot(                        \"0d39c7f3-f04d-4af2-8960-24486089c2f6\",                        [{\"hoverinfo\":\"text\",\"mode\":\"markers\",\"name\":\"Data\",\"text\":[\"Year: -10000, Population: 4\",\"Year: -9000, Population: 6\",\"Year: -8000, Population: 7\",\"Year: -7000, Population: 10\",\"Year: -6000, Population: 13\",\"Year: -5000, Population: 19\",\"Year: -4000, Population: 29\",\"Year: -3000, Population: 44\",\"Year: -2000, Population: 73\",\"Year: -1000, Population: 110\",\"Year: 0, Population: 232\",\"Year: 100, Population: 237\",\"Year: 200, Population: 241\",\"Year: 300, Population: 228\",\"Year: 400, Population: 242\",\"Year: 500, Population: 253\",\"Year: 600, Population: 271\",\"Year: 700, Population: 278\",\"Year: 800, Population: 286\",\"Year: 900, Population: 311\",\"Year: 1000, Population: 323\",\"Year: 1100, Population: 398\",\"Year: 1200, Population: 445\",\"Year: 1300, Population: 456\",\"Year: 1400, Population: 442\",\"Year: 1500, Population: 503\",\"Year: 1600, Population: 517\",\"Year: 1700, Population: 593\",\"Year: 1710, Population: 613\",\"Year: 1720, Population: 643\",\"Year: 1730, Population: 665\",\"Year: 1740, Population: 695\",\"Year: 1750, Population: 746\",\"Year: 1760, Population: 780\",\"Year: 1770, Population: 819\",\"Year: 1780, Population: 891\",\"Year: 1790, Population: 932\",\"Year: 1800, Population: 985\",\"Year: 1801, Population: 988\",\"Year: 1802, Population: 991\",\"Year: 1803, Population: 995\",\"Year: 1804, Population: 998\",\"Year: 1805, Population: 1002\",\"Year: 1806, Population: 1005\",\"Year: 1807, Population: 1009\",\"Year: 1808, Population: 1013\",\"Year: 1809, Population: 1017\",\"Year: 1810, Population: 1023\",\"Year: 1811, Population: 1027\",\"Year: 1812, Population: 1034\",\"Year: 1813, Population: 1040\",\"Year: 1814, Population: 1047\",\"Year: 1815, Population: 1055\",\"Year: 1816, Population: 1062\",\"Year: 1817, Population: 1069\",\"Year: 1818, Population: 1077\",\"Year: 1819, Population: 1085\",\"Year: 1820, Population: 1093\",\"Year: 1821, Population: 1099\",\"Year: 1822, Population: 1106\",\"Year: 1823, Population: 1114\",\"Year: 1824, Population: 1121\",\"Year: 1825, Population: 1128\",\"Year: 1826, Population: 1136\",\"Year: 1827, Population: 1144\",\"Year: 1828, Population: 1152\",\"Year: 1829, Population: 1159\",\"Year: 1830, Population: 1167\",\"Year: 1831, Population: 1172\",\"Year: 1832, Population: 1178\",\"Year: 1833, Population: 1184\",\"Year: 1834, Population: 1189\",\"Year: 1835, Population: 1195\",\"Year: 1836, Population: 1200\",\"Year: 1837, Population: 1206\",\"Year: 1838, Population: 1212\",\"Year: 1839, Population: 1218\",\"Year: 1840, Population: 1224\",\"Year: 1841, Population: 1229\",\"Year: 1842, Population: 1234\",\"Year: 1843, Population: 1240\",\"Year: 1844, Population: 1245\",\"Year: 1845, Population: 1251\",\"Year: 1846, Population: 1257\",\"Year: 1847, Population: 1262\",\"Year: 1848, Population: 1268\",\"Year: 1849, Population: 1273\",\"Year: 1850, Population: 1279\",\"Year: 1851, Population: 1281\",\"Year: 1852, Population: 1283\",\"Year: 1853, Population: 1284\",\"Year: 1854, Population: 1286\",\"Year: 1855, Population: 1288\",\"Year: 1856, Population: 1290\",\"Year: 1857, Population: 1292\",\"Year: 1858, Population: 1294\",\"Year: 1859, Population: 1296\",\"Year: 1860, Population: 1300\",\"Year: 1861, Population: 1302\",\"Year: 1862, Population: 1306\",\"Year: 1863, Population: 1309\",\"Year: 1864, Population: 1313\",\"Year: 1865, Population: 1317\",\"Year: 1866, Population: 1322\",\"Year: 1867, Population: 1326\",\"Year: 1868, Population: 1330\",\"Year: 1869, Population: 1335\",\"Year: 1870, Population: 1342\",\"Year: 1871, Population: 1346\",\"Year: 1872, Population: 1353\",\"Year: 1873, Population: 1360\",\"Year: 1874, Population: 1368\",\"Year: 1875, Population: 1375\",\"Year: 1876, Population: 1382\",\"Year: 1877, Population: 1390\",\"Year: 1878, Population: 1398\",\"Year: 1879, Population: 1406\",\"Year: 1880, Population: 1416\",\"Year: 1881, Population: 1424\",\"Year: 1882, Population: 1434\",\"Year: 1883, Population: 1444\",\"Year: 1884, Population: 1455\",\"Year: 1885, Population: 1465\",\"Year: 1886, Population: 1476\",\"Year: 1887, Population: 1487\",\"Year: 1888, Population: 1498\",\"Year: 1889, Population: 1509\",\"Year: 1890, Population: 1522\",\"Year: 1891, Population: 1531\",\"Year: 1892, Population: 1541\",\"Year: 1893, Population: 1551\",\"Year: 1894, Population: 1561\",\"Year: 1895, Population: 1571\",\"Year: 1896, Population: 1582\",\"Year: 1897, Population: 1592\",\"Year: 1898, Population: 1603\",\"Year: 1899, Population: 1614\",\"Year: 1900, Population: 1628\",\"Year: 1901, Population: 1639\",\"Year: 1902, Population: 1652\",\"Year: 1903, Population: 1666\",\"Year: 1904, Population: 1680\",\"Year: 1905, Population: 1694\",\"Year: 1906, Population: 1708\",\"Year: 1907, Population: 1723\",\"Year: 1908, Population: 1738\",\"Year: 1909, Population: 1752\",\"Year: 1910, Population: 1768\",\"Year: 1911, Population: 1779\",\"Year: 1912, Population: 1791\",\"Year: 1913, Population: 1803\",\"Year: 1914, Population: 1815\",\"Year: 1915, Population: 1827\",\"Year: 1916, Population: 1840\",\"Year: 1917, Population: 1852\",\"Year: 1918, Population: 1865\",\"Year: 1919, Population: 1879\",\"Year: 1920, Population: 1896\",\"Year: 1921, Population: 1909\",\"Year: 1922, Population: 1925\",\"Year: 1923, Population: 1942\",\"Year: 1924, Population: 1959\",\"Year: 1925, Population: 1976\",\"Year: 1926, Population: 1994\",\"Year: 1927, Population: 2012\",\"Year: 1928, Population: 2030\",\"Year: 1929, Population: 2049\",\"Year: 1930, Population: 2071\",\"Year: 1931, Population: 2088\",\"Year: 1932, Population: 2109\",\"Year: 1933, Population: 2131\",\"Year: 1934, Population: 2153\",\"Year: 1935, Population: 2175\",\"Year: 1936, Population: 2198\",\"Year: 1937, Population: 2221\",\"Year: 1938, Population: 2244\",\"Year: 1939, Population: 2266\",\"Year: 1940, Population: 2291\",\"Year: 1941, Population: 2308\",\"Year: 1942, Population: 2327\",\"Year: 1943, Population: 2345\",\"Year: 1944, Population: 2362\",\"Year: 1945, Population: 2380\",\"Year: 1946, Population: 2398\",\"Year: 1947, Population: 2417\",\"Year: 1948, Population: 2437\",\"Year: 1949, Population: 2463\",\"Year: 1950, Population: 2499\",\"Year: 1951, Population: 2543\",\"Year: 1952, Population: 2590\",\"Year: 1953, Population: 2640\",\"Year: 1954, Population: 2692\",\"Year: 1955, Population: 2746\",\"Year: 1956, Population: 2801\",\"Year: 1957, Population: 2858\",\"Year: 1958, Population: 2916\",\"Year: 1959, Population: 2970\",\"Year: 1960, Population: 3019\",\"Year: 1961, Population: 3068\",\"Year: 1962, Population: 3127\",\"Year: 1963, Population: 3196\",\"Year: 1964, Population: 3267\",\"Year: 1965, Population: 3337\",\"Year: 1966, Population: 3406\",\"Year: 1967, Population: 3475\",\"Year: 1968, Population: 3547\",\"Year: 1969, Population: 3621\",\"Year: 1970, Population: 3695\",\"Year: 1971, Population: 3770\",\"Year: 1972, Population: 3845\",\"Year: 1973, Population: 3920\",\"Year: 1974, Population: 3996\",\"Year: 1975, Population: 4069\",\"Year: 1976, Population: 4143\",\"Year: 1977, Population: 4216\",\"Year: 1978, Population: 4290\",\"Year: 1979, Population: 4366\",\"Year: 1980, Population: 4444\",\"Year: 1981, Population: 4525\",\"Year: 1982, Population: 4608\",\"Year: 1983, Population: 4692\",\"Year: 1984, Population: 4776\",\"Year: 1985, Population: 4862\",\"Year: 1986, Population: 4950\",\"Year: 1987, Population: 5041\",\"Year: 1988, Population: 5132\",\"Year: 1989, Population: 5224\",\"Year: 1990, Population: 5316\",\"Year: 1991, Population: 5406\",\"Year: 1992, Population: 5493\",\"Year: 1993, Population: 5577\",\"Year: 1994, Population: 5661\",\"Year: 1995, Population: 5743\",\"Year: 1996, Population: 5825\",\"Year: 1997, Population: 5906\",\"Year: 1998, Population: 5987\",\"Year: 1999, Population: 6068\",\"Year: 2000, Population: 6149\",\"Year: 2001, Population: 6231\",\"Year: 2002, Population: 6312\",\"Year: 2003, Population: 6394\",\"Year: 2004, Population: 6476\",\"Year: 2005, Population: 6558\",\"Year: 2006, Population: 6641\",\"Year: 2007, Population: 6726\",\"Year: 2008, Population: 6812\",\"Year: 2009, Population: 6898\",\"Year: 2010, Population: 6986\",\"Year: 2011, Population: 7073\",\"Year: 2012, Population: 7162\",\"Year: 2013, Population: 7251\",\"Year: 2014, Population: 7339\",\"Year: 2015, Population: 7427\",\"Year: 2016, Population: 7513\",\"Year: 2017, Population: 7600\",\"Year: 2018, Population: 7684\",\"Year: 2019, Population: 7765\",\"Year: 2020, Population: 7841\",\"Year: 2021, Population: 7909\"],\"x\":[12016.090768983046,11016.090768983046,10016.090768983046,9016.090768983046,8016.0907689830465,7016.0907689830465,6016.0907689830465,5016.0907689830465,4016.0907689830465,3016.0907689830465,2016.0907689830462,1916.0907689830462,1816.0907689830462,1716.0907689830462,1616.0907689830462,1516.0907689830462,1416.0907689830462,1316.0907689830462,1216.0907689830462,1116.0907689830462,1016.0907689830462,916.0907689830462,816.0907689830462,716.0907689830462,616.0907689830462,516.0907689830462,416.09076898304625,316.09076898304625,306.09076898304625,296.09076898304625,286.09076898304625,276.09076898304625,266.09076898304625,256.09076898304625,246.09076898304625,236.09076898304625,226.09076898304625,216.09076898304625,215.09076898304625,214.09076898304625,213.09076898304625,212.09076898304625,211.09076898304625,210.09076898304625,209.09076898304625,208.09076898304625,207.09076898304625,206.09076898304625,205.09076898304625,204.09076898304625,203.09076898304625,202.09076898304625,201.09076898304625,200.09076898304625,199.09076898304625,198.09076898304625,197.09076898304625,196.09076898304625,195.09076898304625,194.09076898304625,193.09076898304625,192.09076898304625,191.09076898304625,190.09076898304625,189.09076898304625,188.09076898304625,187.09076898304625,186.09076898304625,185.09076898304625,184.09076898304625,183.09076898304625,182.09076898304625,181.09076898304625,180.09076898304625,179.09076898304625,178.09076898304625,177.09076898304625,176.09076898304625,175.09076898304625,174.09076898304625,173.09076898304625,172.09076898304625,171.09076898304625,170.09076898304625,169.09076898304625,168.09076898304625,167.09076898304625,166.09076898304625,165.09076898304625,164.09076898304625,163.09076898304625,162.09076898304625,161.09076898304625,160.09076898304625,159.09076898304625,158.09076898304625,157.09076898304625,156.09076898304625,155.09076898304625,154.09076898304625,153.09076898304625,152.09076898304625,151.09076898304625,150.09076898304625,149.09076898304625,148.09076898304625,147.09076898304625,146.09076898304625,145.09076898304625,144.09076898304625,143.09076898304625,142.09076898304625,141.09076898304625,140.09076898304625,139.09076898304625,138.09076898304625,137.09076898304625,136.09076898304625,135.09076898304625,134.09076898304625,133.09076898304625,132.09076898304625,131.09076898304625,130.09076898304625,129.09076898304625,128.09076898304625,127.09076898304625,126.09076898304625,125.09076898304625,124.09076898304625,123.09076898304625,122.09076898304625,121.09076898304625,120.09076898304625,119.09076898304625,118.09076898304625,117.09076898304625,116.09076898304625,115.09076898304625,114.09076898304625,113.09076898304625,112.09076898304625,111.09076898304625,110.09076898304625,109.09076898304625,108.09076898304625,107.09076898304625,106.09076898304625,105.09076898304625,104.09076898304625,103.09076898304625,102.09076898304625,101.09076898304625,100.09076898304625,99.09076898304625,98.09076898304625,97.09076898304625,96.09076898304625,95.09076898304625,94.09076898304625,93.09076898304625,92.09076898304625,91.09076898304625,90.09076898304625,89.09076898304625,88.09076898304625,87.09076898304625,86.09076898304625,85.09076898304625,84.09076898304625,83.09076898304625,82.09076898304625,81.09076898304625,80.09076898304625,79.09076898304625,78.09076898304625,77.09076898304625,76.09076898304625,75.09076898304625,74.09076898304625,73.09076898304625,72.09076898304625,71.09076898304625,70.09076898304625,69.09076898304625,68.09076898304625,67.09076898304625,66.09076898304625,65.09076898304625,64.09076898304625,63.090768983046246,62.090768983046246,61.090768983046246,60.090768983046246,59.090768983046246,58.090768983046246,57.090768983046246,56.090768983046246,55.090768983046246,54.090768983046246,53.090768983046246,52.090768983046246,51.090768983046246,50.090768983046246,49.090768983046246,48.090768983046246,47.090768983046246,46.090768983046246,45.090768983046246,44.090768983046246,43.090768983046246,42.090768983046246,41.090768983046246,40.090768983046246,39.090768983046246,38.090768983046246,37.090768983046246,36.090768983046246,35.090768983046246,34.090768983046246,33.090768983046246,32.090768983046246,31.090768983046246,30.090768983046246,29.090768983046246,28.090768983046246,27.090768983046246,26.090768983046246,25.090768983046246,24.090768983046246,23.090768983046246,22.090768983046246,21.090768983046246,20.090768983046246,19.090768983046246,18.090768983046246,17.090768983046246,16.090768983046246,15.090768983046246,14.090768983046246,13.090768983046246,12.090768983046246,11.090768983046246,10.090768983046246,9.090768983046246,8.090768983046246,7.090768983046246,6.090768983046246,5.090768983046246,4.090768983046246,3.090768983046246,2.090768983046246,1.090768983046246,0.09076898304624592,-0.9092310169537541,-1.909231016953754,-2.909231016953754,-3.909231016953754,-4.909231016953754],\"y\":[4.432266,5.616996,7.242892,9.577918,13.201832,19.075771,28.774661,44.487162,72.586076,110.419521,232.123764,236.904172,240.611571,227.549847,241.539639,253.237316,271.478693,278.185334,285.71384,310.967715,323.407571,397.923813,444.750686,456.388961,442.480612,503.240399,516.610918,592.706212,613.189457,642.718111,664.743383,695.34669,745.664133,779.891857,818.8279,891.048681,931.577684,985.340629,987.628322,991.098738,994.61026,998.16324,1001.758044,1005.395067,1009.074742,1012.797513,1016.563866,1022.629692,1027.487469,1033.636618,1040.443689,1047.427292,1054.586106,1061.924513,1069.44707,1077.158552,1084.757875,1093.424863,1099.331577,1106.263783,1113.514792,1120.876169,1128.34296,1135.961188,1143.684846,1151.515422,1158.898384,1166.619223,1172.266726,1178.216298,1183.68412,1189.202983,1194.812021,1200.422586,1206.132721,1211.908617,1217.625799,1224.117982,1228.828189,1234.333753,1239.880237,1245.319917,1250.936428,1256.637463,1262.42472,1268.300005,1273.394934,1278.810377,1280.744899,1282.983708,1284.472373,1286.078878,1287.785678,1289.613085,1291.556308,1293.616943,1296.053087,1300.098076,1302.046862,1305.560612,1309.444051,1313.410603,1317.453657,1321.572626,1325.775239,1330.060419,1334.928493,1341.697614,1346.406314,1353.032986,1360.261504,1367.561973,1374.96243,1382.44305,1389.974777,1397.574403,1405.702618,1415.841209,1423.704727,1433.553127,1444.009167,1454.595037,1465.369425,1476.245076,1487.277339,1498.437207,1509.373834,1521.669265,1530.611585,1540.822549,1550.822689,1560.960959,1571.250732,1581.628826,1592.152786,1602.80187,1614.109121,1627.883132,1638.647517,1651.840077,1665.70354,1679.752718,1693.984163,1708.411294,1723.032738,1737.874788,1752.122665,1767.847653,1778.784032,1791.197929,1803.056235,1815.104863,1827.290389,1839.559287,1851.899055,1864.869126,1878.650358,1895.68215,1908.748639,1924.82612,1941.6369,1958.716901,1976.068839,1993.719848,2011.689749,2029.682397,2048.513689,2070.596353,2088.429965,2109.357892,2131.029147,2152.969392,2175.184808,2197.830032,2220.878589,2244.005191,2266.483407,2290.871362,2307.736768,2326.734579,2344.58144,2362.439908,2380.167769,2397.811266,2416.694412,2437.259361,2463.242071,2499.322112,2543.130368,2590.270976,2640.278784,2691.979264,2746.072064,2801.002752,2857.866752,2916.108032,2970.292224,3019.233536,3068.370688,3126.68672,3195.779328,3267.212288,3337.112064,3406.416896,3475.448064,3546.81088,3620.65536,3695.390208,3770.1632,3844.800768,3920.251392,3995.516928,4069.437184,4142.505728,4215.772416,4289.6576,4365.582848,4444.007936,4524.627456,4607.98464,4691.884032,4775.83616,4861.730816,4950.063104,5040.984576,5132.294144,5223.704064,5316.175872,5406.245888,5492.686336,5577.4336,5660.727808,5743.219712,5825.145344,5906.481152,5987.31264,6067.758592,6148.898816,6230.747136,6312.407552,6393.898496,6475.751424,6558.176256,6641.416192,6725.948416,6811.597312,6898.306048,6985.603072,7073.125376,7161.697792,7250.59328,7339.013632,7426.597376,7513.474048,7599.822336,7683.789824,7764.95104,7840.952832,7909.295104],\"type\":\"scatter\"},{\"line\":{\"color\":\"red\"},\"mode\":\"lines\",\"name\":\"Fitted Power Law Curve\",\"x\":[12016.090768983046,12004.068746961024,11992.046724939002,11980.024702916979,11968.002680894957,11955.980658872935,11943.958636850914,11931.936614828892,11919.91459280687,11907.892570784847,11895.870548762825,11883.848526740803,11871.826504718782,11859.80448269676,11847.782460674738,11835.760438652715,11823.738416630693,11811.716394608671,11799.69437258665,11787.672350564628,11775.650328542604,11763.628306520583,11751.60628449856,11739.58426247654,11727.562240454517,11715.540218432496,11703.518196410472,11691.49617438845,11679.474152366429,11667.452130344407,11655.430108322385,11643.408086300364,11631.38606427834,11619.364042256318,11607.342020234297,11595.319998212275,11583.297976190253,11571.275954168232,11559.253932146208,11547.231910124186,11535.209888102165,11523.187866080143,11511.165844058121,11499.143822036098,11487.121800014076,11475.099777992054,11463.077755970033,11451.055733948011,11439.03371192599,11427.011689903966,11414.989667881944,11402.967645859922,11390.9456238379,11378.923601815879,11366.901579793855,11354.879557771834,11342.857535749812,11330.83551372779,11318.813491705769,11306.791469683747,11294.769447661723,11282.747425639702,11270.72540361768,11258.703381595658,11246.681359573637,11234.659337551615,11222.637315529591,11210.61529350757,11198.593271485548,11186.571249463526,11174.549227441505,11162.527205419483,11150.50518339746,11138.483161375438,11126.461139353416,11114.439117331394,11102.417095309373,11090.395073287349,11078.373051265327,11066.351029243306,11054.329007221284,11042.306985199262,11030.28496317724,11018.262941155217,11006.240919133195,10994.218897111174,10982.196875089152,10970.17485306713,10958.152831045107,10946.130809023085,10934.108787001063,10922.086764979042,10910.06474295702,10898.042720934998,10886.020698912977,10873.998676890953,10861.976654868931,10849.95463284691,10837.932610824888,10825.910588802866,10813.888566780843,10801.866544758821,10789.8445227368,10777.822500714778,10765.800478692756,10753.778456670734,10741.75643464871,10729.734412626689,10717.712390604667,10705.690368582646,10693.668346560624,10681.6463245386,10669.624302516579,10657.602280494557,10645.580258472535,10633.558236450514,10621.536214428492,10609.514192406468,10597.492170384447,10585.470148362425,10573.448126340403,10561.426104318381,10549.404082296358,10537.382060274336,10525.360038252315,10513.338016230293,10501.315994208271,10489.29397218625,10477.271950164228,10465.249928142204,10453.227906120183,10441.20588409816,10429.18386207614,10417.161840054117,10405.139818032094,10393.117796010072,10381.09577398805,10369.073751966029,10357.051729944007,10345.029707921985,10333.007685899962,10320.98566387794,10308.963641855918,10296.941619833897,10284.919597811875,10272.897575789852,10260.87555376783,10248.853531745808,10236.831509723786,10224.809487701765,10212.787465679743,10200.765443657721,10188.743421635698,10176.721399613676,10164.699377591654,10152.677355569633,10140.655333547611,10128.63331152559,10116.611289503566,10104.589267481544,10092.567245459522,10080.5452234375,10068.523201415479,10056.501179393457,10044.479157371434,10032.457135349412,10020.43511332739,10008.413091305369,9996.391069283347,9984.369047261323,9972.347025239302,9960.32500321728,9948.302981195258,9936.280959173237,9924.258937151215,9912.236915129191,9900.21489310717,9888.192871085148,9876.170849063126,9864.148827041105,9852.126805019081,9840.10478299706,9828.082760975038,9816.060738953016,9804.038716930994,9792.016694908973,9779.994672886949,9767.972650864927,9755.950628842906,9743.928606820884,9731.906584798862,9719.88456277684,9707.862540754817,9695.840518732795,9683.818496710774,9671.796474688752,9659.77445266673,9647.752430644707,9635.730408622685,9623.708386600663,9611.686364578642,9599.66434255662,9587.642320534598,9575.620298512575,9563.598276490553,9551.576254468531,9539.55423244651,9527.532210424488,9515.510188402466,9503.488166380443,9491.466144358421,9479.4441223364,9467.422100314378,9455.400078292356,9443.378056270334,9431.35603424831,9419.334012226289,9407.311990204267,9395.289968182246,9383.267946160224,9371.2459241382,9359.223902116179,9347.201880094157,9335.179858072135,9323.157836050113,9311.135814028092,9299.113792006068,9287.091769984047,9275.069747962025,9263.047725940003,9251.025703917981,9239.00368189596,9226.981659873936,9214.959637851915,9202.937615829893,9190.915593807871,9178.89357178585,9166.871549763826,9154.849527741804,9142.827505719782,9130.80548369776,9118.783461675739,9106.761439653717,9094.739417631694,9082.717395609672,9070.69537358765,9058.673351565629,9046.651329543607,9034.629307521585,9022.607285499562,9010.58526347754,8998.563241455518,8986.541219433497,8974.519197411475,8962.497175389452,8950.47515336743,8938.453131345408,8926.431109323386,8914.409087301365,8902.387065279343,8890.36504325732,8878.343021235298,8866.320999213276,8854.298977191254,8842.276955169233,8830.254933147211,8818.232911125187,8806.210889103166,8794.188867081144,8782.166845059122,8770.1448230371,8758.122801015077,8746.100778993055,8734.078756971034,8722.056734949012,8710.03471292699,8698.012690904969,8685.990668882945,8673.968646860923,8661.946624838902,8649.92460281688,8637.902580794858,8625.880558772837,8613.858536750813,8601.836514728791,8589.81449270677,8577.792470684748,8565.770448662726,8553.748426640705,8541.726404618681,8529.70438259666,8517.682360574638,8505.660338552616,8493.638316530594,8481.61629450857,8469.594272486549,8457.572250464527,8445.550228442506,8433.528206420484,8421.506184398462,8409.484162376439,8397.462140354417,8385.440118332395,8373.418096310374,8361.396074288352,8349.37405226633,8337.352030244307,8325.330008222285,8313.307986200263,8301.285964178242,8289.26394215622,8277.241920134196,8265.219898112175,8253.197876090153,8241.175854068131,8229.15383204611,8217.131810024088,8205.109788002064,8193.087765980043,8181.065743958022,8169.043721936,8157.0216999139775,8144.999677891956,8132.977655869933,8120.9556338479115,8108.93361182589,8096.911589803868,8084.8895677818455,8072.867545759823,8060.845523737801,8048.8235017157795,8036.801479693758,8024.779457671736,8012.757435649713,8000.735413627691,7988.713391605669,7976.691369583647,7964.669347561626,7952.647325539603,7940.625303517581,7928.603281495559,7916.581259473537,7904.559237451515,7892.537215429493,7880.515193407471,7868.493171385449,7856.471149363427,7844.449127341405,7832.427105319383,7820.405083297361,7808.383061275339,7796.361039253317,7784.339017231295,7772.316995209273,7760.294973187251,7748.272951165229,7736.250929143207,7724.228907121184,7712.206885099163,7700.184863077141,7688.162841055118,7676.140819033097,7664.118797011075,7652.096774989052,7640.074752967031,7628.052730945009,7616.030708922986,7604.008686900965,7591.986664878943,7579.96464285692,7567.942620834899,7555.920598812877,7543.898576790854,7531.876554768833,7519.854532746811,7507.832510724788,7495.810488702767,7483.788466680744,7471.766444658722,7459.744422636701,7447.722400614678,7435.700378592656,7423.678356570635,7411.656334548612,7399.63431252659,7387.612290504569,7375.590268482546,7363.568246460524,7351.546224438503,7339.52420241648,7327.502180394458,7315.480158372437,7303.458136350414,7291.436114328392,7279.41409230637,7267.392070284348,7255.370048262326,7243.348026240304,7231.326004218282,7219.30398219626,7207.281960174238,7195.259938152216,7183.237916130194,7171.215894108172,7159.19387208615,7147.171850064128,7135.149828042106,7123.127806020084,7111.105783998062,7099.08376197604,7087.061739954018,7075.039717931996,7063.017695909974,7050.995673887952,7038.973651865929,7026.9516298439075,7014.929607821886,7002.907585799863,6990.8855637778415,6978.86354175582,6966.841519733797,6954.8194977117755,6942.797475689754,6930.775453667731,6918.7534316457095,6906.731409623688,6894.709387601665,6882.6873655796435,6870.665343557622,6858.643321535599,6846.6212995135775,6834.599277491555,6822.577255469533,6810.5552334475115,6798.533211425489,6786.511189403467,6774.489167381445,6762.467145359423,6750.445123337401,6738.423101315379,6726.401079293357,6714.379057271335,6702.357035249313,6690.335013227291,6678.312991205269,6666.290969183247,6654.268947161225,6642.246925139203,6630.2249031171805,6618.202881095159,6606.180859073137,6594.1588370511145,6582.136815029093,6570.114793007071,6558.092770985048,6546.070748963027,6534.048726941005,6522.026704918982,6510.004682896961,6497.982660874939,6485.960638852916,6473.938616830895,6461.916594808873,6449.89457278685,6437.872550764829,6425.850528742807,6413.828506720784,6401.806484698763,6389.78446267674,6377.762440654718,6365.740418632697,6353.718396610674,6341.696374588652,6329.674352566631,6317.652330544608,6305.630308522586,6293.608286500565,6281.586264478542,6269.56424245652,6257.542220434499,6245.520198412476,6233.498176390454,6221.476154368433,6209.45413234641,6197.432110324388,6185.410088302366,6173.388066280344,6161.366044258322,6149.3440222363,6137.322000214278,6125.299978192256,6113.277956170234,6101.255934148212,6089.23391212619,6077.211890104168,6065.189868082146,6053.167846060124,6041.145824038102,6029.12380201608,6017.101779994058,6005.079757972036,5993.057735950014,5981.035713927992,5969.01369190597,5956.991669883948,5944.969647861925,5932.947625839904,5920.925603817882,5908.903581795859,5896.881559773838,5884.859537751816,5872.837515729793,5860.815493707772,5848.79347168575,5836.771449663727,5824.749427641706,5812.727405619684,5800.705383597661,5788.6833615756395,5776.661339553618,5764.639317531595,5752.6172955095735,5740.595273487551,5728.573251465529,5716.5512294435075,5704.529207421485,5692.507185399463,5680.4851633774415,5668.463141355419,5656.441119333397,5644.4190973113755,5632.397075289353,5620.375053267331,5608.3530312453095,5596.331009223287,5584.308987201265,5572.286965179243,5560.264943157221,5548.242921135199,5536.220899113177,5524.198877091155,5512.176855069133,5500.1548330471105,5488.132811025089,5476.110789003067,5464.0887669810445,5452.066744959023,5440.044722937001,5428.0227009149785,5416.000678892957,5403.978656870935,5391.9566348489125,5379.934612826891,5367.912590804869,5355.8905687828465,5343.868546760825,5331.846524738803,5319.82450271678,5307.802480694759,5295.780458672736,5283.758436650714,5271.736414628693,5259.71439260667,5247.692370584648,5235.670348562627,5223.648326540604,5211.626304518582,5199.604282496561,5187.582260474538,5175.560238452516,5163.538216430495,5151.516194408472,5139.49417238645,5127.472150364429,5115.450128342406,5103.428106320384,5091.406084298363,5079.38406227634,5067.362040254318,5055.340018232296,5043.317996210274,5031.295974188252,5019.27395216623,5007.251930144208,4995.229908122186,4983.207886100164,4971.185864078142,4959.16384205612,4947.141820034098,4935.119798012076,4923.097775990054,4911.075753968032,4899.05373194601,4887.031709923988,4875.009687901966,4862.987665879944,4850.965643857921,4838.9436218359,4826.921599813878,4814.899577791855,4802.877555769834,4790.855533747812,4778.833511725789,4766.811489703768,4754.789467681746,4742.767445659723,4730.745423637702,4718.72340161568,4706.701379593657,4694.679357571636,4682.657335549614,4670.635313527591,4658.61329150557,4646.591269483547,4634.569247461525,4622.547225439504,4610.525203417481,4598.503181395459,4586.481159373438,4574.459137351415,4562.437115329393,4550.4150933073715,4538.393071285349,4526.371049263327,4514.3490272413055,4502.327005219283,4490.304983197261,4478.2829611752395,4466.260939153217,4454.238917131195,4442.2168951091735,4430.194873087151,4418.172851065129,4406.150829043107,4394.128807021085,4382.106784999063,4370.084762977041,4358.062740955019,4346.040718932997,4334.0186969109745,4321.996674888953,4309.974652866931,4297.9526308449085,4285.930608822887,4273.908586800865,4261.8865647788425,4249.864542756821,4237.842520734799,4225.8204987127765,4213.798476690755,4201.776454668732,4189.7544326467105,4177.732410624689,4165.710388602666,4153.6883665806445,4141.666344558623,4129.6443225366,4117.6223005145785,4105.600278492557,4093.578256470534,4081.5562344485124,4069.5342124264907,4057.512190404468,4045.4901683824464,4033.4681463604247,4021.446124338402,4009.4241023163804,3997.4020802943587,3985.380058272336,3973.3580362503144,3961.336014228292,3949.31399220627,3937.2919701842484,3925.269948162226,3913.247926140204,3901.2259041181824,3889.2038820961598,3877.181860074138,3865.1598380521164,3853.1378160300937,3841.115794008072,3829.0937719860503,3817.0717499640277,3805.049727942006,3793.0277059199843,3781.0056838979626,3768.983661875939,3756.9616398539174,3744.9396178318957,3732.917595809874,3720.8955737878523,3708.8735517658306,3696.851529743807,3684.8295077217854,3672.8074856997637,3660.785463677742,3648.7634416557203,3636.7414196336968,3624.719397611675,3612.6973755896533,3600.6753535676316,3588.65333154561,3576.6313095235882,3564.6092875015647,3552.587265479543,3540.5652434575213,3528.5432214354996,3516.521199413478,3504.499177391456,3492.4771553694327,3480.455133347411,3468.4331113253893,3456.4110893033676,3444.389067281346,3432.3670452593224,3420.3450232373007,3408.323001215279,3396.3009791932573,3384.2789571712356,3372.256935149214,3360.2349131271903,3348.2128911051686,3336.190869083147,3324.1688470611252,3312.1468250391035,3300.124803017082,3288.1027809950583,3276.0807589730366,3264.058736951015,3252.036714928993,3240.0146929069715,3227.99267088495,3215.9706488629263,3203.9486268409046,3191.926604818883,3179.904582796861,3167.8825607748395,3155.860538752816,3143.8385167307943,3131.8164947087726,3119.794472686751,3107.772450664729,3095.7504286427074,3083.728406620684,3071.706384598662,3059.6843625766405,3047.662340554619,3035.640318532597,3023.6182965105754,3011.596274488552,2999.57425246653,2987.5522304445085,2975.530208422487,2963.508186400465,2951.4861643784416,2939.46414235642,2927.442120334398,2915.4200983123765,2903.3980762903548,2891.376054268333,2879.3540322463095,2867.332010224288,2855.309988202266,2843.2879661802444,2831.2659441582227,2819.243922136201,2807.2219001141775,2795.199878092156,2783.177856070134,2771.1558340481124,2759.1338120260907,2747.111790004067,2735.0897679820455,2723.067745960024,2711.045723938002,2699.0237019159804,2687.0016798939587,2674.979657871935,2662.9576358499135,2650.9356138278918,2638.91359180587,2626.8915697838484,2614.8695477618267,2602.847525739803,2590.8255037177814,2578.8034816957597,2566.781459673738,2554.7594376517163,2542.737415629693,2530.715393607671,2518.6933715856494,2506.6713495636277,2494.649327541606,2482.6273055195843,2470.605283497561,2458.583261475539,2446.5612394535174,2434.5392174314957,2422.517195409474,2410.4951733874523,2398.4731513654287,2386.451129343407,2374.4291073213853,2362.4070852993636,2350.385063277342,2338.3630412553184,2326.3410192332967,2314.318997211275,2302.2969751892533,2290.2749531672316,2278.25293114521,2266.2309091231864,2254.2088871011647,2242.186865079143,2230.1648430571213,2218.1428210350996,2206.120799013078,2194.0987769910544,2182.0767549690327,2170.054732947011,2158.0327109249893,2146.0106889029676,2133.988666880946,2121.9666448589223,2109.9446228369006,2097.922600814879,2085.9005787928572,2073.8785567708355,2061.856534748812,2049.8345127267903,2037.8124907047684,2025.7904686827467,2013.768446660725,2001.7464246387033,1989.7244026166798,1977.702380594658,1965.6803585726364,1953.6583365506146,1941.636314528593,1929.6142925065712,1917.5922704845477,1905.570248462526,1893.5482264405043,1881.5262044184826,1869.504182396461,1857.4821603744374,1845.4601383524157,1833.438116330394,1821.4160943083723,1809.3940722863506,1797.372050264329,1785.3500282423054,1773.3280062202837,1761.305984198262,1749.2839621762403,1737.2619401542186,1725.2399181321969,1713.2178961101733,1701.1958740881516,1689.17385206613,1677.1518300441082,1665.1298080220865,1653.107786000063,1641.0857639780413,1629.0637419560196,1617.041719933998,1605.0196979119762,1592.9976758899545,1580.975653867931,1568.9536318459093,1556.9316098238876,1544.9095878018659,1532.8875657798442,1520.8655437578225,1508.843521735799,1496.8214997137773,1484.7994776917556,1472.7774556697339,1460.7554336477122,1448.7334116256886,1436.711389603667,1424.6893675816452,1412.6673455596235,1400.6453235376018,1388.6233015155801,1376.6012794935566,1364.579257471535,1352.5572354495132,1340.5352134274915,1328.5131914054698,1316.491169383448,1304.4691473614246,1292.4471253394029,1280.4251033173812,1268.4030812953595,1256.3810592733378,1244.3590372513142,1232.3370152292925,1220.3149932072708,1208.2929711852491,1196.2709491632274,1184.2489271412057,1172.2269051191822,1160.2048830971605,1148.1828610751388,1136.1608390531171,1124.1388170310954,1112.1167950090737,1100.0947729870502,1088.0727509650285,1076.0507289430068,1064.028706920985,1052.0066848989634,1039.9846628769417,1027.9626408549182,1015.9406188328965,1003.9185968108748,991.8965747888531,979.8745527668314,967.8525307448078,955.8305087227861,943.8084867007644,931.7864646787427,919.764442656721,907.7424206346993,895.7203986126758,883.6983765906541,871.6763545686324,859.6543325466107,847.632310524589,835.6102885025673,823.5882664805438,811.5662444585221,799.5442224365004,787.5222004144787,775.500178392457,763.4781563704335,751.4561343484118,739.43411232639,727.4120903043683,715.3900682823466,703.368046260325,691.3460242383014,679.3240022162797,667.301980194258,655.2799581722363,643.2579361502146,631.2359141281929,619.2138921061694,607.1918700841477,595.169848062126,583.1478260401043,571.1258040180826,559.1037819960591,547.0817599740374,535.0597379520157,523.037715929994,511.01569390797226,498.99367188595056,486.97164986392704,474.94962784190534,462.92760581988364,450.90558379786194,438.88356177584023,426.86153975381853,414.839517731795,402.8174957097733,390.7954736877516,378.7734516657299,366.7514296437082,354.7294076216847,342.707385599663,330.6853635776413,318.6633415556196,306.6413195335979,294.6192975115762,282.59727548955266,270.57525346753096,258.55323144550925,246.53120942348755,234.50918740146585,222.48716537944415,210.46514335742063,198.44312133539893,186.42109931337723,174.39907729135552,162.37705526933382,150.35503324731212,138.3330112252886,126.3109892032669,114.2889671812452,102.2669451592235,90.2449231372018,78.22290111517827,66.20087909315657,54.17885707113487,42.15683504911317,30.134813027091468,18.112791005069766,6.090768983046246],\"y\":[41.81466124137728,41.847734731168885,41.88086755947481,41.91405989240381,41.94731189669696,41.980623739730675,42.01399558951977,42.047427614720576,42.080919984633994,42.11447286920864,42.14808643904397,42.181760865393436,42.21549632016766,42.249292975937614,42.283151005937846,42.3170705840697,42.351051884904535,42.38509508368707,42.41920035633856,42.4533678794602,42.487597830336405,42.521890386938125,42.55624572792627,42.590664032655056,42.625145481175416,42.659690254238434,42.69429853329877,42.728970500518145,42.763706338768806,42.79850623163706,42.833370363426766,42.86829891916293,42.90329208459523,42.938350046201606,42.97347299119193,43.00866110751158,43.04391458384512,43.07923360961998,43.11461837501015,43.1500690709399,43.18558588908753,43.221169021889146,43.25681866254243,43.29253500501048,43.32831824402562,43.36416857509326,43.40008619449582,43.43607129929658,43.472124087343666,43.50824475727394,43.544433508517045,43.58069054129936,43.61701605664805,43.65341025639512,43.68987334318146,43.726405520461014,43.763006992504835,43.79967796440525,43.8364186420801,43.87322923227685,43.910109942576916,43.947060981399815,43.98408255800756,44.02117488250886,44.05833816586354,44.09557261988685,44.132878457253895,44.170255891503984,44.20770513704517,44.245226409158626,44.28281992400321,44.320485898619985,44.358224550936725,44.39603609977253,44.433920764842476,44.471878766762195,44.50991032705257,44.54801566814446,44.58619501338337,44.624448587034266,44.66277661428636,44.70117932125786,44.73965693500094,44.778209683506496,44.81683779570915,44.85554150149213,44.89432103169227,44.933176618105044,44.97210849348954,45.01111689157357,45.050202047058775,45.08936419562573,45.12860357393913,45.167920419653,45.20731497141589,45.246787468876185,45.28633815268737,45.32596726451339,45.365675047033996,45.40546174395016,45.44532759998952,45.48527286091182,45.525297773514474,45.56540258563803,45.60558754617185,45.645852905059606,45.68619891330506,45.72662582297764,45.76713388721822,45.8077233602449,45.848394497358754,45.889147554949716,45.9299827905024,45.97090046260209,46.01190083094062,46.05298415632241,46.09415070067048,46.13540072703254,46.17673449958706,46.21815228364946,46.25965434567828,46.30124095328141,46.342912375222404,46.384668881426734,46.42651074298817,46.468438232175195,46.510451622437444,46.552551188412146,46.594737205930706,46.637009952025245,46.679369704935205,46.72181674411403,46.76435135023586,46.806973805202276,46.8496843921491,46.89248339545319,46.93537110073939,46.97834779488743,47.02141376603888,47.06456930360421,47.107814698269834,47.15115024200523,47.194576228070126,47.23809295102169,47.28170070672182,47.32539979234444,47.36919050638286,47.41307314865716,47.457048020321736,47.50111542387274,47.54527566315566,47.58952904337296,47.63387587109171,47.67831645425133,47.72285110217138,47.76748012555936,47.81220383651857,47.85702254855612,47.901936576590835,47.946946236961345,47.99205184743419,48.03725372721195,48.082552196941464,48.127947578722114,48.173440196114136,48.219030374147,48.264718439327886,48.31050471965013,48.356389544601825,48.40237324517443,48.44845615387146,48.49463860471719,48.5409209332655,48.58730347660872,48.63378657338655,48.680370563795066,48.72705578959573,48.77384259412457,48.820731322301306,48.86772232063861,48.91481593725143,48.96201252186633,49.00931242583096,49.056716002123586,49.1042236053626,49.151835591816216,49.19955231941219,49.24737414774754,49.29530143809846,49.34333455343024,49.391473858407196,49.43971971940282,49.48807250450985,49.536532583550496,49.58510032808676,49.63377611143075,49.6825603086551,49.73145329660356,49.78045545390145,49.82956716096644,49.87878880001924,49.92812075509435,49.977563412051076,50.02711715858442,50.07678238423612,50.12655948040586,50.17644884036239,50.22645085925491,50.27656593412437,50.32679446391499,50.37713684948576,50.42759349362209,50.478164801047555,50.52885117843565,50.57965303442169,50.6305707796148,50.681604826609984,50.73275559000025,50.78402348638889,50.83540893440178,50.886912354699845,50.93853416999154,50.9902748050455,51.0421346867032,51.094114243891795,51.14621390763702,51.198434111076146,51.2507752894711,51.30323788022165,51.35582232287868,51.408529059157594,51.4613585329518,51.514311190346305,51.567387479631385,51.6205878513164,51.67391275814372,51.727362655102674,51.78093799944373,51.83463925069263,51.88846687066483,51.94242132347983,51.996503075575774,52.05071259572413,52.10505035504443,52.15951682701914,52.21411248750868,52.26883781476655,52.323693289454546,52.37867939465809,52.43379661590175,52.489045441164755,52.54442636089675,52.5999398680336,52.65558645801337,52.711366628792355,52.76728088086131,52.82332971726178,52.87951364360252,52.93583316807612,52.992288801475674,53.048881057211645,53.105610451328836,53.16247750252348,53.21948273216052,53.27662666429094,53.3339098256693,53.391332745771415,53.448895956812066,53.50659999376304,53.56444539437113,53.62243269917634,53.680562451530356,53.738835197614904,53.79725148646051,53.85581186996529,53.91451690291387,53.97336714299652,54.032363150828445,54.0915054899691,54.15079472694186,54.210231431253725,54.26981617541517,54.329549534960215,54.38943208846668,54.44946441757644,54.509647107016114,54.569980744617645,54.630465921339244,54.691103231286384,54.75189327173308,54.8128366431432,54.873933949192086,54.935185796788254,54.99659279609534,55.0581555605542,55.1198747069051,55.18175085521034,55.24378462887673,55.30597665467858,55.368327562780586,55.430837986761105,55.49350856363559,55.5563399338801,55.6193327414552,55.68248763382989,55.74580526200582,55.80928628054165,55.87293134757768,55.93674112486069,56.00071627776889,56.06485747533715,56.1291653902825,56.193640699029686,56.25828408173711,56.323096222322874,56.388077808491104,56.45322953175848,56.51855208748097,56.584046174880804,56.64971249707371,56.71555176109635,56.781564677934014,56.84775196254842,56.914114333906056,56.98065251500639,57.04736723291061,57.11425921877047,57.18132920785746,57.2485779395921,57.31600615757367,57.38361460961003,57.451404047747836,57.51937522830289,57.58752891189085,57.65586586345816,57.72438685231327,57.793092652158116,57.86198404111987,57.931061801783024,58.00032672122162,58.06977959103193,58.13942120736531,58.20925237096141,58.27927388718159,58.34948656604271,58.41989122225124,58.490488675237565,58.56127974919067,58.63226527309314,58.70344608075644,58.77482301085652,58.84639690696973,58.91816861760908,58.990138996260804,59.06230890142125,59.134679196634096,59.20725075052795,59.28002443685424,59.35300113452542,59.42618172765359,59.499567105589485,59.57315816296162,59.64695579971612,59.720960921156596,59.79517443798456,59.86959726634021,59.944230327843464,60.01907454963549,60.09413086442061,60.16940021050853,60.244883531856885,60.32058177811449,60.39649590466457,60.47262687266869,60.548975649111,60.625543206842856,60.702330524627875,60.77933858718747,60.8565683852467,60.93402091558067,61.01169718106123,61.089598190704194,61.167724959717084,61.246078509547104,61.32465986792971,61.40347006893772,61.482510153030645,61.561781167104705,61.64128416454324,61.72102020526757,61.80099035578835,61.8811956892575,61.96163728552045,62.04231623116911,62.12323361959514,62.20439055104387,62.28578813266866,62.36742747858581,62.44930970993001,62.53143595491033,62.613807348866665,62.69642503432683,62.77929016106424,62.862403886155946,62.94576737404148,63.02938179658212,63.11324833312078,63.197368170542454,63.281742503335344,63.36637253365248,63.45125947137395,63.536404534169876,63.62180894756384,63.70747394499701,63.79340076789294,63.87959066572293,63.9660448960721,64.05276472470612,64.13975142563851,64.22700628119875,64.314530582101,64.40232562751343,64.49039272512842,64.57873319123334,64.66734835078206,64.75623953746717,64.84540809379298,64.93485537114927,65.02458272988565,65.1145915393869,65.20488317814876,65.2954590338549,65.38632050345427,65.47746899323953,65.56890591892613,65.6606327057323,65.75265078845969,65.84496161157514,65.93756662929296,66.03046730565823,66.12366511463108,66.21716154017152,66.31095807632543,66.40505622731143,66.49945750760838,66.5941634420442,66.6891755658853,66.784495424927,66.88012457558514,66.97606458498831,67.07231703107125,67.16888350266925,67.26576559961339,67.36296493282704,67.46048312442313,67.55832180780254,67.65648262775368,67.75496724055289,67.8537773140661,67.95291452785153,68.05238057326345,68.152177153557,68.25230598399443,68.35276879195203,68.45356731702866,68.55470331115514,68.656178538705,68.75799477660638,68.8601538144551,68.96265745462905,69.06550751240383,69.1687058160695,69.27225420704889,69.37615454001688,69.48040868302134,69.58501851760506,69.68998593892934,69.7953128558987,69.90100119128714,70.00705288186576,70.11346987853172,70.22025414643876,70.32740766512912,70.43493242866694,70.54283044577313,70.6511037399619,70.75975434967853,70.8687843284391,70.97819574497146,71.08799068335792,71.19817124317963,71.3087395396625,71.41969770382484,71.53104788262667,71.64279223912072,71.75493295260524,71.86747221877845,71.98041224989487,72.09375527492337,72.20750353970716,72.32165930712556,72.43622485725753,72.5512024875474,72.6665945129723,72.78240326621152,72.89863109781808,73.01528037639208,73.13235348875618,73.2498528401332,73.36778085432572,73.48613997389782,73.6049326603591,73.72416139435065,73.84382867583346,73.96393702427898,74.0844889788619,74.20548709865533,74.32693396282833,74.44883217084573,74.57118434267038,74.69399311896788,74.81726116131384,74.94099115240348,75.0651857962639,75.18984781846899,75.31497996635677,75.44058500924959,75.56666573867689,75.69322496860077,75.82026553564427,75.94779029932256,76.0758021422769,76.20430397051148,76.33329871363333,76.46278932509507,76.5927787824408,76.7232700875549,76.85426626691415,76.98577037184286,77.11778547877128,77.25031468949726,77.38336113145108,77.51692795796393,77.65101834853948,77.78563550912902,77.92078267241027,78.05646309806939,78.19268007308692,78.32943691202729,78.46673695733196,78.60458357961642,78.74298017797103,78.88193018026573,79.02143704345862,79.16150425390876,79.30213532769278,79.44333381092586,79.58510328008674,79.72744734234703,79.87036963590494,80.01387383032328,80.15796362687202,80.30264275887532,80.44791499206313,80.59378412492762,80.74025398908418,80.8873284496373,81.0350114055514,81.18330679002662,81.33221857087955,81.48175075092925,81.6319073683884,81.78269249725973,81.9341102477379,82.08616476661678,82.23886023770226,82.39220088223091,82.54619095929402,82.7008347662678,82.85613663924934,83.01210095349852,83.16873212388623,83.32603460534865,83.48401289334787,83.64267152433897,83.80201507624362,83.96204816893021,84.12277546470084,84.28420166878517,84.44633152984105,84.60916984046251,84.77272143769464,84.936991203556,85.1019840655685,85.26770499729457,85.43415901888228,85.60135119761827,85.7692866484884,85.93797053474681,86.10740806849289,86.27760451125675,86.44856517459341,86.62029542068517,86.79280066295313,86.96608636667762,87.14015804962762,87.31502128269942,87.49068169056498,87.66714495232948,87.84441680219882,88.02250303015714,88.20140948265423,88.3811420633033,88.56170673358923,88.74310951358738,88.92535648269332,89.10845378036345,89.2924076068669,89.47722422404892,89.66290995610568,89.84947119037102,90.0369143781153,90.22524603535634,90.41447274368282,90.60460115109065,90.7956379728319,90.98758999227707,91.18046406179081,91.37426710362125,91.56900611080296,91.76468814807455,91.96132035281033,92.15890993596658,92.35746418304318,92.55699045505996,92.75749618954895,92.95898890156222,93.16147618469586,93.36496571213034,93.56946523768774,93.77498259690562,93.98152570812866,94.18910257361777,94.39772128067708,94.60739000279952,94.81811700083107,95.02991062415377,95.24277931188868,95.45673159411817,95.67177609312856,95.88792152467353,96.10517669925817,96.32355052344474,96.54305200117997,96.76369023514474,96.98547442812651,97.2084138844147,97.43251801121967,97.65779632011599,97.88425842850994,98.11191406113213,98.34077305155569,98.57084534374063,98.80214099360428,99.03467017061948,99.26844315943988,99.50347036155372,99.73976229696639,99.97732960591222,100.21618305059637,100.45633351696739,100.69779201652072,100.94056968813443,101.18467779993725,101.43012775120987,101.6769310743202,101.92509943669324,102.1746446428163,102.42557863628026,102.67791350185783,102.93166146761921,103.18683490708656,103.44344634142742,103.70150844168838,103.96103403106969,104.22203608724188,104.48452774470486,104.74852229719085,105.01403320011217,105.28107407305434,105.54965870231592,105.81980104349604,106.09151522413067,106.36481554637834,106.63971648975736,106.9162327139345,107.1943790615671,107.47417056119956,107.7556224302152,108.03875007784553,108.32356910823697,108.61009532357754,108.89834472728415,109.18833352725227,109.48007813916884,109.77359518989098,110.06890152089073,110.36601419176814,110.66495048383416,110.96572790376496,111.26836418732903,111.57287730318943,111.87928545678238,112.18760709427413,112.49786090659818,112.81006583357453,113.12424106811316,113.44040606050356,113.75858052279227,114.0787844332511,114.4010380409376,114.72536187035021,115.05177672618099,115.3803036981673,115.71096416604564,116.04377980460993,116.37877258887683,116.71596479936053,117.05537902746057,117.39703818096422,117.74096548966749,118.08718451111716,118.43571913647706,118.7865935965216,119.13983246776029,119.49546067869588,119.85350351622023,120.21398663215115,120.5769360499135,120.94237817136957,121.31033978380093,121.68084806704714,122.0539306008046,122.4296153720903,122.80793078287434,123.18890565788648,123.57256925260049,123.95895126140155,124.3480818259419,124.73999154368923,125.13471147667316,125.53227316043628,125.93270861319344,126.33605034520662,126.742331368381,127.15158520608738,127.56384590321908,127.979148036488,128.3975267249679,128.81901764089105,129.24365702070608,129.67148167640386,130.10252900711959,130.53683701101875,130.9744442974749,131.4153900995484,131.859714286774,132.30745737826695,132.75866055615683,133.21336567935847,133.6716152976901,134.13345266634929,134.59892176075664,135.06806729177953,135.54093472134576,136.01757027846003,136.49802097563511,136.9823346257504,137.47055985935066,137.96274614239917,138.45894379449877,138.95920400759516,139.46357886517836,139.97212136199707,140.4848854243022,141.00192593063753,141.5232987331925,142.04906067973758,142.57926963615944,143.11398450961516,143.65326527232708,144.19717298603697,144.74576982714288,145.29911911253993,145.8572853261893,146.42033414643822,146.9883324741179,147.56134846144354,148.13945154174448,148.7227124600527,149.31120330457819,149.90499753910194,150.5041700363185,151.10879711215964,151.71895656113455,152.3347276927213,152.95619136884605,153.58343004248997,154.2165277974618,154.85557038937876,155.50064528789895,156.15184172025025,156.8092507161019,157.47296515382953,158.14307980822218,158.81969139968598,159.5028986449995,160.19280230967837,160.88950526200844,161.5931125288129,162.30373135301514,163.02147125306885,163.7464440843248,164.47876410240988,165.21854802869493,165.96591511793474,166.72098722816247,167.48388889292923,168.25474739598093,169.03369284846858,169.82085826879566,170.61637966520595,171.42039612122505,172.23304988407065,173.0544864561541,173.88485468979945,174.72430688531583,175.57299889256052,176.4310902161411,177.29874412440998,178.17612776241296,179.0634122689597,179.9607728979967,180.86838914446562,181.7864448748453,182.71512846258238,183.6546329286255,184.605156087293,185.56690069770963,186.54007462106526,187.52489098395964,188.52156834811103,189.53033088672072,190.55140856780392,191.58503734480882,192.6314593548684,193.69092312504466,194.76368378694653,195.85000330012167,196.95015068464852,198.0644022633722,199.19304191426016,200.33636133337507,201.49466030899237,202.6682470074227,203.85743827112668,205.06255992974857,206.28394712473008,207.52194464820445,208.77690729691275,210.04920024193171,211.33919941504445,212.64729191264175,213.97387641809422,215.31936364359245,216.68417679251615,218.0687520434622,219.47353905712734,220.8990015073241,222.34561763748832,223.81388084412347,225.30430028872757,226.8174015398421,228.35372724698107,229.9138378483101,231.49831231407626,233.10774892792364,234.74276610838209,236.40400327296933,238.09212174752466,239.8078057235756,241.55176326674004,243.32472737938372,245.12745712099056,246.96073878995298,248.82538717077114,250.7222468509473,252.6521936121847,254.61613590086174,256.6150163831243,258.64981359036926,260.72154366134174,262.83126218756604,264.98006616937204,267.16909609037475,269.3995381189028,271.6726264455872,273.9896457670927,276.3519339268234,278.7608847243623,281.217950906438,283.7246473533175,286.28255447577953,288.89332183917264,291.5586720325697,294.28040480268595,297.06040147406634,299.90062967906437,302.80314842339135,305.77011351550084,308.80378339083575,311.9065253650527,315.08082235374144,318.3292800999941,321.65463495542514,325.05976226501025,328.54768541143784,332.12158558065266,335.7848123169634,339.5408949436454,343.39355493345846,347.34671932308714,351.40453527633707,355.57138591319716,359.8519075357549,364.2510083977726,368.77388918269406,373.42606537535386,378.21339173610016,383.1420891128424,388.2187738573366,393.45049014740334,398.8447455575729,404.4095502677755,410.153460354292,416.08562567051587,422.21584289885845,428.5546144411922,435.1132139159658,441.9037591483554,448.939293679016,456.2338779813155,463.8026917716604,471.6621490289189,479.83002761495175,488.3256157186864,497.1698777431218,506.3856427335839,515.997819025589,526.0336394962999,536.522942665757,547.4984959526155,558.996368694971,571.0563641663917,583.7225218364941,597.0437036575253,611.0742813527921,625.8749457383092,641.5136642922927,658.0668198591018,675.620572026902,694.2724940297326,714.1335529376884,735.3305207385894,758.0089305648377,782.3367284895382,808.5088209549888,836.7527868372672,867.336120139386,900.5755076686704,936.8488464539822,976.6110007404678,1020.4147408207167,1068.9389826001104,1123.0275046135705,1183.743013774306,1252.4442207561488,1330.8983213749157,1421.4496038512693,1527.2801275032846,1652.8275862062796,1804.484456300105,1991.8297651048856,2229.9416270774977,2544.101933576183,2980.4290982224466,3633.649135376702,4737.002773721697,7081.537107327891,16748.540967414792],\"type\":\"scatter\"}],                        {\"template\":{\"data\":{\"histogram2dcontour\":[{\"type\":\"histogram2dcontour\",\"colorbar\":{\"outlinewidth\":0,\"ticks\":\"\"},\"colorscale\":[[0.0,\"#0d0887\"],[0.1111111111111111,\"#46039f\"],[0.2222222222222222,\"#7201a8\"],[0.3333333333333333,\"#9c179e\"],[0.4444444444444444,\"#bd3786\"],[0.5555555555555556,\"#d8576b\"],[0.6666666666666666,\"#ed7953\"],[0.7777777777777778,\"#fb9f3a\"],[0.8888888888888888,\"#fdca26\"],[1.0,\"#f0f921\"]]}],\"choropleth\":[{\"type\":\"choropleth\",\"colorbar\":{\"outlinewidth\":0,\"ticks\":\"\"}}],\"histogram2d\":[{\"type\":\"histogram2d\",\"colorbar\":{\"outlinewidth\":0,\"ticks\":\"\"},\"colorscale\":[[0.0,\"#0d0887\"],[0.1111111111111111,\"#46039f\"],[0.2222222222222222,\"#7201a8\"],[0.3333333333333333,\"#9c179e\"],[0.4444444444444444,\"#bd3786\"],[0.5555555555555556,\"#d8576b\"],[0.6666666666666666,\"#ed7953\"],[0.7777777777777778,\"#fb9f3a\"],[0.8888888888888888,\"#fdca26\"],[1.0,\"#f0f921\"]]}],\"heatmap\":[{\"type\":\"heatmap\",\"colorbar\":{\"outlinewidth\":0,\"ticks\":\"\"},\"colorscale\":[[0.0,\"#0d0887\"],[0.1111111111111111,\"#46039f\"],[0.2222222222222222,\"#7201a8\"],[0.3333333333333333,\"#9c179e\"],[0.4444444444444444,\"#bd3786\"],[0.5555555555555556,\"#d8576b\"],[0.6666666666666666,\"#ed7953\"],[0.7777777777777778,\"#fb9f3a\"],[0.8888888888888888,\"#fdca26\"],[1.0,\"#f0f921\"]]}],\"heatmapgl\":[{\"type\":\"heatmapgl\",\"colorbar\":{\"outlinewidth\":0,\"ticks\":\"\"},\"colorscale\":[[0.0,\"#0d0887\"],[0.1111111111111111,\"#46039f\"],[0.2222222222222222,\"#7201a8\"],[0.3333333333333333,\"#9c179e\"],[0.4444444444444444,\"#bd3786\"],[0.5555555555555556,\"#d8576b\"],[0.6666666666666666,\"#ed7953\"],[0.7777777777777778,\"#fb9f3a\"],[0.8888888888888888,\"#fdca26\"],[1.0,\"#f0f921\"]]}],\"contourcarpet\":[{\"type\":\"contourcarpet\",\"colorbar\":{\"outlinewidth\":0,\"ticks\":\"\"}}],\"contour\":[{\"type\":\"contour\",\"colorbar\":{\"outlinewidth\":0,\"ticks\":\"\"},\"colorscale\":[[0.0,\"#0d0887\"],[0.1111111111111111,\"#46039f\"],[0.2222222222222222,\"#7201a8\"],[0.3333333333333333,\"#9c179e\"],[0.4444444444444444,\"#bd3786\"],[0.5555555555555556,\"#d8576b\"],[0.6666666666666666,\"#ed7953\"],[0.7777777777777778,\"#fb9f3a\"],[0.8888888888888888,\"#fdca26\"],[1.0,\"#f0f921\"]]}],\"surface\":[{\"type\":\"surface\",\"colorbar\":{\"outlinewidth\":0,\"ticks\":\"\"},\"colorscale\":[[0.0,\"#0d0887\"],[0.1111111111111111,\"#46039f\"],[0.2222222222222222,\"#7201a8\"],[0.3333333333333333,\"#9c179e\"],[0.4444444444444444,\"#bd3786\"],[0.5555555555555556,\"#d8576b\"],[0.6666666666666666,\"#ed7953\"],[0.7777777777777778,\"#fb9f3a\"],[0.8888888888888888,\"#fdca26\"],[1.0,\"#f0f921\"]]}],\"mesh3d\":[{\"type\":\"mesh3d\",\"colorbar\":{\"outlinewidth\":0,\"ticks\":\"\"}}],\"scatter\":[{\"fillpattern\":{\"fillmode\":\"overlay\",\"size\":10,\"solidity\":0.2},\"type\":\"scatter\"}],\"parcoords\":[{\"type\":\"parcoords\",\"line\":{\"colorbar\":{\"outlinewidth\":0,\"ticks\":\"\"}}}],\"scatterpolargl\":[{\"type\":\"scatterpolargl\",\"marker\":{\"colorbar\":{\"outlinewidth\":0,\"ticks\":\"\"}}}],\"bar\":[{\"error_x\":{\"color\":\"#2a3f5f\"},\"error_y\":{\"color\":\"#2a3f5f\"},\"marker\":{\"line\":{\"color\":\"#E5ECF6\",\"width\":0.5},\"pattern\":{\"fillmode\":\"overlay\",\"size\":10,\"solidity\":0.2}},\"type\":\"bar\"}],\"scattergeo\":[{\"type\":\"scattergeo\",\"marker\":{\"colorbar\":{\"outlinewidth\":0,\"ticks\":\"\"}}}],\"scatterpolar\":[{\"type\":\"scatterpolar\",\"marker\":{\"colorbar\":{\"outlinewidth\":0,\"ticks\":\"\"}}}],\"histogram\":[{\"marker\":{\"pattern\":{\"fillmode\":\"overlay\",\"size\":10,\"solidity\":0.2}},\"type\":\"histogram\"}],\"scattergl\":[{\"type\":\"scattergl\",\"marker\":{\"colorbar\":{\"outlinewidth\":0,\"ticks\":\"\"}}}],\"scatter3d\":[{\"type\":\"scatter3d\",\"line\":{\"colorbar\":{\"outlinewidth\":0,\"ticks\":\"\"}},\"marker\":{\"colorbar\":{\"outlinewidth\":0,\"ticks\":\"\"}}}],\"scattermapbox\":[{\"type\":\"scattermapbox\",\"marker\":{\"colorbar\":{\"outlinewidth\":0,\"ticks\":\"\"}}}],\"scatterternary\":[{\"type\":\"scatterternary\",\"marker\":{\"colorbar\":{\"outlinewidth\":0,\"ticks\":\"\"}}}],\"scattercarpet\":[{\"type\":\"scattercarpet\",\"marker\":{\"colorbar\":{\"outlinewidth\":0,\"ticks\":\"\"}}}],\"carpet\":[{\"aaxis\":{\"endlinecolor\":\"#2a3f5f\",\"gridcolor\":\"white\",\"linecolor\":\"white\",\"minorgridcolor\":\"white\",\"startlinecolor\":\"#2a3f5f\"},\"baxis\":{\"endlinecolor\":\"#2a3f5f\",\"gridcolor\":\"white\",\"linecolor\":\"white\",\"minorgridcolor\":\"white\",\"startlinecolor\":\"#2a3f5f\"},\"type\":\"carpet\"}],\"table\":[{\"cells\":{\"fill\":{\"color\":\"#EBF0F8\"},\"line\":{\"color\":\"white\"}},\"header\":{\"fill\":{\"color\":\"#C8D4E3\"},\"line\":{\"color\":\"white\"}},\"type\":\"table\"}],\"barpolar\":[{\"marker\":{\"line\":{\"color\":\"#E5ECF6\",\"width\":0.5},\"pattern\":{\"fillmode\":\"overlay\",\"size\":10,\"solidity\":0.2}},\"type\":\"barpolar\"}],\"pie\":[{\"automargin\":true,\"type\":\"pie\"}]},\"layout\":{\"autotypenumbers\":\"strict\",\"colorway\":[\"#636efa\",\"#EF553B\",\"#00cc96\",\"#ab63fa\",\"#FFA15A\",\"#19d3f3\",\"#FF6692\",\"#B6E880\",\"#FF97FF\",\"#FECB52\"],\"font\":{\"color\":\"#2a3f5f\"},\"hovermode\":\"closest\",\"hoverlabel\":{\"align\":\"left\"},\"paper_bgcolor\":\"white\",\"plot_bgcolor\":\"#E5ECF6\",\"polar\":{\"bgcolor\":\"#E5ECF6\",\"angularaxis\":{\"gridcolor\":\"white\",\"linecolor\":\"white\",\"ticks\":\"\"},\"radialaxis\":{\"gridcolor\":\"white\",\"linecolor\":\"white\",\"ticks\":\"\"}},\"ternary\":{\"bgcolor\":\"#E5ECF6\",\"aaxis\":{\"gridcolor\":\"white\",\"linecolor\":\"white\",\"ticks\":\"\"},\"baxis\":{\"gridcolor\":\"white\",\"linecolor\":\"white\",\"ticks\":\"\"},\"caxis\":{\"gridcolor\":\"white\",\"linecolor\":\"white\",\"ticks\":\"\"}},\"coloraxis\":{\"colorbar\":{\"outlinewidth\":0,\"ticks\":\"\"}},\"colorscale\":{\"sequential\":[[0.0,\"#0d0887\"],[0.1111111111111111,\"#46039f\"],[0.2222222222222222,\"#7201a8\"],[0.3333333333333333,\"#9c179e\"],[0.4444444444444444,\"#bd3786\"],[0.5555555555555556,\"#d8576b\"],[0.6666666666666666,\"#ed7953\"],[0.7777777777777778,\"#fb9f3a\"],[0.8888888888888888,\"#fdca26\"],[1.0,\"#f0f921\"]],\"sequentialminus\":[[0.0,\"#0d0887\"],[0.1111111111111111,\"#46039f\"],[0.2222222222222222,\"#7201a8\"],[0.3333333333333333,\"#9c179e\"],[0.4444444444444444,\"#bd3786\"],[0.5555555555555556,\"#d8576b\"],[0.6666666666666666,\"#ed7953\"],[0.7777777777777778,\"#fb9f3a\"],[0.8888888888888888,\"#fdca26\"],[1.0,\"#f0f921\"]],\"diverging\":[[0,\"#8e0152\"],[0.1,\"#c51b7d\"],[0.2,\"#de77ae\"],[0.3,\"#f1b6da\"],[0.4,\"#fde0ef\"],[0.5,\"#f7f7f7\"],[0.6,\"#e6f5d0\"],[0.7,\"#b8e186\"],[0.8,\"#7fbc41\"],[0.9,\"#4d9221\"],[1,\"#276419\"]]},\"xaxis\":{\"gridcolor\":\"white\",\"linecolor\":\"white\",\"ticks\":\"\",\"title\":{\"standoff\":15},\"zerolinecolor\":\"white\",\"automargin\":true,\"zerolinewidth\":2},\"yaxis\":{\"gridcolor\":\"white\",\"linecolor\":\"white\",\"ticks\":\"\",\"title\":{\"standoff\":15},\"zerolinecolor\":\"white\",\"automargin\":true,\"zerolinewidth\":2},\"scene\":{\"xaxis\":{\"backgroundcolor\":\"#E5ECF6\",\"gridcolor\":\"white\",\"linecolor\":\"white\",\"showbackground\":true,\"ticks\":\"\",\"zerolinecolor\":\"white\",\"gridwidth\":2},\"yaxis\":{\"backgroundcolor\":\"#E5ECF6\",\"gridcolor\":\"white\",\"linecolor\":\"white\",\"showbackground\":true,\"ticks\":\"\",\"zerolinecolor\":\"white\",\"gridwidth\":2},\"zaxis\":{\"backgroundcolor\":\"#E5ECF6\",\"gridcolor\":\"white\",\"linecolor\":\"white\",\"showbackground\":true,\"ticks\":\"\",\"zerolinecolor\":\"white\",\"gridwidth\":2}},\"shapedefaults\":{\"line\":{\"color\":\"#2a3f5f\"}},\"annotationdefaults\":{\"arrowcolor\":\"#2a3f5f\",\"arrowhead\":0,\"arrowwidth\":1},\"geo\":{\"bgcolor\":\"white\",\"landcolor\":\"#E5ECF6\",\"subunitcolor\":\"white\",\"showland\":true,\"showlakes\":true,\"lakecolor\":\"white\"},\"title\":{\"x\":0.05},\"mapbox\":{\"style\":\"light\"}}},\"xaxis\":{\"type\":\"log\",\"tickvals\":[1,10,100,1000,10000],\"ticktext\":[\"2015\",\"2006\",\"1916\",\"1016\",\"-7984\"],\"title\":{\"text\":\"Year\"}},\"yaxis\":{\"type\":\"log\",\"title\":{\"text\":\"Population (millions)\"}},\"legend\":{\"x\":0.7,\"y\":0.9},\"title\":{\"text\":\"World Population Over Time (Power Law Fit)\"},\"hovermode\":\"closest\"},                        {\"responsive\": true}                    ).then(function(){\n",
       "                            \n",
       "var gd = document.getElementById('0d39c7f3-f04d-4af2-8960-24486089c2f6');\n",
       "var x = new MutationObserver(function (mutations, observer) {{\n",
       "        var display = window.getComputedStyle(gd).display;\n",
       "        if (!display || display === 'none') {{\n",
       "            console.log([gd, 'removed!']);\n",
       "            Plotly.purge(gd);\n",
       "            observer.disconnect();\n",
       "        }}\n",
       "}});\n",
       "\n",
       "// Listen for the removal of the full notebook cells\n",
       "var notebookContainer = gd.closest('#notebook-container');\n",
       "if (notebookContainer) {{\n",
       "    x.observe(notebookContainer, {childList: true});\n",
       "}}\n",
       "\n",
       "// Listen for the clearing of the current output cell\n",
       "var outputEl = gd.closest('.output');\n",
       "if (outputEl) {{\n",
       "    x.observe(outputEl, {childList: true});\n",
       "}}\n",
       "\n",
       "                        })                };                });            </script>        </div>"
      ]
     },
     "metadata": {},
     "output_type": "display_data"
    }
   ],
   "source": [
    "xticks_list = [-1, -10, -100, -1000, -10000]\n",
    "fig = go.Figure()\n",
    "\n",
    "t_infty = t_infty_fit\n",
    "# Add a scatter trace with custom hover text\n",
    "fig.add_trace(go.Scatter(\n",
    "    x=t_infty - years_full,\n",
    "    y=populations_full,\n",
    "    mode='markers',\n",
    "    name='Data',\n",
    "    hoverinfo='text',  # Show only custom hover text\n",
    "    text=[f'Year: {year}, Population: {pop:.0f}' for (year, pop) in zip(years_full, populations_full)]\n",
    "))\n",
    "\n",
    "# Add the fitted power law curve\n",
    "fig.add_trace(go.Scatter(x=(t_infty - t_values), y=(p_values), mode='lines', name='Fitted Power Law Curve', line=dict(color='red')))\n",
    "\n",
    "fig.update_xaxes(type='log', tickvals=[-t for t in xticks_list], ticktext=[f'{t_infty + t:.0f}' for t in xticks_list], title='Year')\n",
    "fig.update_yaxes(type='log', title='Population (millions)')\n",
    "fig.update_layout(title='World Population Over Time (Power Law Fit)', legend=dict(x=0.7, y=0.9), hovermode='closest')\n",
    "\n",
    "fig.show()"
   ]
  },
  {
   "cell_type": "markdown",
   "id": "d102580c-5ea3-44d3-9e25-0531abbe764a",
   "metadata": {
    "user_expressions": [
     {
      "expression": "f\"{a_fit:.2f}\"",
      "result": {
       "data": {
        "text/plain": "'0.79'"
       },
       "metadata": {},
       "status": "ok"
      }
     },
     {
      "expression": "f\"{t_infty_fit:.0f}\"",
      "result": {
       "data": {
        "text/plain": "'2016'"
       },
       "metadata": {},
       "status": "ok"
      }
     },
     {
      "expression": "f\"{C_fit:.0f}\"",
      "result": {
       "data": {
        "text/plain": "'69784'"
       },
       "metadata": {},
       "status": "ok"
      }
     },
     {
      "expression": "f\"{t_infty_fit:.0f}\"",
      "result": {
       "data": {
        "text/plain": "'2016'"
       },
       "metadata": {},
       "status": "ok"
      }
     },
     {
      "expression": "f\"{max(population_growth_rates/100):.1%}\"",
      "result": {
       "data": {
        "text/plain": "'2.2%'"
       },
       "metadata": {},
       "status": "ok"
      }
     },
     {
      "expression": "f\"{population_growth_years[np.argmax(population_growth_rates)]:.0f}\"",
      "result": {
       "data": {
        "text/plain": "'1964'"
       },
       "metadata": {},
       "status": "ok"
      }
     },
     {
      "expression": "f\"{t_infty_fit - a_fit/.02:.0f}\"",
      "result": {
       "data": {
        "text/plain": "'1977'"
       },
       "metadata": {},
       "status": "ok"
      }
     }
    ]
   },
   "source": [
    "## How to think about population like a physicist\n",
    "\n",
    "The population history during the past 12000 years has three important regimes:\n",
    "* During the years $\\in [-10000, -1000]$, the population growth had a high power law growth.\n",
    "* During the years $\\in [-1000, 1980]$, the population had a lower power law growth.\n",
    "* Sometime around 1970 -- 1990, the population growth has stopped following a power law.\n",
    "\n",
    "The second regime, of low power-law growth can be well-fitted to a power law of form\n",
    "\n",
    "$$p(t) = \\frac{C}{(t_\\infty - t)^a}$$\n",
    "\n",
    "with $a \\approx$ {eval}`f\"{a_fit:.2f}\"`, $t_\\infty \\approx$ {eval}`f\"{t_infty_fit:.0f}\"` (year), and $C \\approx$ {eval}`f\"{C_fit:.0f}\"` (million). This then implies the population growth rate is \n",
    "\n",
    "$$\\frac{\\dot p}{p} = \\frac{d}{dt} \\ln p = \\frac{a}{t_\\infty - t} \\propto p^{1/a}$$\n",
    "\n",
    "The fact that $\\frac{\\dot p}{p} \\propto p^{1/0.8}$ over a period of about 3000 years is something remarkable: Unlike in a Malthusian economy, where population growth rate is something like $\\frac{\\dot p}{p} \\propto (p - p_{stable})$, the more the population grows, the faster it grows... until it doesn't.\n",
    "\n",
    "Why did it grow faster and faster, and why did it stop?\n",
    "\n",
    "Why did it grow faster and faster? This is the question that launched a thousand macroeconomics papers.\n",
    "\n",
    "Why did it stop? Suuppose it kept growing like that, then the population would literally reach infinity at year {eval}`f\"{t_infty_fit:.0f}\"`. What are we supposed to make of that? The answer is pretty obvious, of course -- people simply cannot reproduce fast enough. The population growth rate hit an all-time high of {eval}`f\"{max(population_growth_rates/100):.1%}\"` in year {eval}`f\"{population_growth_years[np.argmax(population_growth_rates)]:.0f}\"`.\n",
    "\n",
    "This then predicts that the model would break down when $\\dot p/p \\approx 0.02$, giving us the theoretical time when the model must break down:\n",
    "\n",
    "$$t_\\infty - \\frac{a}{0.02}$$\n",
    "\n",
    "which happens in year {eval}`f\"{t_infty_fit - a_fit/.02:.0f}\"`."
   ]
  },
  {
   "cell_type": "markdown",
   "id": "5cf4bfdd-5a05-4acf-b757-c6be1d041100",
   "metadata": {
    "user_expressions": [
     {
      "expression": "f\"{max(population_growth_rates/100):.1%}\"",
      "result": {
       "data": {
        "text/plain": "'2.2%'"
       },
       "metadata": {},
       "status": "ok"
      }
     },
     {
      "expression": "f\"{population_growth_years[np.argmax(population_growth_rates)]:.0f}\"",
      "result": {
       "data": {
        "text/plain": "'1964'"
       },
       "metadata": {},
       "status": "ok"
      }
     }
    ]
   },
   "source": [
    "### Toy model of population growth\n",
    "\n",
    "Consider a toy model of population, as follows. As usual we ignore all factors that change the answer by no more than 50%. The model is supposed to be a quick model for a relatively healthy population practicing some mild form of birth control. A good mental picture would be some land, around 1900, where people are fairly well-fed, and mostly die after their fertile age is over (after 50), interested in reproduction, but not totally devoted to it. This should give us a good guess to the *upper bound* of population growth rate without serious reproductive technologies like artificial uterus, greatly compressed pregnancy and infancy, or other similar methods.\n",
    "\n",
    "* The population has exactly 1:1 sex ratio. That is, $1/2$ of the population are female. In reality, human population ratio deviates from this by up to 10%, especially when there is sex-selective abortion and infanticide.\n",
    "* Each pregnancy lasts 9 months. Pregnancies rarely last longer than 10 months, and earlier than 7 months is dangerously early.\n",
    "* Women become fertile around 20 years old, and stops around 35 years old.\n",
    "    * As populations get richer, the fertility window shifts up -- women reproduce older, but also stop reproducing older. Poor populations tend to have a fertility window of $[15, 30]$ while richer populations shift upwards to about $[25, 40]$. See figures such as [^1].\n",
    "    * Insert citation here.\n",
    "* it takes about 3 years for the mother to be become pregnant again. Then she does become pregnant.\n",
    "    * This is a more complex assumption. It is mainly based on some brief anthropology I read. They generally found that the grown children of one woman are usually spaced out by about 4 years. This could be explained by deliberate lactational amenorrhea. A mother performing occasional breastfeeding can suppress menstruation and thus pregnancy.\n",
    "    * Why do populations use this method of biological birth control? A human, being born early and helpless, takes about 2--3 years to become independent enough to not be a serious burden on its parents, and the parents know this. Consequently they try to space out the births so that they are not overwhelmed by parental work.\n",
    "    * Rich women can hire others to do their childrearing. If they mainly hire other fertile women, then this does not actually allow faster population growth, since while the rich women are free to have children faster, those hired women have children slower. Similar comments apply for surrogacy.\n",
    "    * Population growth can get faster if infertile humans (usually meaning men and old women) take up significant work. In this case, the inter-birth interval \n",
    "* Each successful birth produces one offspring. That is, we assume no twins, triples, etc. In reality, twin births account for about 3% of live births (triplets etc are so much rarer), which would change our number by about 7%.\n",
    "* The population has life expectancy of 60 years. Real populations have different kinds of life expectancies, of course, usually from 45--70.\n",
    "    * Some even go so far as to claim 25 years of life expectancy. However if we remove the massive infant mortality, the life expectancy usually improves to somewhere like 50.\n",
    "    * In populations expecting high infant mortality, prospective mothers actually try to become pregnant quickly, before the previous child has become old enough, so that after \"giving nature its due\", the surviving children are spaced 4 years apart on average. This then gets us back to the toy model again.\n",
    "\n",
    "### Predictions of the toy model\n",
    "\n",
    "Let's check the basic predictions of the model.\n",
    "\n",
    "* Total fertility rate: How many children does a woman have over lifetime?\n",
    "    * During a woman's life, the births are separated by about $4$ years, and the window of fertility is about $15$ years, giving us $15/4 = 3.75$ children.\n",
    "    * This corresponds well with the typical number of about 3--4 during periods of population expansion, such as 1950s Europe.\n",
    "* Population birth rate: How many newborns per person per year?\n",
    "    * During any given year, about $1/2$ of the population is female, and of those, about $15/60$ are fertile, and of those, about $1/4$ are ready to become pregnant (the others are busy being pregnant, or raising a baby).\n",
    "    * Thus, the birth rate is about $1/32 \\approx \\frac{30}{1000}$. This is close to the actual answer of 10--45 per thousand.\n",
    "* Population growth rate: What is $p(t+1)/p(t)-1$, where $p(t)$ is the population of year $t$?\n",
    "    * In a year, $1/32$ are born, and $1/60$ dies, giving us $1/32 - 1/60 \\approx 1.5\\%$. This is close to the actual historical maximum of {eval}`f\"{max(population_growth_rates/100):.1%}\"` in year {eval}`f\"{population_growth_years[np.argmax(population_growth_rates)]:.0f}\"`.\n",
    "\n",
    "\n",
    "[^1]: De Iaco, Sandra, and Sabrina Maggio. \"A dynamic model for age-specific fertility rates in Italy.\" Spatial Statistics 17 (2016): 105-120."
   ]
  },
  {
   "cell_type": "code",
   "execution_count": 69,
   "id": "03116a6d-c8ca-488d-b061-935238b8980b",
   "metadata": {},
   "outputs": [],
   "source": [
    "import ipywidgets as widgets\n",
    "\n",
    "# Create sliders\n",
    "lifeExpectancySlider = widgets.IntSlider(\n",
    "    min=45, max=90, step=1, value=60\n",
    ")\n",
    "startOfFertilitySlider = widgets.IntSlider(\n",
    "    min=14, max=22, step=1, value=20\n",
    ")\n",
    "endOfFertilitySlider = widgets.IntSlider(\n",
    "    min=35, max=45, step=1, value=20\n",
    ")\n",
    "endOfInfancySlider = widgets.IntSlider(\n",
    "    min=12, max=48, step=1, value=40\n",
    ")\n",
    "\n",
    "def maxReproductiveRate(lifeExpectancy, fertilityWindow, infancyLength):\n",
    "    interbirthInterval = (9 + infancyLength)/12\n",
    "    deathRate = 1/lifeExpectancy\n",
    "    fertileWomenRatio = (fertilityWindow / lifeExpectancy) * (1 / interbirthInterval)\n",
    "    return 0.5 * fertileWomenRatio - deathRate\n",
    "\n",
    "# Create labels to display the slider values\n",
    "lifeExpectancyLabel = widgets.Label(value=f'{lifeExpectancySlider.value}')\n",
    "startOfFertilityLabel = widgets.Label(value=f'{startOfFertilitySlider.value}')\n",
    "endOfFertilityLabel = widgets.Label(value=f'{endOfFertilitySlider.value}')\n",
    "endOfInfancyLabel = widgets.Label(value=f'{endOfInfancySlider.value}')\n",
    "maxReproductiveRateLabel = widgets.Label(value=\"\")\n",
    "endTimeLabel = widgets.Label(value=\"\")\n",
    "\n",
    "# Function to update labels when slider values change\n",
    "def update_labels(change):\n",
    "    lifeExpectancyLabel.value = f'{lifeExpectancySlider.value}'\n",
    "    startOfFertilityLabel.value = f'{startOfFertilitySlider.value}'\n",
    "    endOfFertilityLabel.value = f'{endOfFertilitySlider.value}'\n",
    "    endOfInfancyLabel.value = f'{endOfInfancySlider.value}'\n",
    "    r = maxReproductiveRate(lifeExpectancySlider.value, endOfFertilitySlider.value - startOfFertilitySlider.value, endOfInfancySlider.value)\n",
    "    maxReproductiveRateLabel.value = f'{r:.1%}'\n",
    "    endTimeLabel.value = f'{t_infty_fit - a_fit / r:.0f}'\n",
    "\n",
    "# Observe slider changes and update labels\n",
    "lifeExpectancySlider.observe(update_labels, 'value')\n",
    "startOfFertilitySlider.observe(update_labels, 'value')\n",
    "endOfFertilitySlider.observe(update_labels, 'value')\n",
    "endOfInfancySlider.observe(update_labels, 'value')\n"
   ]
  },
  {
   "cell_type": "markdown",
   "id": "e2ebb5b0-5bf5-41b0-9b2b-17f9e930f2ca",
   "metadata": {
    "user_expressions": [
     {
      "expression": "lifeExpectancySlider",
      "result": {
       "data": {
        "application/vnd.jupyter.widget-view+json": {
         "model_id": "b29c00206b454eb6b6e7a78ce500558f",
         "version_major": 2,
         "version_minor": 0
        },
        "text/plain": "IntSlider(value=60, max=90, min=45)"
       },
       "metadata": {},
       "status": "ok"
      }
     },
     {
      "expression": "startOfFertilitySlider",
      "result": {
       "data": {
        "application/vnd.jupyter.widget-view+json": {
         "model_id": "ad5bba99792f45c0899d663b5d3140ac",
         "version_major": 2,
         "version_minor": 0
        },
        "text/plain": "IntSlider(value=16, max=22, min=14)"
       },
       "metadata": {},
       "status": "ok"
      }
     },
     {
      "expression": "endOfFertilitySlider",
      "result": {
       "data": {
        "application/vnd.jupyter.widget-view+json": {
         "model_id": "0b3948c341704137b2a2f52bb69bb57e",
         "version_major": 2,
         "version_minor": 0
        },
        "text/plain": "IntSlider(value=40, max=45, min=35)"
       },
       "metadata": {},
       "status": "ok"
      }
     },
     {
      "expression": "endOfInfancySlider",
      "result": {
       "data": {
        "application/vnd.jupyter.widget-view+json": {
         "model_id": "92dcc7e2987d4b7ca277c1a599e0bf1c",
         "version_major": 2,
         "version_minor": 0
        },
        "text/plain": "IntSlider(value=30, max=48, min=12)"
       },
       "metadata": {},
       "status": "ok"
      }
     },
     {
      "expression": "maxReproductiveRateLabel",
      "result": {
       "data": {
        "application/vnd.jupyter.widget-view+json": {
         "model_id": "dbf527ae5f0245449a52c113e06e9fd7",
         "version_major": 2,
         "version_minor": 0
        },
        "text/plain": "Label(value='4.5%')"
       },
       "metadata": {},
       "status": "ok"
      }
     },
     {
      "expression": "endTimeLabel",
      "result": {
       "data": {
        "application/vnd.jupyter.widget-view+json": {
         "model_id": "7787a04dd4cc45a6a694de226f4d17ce",
         "version_major": 2,
         "version_minor": 0
        },
        "text/plain": "Label(value='1998')"
       },
       "metadata": {},
       "status": "ok"
      }
     }
    ]
   },
   "source": [
    ":::{important} Customize Life Parameters 📅\n",
    "- Life Expectancy: {eval}`lifeExpectancySlider` years\n",
    "- Start of Fertility: {eval}`startOfFertilitySlider` years\n",
    "- End of Fertility: {eval}`endOfFertilitySlider` years\n",
    "- End of Infancy: {eval}`endOfInfancySlider` months\n",
    "- Maximal reproductive rate: {eval}`maxReproductiveRateLabel`.\n",
    "- Time at which power law growth of population must end: year {eval}`endTimeLabel`\n",
    ":::\n"
   ]
  },
  {
   "cell_type": "markdown",
   "id": "649926e4-be3f-418f-a1a6-44e61110e866",
   "metadata": {},
   "source": [
    "## How does the GDP grow?\n",
    "\n",
    "The GDP isn't the best way to measure economic growth, but it's better than all alternatives. The GDP is, by definition, the population $\\times$ GDP per capita, thus, it suffices to get the two datasets, one on GDP per capita, another on population.\n",
    "\n",
    "Let import the GDP. I got the dataset from [Our World in Data](https://ourworldindata.org/grapher/world-gdp-over-the-last-two-millennia)."
   ]
  },
  {
   "cell_type": "code",
   "execution_count": 153,
   "id": "5cb6ddff-0d3f-4d45-8913-cd798234cbb6",
   "metadata": {},
   "outputs": [],
   "source": [
    "# df_gdp = pd.read_csv('gdppc_maddison.csv')\n",
    "# years_gdppc = df_gdp[(df_gdp['Entity'] == 'World')][\"Year\"]\n",
    "# gdppc = df_gdp[(df_gdp['Entity'] == 'World')][\"GDP per capita\"]\n",
    "# years_gdppc_growth_rate, gdppc_growth_rate = growth_rate(years_gdppc, gdppc)\n",
    "# plt.plot(years_gdppc, gdppc)\n",
    "# plt.plot(years_gdppc_growth_rate, gdppc_growth_rate)"
   ]
  },
  {
   "cell_type": "code",
   "execution_count": 148,
   "id": "c4d74e4d-1b7c-4976-98c0-0714c917cb05",
   "metadata": {},
   "outputs": [],
   "source": [
    "df_gdp = pd.read_csv('gdp.csv')\n",
    "years_gdp = df_gdp[(df_gdp['Entity'] == 'World')][\"Year\"]\n",
    "gdp = df_gdp[(df_gdp['Entity'] == 'World')][\"World GDP in 2011 Int.$ (OWID based on World Bank & Maddison (2017))\"]\n",
    "years_gdp_growth_rate, gdp_growth_rate = growth_rate(years_gdp, gdp)"
   ]
  },
  {
   "cell_type": "code",
   "execution_count": 149,
   "id": "067e89ef-da3a-4411-9fbe-2ed1958d71c5",
   "metadata": {},
   "outputs": [
    {
     "data": {
      "application/vnd.plotly.v1+json": {
       "config": {
        "plotlyServerURL": "https://plot.ly"
       },
       "data": [
        {
         "mode": "lines",
         "type": "scatter",
         "x": [
          1,
          1000,
          1500,
          1600,
          1700,
          1820,
          1870,
          1900,
          1913,
          1940,
          1950,
          1951,
          1952,
          1953,
          1954,
          1955,
          1956,
          1957,
          1958,
          1959,
          1960,
          1961,
          1962,
          1963,
          1964,
          1965,
          1966,
          1967,
          1968,
          1969,
          1970,
          1971,
          1972,
          1973,
          1974,
          1975,
          1976,
          1977,
          1978,
          1979,
          1980,
          1981,
          1982,
          1983,
          1984,
          1985,
          1986,
          1987,
          1988,
          1989,
          1990,
          1991,
          1992,
          1993,
          1994,
          1995,
          1996,
          1997,
          1998,
          1999,
          2000,
          2001,
          2002,
          2003,
          2004,
          2005,
          2006,
          2007,
          2008,
          2009,
          2010,
          2011,
          2012,
          2013,
          2014,
          2015
         ],
         "y": [
          182741034741.65,
          210144734814.95,
          430527281152.93,
          574468657287.69,
          643322924319.9,
          1202360833069.54,
          1923917324845.12,
          3418753774525.97,
          4738675759005.73,
          7806368561993.03,
          9251063284511.66,
          9795630620603.08,
          10248695160030.2,
          10764850470285.1,
          11132816333836,
          11842436437898.3,
          12399315121992.9,
          12871201566887.8,
          13284511884217.4,
          13893343261790.1,
          14620430825834.1,
          15127545002954.9,
          15840374754695,
          16528823694955.4,
          17727426671105.3,
          18655619723574.3,
          19672778021487.3,
          20404807077047.6,
          21527596152530.8,
          22715480785232.6,
          23866740464570.2,
          24855936938791.1,
          26038225943803.4,
          27766317544846.9,
          28412736979320.4,
          28846052528336.2,
          30253175726898.8,
          31479913873331.4,
          32864033374977.2,
          34039054922029.2,
          34727063368722.9,
          35407765287204.7,
          35799147251979.6,
          36817346837588.6,
          38496721899135.5,
          39823610828513.1,
          41231971101065.6,
          42812896221874.7,
          44649649324231.3,
          46076842304123.1,
          47043800000000,
          47650900000000,
          48485100000000,
          49415500000000,
          50886600000000,
          52576600000000,
          54605200000000,
          56772100000000,
          58159500000000,
          60247500000000,
          63100900000000,
          64639200000000,
          66420900000000,
          68894900000000,
          72618200000000,
          76089200000000,
          80202600000000,
          84576500000000,
          87020700000000,
          86750100000000,
          91329700000000,
          94982400000000,
          98032300000000,
          101270000000000,
          104720000000000,
          108120000000000
         ]
        }
       ],
       "layout": {
        "autosize": true,
        "showlegend": false,
        "template": {
         "data": {
          "bar": [
           {
            "error_x": {
             "color": "#2a3f5f"
            },
            "error_y": {
             "color": "#2a3f5f"
            },
            "marker": {
             "line": {
              "color": "#E5ECF6",
              "width": 0.5
             },
             "pattern": {
              "fillmode": "overlay",
              "size": 10,
              "solidity": 0.2
             }
            },
            "type": "bar"
           }
          ],
          "barpolar": [
           {
            "marker": {
             "line": {
              "color": "#E5ECF6",
              "width": 0.5
             },
             "pattern": {
              "fillmode": "overlay",
              "size": 10,
              "solidity": 0.2
             }
            },
            "type": "barpolar"
           }
          ],
          "carpet": [
           {
            "aaxis": {
             "endlinecolor": "#2a3f5f",
             "gridcolor": "white",
             "linecolor": "white",
             "minorgridcolor": "white",
             "startlinecolor": "#2a3f5f"
            },
            "baxis": {
             "endlinecolor": "#2a3f5f",
             "gridcolor": "white",
             "linecolor": "white",
             "minorgridcolor": "white",
             "startlinecolor": "#2a3f5f"
            },
            "type": "carpet"
           }
          ],
          "choropleth": [
           {
            "colorbar": {
             "outlinewidth": 0,
             "ticks": ""
            },
            "type": "choropleth"
           }
          ],
          "contour": [
           {
            "colorbar": {
             "outlinewidth": 0,
             "ticks": ""
            },
            "colorscale": [
             [
              0,
              "#0d0887"
             ],
             [
              0.1111111111111111,
              "#46039f"
             ],
             [
              0.2222222222222222,
              "#7201a8"
             ],
             [
              0.3333333333333333,
              "#9c179e"
             ],
             [
              0.4444444444444444,
              "#bd3786"
             ],
             [
              0.5555555555555556,
              "#d8576b"
             ],
             [
              0.6666666666666666,
              "#ed7953"
             ],
             [
              0.7777777777777778,
              "#fb9f3a"
             ],
             [
              0.8888888888888888,
              "#fdca26"
             ],
             [
              1,
              "#f0f921"
             ]
            ],
            "type": "contour"
           }
          ],
          "contourcarpet": [
           {
            "colorbar": {
             "outlinewidth": 0,
             "ticks": ""
            },
            "type": "contourcarpet"
           }
          ],
          "heatmap": [
           {
            "colorbar": {
             "outlinewidth": 0,
             "ticks": ""
            },
            "colorscale": [
             [
              0,
              "#0d0887"
             ],
             [
              0.1111111111111111,
              "#46039f"
             ],
             [
              0.2222222222222222,
              "#7201a8"
             ],
             [
              0.3333333333333333,
              "#9c179e"
             ],
             [
              0.4444444444444444,
              "#bd3786"
             ],
             [
              0.5555555555555556,
              "#d8576b"
             ],
             [
              0.6666666666666666,
              "#ed7953"
             ],
             [
              0.7777777777777778,
              "#fb9f3a"
             ],
             [
              0.8888888888888888,
              "#fdca26"
             ],
             [
              1,
              "#f0f921"
             ]
            ],
            "type": "heatmap"
           }
          ],
          "heatmapgl": [
           {
            "colorbar": {
             "outlinewidth": 0,
             "ticks": ""
            },
            "colorscale": [
             [
              0,
              "#0d0887"
             ],
             [
              0.1111111111111111,
              "#46039f"
             ],
             [
              0.2222222222222222,
              "#7201a8"
             ],
             [
              0.3333333333333333,
              "#9c179e"
             ],
             [
              0.4444444444444444,
              "#bd3786"
             ],
             [
              0.5555555555555556,
              "#d8576b"
             ],
             [
              0.6666666666666666,
              "#ed7953"
             ],
             [
              0.7777777777777778,
              "#fb9f3a"
             ],
             [
              0.8888888888888888,
              "#fdca26"
             ],
             [
              1,
              "#f0f921"
             ]
            ],
            "type": "heatmapgl"
           }
          ],
          "histogram": [
           {
            "marker": {
             "pattern": {
              "fillmode": "overlay",
              "size": 10,
              "solidity": 0.2
             }
            },
            "type": "histogram"
           }
          ],
          "histogram2d": [
           {
            "colorbar": {
             "outlinewidth": 0,
             "ticks": ""
            },
            "colorscale": [
             [
              0,
              "#0d0887"
             ],
             [
              0.1111111111111111,
              "#46039f"
             ],
             [
              0.2222222222222222,
              "#7201a8"
             ],
             [
              0.3333333333333333,
              "#9c179e"
             ],
             [
              0.4444444444444444,
              "#bd3786"
             ],
             [
              0.5555555555555556,
              "#d8576b"
             ],
             [
              0.6666666666666666,
              "#ed7953"
             ],
             [
              0.7777777777777778,
              "#fb9f3a"
             ],
             [
              0.8888888888888888,
              "#fdca26"
             ],
             [
              1,
              "#f0f921"
             ]
            ],
            "type": "histogram2d"
           }
          ],
          "histogram2dcontour": [
           {
            "colorbar": {
             "outlinewidth": 0,
             "ticks": ""
            },
            "colorscale": [
             [
              0,
              "#0d0887"
             ],
             [
              0.1111111111111111,
              "#46039f"
             ],
             [
              0.2222222222222222,
              "#7201a8"
             ],
             [
              0.3333333333333333,
              "#9c179e"
             ],
             [
              0.4444444444444444,
              "#bd3786"
             ],
             [
              0.5555555555555556,
              "#d8576b"
             ],
             [
              0.6666666666666666,
              "#ed7953"
             ],
             [
              0.7777777777777778,
              "#fb9f3a"
             ],
             [
              0.8888888888888888,
              "#fdca26"
             ],
             [
              1,
              "#f0f921"
             ]
            ],
            "type": "histogram2dcontour"
           }
          ],
          "mesh3d": [
           {
            "colorbar": {
             "outlinewidth": 0,
             "ticks": ""
            },
            "type": "mesh3d"
           }
          ],
          "parcoords": [
           {
            "line": {
             "colorbar": {
              "outlinewidth": 0,
              "ticks": ""
             }
            },
            "type": "parcoords"
           }
          ],
          "pie": [
           {
            "automargin": true,
            "type": "pie"
           }
          ],
          "scatter": [
           {
            "fillpattern": {
             "fillmode": "overlay",
             "size": 10,
             "solidity": 0.2
            },
            "type": "scatter"
           }
          ],
          "scatter3d": [
           {
            "line": {
             "colorbar": {
              "outlinewidth": 0,
              "ticks": ""
             }
            },
            "marker": {
             "colorbar": {
              "outlinewidth": 0,
              "ticks": ""
             }
            },
            "type": "scatter3d"
           }
          ],
          "scattercarpet": [
           {
            "marker": {
             "colorbar": {
              "outlinewidth": 0,
              "ticks": ""
             }
            },
            "type": "scattercarpet"
           }
          ],
          "scattergeo": [
           {
            "marker": {
             "colorbar": {
              "outlinewidth": 0,
              "ticks": ""
             }
            },
            "type": "scattergeo"
           }
          ],
          "scattergl": [
           {
            "marker": {
             "colorbar": {
              "outlinewidth": 0,
              "ticks": ""
             }
            },
            "type": "scattergl"
           }
          ],
          "scattermapbox": [
           {
            "marker": {
             "colorbar": {
              "outlinewidth": 0,
              "ticks": ""
             }
            },
            "type": "scattermapbox"
           }
          ],
          "scatterpolar": [
           {
            "marker": {
             "colorbar": {
              "outlinewidth": 0,
              "ticks": ""
             }
            },
            "type": "scatterpolar"
           }
          ],
          "scatterpolargl": [
           {
            "marker": {
             "colorbar": {
              "outlinewidth": 0,
              "ticks": ""
             }
            },
            "type": "scatterpolargl"
           }
          ],
          "scatterternary": [
           {
            "marker": {
             "colorbar": {
              "outlinewidth": 0,
              "ticks": ""
             }
            },
            "type": "scatterternary"
           }
          ],
          "surface": [
           {
            "colorbar": {
             "outlinewidth": 0,
             "ticks": ""
            },
            "colorscale": [
             [
              0,
              "#0d0887"
             ],
             [
              0.1111111111111111,
              "#46039f"
             ],
             [
              0.2222222222222222,
              "#7201a8"
             ],
             [
              0.3333333333333333,
              "#9c179e"
             ],
             [
              0.4444444444444444,
              "#bd3786"
             ],
             [
              0.5555555555555556,
              "#d8576b"
             ],
             [
              0.6666666666666666,
              "#ed7953"
             ],
             [
              0.7777777777777778,
              "#fb9f3a"
             ],
             [
              0.8888888888888888,
              "#fdca26"
             ],
             [
              1,
              "#f0f921"
             ]
            ],
            "type": "surface"
           }
          ],
          "table": [
           {
            "cells": {
             "fill": {
              "color": "#EBF0F8"
             },
             "line": {
              "color": "white"
             }
            },
            "header": {
             "fill": {
              "color": "#C8D4E3"
             },
             "line": {
              "color": "white"
             }
            },
            "type": "table"
           }
          ]
         },
         "layout": {
          "annotationdefaults": {
           "arrowcolor": "#2a3f5f",
           "arrowhead": 0,
           "arrowwidth": 1
          },
          "autotypenumbers": "strict",
          "coloraxis": {
           "colorbar": {
            "outlinewidth": 0,
            "ticks": ""
           }
          },
          "colorscale": {
           "diverging": [
            [
             0,
             "#8e0152"
            ],
            [
             0.1,
             "#c51b7d"
            ],
            [
             0.2,
             "#de77ae"
            ],
            [
             0.3,
             "#f1b6da"
            ],
            [
             0.4,
             "#fde0ef"
            ],
            [
             0.5,
             "#f7f7f7"
            ],
            [
             0.6,
             "#e6f5d0"
            ],
            [
             0.7,
             "#b8e186"
            ],
            [
             0.8,
             "#7fbc41"
            ],
            [
             0.9,
             "#4d9221"
            ],
            [
             1,
             "#276419"
            ]
           ],
           "sequential": [
            [
             0,
             "#0d0887"
            ],
            [
             0.1111111111111111,
             "#46039f"
            ],
            [
             0.2222222222222222,
             "#7201a8"
            ],
            [
             0.3333333333333333,
             "#9c179e"
            ],
            [
             0.4444444444444444,
             "#bd3786"
            ],
            [
             0.5555555555555556,
             "#d8576b"
            ],
            [
             0.6666666666666666,
             "#ed7953"
            ],
            [
             0.7777777777777778,
             "#fb9f3a"
            ],
            [
             0.8888888888888888,
             "#fdca26"
            ],
            [
             1,
             "#f0f921"
            ]
           ],
           "sequentialminus": [
            [
             0,
             "#0d0887"
            ],
            [
             0.1111111111111111,
             "#46039f"
            ],
            [
             0.2222222222222222,
             "#7201a8"
            ],
            [
             0.3333333333333333,
             "#9c179e"
            ],
            [
             0.4444444444444444,
             "#bd3786"
            ],
            [
             0.5555555555555556,
             "#d8576b"
            ],
            [
             0.6666666666666666,
             "#ed7953"
            ],
            [
             0.7777777777777778,
             "#fb9f3a"
            ],
            [
             0.8888888888888888,
             "#fdca26"
            ],
            [
             1,
             "#f0f921"
            ]
           ]
          },
          "colorway": [
           "#636efa",
           "#EF553B",
           "#00cc96",
           "#ab63fa",
           "#FFA15A",
           "#19d3f3",
           "#FF6692",
           "#B6E880",
           "#FF97FF",
           "#FECB52"
          ],
          "font": {
           "color": "#2a3f5f"
          },
          "geo": {
           "bgcolor": "white",
           "lakecolor": "white",
           "landcolor": "#E5ECF6",
           "showlakes": true,
           "showland": true,
           "subunitcolor": "white"
          },
          "hoverlabel": {
           "align": "left"
          },
          "hovermode": "closest",
          "mapbox": {
           "style": "light"
          },
          "paper_bgcolor": "white",
          "plot_bgcolor": "#E5ECF6",
          "polar": {
           "angularaxis": {
            "gridcolor": "white",
            "linecolor": "white",
            "ticks": ""
           },
           "bgcolor": "#E5ECF6",
           "radialaxis": {
            "gridcolor": "white",
            "linecolor": "white",
            "ticks": ""
           }
          },
          "scene": {
           "xaxis": {
            "backgroundcolor": "#E5ECF6",
            "gridcolor": "white",
            "gridwidth": 2,
            "linecolor": "white",
            "showbackground": true,
            "ticks": "",
            "zerolinecolor": "white"
           },
           "yaxis": {
            "backgroundcolor": "#E5ECF6",
            "gridcolor": "white",
            "gridwidth": 2,
            "linecolor": "white",
            "showbackground": true,
            "ticks": "",
            "zerolinecolor": "white"
           },
           "zaxis": {
            "backgroundcolor": "#E5ECF6",
            "gridcolor": "white",
            "gridwidth": 2,
            "linecolor": "white",
            "showbackground": true,
            "ticks": "",
            "zerolinecolor": "white"
           }
          },
          "shapedefaults": {
           "line": {
            "color": "#2a3f5f"
           }
          },
          "ternary": {
           "aaxis": {
            "gridcolor": "white",
            "linecolor": "white",
            "ticks": ""
           },
           "baxis": {
            "gridcolor": "white",
            "linecolor": "white",
            "ticks": ""
           },
           "bgcolor": "#E5ECF6",
           "caxis": {
            "gridcolor": "white",
            "linecolor": "white",
            "ticks": ""
           }
          },
          "title": {
           "x": 0.05
          },
          "xaxis": {
           "automargin": true,
           "gridcolor": "white",
           "linecolor": "white",
           "ticks": "",
           "title": {
            "standoff": 15
           },
           "zerolinecolor": "white",
           "zerolinewidth": 2
          },
          "yaxis": {
           "automargin": true,
           "gridcolor": "white",
           "linecolor": "white",
           "ticks": "",
           "title": {
            "standoff": 15
           },
           "zerolinecolor": "white",
           "zerolinewidth": 2
          }
         }
        },
        "title": {
         "text": "GDP Over Years"
        },
        "xaxis": {
         "autorange": true,
         "range": [
          1,
          2015
         ],
         "title": {
          "text": "Year"
         },
         "type": "linear"
        },
        "yaxis": {
         "autorange": true,
         "range": [
          11.107832193187345,
          14.187909923544547
         ],
         "title": {
          "text": "world GDP in 2011 Int.$"
         },
         "type": "log"
        }
       }
      },
      "image/png": "[encoded data removed]",
      "text/html": [
       "<div>                            <div id=\"f78ae310-4cc6-41f0-911b-3a085142b42c\" class=\"plotly-graph-div\" style=\"height:525px; width:100%;\"></div>            <script type=\"text/javascript\">                require([\"plotly\"], function(Plotly) {                    window.PLOTLYENV=window.PLOTLYENV || {};                                    if (document.getElementById(\"f78ae310-4cc6-41f0-911b-3a085142b42c\")) {                    Plotly.newPlot(                        \"f78ae310-4cc6-41f0-911b-3a085142b42c\",                        [{\"mode\":\"lines\",\"x\":[1,1000,1500,1600,1700,1820,1870,1900,1913,1940,1950,1951,1952,1953,1954,1955,1956,1957,1958,1959,1960,1961,1962,1963,1964,1965,1966,1967,1968,1969,1970,1971,1972,1973,1974,1975,1976,1977,1978,1979,1980,1981,1982,1983,1984,1985,1986,1987,1988,1989,1990,1991,1992,1993,1994,1995,1996,1997,1998,1999,2000,2001,2002,2003,2004,2005,2006,2007,2008,2009,2010,2011,2012,2013,2014,2015],\"y\":[182741034741.65,210144734814.95,430527281152.93,574468657287.69,643322924319.9,1202360833069.54,1923917324845.12,3418753774525.97,4738675759005.73,7806368561993.03,9251063284511.66,9795630620603.08,10248695160030.2,10764850470285.1,11132816333836.0,11842436437898.3,12399315121992.9,12871201566887.8,13284511884217.4,13893343261790.1,14620430825834.1,15127545002954.9,15840374754695.0,16528823694955.4,17727426671105.3,18655619723574.3,19672778021487.3,20404807077047.6,21527596152530.8,22715480785232.6,23866740464570.2,24855936938791.1,26038225943803.4,27766317544846.9,28412736979320.4,28846052528336.2,30253175726898.8,31479913873331.4,32864033374977.2,34039054922029.2,34727063368722.9,35407765287204.7,35799147251979.6,36817346837588.6,38496721899135.5,39823610828513.1,41231971101065.6,42812896221874.7,44649649324231.3,46076842304123.1,47043800000000.0,47650900000000.0,48485100000000.0,49415500000000.0,50886600000000.0,52576600000000.0,54605200000000.0,56772100000000.0,58159500000000.0,60247500000000.0,63100900000000.0,64639200000000.0,66420900000000.0,68894900000000.0,72618200000000.0,76089200000000.0,80202600000000.0,84576500000000.0,87020700000000.0,86750100000000.0,91329700000000.0,94982400000000.0,98032300000000.0,101270000000000.0,104720000000000.0,108120000000000.0],\"type\":\"scatter\"}],                        {\"template\":{\"data\":{\"histogram2dcontour\":[{\"type\":\"histogram2dcontour\",\"colorbar\":{\"outlinewidth\":0,\"ticks\":\"\"},\"colorscale\":[[0.0,\"#0d0887\"],[0.1111111111111111,\"#46039f\"],[0.2222222222222222,\"#7201a8\"],[0.3333333333333333,\"#9c179e\"],[0.4444444444444444,\"#bd3786\"],[0.5555555555555556,\"#d8576b\"],[0.6666666666666666,\"#ed7953\"],[0.7777777777777778,\"#fb9f3a\"],[0.8888888888888888,\"#fdca26\"],[1.0,\"#f0f921\"]]}],\"choropleth\":[{\"type\":\"choropleth\",\"colorbar\":{\"outlinewidth\":0,\"ticks\":\"\"}}],\"histogram2d\":[{\"type\":\"histogram2d\",\"colorbar\":{\"outlinewidth\":0,\"ticks\":\"\"},\"colorscale\":[[0.0,\"#0d0887\"],[0.1111111111111111,\"#46039f\"],[0.2222222222222222,\"#7201a8\"],[0.3333333333333333,\"#9c179e\"],[0.4444444444444444,\"#bd3786\"],[0.5555555555555556,\"#d8576b\"],[0.6666666666666666,\"#ed7953\"],[0.7777777777777778,\"#fb9f3a\"],[0.8888888888888888,\"#fdca26\"],[1.0,\"#f0f921\"]]}],\"heatmap\":[{\"type\":\"heatmap\",\"colorbar\":{\"outlinewidth\":0,\"ticks\":\"\"},\"colorscale\":[[0.0,\"#0d0887\"],[0.1111111111111111,\"#46039f\"],[0.2222222222222222,\"#7201a8\"],[0.3333333333333333,\"#9c179e\"],[0.4444444444444444,\"#bd3786\"],[0.5555555555555556,\"#d8576b\"],[0.6666666666666666,\"#ed7953\"],[0.7777777777777778,\"#fb9f3a\"],[0.8888888888888888,\"#fdca26\"],[1.0,\"#f0f921\"]]}],\"heatmapgl\":[{\"type\":\"heatmapgl\",\"colorbar\":{\"outlinewidth\":0,\"ticks\":\"\"},\"colorscale\":[[0.0,\"#0d0887\"],[0.1111111111111111,\"#46039f\"],[0.2222222222222222,\"#7201a8\"],[0.3333333333333333,\"#9c179e\"],[0.4444444444444444,\"#bd3786\"],[0.5555555555555556,\"#d8576b\"],[0.6666666666666666,\"#ed7953\"],[0.7777777777777778,\"#fb9f3a\"],[0.8888888888888888,\"#fdca26\"],[1.0,\"#f0f921\"]]}],\"contourcarpet\":[{\"type\":\"contourcarpet\",\"colorbar\":{\"outlinewidth\":0,\"ticks\":\"\"}}],\"contour\":[{\"type\":\"contour\",\"colorbar\":{\"outlinewidth\":0,\"ticks\":\"\"},\"colorscale\":[[0.0,\"#0d0887\"],[0.1111111111111111,\"#46039f\"],[0.2222222222222222,\"#7201a8\"],[0.3333333333333333,\"#9c179e\"],[0.4444444444444444,\"#bd3786\"],[0.5555555555555556,\"#d8576b\"],[0.6666666666666666,\"#ed7953\"],[0.7777777777777778,\"#fb9f3a\"],[0.8888888888888888,\"#fdca26\"],[1.0,\"#f0f921\"]]}],\"surface\":[{\"type\":\"surface\",\"colorbar\":{\"outlinewidth\":0,\"ticks\":\"\"},\"colorscale\":[[0.0,\"#0d0887\"],[0.1111111111111111,\"#46039f\"],[0.2222222222222222,\"#7201a8\"],[0.3333333333333333,\"#9c179e\"],[0.4444444444444444,\"#bd3786\"],[0.5555555555555556,\"#d8576b\"],[0.6666666666666666,\"#ed7953\"],[0.7777777777777778,\"#fb9f3a\"],[0.8888888888888888,\"#fdca26\"],[1.0,\"#f0f921\"]]}],\"mesh3d\":[{\"type\":\"mesh3d\",\"colorbar\":{\"outlinewidth\":0,\"ticks\":\"\"}}],\"scatter\":[{\"fillpattern\":{\"fillmode\":\"overlay\",\"size\":10,\"solidity\":0.2},\"type\":\"scatter\"}],\"parcoords\":[{\"type\":\"parcoords\",\"line\":{\"colorbar\":{\"outlinewidth\":0,\"ticks\":\"\"}}}],\"scatterpolargl\":[{\"type\":\"scatterpolargl\",\"marker\":{\"colorbar\":{\"outlinewidth\":0,\"ticks\":\"\"}}}],\"bar\":[{\"error_x\":{\"color\":\"#2a3f5f\"},\"error_y\":{\"color\":\"#2a3f5f\"},\"marker\":{\"line\":{\"color\":\"#E5ECF6\",\"width\":0.5},\"pattern\":{\"fillmode\":\"overlay\",\"size\":10,\"solidity\":0.2}},\"type\":\"bar\"}],\"scattergeo\":[{\"type\":\"scattergeo\",\"marker\":{\"colorbar\":{\"outlinewidth\":0,\"ticks\":\"\"}}}],\"scatterpolar\":[{\"type\":\"scatterpolar\",\"marker\":{\"colorbar\":{\"outlinewidth\":0,\"ticks\":\"\"}}}],\"histogram\":[{\"marker\":{\"pattern\":{\"fillmode\":\"overlay\",\"size\":10,\"solidity\":0.2}},\"type\":\"histogram\"}],\"scattergl\":[{\"type\":\"scattergl\",\"marker\":{\"colorbar\":{\"outlinewidth\":0,\"ticks\":\"\"}}}],\"scatter3d\":[{\"type\":\"scatter3d\",\"line\":{\"colorbar\":{\"outlinewidth\":0,\"ticks\":\"\"}},\"marker\":{\"colorbar\":{\"outlinewidth\":0,\"ticks\":\"\"}}}],\"scattermapbox\":[{\"type\":\"scattermapbox\",\"marker\":{\"colorbar\":{\"outlinewidth\":0,\"ticks\":\"\"}}}],\"scatterternary\":[{\"type\":\"scatterternary\",\"marker\":{\"colorbar\":{\"outlinewidth\":0,\"ticks\":\"\"}}}],\"scattercarpet\":[{\"type\":\"scattercarpet\",\"marker\":{\"colorbar\":{\"outlinewidth\":0,\"ticks\":\"\"}}}],\"carpet\":[{\"aaxis\":{\"endlinecolor\":\"#2a3f5f\",\"gridcolor\":\"white\",\"linecolor\":\"white\",\"minorgridcolor\":\"white\",\"startlinecolor\":\"#2a3f5f\"},\"baxis\":{\"endlinecolor\":\"#2a3f5f\",\"gridcolor\":\"white\",\"linecolor\":\"white\",\"minorgridcolor\":\"white\",\"startlinecolor\":\"#2a3f5f\"},\"type\":\"carpet\"}],\"table\":[{\"cells\":{\"fill\":{\"color\":\"#EBF0F8\"},\"line\":{\"color\":\"white\"}},\"header\":{\"fill\":{\"color\":\"#C8D4E3\"},\"line\":{\"color\":\"white\"}},\"type\":\"table\"}],\"barpolar\":[{\"marker\":{\"line\":{\"color\":\"#E5ECF6\",\"width\":0.5},\"pattern\":{\"fillmode\":\"overlay\",\"size\":10,\"solidity\":0.2}},\"type\":\"barpolar\"}],\"pie\":[{\"automargin\":true,\"type\":\"pie\"}]},\"layout\":{\"autotypenumbers\":\"strict\",\"colorway\":[\"#636efa\",\"#EF553B\",\"#00cc96\",\"#ab63fa\",\"#FFA15A\",\"#19d3f3\",\"#FF6692\",\"#B6E880\",\"#FF97FF\",\"#FECB52\"],\"font\":{\"color\":\"#2a3f5f\"},\"hovermode\":\"closest\",\"hoverlabel\":{\"align\":\"left\"},\"paper_bgcolor\":\"white\",\"plot_bgcolor\":\"#E5ECF6\",\"polar\":{\"bgcolor\":\"#E5ECF6\",\"angularaxis\":{\"gridcolor\":\"white\",\"linecolor\":\"white\",\"ticks\":\"\"},\"radialaxis\":{\"gridcolor\":\"white\",\"linecolor\":\"white\",\"ticks\":\"\"}},\"ternary\":{\"bgcolor\":\"#E5ECF6\",\"aaxis\":{\"gridcolor\":\"white\",\"linecolor\":\"white\",\"ticks\":\"\"},\"baxis\":{\"gridcolor\":\"white\",\"linecolor\":\"white\",\"ticks\":\"\"},\"caxis\":{\"gridcolor\":\"white\",\"linecolor\":\"white\",\"ticks\":\"\"}},\"coloraxis\":{\"colorbar\":{\"outlinewidth\":0,\"ticks\":\"\"}},\"colorscale\":{\"sequential\":[[0.0,\"#0d0887\"],[0.1111111111111111,\"#46039f\"],[0.2222222222222222,\"#7201a8\"],[0.3333333333333333,\"#9c179e\"],[0.4444444444444444,\"#bd3786\"],[0.5555555555555556,\"#d8576b\"],[0.6666666666666666,\"#ed7953\"],[0.7777777777777778,\"#fb9f3a\"],[0.8888888888888888,\"#fdca26\"],[1.0,\"#f0f921\"]],\"sequentialminus\":[[0.0,\"#0d0887\"],[0.1111111111111111,\"#46039f\"],[0.2222222222222222,\"#7201a8\"],[0.3333333333333333,\"#9c179e\"],[0.4444444444444444,\"#bd3786\"],[0.5555555555555556,\"#d8576b\"],[0.6666666666666666,\"#ed7953\"],[0.7777777777777778,\"#fb9f3a\"],[0.8888888888888888,\"#fdca26\"],[1.0,\"#f0f921\"]],\"diverging\":[[0,\"#8e0152\"],[0.1,\"#c51b7d\"],[0.2,\"#de77ae\"],[0.3,\"#f1b6da\"],[0.4,\"#fde0ef\"],[0.5,\"#f7f7f7\"],[0.6,\"#e6f5d0\"],[0.7,\"#b8e186\"],[0.8,\"#7fbc41\"],[0.9,\"#4d9221\"],[1,\"#276419\"]]},\"xaxis\":{\"gridcolor\":\"white\",\"linecolor\":\"white\",\"ticks\":\"\",\"title\":{\"standoff\":15},\"zerolinecolor\":\"white\",\"automargin\":true,\"zerolinewidth\":2},\"yaxis\":{\"gridcolor\":\"white\",\"linecolor\":\"white\",\"ticks\":\"\",\"title\":{\"standoff\":15},\"zerolinecolor\":\"white\",\"automargin\":true,\"zerolinewidth\":2},\"scene\":{\"xaxis\":{\"backgroundcolor\":\"#E5ECF6\",\"gridcolor\":\"white\",\"linecolor\":\"white\",\"showbackground\":true,\"ticks\":\"\",\"zerolinecolor\":\"white\",\"gridwidth\":2},\"yaxis\":{\"backgroundcolor\":\"#E5ECF6\",\"gridcolor\":\"white\",\"linecolor\":\"white\",\"showbackground\":true,\"ticks\":\"\",\"zerolinecolor\":\"white\",\"gridwidth\":2},\"zaxis\":{\"backgroundcolor\":\"#E5ECF6\",\"gridcolor\":\"white\",\"linecolor\":\"white\",\"showbackground\":true,\"ticks\":\"\",\"zerolinecolor\":\"white\",\"gridwidth\":2}},\"shapedefaults\":{\"line\":{\"color\":\"#2a3f5f\"}},\"annotationdefaults\":{\"arrowcolor\":\"#2a3f5f\",\"arrowhead\":0,\"arrowwidth\":1},\"geo\":{\"bgcolor\":\"white\",\"landcolor\":\"#E5ECF6\",\"subunitcolor\":\"white\",\"showland\":true,\"showlakes\":true,\"lakecolor\":\"white\"},\"title\":{\"x\":0.05},\"mapbox\":{\"style\":\"light\"}}},\"title\":{\"text\":\"GDP Over Years\"},\"xaxis\":{\"title\":{\"text\":\"Year\"}},\"yaxis\":{\"title\":{\"text\":\"world GDP in 2011 Int.$\"},\"type\":\"log\"},\"showlegend\":false},                        {\"responsive\": true}                    ).then(function(){\n",
       "                            \n",
       "var gd = document.getElementById('f78ae310-4cc6-41f0-911b-3a085142b42c');\n",
       "var x = new MutationObserver(function (mutations, observer) {{\n",
       "        var display = window.getComputedStyle(gd).display;\n",
       "        if (!display || display === 'none') {{\n",
       "            console.log([gd, 'removed!']);\n",
       "            Plotly.purge(gd);\n",
       "            observer.disconnect();\n",
       "        }}\n",
       "}});\n",
       "\n",
       "// Listen for the removal of the full notebook cells\n",
       "var notebookContainer = gd.closest('#notebook-container');\n",
       "if (notebookContainer) {{\n",
       "    x.observe(notebookContainer, {childList: true});\n",
       "}}\n",
       "\n",
       "// Listen for the clearing of the current output cell\n",
       "var outputEl = gd.closest('.output');\n",
       "if (outputEl) {{\n",
       "    x.observe(outputEl, {childList: true});\n",
       "}}\n",
       "\n",
       "                        })                };                });            </script>        </div>"
      ]
     },
     "metadata": {},
     "output_type": "display_data"
    }
   ],
   "source": [
    "fig = go.Figure(data=go.Scatter(x=years_gdp, y=gdp, mode='lines'))\n",
    "\n",
    "fig.update_layout(\n",
    "    title='GDP Over Years',\n",
    "    xaxis_title='Year',\n",
    "    yaxis_title='world GDP in 2011 Int.$',\n",
    "    showlegend=False\n",
    ")\n",
    "fig.update_yaxes(type='log')\n",
    "\n",
    "fig.show()"
   ]
  },
  {
   "cell_type": "code",
   "execution_count": 150,
   "id": "8ce1c215-01e2-4b59-8b83-9d57a57801bd",
   "metadata": {},
   "outputs": [
    {
     "data": {
      "application/vnd.plotly.v1+json": {
       "config": {
        "plotlyServerURL": "https://plot.ly"
       },
       "data": [
        {
         "mode": "lines",
         "type": "scatter",
         "x": [
          500.5,
          1250,
          1550,
          1650,
          1760,
          1845,
          1885,
          1906.5,
          1926.5,
          1945,
          1950.5,
          1951.5,
          1952.5,
          1953.5,
          1954.5,
          1955.5,
          1956.5,
          1957.5,
          1958.5,
          1959.5,
          1960.5,
          1961.5,
          1962.5,
          1963.5,
          1964.5,
          1965.5,
          1966.5,
          1967.5,
          1968.5,
          1969.5,
          1970.5,
          1971.5,
          1972.5,
          1973.5,
          1974.5,
          1975.5,
          1976.5,
          1977.5,
          1978.5,
          1979.5,
          1980.5,
          1981.5,
          1982.5,
          1983.5,
          1984.5,
          1985.5,
          1986.5,
          1987.5,
          1988.5,
          1989.5,
          1990.5,
          1991.5,
          1992.5,
          1993.5,
          1994.5,
          1995.5,
          1996.5,
          1997.5,
          1998.5,
          1999.5,
          2000.5,
          2001.5,
          2002.5,
          2003.5,
          2004.5,
          2005.5,
          2006.5,
          2007.5,
          2008.5,
          2009.5,
          2010.5,
          2011.5,
          2012.5,
          2013.5,
          2014.5
         ],
         "y": [
          0.013987611488297524,
          0.14354576564454824,
          0.288851220110109,
          0.11326537081710608,
          0.5225232915661904,
          0.9445861105919162,
          1.9348560425942019,
          2.543198390058077,
          1.866019365472904,
          1.7124838418134614,
          5.886537788614765,
          4.6251697003987235,
          5.036302692150363,
          3.418216208080427,
          6.37412926597527,
          4.702399603450269,
          3.80574604526267,
          3.211124580574176,
          4.583016544974106,
          5.233352047405604,
          3.4685310108970135,
          4.7121310933191385,
          4.346165737375407,
          7.251592722328626,
          5.23591534005261,
          5.452288977715902,
          3.7210253415188355,
          5.502571385475807,
          5.517962267060339,
          5.068172187163555,
          4.1446651489310815,
          4.75656583746491,
          6.636748620175226,
          2.3280704523723106,
          1.5250750018599213,
          4.878044221753908,
          4.054907020362553,
          4.396833826214253,
          3.5754027317496773,
          2.0212325173822654,
          1.9601482315226626,
          1.1053563013658785,
          2.8442006689212818,
          4.561369044203789,
          3.4467582275035102,
          3.536495669911077,
          3.834221548453187,
          4.2901865195892785,
          3.196425955169113,
          2.0985763075834107,
          1.2904994919627821,
          1.7506489908902134,
          1.9189400454986183,
          2.9770011433656096,
          3.3211100761301404,
          3.8583704537761276,
          3.968303385025518,
          2.4438060244380555,
          3.590127150336575,
          4.7361301298809,
          2.437841615571368,
          2.7563769353579515,
          3.7247312216486694,
          5.404318752186432,
          4.779793495294538,
          5.406023456679376,
          5.453563849551046,
          2.8899280533014826,
          -0.310960495606305,
          5.279071724412465,
          3.9994656721745514,
          3.211015935584527,
          3.3026869715385265,
          3.406734472203321,
          3.2467532467533866
         ]
        }
       ],
       "layout": {
        "autosize": true,
        "showlegend": false,
        "template": {
         "data": {
          "bar": [
           {
            "error_x": {
             "color": "#2a3f5f"
            },
            "error_y": {
             "color": "#2a3f5f"
            },
            "marker": {
             "line": {
              "color": "#E5ECF6",
              "width": 0.5
             },
             "pattern": {
              "fillmode": "overlay",
              "size": 10,
              "solidity": 0.2
             }
            },
            "type": "bar"
           }
          ],
          "barpolar": [
           {
            "marker": {
             "line": {
              "color": "#E5ECF6",
              "width": 0.5
             },
             "pattern": {
              "fillmode": "overlay",
              "size": 10,
              "solidity": 0.2
             }
            },
            "type": "barpolar"
           }
          ],
          "carpet": [
           {
            "aaxis": {
             "endlinecolor": "#2a3f5f",
             "gridcolor": "white",
             "linecolor": "white",
             "minorgridcolor": "white",
             "startlinecolor": "#2a3f5f"
            },
            "baxis": {
             "endlinecolor": "#2a3f5f",
             "gridcolor": "white",
             "linecolor": "white",
             "minorgridcolor": "white",
             "startlinecolor": "#2a3f5f"
            },
            "type": "carpet"
           }
          ],
          "choropleth": [
           {
            "colorbar": {
             "outlinewidth": 0,
             "ticks": ""
            },
            "type": "choropleth"
           }
          ],
          "contour": [
           {
            "colorbar": {
             "outlinewidth": 0,
             "ticks": ""
            },
            "colorscale": [
             [
              0,
              "#0d0887"
             ],
             [
              0.1111111111111111,
              "#46039f"
             ],
             [
              0.2222222222222222,
              "#7201a8"
             ],
             [
              0.3333333333333333,
              "#9c179e"
             ],
             [
              0.4444444444444444,
              "#bd3786"
             ],
             [
              0.5555555555555556,
              "#d8576b"
             ],
             [
              0.6666666666666666,
              "#ed7953"
             ],
             [
              0.7777777777777778,
              "#fb9f3a"
             ],
             [
              0.8888888888888888,
              "#fdca26"
             ],
             [
              1,
              "#f0f921"
             ]
            ],
            "type": "contour"
           }
          ],
          "contourcarpet": [
           {
            "colorbar": {
             "outlinewidth": 0,
             "ticks": ""
            },
            "type": "contourcarpet"
           }
          ],
          "heatmap": [
           {
            "colorbar": {
             "outlinewidth": 0,
             "ticks": ""
            },
            "colorscale": [
             [
              0,
              "#0d0887"
             ],
             [
              0.1111111111111111,
              "#46039f"
             ],
             [
              0.2222222222222222,
              "#7201a8"
             ],
             [
              0.3333333333333333,
              "#9c179e"
             ],
             [
              0.4444444444444444,
              "#bd3786"
             ],
             [
              0.5555555555555556,
              "#d8576b"
             ],
             [
              0.6666666666666666,
              "#ed7953"
             ],
             [
              0.7777777777777778,
              "#fb9f3a"
             ],
             [
              0.8888888888888888,
              "#fdca26"
             ],
             [
              1,
              "#f0f921"
             ]
            ],
            "type": "heatmap"
           }
          ],
          "heatmapgl": [
           {
            "colorbar": {
             "outlinewidth": 0,
             "ticks": ""
            },
            "colorscale": [
             [
              0,
              "#0d0887"
             ],
             [
              0.1111111111111111,
              "#46039f"
             ],
             [
              0.2222222222222222,
              "#7201a8"
             ],
             [
              0.3333333333333333,
              "#9c179e"
             ],
             [
              0.4444444444444444,
              "#bd3786"
             ],
             [
              0.5555555555555556,
              "#d8576b"
             ],
             [
              0.6666666666666666,
              "#ed7953"
             ],
             [
              0.7777777777777778,
              "#fb9f3a"
             ],
             [
              0.8888888888888888,
              "#fdca26"
             ],
             [
              1,
              "#f0f921"
             ]
            ],
            "type": "heatmapgl"
           }
          ],
          "histogram": [
           {
            "marker": {
             "pattern": {
              "fillmode": "overlay",
              "size": 10,
              "solidity": 0.2
             }
            },
            "type": "histogram"
           }
          ],
          "histogram2d": [
           {
            "colorbar": {
             "outlinewidth": 0,
             "ticks": ""
            },
            "colorscale": [
             [
              0,
              "#0d0887"
             ],
             [
              0.1111111111111111,
              "#46039f"
             ],
             [
              0.2222222222222222,
              "#7201a8"
             ],
             [
              0.3333333333333333,
              "#9c179e"
             ],
             [
              0.4444444444444444,
              "#bd3786"
             ],
             [
              0.5555555555555556,
              "#d8576b"
             ],
             [
              0.6666666666666666,
              "#ed7953"
             ],
             [
              0.7777777777777778,
              "#fb9f3a"
             ],
             [
              0.8888888888888888,
              "#fdca26"
             ],
             [
              1,
              "#f0f921"
             ]
            ],
            "type": "histogram2d"
           }
          ],
          "histogram2dcontour": [
           {
            "colorbar": {
             "outlinewidth": 0,
             "ticks": ""
            },
            "colorscale": [
             [
              0,
              "#0d0887"
             ],
             [
              0.1111111111111111,
              "#46039f"
             ],
             [
              0.2222222222222222,
              "#7201a8"
             ],
             [
              0.3333333333333333,
              "#9c179e"
             ],
             [
              0.4444444444444444,
              "#bd3786"
             ],
             [
              0.5555555555555556,
              "#d8576b"
             ],
             [
              0.6666666666666666,
              "#ed7953"
             ],
             [
              0.7777777777777778,
              "#fb9f3a"
             ],
             [
              0.8888888888888888,
              "#fdca26"
             ],
             [
              1,
              "#f0f921"
             ]
            ],
            "type": "histogram2dcontour"
           }
          ],
          "mesh3d": [
           {
            "colorbar": {
             "outlinewidth": 0,
             "ticks": ""
            },
            "type": "mesh3d"
           }
          ],
          "parcoords": [
           {
            "line": {
             "colorbar": {
              "outlinewidth": 0,
              "ticks": ""
             }
            },
            "type": "parcoords"
           }
          ],
          "pie": [
           {
            "automargin": true,
            "type": "pie"
           }
          ],
          "scatter": [
           {
            "fillpattern": {
             "fillmode": "overlay",
             "size": 10,
             "solidity": 0.2
            },
            "type": "scatter"
           }
          ],
          "scatter3d": [
           {
            "line": {
             "colorbar": {
              "outlinewidth": 0,
              "ticks": ""
             }
            },
            "marker": {
             "colorbar": {
              "outlinewidth": 0,
              "ticks": ""
             }
            },
            "type": "scatter3d"
           }
          ],
          "scattercarpet": [
           {
            "marker": {
             "colorbar": {
              "outlinewidth": 0,
              "ticks": ""
             }
            },
            "type": "scattercarpet"
           }
          ],
          "scattergeo": [
           {
            "marker": {
             "colorbar": {
              "outlinewidth": 0,
              "ticks": ""
             }
            },
            "type": "scattergeo"
           }
          ],
          "scattergl": [
           {
            "marker": {
             "colorbar": {
              "outlinewidth": 0,
              "ticks": ""
             }
            },
            "type": "scattergl"
           }
          ],
          "scattermapbox": [
           {
            "marker": {
             "colorbar": {
              "outlinewidth": 0,
              "ticks": ""
             }
            },
            "type": "scattermapbox"
           }
          ],
          "scatterpolar": [
           {
            "marker": {
             "colorbar": {
              "outlinewidth": 0,
              "ticks": ""
             }
            },
            "type": "scatterpolar"
           }
          ],
          "scatterpolargl": [
           {
            "marker": {
             "colorbar": {
              "outlinewidth": 0,
              "ticks": ""
             }
            },
            "type": "scatterpolargl"
           }
          ],
          "scatterternary": [
           {
            "marker": {
             "colorbar": {
              "outlinewidth": 0,
              "ticks": ""
             }
            },
            "type": "scatterternary"
           }
          ],
          "surface": [
           {
            "colorbar": {
             "outlinewidth": 0,
             "ticks": ""
            },
            "colorscale": [
             [
              0,
              "#0d0887"
             ],
             [
              0.1111111111111111,
              "#46039f"
             ],
             [
              0.2222222222222222,
              "#7201a8"
             ],
             [
              0.3333333333333333,
              "#9c179e"
             ],
             [
              0.4444444444444444,
              "#bd3786"
             ],
             [
              0.5555555555555556,
              "#d8576b"
             ],
             [
              0.6666666666666666,
              "#ed7953"
             ],
             [
              0.7777777777777778,
              "#fb9f3a"
             ],
             [
              0.8888888888888888,
              "#fdca26"
             ],
             [
              1,
              "#f0f921"
             ]
            ],
            "type": "surface"
           }
          ],
          "table": [
           {
            "cells": {
             "fill": {
              "color": "#EBF0F8"
             },
             "line": {
              "color": "white"
             }
            },
            "header": {
             "fill": {
              "color": "#C8D4E3"
             },
             "line": {
              "color": "white"
             }
            },
            "type": "table"
           }
          ]
         },
         "layout": {
          "annotationdefaults": {
           "arrowcolor": "#2a3f5f",
           "arrowhead": 0,
           "arrowwidth": 1
          },
          "autotypenumbers": "strict",
          "coloraxis": {
           "colorbar": {
            "outlinewidth": 0,
            "ticks": ""
           }
          },
          "colorscale": {
           "diverging": [
            [
             0,
             "#8e0152"
            ],
            [
             0.1,
             "#c51b7d"
            ],
            [
             0.2,
             "#de77ae"
            ],
            [
             0.3,
             "#f1b6da"
            ],
            [
             0.4,
             "#fde0ef"
            ],
            [
             0.5,
             "#f7f7f7"
            ],
            [
             0.6,
             "#e6f5d0"
            ],
            [
             0.7,
             "#b8e186"
            ],
            [
             0.8,
             "#7fbc41"
            ],
            [
             0.9,
             "#4d9221"
            ],
            [
             1,
             "#276419"
            ]
           ],
           "sequential": [
            [
             0,
             "#0d0887"
            ],
            [
             0.1111111111111111,
             "#46039f"
            ],
            [
             0.2222222222222222,
             "#7201a8"
            ],
            [
             0.3333333333333333,
             "#9c179e"
            ],
            [
             0.4444444444444444,
             "#bd3786"
            ],
            [
             0.5555555555555556,
             "#d8576b"
            ],
            [
             0.6666666666666666,
             "#ed7953"
            ],
            [
             0.7777777777777778,
             "#fb9f3a"
            ],
            [
             0.8888888888888888,
             "#fdca26"
            ],
            [
             1,
             "#f0f921"
            ]
           ],
           "sequentialminus": [
            [
             0,
             "#0d0887"
            ],
            [
             0.1111111111111111,
             "#46039f"
            ],
            [
             0.2222222222222222,
             "#7201a8"
            ],
            [
             0.3333333333333333,
             "#9c179e"
            ],
            [
             0.4444444444444444,
             "#bd3786"
            ],
            [
             0.5555555555555556,
             "#d8576b"
            ],
            [
             0.6666666666666666,
             "#ed7953"
            ],
            [
             0.7777777777777778,
             "#fb9f3a"
            ],
            [
             0.8888888888888888,
             "#fdca26"
            ],
            [
             1,
             "#f0f921"
            ]
           ]
          },
          "colorway": [
           "#636efa",
           "#EF553B",
           "#00cc96",
           "#ab63fa",
           "#FFA15A",
           "#19d3f3",
           "#FF6692",
           "#B6E880",
           "#FF97FF",
           "#FECB52"
          ],
          "font": {
           "color": "#2a3f5f"
          },
          "geo": {
           "bgcolor": "white",
           "lakecolor": "white",
           "landcolor": "#E5ECF6",
           "showlakes": true,
           "showland": true,
           "subunitcolor": "white"
          },
          "hoverlabel": {
           "align": "left"
          },
          "hovermode": "closest",
          "mapbox": {
           "style": "light"
          },
          "paper_bgcolor": "white",
          "plot_bgcolor": "#E5ECF6",
          "polar": {
           "angularaxis": {
            "gridcolor": "white",
            "linecolor": "white",
            "ticks": ""
           },
           "bgcolor": "#E5ECF6",
           "radialaxis": {
            "gridcolor": "white",
            "linecolor": "white",
            "ticks": ""
           }
          },
          "scene": {
           "xaxis": {
            "backgroundcolor": "#E5ECF6",
            "gridcolor": "white",
            "gridwidth": 2,
            "linecolor": "white",
            "showbackground": true,
            "ticks": "",
            "zerolinecolor": "white"
           },
           "yaxis": {
            "backgroundcolor": "#E5ECF6",
            "gridcolor": "white",
            "gridwidth": 2,
            "linecolor": "white",
            "showbackground": true,
            "ticks": "",
            "zerolinecolor": "white"
           },
           "zaxis": {
            "backgroundcolor": "#E5ECF6",
            "gridcolor": "white",
            "gridwidth": 2,
            "linecolor": "white",
            "showbackground": true,
            "ticks": "",
            "zerolinecolor": "white"
           }
          },
          "shapedefaults": {
           "line": {
            "color": "#2a3f5f"
           }
          },
          "ternary": {
           "aaxis": {
            "gridcolor": "white",
            "linecolor": "white",
            "ticks": ""
           },
           "baxis": {
            "gridcolor": "white",
            "linecolor": "white",
            "ticks": ""
           },
           "bgcolor": "#E5ECF6",
           "caxis": {
            "gridcolor": "white",
            "linecolor": "white",
            "ticks": ""
           }
          },
          "title": {
           "x": 0.05
          },
          "xaxis": {
           "automargin": true,
           "gridcolor": "white",
           "linecolor": "white",
           "ticks": "",
           "title": {
            "standoff": 15
           },
           "zerolinecolor": "white",
           "zerolinewidth": 2
          },
          "yaxis": {
           "automargin": true,
           "gridcolor": "white",
           "linecolor": "white",
           "ticks": "",
           "title": {
            "standoff": 15
           },
           "zerolinecolor": "white",
           "zerolinewidth": 2
          }
         }
        },
        "title": {
         "text": "GDP Growth Rate Over Years"
        },
        "xaxis": {
         "autorange": true,
         "range": [
          500.5,
          2014.5
         ],
         "title": {
          "text": "Year"
         },
         "type": "linear"
        },
        "yaxis": {
         "autorange": true,
         "range": [
          -0.7311023410471345,
          7.671734567769455
         ],
         "title": {
          "text": "GDP Growth Rate"
         },
         "type": "linear"
        }
       }
      },
      "image/png": "[encoded data removed]",
      "text/html": [
       "<div>                            <div id=\"8324b4e0-a433-408b-b01d-26f8f7abf719\" class=\"plotly-graph-div\" style=\"height:525px; width:100%;\"></div>            <script type=\"text/javascript\">                require([\"plotly\"], function(Plotly) {                    window.PLOTLYENV=window.PLOTLYENV || {};                                    if (document.getElementById(\"8324b4e0-a433-408b-b01d-26f8f7abf719\")) {                    Plotly.newPlot(                        \"8324b4e0-a433-408b-b01d-26f8f7abf719\",                        [{\"mode\":\"lines\",\"x\":[500.5,1250.0,1550.0,1650.0,1760.0,1845.0,1885.0,1906.5,1926.5,1945.0,1950.5,1951.5,1952.5,1953.5,1954.5,1955.5,1956.5,1957.5,1958.5,1959.5,1960.5,1961.5,1962.5,1963.5,1964.5,1965.5,1966.5,1967.5,1968.5,1969.5,1970.5,1971.5,1972.5,1973.5,1974.5,1975.5,1976.5,1977.5,1978.5,1979.5,1980.5,1981.5,1982.5,1983.5,1984.5,1985.5,1986.5,1987.5,1988.5,1989.5,1990.5,1991.5,1992.5,1993.5,1994.5,1995.5,1996.5,1997.5,1998.5,1999.5,2000.5,2001.5,2002.5,2003.5,2004.5,2005.5,2006.5,2007.5,2008.5,2009.5,2010.5,2011.5,2012.5,2013.5,2014.5],\"y\":[0.013987611488297524,0.14354576564454824,0.288851220110109,0.11326537081710608,0.5225232915661904,0.9445861105919162,1.9348560425942019,2.543198390058077,1.866019365472904,1.7124838418134614,5.886537788614765,4.6251697003987235,5.036302692150363,3.418216208080427,6.37412926597527,4.702399603450269,3.80574604526267,3.211124580574176,4.583016544974106,5.233352047405604,3.4685310108970135,4.7121310933191385,4.346165737375407,7.251592722328626,5.23591534005261,5.452288977715902,3.7210253415188355,5.502571385475807,5.517962267060339,5.068172187163555,4.1446651489310815,4.75656583746491,6.636748620175226,2.3280704523723106,1.5250750018599213,4.878044221753908,4.054907020362553,4.396833826214253,3.5754027317496773,2.0212325173822654,1.9601482315226626,1.1053563013658785,2.8442006689212818,4.561369044203789,3.4467582275035102,3.536495669911077,3.834221548453187,4.2901865195892785,3.196425955169113,2.0985763075834107,1.2904994919627821,1.7506489908902134,1.9189400454986183,2.9770011433656096,3.3211100761301404,3.8583704537761276,3.968303385025518,2.4438060244380555,3.590127150336575,4.7361301298809,2.437841615571368,2.7563769353579515,3.7247312216486694,5.404318752186432,4.779793495294538,5.406023456679376,5.453563849551046,2.8899280533014826,-0.310960495606305,5.279071724412465,3.9994656721745514,3.211015935584527,3.3026869715385265,3.406734472203321,3.2467532467533866],\"type\":\"scatter\"}],                        {\"template\":{\"data\":{\"histogram2dcontour\":[{\"type\":\"histogram2dcontour\",\"colorbar\":{\"outlinewidth\":0,\"ticks\":\"\"},\"colorscale\":[[0.0,\"#0d0887\"],[0.1111111111111111,\"#46039f\"],[0.2222222222222222,\"#7201a8\"],[0.3333333333333333,\"#9c179e\"],[0.4444444444444444,\"#bd3786\"],[0.5555555555555556,\"#d8576b\"],[0.6666666666666666,\"#ed7953\"],[0.7777777777777778,\"#fb9f3a\"],[0.8888888888888888,\"#fdca26\"],[1.0,\"#f0f921\"]]}],\"choropleth\":[{\"type\":\"choropleth\",\"colorbar\":{\"outlinewidth\":0,\"ticks\":\"\"}}],\"histogram2d\":[{\"type\":\"histogram2d\",\"colorbar\":{\"outlinewidth\":0,\"ticks\":\"\"},\"colorscale\":[[0.0,\"#0d0887\"],[0.1111111111111111,\"#46039f\"],[0.2222222222222222,\"#7201a8\"],[0.3333333333333333,\"#9c179e\"],[0.4444444444444444,\"#bd3786\"],[0.5555555555555556,\"#d8576b\"],[0.6666666666666666,\"#ed7953\"],[0.7777777777777778,\"#fb9f3a\"],[0.8888888888888888,\"#fdca26\"],[1.0,\"#f0f921\"]]}],\"heatmap\":[{\"type\":\"heatmap\",\"colorbar\":{\"outlinewidth\":0,\"ticks\":\"\"},\"colorscale\":[[0.0,\"#0d0887\"],[0.1111111111111111,\"#46039f\"],[0.2222222222222222,\"#7201a8\"],[0.3333333333333333,\"#9c179e\"],[0.4444444444444444,\"#bd3786\"],[0.5555555555555556,\"#d8576b\"],[0.6666666666666666,\"#ed7953\"],[0.7777777777777778,\"#fb9f3a\"],[0.8888888888888888,\"#fdca26\"],[1.0,\"#f0f921\"]]}],\"heatmapgl\":[{\"type\":\"heatmapgl\",\"colorbar\":{\"outlinewidth\":0,\"ticks\":\"\"},\"colorscale\":[[0.0,\"#0d0887\"],[0.1111111111111111,\"#46039f\"],[0.2222222222222222,\"#7201a8\"],[0.3333333333333333,\"#9c179e\"],[0.4444444444444444,\"#bd3786\"],[0.5555555555555556,\"#d8576b\"],[0.6666666666666666,\"#ed7953\"],[0.7777777777777778,\"#fb9f3a\"],[0.8888888888888888,\"#fdca26\"],[1.0,\"#f0f921\"]]}],\"contourcarpet\":[{\"type\":\"contourcarpet\",\"colorbar\":{\"outlinewidth\":0,\"ticks\":\"\"}}],\"contour\":[{\"type\":\"contour\",\"colorbar\":{\"outlinewidth\":0,\"ticks\":\"\"},\"colorscale\":[[0.0,\"#0d0887\"],[0.1111111111111111,\"#46039f\"],[0.2222222222222222,\"#7201a8\"],[0.3333333333333333,\"#9c179e\"],[0.4444444444444444,\"#bd3786\"],[0.5555555555555556,\"#d8576b\"],[0.6666666666666666,\"#ed7953\"],[0.7777777777777778,\"#fb9f3a\"],[0.8888888888888888,\"#fdca26\"],[1.0,\"#f0f921\"]]}],\"surface\":[{\"type\":\"surface\",\"colorbar\":{\"outlinewidth\":0,\"ticks\":\"\"},\"colorscale\":[[0.0,\"#0d0887\"],[0.1111111111111111,\"#46039f\"],[0.2222222222222222,\"#7201a8\"],[0.3333333333333333,\"#9c179e\"],[0.4444444444444444,\"#bd3786\"],[0.5555555555555556,\"#d8576b\"],[0.6666666666666666,\"#ed7953\"],[0.7777777777777778,\"#fb9f3a\"],[0.8888888888888888,\"#fdca26\"],[1.0,\"#f0f921\"]]}],\"mesh3d\":[{\"type\":\"mesh3d\",\"colorbar\":{\"outlinewidth\":0,\"ticks\":\"\"}}],\"scatter\":[{\"fillpattern\":{\"fillmode\":\"overlay\",\"size\":10,\"solidity\":0.2},\"type\":\"scatter\"}],\"parcoords\":[{\"type\":\"parcoords\",\"line\":{\"colorbar\":{\"outlinewidth\":0,\"ticks\":\"\"}}}],\"scatterpolargl\":[{\"type\":\"scatterpolargl\",\"marker\":{\"colorbar\":{\"outlinewidth\":0,\"ticks\":\"\"}}}],\"bar\":[{\"error_x\":{\"color\":\"#2a3f5f\"},\"error_y\":{\"color\":\"#2a3f5f\"},\"marker\":{\"line\":{\"color\":\"#E5ECF6\",\"width\":0.5},\"pattern\":{\"fillmode\":\"overlay\",\"size\":10,\"solidity\":0.2}},\"type\":\"bar\"}],\"scattergeo\":[{\"type\":\"scattergeo\",\"marker\":{\"colorbar\":{\"outlinewidth\":0,\"ticks\":\"\"}}}],\"scatterpolar\":[{\"type\":\"scatterpolar\",\"marker\":{\"colorbar\":{\"outlinewidth\":0,\"ticks\":\"\"}}}],\"histogram\":[{\"marker\":{\"pattern\":{\"fillmode\":\"overlay\",\"size\":10,\"solidity\":0.2}},\"type\":\"histogram\"}],\"scattergl\":[{\"type\":\"scattergl\",\"marker\":{\"colorbar\":{\"outlinewidth\":0,\"ticks\":\"\"}}}],\"scatter3d\":[{\"type\":\"scatter3d\",\"line\":{\"colorbar\":{\"outlinewidth\":0,\"ticks\":\"\"}},\"marker\":{\"colorbar\":{\"outlinewidth\":0,\"ticks\":\"\"}}}],\"scattermapbox\":[{\"type\":\"scattermapbox\",\"marker\":{\"colorbar\":{\"outlinewidth\":0,\"ticks\":\"\"}}}],\"scatterternary\":[{\"type\":\"scatterternary\",\"marker\":{\"colorbar\":{\"outlinewidth\":0,\"ticks\":\"\"}}}],\"scattercarpet\":[{\"type\":\"scattercarpet\",\"marker\":{\"colorbar\":{\"outlinewidth\":0,\"ticks\":\"\"}}}],\"carpet\":[{\"aaxis\":{\"endlinecolor\":\"#2a3f5f\",\"gridcolor\":\"white\",\"linecolor\":\"white\",\"minorgridcolor\":\"white\",\"startlinecolor\":\"#2a3f5f\"},\"baxis\":{\"endlinecolor\":\"#2a3f5f\",\"gridcolor\":\"white\",\"linecolor\":\"white\",\"minorgridcolor\":\"white\",\"startlinecolor\":\"#2a3f5f\"},\"type\":\"carpet\"}],\"table\":[{\"cells\":{\"fill\":{\"color\":\"#EBF0F8\"},\"line\":{\"color\":\"white\"}},\"header\":{\"fill\":{\"color\":\"#C8D4E3\"},\"line\":{\"color\":\"white\"}},\"type\":\"table\"}],\"barpolar\":[{\"marker\":{\"line\":{\"color\":\"#E5ECF6\",\"width\":0.5},\"pattern\":{\"fillmode\":\"overlay\",\"size\":10,\"solidity\":0.2}},\"type\":\"barpolar\"}],\"pie\":[{\"automargin\":true,\"type\":\"pie\"}]},\"layout\":{\"autotypenumbers\":\"strict\",\"colorway\":[\"#636efa\",\"#EF553B\",\"#00cc96\",\"#ab63fa\",\"#FFA15A\",\"#19d3f3\",\"#FF6692\",\"#B6E880\",\"#FF97FF\",\"#FECB52\"],\"font\":{\"color\":\"#2a3f5f\"},\"hovermode\":\"closest\",\"hoverlabel\":{\"align\":\"left\"},\"paper_bgcolor\":\"white\",\"plot_bgcolor\":\"#E5ECF6\",\"polar\":{\"bgcolor\":\"#E5ECF6\",\"angularaxis\":{\"gridcolor\":\"white\",\"linecolor\":\"white\",\"ticks\":\"\"},\"radialaxis\":{\"gridcolor\":\"white\",\"linecolor\":\"white\",\"ticks\":\"\"}},\"ternary\":{\"bgcolor\":\"#E5ECF6\",\"aaxis\":{\"gridcolor\":\"white\",\"linecolor\":\"white\",\"ticks\":\"\"},\"baxis\":{\"gridcolor\":\"white\",\"linecolor\":\"white\",\"ticks\":\"\"},\"caxis\":{\"gridcolor\":\"white\",\"linecolor\":\"white\",\"ticks\":\"\"}},\"coloraxis\":{\"colorbar\":{\"outlinewidth\":0,\"ticks\":\"\"}},\"colorscale\":{\"sequential\":[[0.0,\"#0d0887\"],[0.1111111111111111,\"#46039f\"],[0.2222222222222222,\"#7201a8\"],[0.3333333333333333,\"#9c179e\"],[0.4444444444444444,\"#bd3786\"],[0.5555555555555556,\"#d8576b\"],[0.6666666666666666,\"#ed7953\"],[0.7777777777777778,\"#fb9f3a\"],[0.8888888888888888,\"#fdca26\"],[1.0,\"#f0f921\"]],\"sequentialminus\":[[0.0,\"#0d0887\"],[0.1111111111111111,\"#46039f\"],[0.2222222222222222,\"#7201a8\"],[0.3333333333333333,\"#9c179e\"],[0.4444444444444444,\"#bd3786\"],[0.5555555555555556,\"#d8576b\"],[0.6666666666666666,\"#ed7953\"],[0.7777777777777778,\"#fb9f3a\"],[0.8888888888888888,\"#fdca26\"],[1.0,\"#f0f921\"]],\"diverging\":[[0,\"#8e0152\"],[0.1,\"#c51b7d\"],[0.2,\"#de77ae\"],[0.3,\"#f1b6da\"],[0.4,\"#fde0ef\"],[0.5,\"#f7f7f7\"],[0.6,\"#e6f5d0\"],[0.7,\"#b8e186\"],[0.8,\"#7fbc41\"],[0.9,\"#4d9221\"],[1,\"#276419\"]]},\"xaxis\":{\"gridcolor\":\"white\",\"linecolor\":\"white\",\"ticks\":\"\",\"title\":{\"standoff\":15},\"zerolinecolor\":\"white\",\"automargin\":true,\"zerolinewidth\":2},\"yaxis\":{\"gridcolor\":\"white\",\"linecolor\":\"white\",\"ticks\":\"\",\"title\":{\"standoff\":15},\"zerolinecolor\":\"white\",\"automargin\":true,\"zerolinewidth\":2},\"scene\":{\"xaxis\":{\"backgroundcolor\":\"#E5ECF6\",\"gridcolor\":\"white\",\"linecolor\":\"white\",\"showbackground\":true,\"ticks\":\"\",\"zerolinecolor\":\"white\",\"gridwidth\":2},\"yaxis\":{\"backgroundcolor\":\"#E5ECF6\",\"gridcolor\":\"white\",\"linecolor\":\"white\",\"showbackground\":true,\"ticks\":\"\",\"zerolinecolor\":\"white\",\"gridwidth\":2},\"zaxis\":{\"backgroundcolor\":\"#E5ECF6\",\"gridcolor\":\"white\",\"linecolor\":\"white\",\"showbackground\":true,\"ticks\":\"\",\"zerolinecolor\":\"white\",\"gridwidth\":2}},\"shapedefaults\":{\"line\":{\"color\":\"#2a3f5f\"}},\"annotationdefaults\":{\"arrowcolor\":\"#2a3f5f\",\"arrowhead\":0,\"arrowwidth\":1},\"geo\":{\"bgcolor\":\"white\",\"landcolor\":\"#E5ECF6\",\"subunitcolor\":\"white\",\"showland\":true,\"showlakes\":true,\"lakecolor\":\"white\"},\"title\":{\"x\":0.05},\"mapbox\":{\"style\":\"light\"}}},\"title\":{\"text\":\"GDP Growth Rate Over Years\"},\"xaxis\":{\"title\":{\"text\":\"Year\"}},\"yaxis\":{\"title\":{\"text\":\"GDP Growth Rate\"}},\"showlegend\":false},                        {\"responsive\": true}                    ).then(function(){\n",
       "                            \n",
       "var gd = document.getElementById('8324b4e0-a433-408b-b01d-26f8f7abf719');\n",
       "var x = new MutationObserver(function (mutations, observer) {{\n",
       "        var display = window.getComputedStyle(gd).display;\n",
       "        if (!display || display === 'none') {{\n",
       "            console.log([gd, 'removed!']);\n",
       "            Plotly.purge(gd);\n",
       "            observer.disconnect();\n",
       "        }}\n",
       "}});\n",
       "\n",
       "// Listen for the removal of the full notebook cells\n",
       "var notebookContainer = gd.closest('#notebook-container');\n",
       "if (notebookContainer) {{\n",
       "    x.observe(notebookContainer, {childList: true});\n",
       "}}\n",
       "\n",
       "// Listen for the clearing of the current output cell\n",
       "var outputEl = gd.closest('.output');\n",
       "if (outputEl) {{\n",
       "    x.observe(outputEl, {childList: true});\n",
       "}}\n",
       "\n",
       "                        })                };                });            </script>        </div>"
      ]
     },
     "metadata": {},
     "output_type": "display_data"
    }
   ],
   "source": [
    "fig = go.Figure(data=go.Scatter(x=years_gdp_growth_rate, y=gdp_growth_rate, mode='lines'))\n",
    "\n",
    "fig.update_layout(\n",
    "    title='GDP Growth Rate Over Years',\n",
    "    xaxis_title='Year',\n",
    "    yaxis_title='GDP Growth Rate',\n",
    "    showlegend=False\n",
    ")\n",
    "\n",
    "fig.show()\n",
    "\n",
    "gdp_growth_rate_figure = make_sparkline(years_gdp_growth_rate, gdp_growth_rate)"
   ]
  },
  {
   "cell_type": "markdown",
   "id": "d381d9c8-f0ba-463b-a13a-31f7717ad6ae",
   "metadata": {
    "user_expressions": [
     {
      "expression": "gdp_growth_rate_figure",
      "result": {
       "data": {
        "image/png": "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",
        "text/plain": "<Figure size 1000x200 with 1 Axes>"
       },
       "metadata": {},
       "status": "ok"
      }
     }
    ]
   },
   "source": [
    "If we squint a bit at the graph of GDP growth rate {eval}`gdp_growth_rate_figure`, we can see that it is also showing signs of superexponential growth, but hit a snag right around... 1970, almost right at the moment world population growth rate hit the maximum. After that, it has been years of *merely* exponential growth. Sure, exponential growth would be great, but why settle for exponential growth when you can go for powerlaw growth?"
   ]
  },
  {
   "cell_type": "markdown",
   "id": "887f3420-e3af-4b1c-b9ed-b5b1716253c3",
   "metadata": {},
   "source": [
    "## How the singularity was cancelled\n",
    "\n",
    "At this point, we can form a rough toy model for the history of human population and economic growth:\n",
    "* As population grew, people created new innovations, allowing the same plot of land to carry more people.\n",
    "* People reproduce to fill the land, which allows even more innovations, and so on.\n",
    "* This leads us to a power-law growth.\n",
    "\n",
    "This is the simplest model given in [^kremerPopulationGrowthTechnological1993].\n",
    "\n",
    "Mathematically, the model states:\n",
    "\n",
    "* GDP $Y$ is determined by technology $A$ , population $p$ , and land $T$, according to $Y = Ap^a T^{1-a}$\n",
    "    * Since we don't deal with land expansion, we scale $A$ until $T=1$.\n",
    "* Growth rate of technology is proportional to total population and technology: $\\dot A = gp A$, where $g$ is a ratio constant.\n",
    "    * The idea is that innovations are just as easy/hard to discover back then as it is now. One might try to model other possibilities, such as if innovations get harder to find, because the low-hanging fruits are gone.\n",
    "* (Malthusian economy assumption): the population changes with GDP such that the GDP per capita always remains constant at $\\bar y$.\n",
    "    * This assumption is relaxed in the more complex models.\n",
    "\n",
    "Plugging in the equations, one can easly find the solution: $\\dot p/p = \\frac{g}{1-a} p$, and $p(t) = \\frac{C}{t_\\infty - t}$ for some $C$.\n",
    "\n",
    "[^kremerPopulationGrowthTechnological1993]: Kremer, Michael. “Population Growth and Technological Change: One Million BC to 1990.” The Quarterly Journal of Economics 108, no. 3 (1993): 681–716. https://doi.org/10.2307/2118405.\n"
   ]
  }
 ],
 "metadata": {
  "kernelspec": {
   "display_name": "Python 3 (ipykernel)",
   "language": "python",
   "name": "python3"
  },
  "language_info": {
   "codemirror_mode": {
    "name": "ipython",
    "version": 3
   },
   "file_extension": ".py",
   "mimetype": "text/x-python",
   "name": "python",
   "nbconvert_exporter": "python",
   "pygments_lexer": "ipython3",
   "version": "3.11.5"
  }
 },
 "nbformat": 4,
 "nbformat_minor": 5
}
